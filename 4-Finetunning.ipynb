{
 "cells": [
  {
   "cell_type": "markdown",
   "metadata": {},
   "source": [
    "# Fine-tune Large Language Models\n",
    "In this notebook we are going to fine tune a simple Large Model to create a custom doctor chatbot assitant.\n",
    "This notebook collect the three passages needed\n",
    "1. Data Preparation\n",
    "2. Traning\n",
    "3. Evaluation"
   ]
  },
  {
   "cell_type": "markdown",
   "metadata": {},
   "source": [
    "## 1. Data Preparation"
   ]
  },
  {
   "cell_type": "code",
   "execution_count": 1,
   "metadata": {},
   "outputs": [],
   "source": [
    "import jsonlines\n",
    "import itertools\n",
    "import pandas as pd\n",
    "from pprint import pprint\n",
    "import datasets\n",
    "from datasets import load_dataset\n",
    "import re"
   ]
  },
  {
   "cell_type": "code",
   "execution_count": 2,
   "metadata": {},
   "outputs": [],
   "source": [
    "dataset = load_dataset(\"ruslanmv/ai-medical-chatbot\")\n",
    "train_data = dataset[\"train\"]\n",
    "# For this demo, let's choose the first 1000 dialogues\n",
    "df = pd.DataFrame(train_data[:1000])\n",
    "df = df[[\"Description\", \"Doctor\"]].rename(columns={\"Description\": \"question\", \"Doctor\": \"answer\"})\n",
    "# Clean the question and answer columns\n",
    "df['question'] = df['question'].apply(lambda x: re.sub(r'\\s+', ' ', x.strip()))\n",
    "df['answer'] = df['answer'].apply(lambda x: re.sub(r'\\s+', ' ', x.strip()))\n",
    "\n",
    "\n",
    "# Assuming your DataFrame is named 'df' and the column is named 'df' and the column is named 'question'\n",
    "df['question'] = df['question'].str.lstrip('Q. ')"
   ]
  },
  {
   "cell_type": "code",
   "execution_count": 3,
   "metadata": {},
   "outputs": [
    {
     "data": {
      "text/html": [
       "<div>\n",
       "<style scoped>\n",
       "    .dataframe tbody tr th:only-of-type {\n",
       "        vertical-align: middle;\n",
       "    }\n",
       "\n",
       "    .dataframe tbody tr th {\n",
       "        vertical-align: top;\n",
       "    }\n",
       "\n",
       "    .dataframe thead th {\n",
       "        text-align: right;\n",
       "    }\n",
       "</style>\n",
       "<table border=\"1\" class=\"dataframe\">\n",
       "  <thead>\n",
       "    <tr style=\"text-align: right;\">\n",
       "      <th></th>\n",
       "      <th>question</th>\n",
       "      <th>answer</th>\n",
       "    </tr>\n",
       "  </thead>\n",
       "  <tbody>\n",
       "    <tr>\n",
       "      <th>0</th>\n",
       "      <td>What does abutment of the nerve root mean?</td>\n",
       "      <td>Hi. I have gone through your query with dilige...</td>\n",
       "    </tr>\n",
       "    <tr>\n",
       "      <th>1</th>\n",
       "      <td>What should I do to reduce my weight gained du...</td>\n",
       "      <td>Hi. You have really done well with the hypothy...</td>\n",
       "    </tr>\n",
       "    <tr>\n",
       "      <th>2</th>\n",
       "      <td>I have started to get lots of acne on my face,...</td>\n",
       "      <td>Hi there Acne has multifactorial etiology. Onl...</td>\n",
       "    </tr>\n",
       "    <tr>\n",
       "      <th>3</th>\n",
       "      <td>Why do I have uncomfortable feeling between th...</td>\n",
       "      <td>Hello. The popping and discomfort what you fel...</td>\n",
       "    </tr>\n",
       "    <tr>\n",
       "      <th>4</th>\n",
       "      <td>My symptoms after intercourse threatns me even...</td>\n",
       "      <td>Hello. The HIV test uses a finger prick blood ...</td>\n",
       "    </tr>\n",
       "  </tbody>\n",
       "</table>\n",
       "</div>"
      ],
      "text/plain": [
       "                                            question  \\\n",
       "0         What does abutment of the nerve root mean?   \n",
       "1  What should I do to reduce my weight gained du...   \n",
       "2  I have started to get lots of acne on my face,...   \n",
       "3  Why do I have uncomfortable feeling between th...   \n",
       "4  My symptoms after intercourse threatns me even...   \n",
       "\n",
       "                                              answer  \n",
       "0  Hi. I have gone through your query with dilige...  \n",
       "1  Hi. You have really done well with the hypothy...  \n",
       "2  Hi there Acne has multifactorial etiology. Onl...  \n",
       "3  Hello. The popping and discomfort what you fel...  \n",
       "4  Hello. The HIV test uses a finger prick blood ...  "
      ]
     },
     "execution_count": 3,
     "metadata": {},
     "output_type": "execute_result"
    }
   ],
   "source": [
    "df.head()"
   ]
  },
  {
   "cell_type": "code",
   "execution_count": 4,
   "metadata": {},
   "outputs": [
    {
     "data": {
      "text/plain": [
       "'What does abutment of the nerve root mean?Hi. I have gone through your query with diligence and would like you to know that I am here to help you. For further information consult a neurologist online -->'"
      ]
     },
     "execution_count": 4,
     "metadata": {},
     "output_type": "execute_result"
    }
   ],
   "source": [
    "### Various ways of formatting your data\n",
    "\n",
    "examples = df.to_dict()\n",
    "text = examples[\"question\"][0] + examples[\"answer\"][0]\n",
    "text"
   ]
  },
  {
   "cell_type": "code",
   "execution_count": 5,
   "metadata": {},
   "outputs": [],
   "source": [
    "if \"question\" in examples and \"answer\" in examples:\n",
    "  text = examples[\"question\"][0] + examples[\"answer\"][0]\n",
    "elif \"instruction\" in examples and \"response\" in examples:\n",
    "  text = examples[\"instruction\"][0] + examples[\"response\"][0]\n",
    "elif \"input\" in examples and \"output\" in examples:\n",
    "  text = examples[\"input\"][0] + examples[\"output\"][0]\n",
    "else:\n",
    "  text = examples[\"text\"][0]"
   ]
  },
  {
   "cell_type": "code",
   "execution_count": 6,
   "metadata": {},
   "outputs": [],
   "source": [
    "prompt_template_qa = \"\"\"### Question:\n",
    "{question}\n",
    "### Answer:\n",
    "{answer}\"\"\""
   ]
  },
  {
   "cell_type": "code",
   "execution_count": 7,
   "metadata": {},
   "outputs": [
    {
     "data": {
      "text/plain": [
       "'### Question:\\nWhat does abutment of the nerve root mean?\\n### Answer:\\nHi. I have gone through your query with diligence and would like you to know that I am here to help you. For further information consult a neurologist online -->'"
      ]
     },
     "execution_count": 7,
     "metadata": {},
     "output_type": "execute_result"
    }
   ],
   "source": [
    "question = examples[\"question\"][0]\n",
    "answer = examples[\"answer\"][0]\n",
    "\n",
    "text_with_prompt_template = prompt_template_qa.format(question=question, answer=answer)\n",
    "text_with_prompt_template"
   ]
  },
  {
   "cell_type": "code",
   "execution_count": 8,
   "metadata": {},
   "outputs": [],
   "source": [
    "prompt_template_q = \"\"\"{question}\"\"\""
   ]
  },
  {
   "cell_type": "code",
   "execution_count": 9,
   "metadata": {},
   "outputs": [],
   "source": [
    "num_examples = len(examples[\"question\"])\n",
    "finetuning_dataset_text_only = []\n",
    "finetuning_dataset_question_answer = []\n",
    "for i in range(num_examples):\n",
    "  question = examples[\"question\"][i]\n",
    "  answer = examples[\"answer\"][i]\n",
    "\n",
    "  text_with_prompt_template_qa = prompt_template_qa.format(question=question, answer=answer)\n",
    "  finetuning_dataset_text_only.append({\"text\": text_with_prompt_template_qa})\n",
    "\n",
    "  text_with_prompt_template_q = prompt_template_q.format(question=question)\n",
    "  finetuning_dataset_question_answer.append({\"question\": text_with_prompt_template_q, \"answer\": answer})"
   ]
  },
  {
   "cell_type": "code",
   "execution_count": 10,
   "metadata": {},
   "outputs": [
    {
     "name": "stdout",
     "output_type": "stream",
     "text": [
      "{'text': '### Question:\\n'\n",
      "         'What does abutment of the nerve root mean?\\n'\n",
      "         '### Answer:\\n'\n",
      "         'Hi. I have gone through your query with diligence and would like you '\n",
      "         'to know that I am here to help you. For further information consult '\n",
      "         'a neurologist online -->'}\n"
     ]
    }
   ],
   "source": [
    "pprint(finetuning_dataset_text_only[0])"
   ]
  },
  {
   "cell_type": "code",
   "execution_count": 11,
   "metadata": {},
   "outputs": [
    {
     "name": "stdout",
     "output_type": "stream",
     "text": [
      "{'answer': 'Hi. I have gone through your query with diligence and would like '\n",
      "           'you to know that I am here to help you. For further information '\n",
      "           'consult a neurologist online -->',\n",
      " 'question': 'What does abutment of the nerve root mean?'}\n"
     ]
    }
   ],
   "source": [
    "pprint(finetuning_dataset_question_answer[0])"
   ]
  },
  {
   "cell_type": "code",
   "execution_count": 12,
   "metadata": {},
   "outputs": [],
   "source": [
    "import os\n",
    "\n",
    "# Get the current directory\n",
    "current_directory = os.getcwd()\n",
    "# Join the folder path\n",
    "folder_path = os.path.join(current_directory, \"content\")\n",
    "\n",
    "# Create the folder if it doesn't exist\n",
    "if not os.path.exists(folder_path):\n",
    "    os.makedirs(folder_path)"
   ]
  },
  {
   "cell_type": "code",
   "execution_count": 13,
   "metadata": {},
   "outputs": [],
   "source": [
    "\n",
    "# Create the dataset path\n",
    "dataset_name = \"ai-medical-chatbot_processed.jsonl\"\n",
    "dataset_path = os.path.join(folder_path, dataset_name)\n",
    "\n",
    "### Common ways of storing your data\n",
    "with jsonlines.open(dataset_path, 'w') as writer:\n",
    "    writer.write_all(finetuning_dataset_question_answer)"
   ]
  },
  {
   "cell_type": "code",
   "execution_count": 14,
   "metadata": {},
   "outputs": [
    {
     "name": "stdout",
     "output_type": "stream",
     "text": [
      "DatasetDict({\n",
      "    train: Dataset({\n",
      "        features: ['Description', 'Patient', 'Doctor'],\n",
      "        num_rows: 256916\n",
      "    })\n",
      "})\n"
     ]
    }
   ],
   "source": [
    "finetuning_dataset_name = \"ruslanmv/ai-medical-chatbot\"\n",
    "finetuning_dataset = load_dataset(finetuning_dataset_name)\n",
    "print(finetuning_dataset)"
   ]
  },
  {
   "cell_type": "markdown",
   "metadata": {},
   "source": [
    "# Training"
   ]
  },
  {
   "cell_type": "code",
   "execution_count": 15,
   "metadata": {},
   "outputs": [],
   "source": [
    "import datasets\n",
    "import tempfile\n",
    "import logging\n",
    "import random\n",
    "import config\n",
    "import os\n",
    "import yaml\n",
    "import time\n",
    "import torch\n",
    "import transformers\n",
    "import pandas as pd\n",
    "import jsonlines\n",
    "from utilities import *\n",
    "from transformers import AutoTokenizer\n",
    "from transformers import AutoModelForCausalLM\n",
    "from transformers import TrainingArguments\n",
    "from transformers import AutoModelForCausalLM\n",
    "from llama import BasicModelRunner\n",
    "from transformers.trainer_callback import TrainerCallback\n",
    "\n",
    "\n",
    "logger = logging.getLogger(__name__)\n",
    "global_config = None"
   ]
  },
  {
   "cell_type": "markdown",
   "metadata": {},
   "source": [
    "### Load the AI Medical Chatbot dataset"
   ]
  },
  {
   "cell_type": "code",
   "execution_count": 16,
   "metadata": {},
   "outputs": [],
   "source": [
    "# Get the current directory\n",
    "current_directory = os.getcwd()\n",
    "# Join the folder path\n",
    "folder_path = os.path.join(current_directory, \"content\")\n",
    "dataset_name = \"ai-medical-chatbot_processed.jsonl\"\n",
    "dataset_path = os.path.join(folder_path, dataset_name)\n",
    "#dataset_path = f\"/content/{dataset_name}\"\n",
    "use_hf = False"
   ]
  },
  {
   "cell_type": "code",
   "execution_count": 17,
   "metadata": {},
   "outputs": [],
   "source": [
    "#dataset_path = \"ruslanmv/ai-medical-chatbot\"\n",
    "#use_hf = True"
   ]
  },
  {
   "cell_type": "markdown",
   "metadata": {},
   "source": [
    "### Set up the model, training config, and tokenizer"
   ]
  },
  {
   "cell_type": "code",
   "execution_count": 18,
   "metadata": {},
   "outputs": [],
   "source": [
    "model_name = \"EleutherAI/pythia-160m\"\n",
    "#model_name = \"EleutherAI/pythia-70m\"\n",
    "#model_name = \"EleutherAI/pythia-70m-deduped\""
   ]
  },
  {
   "cell_type": "code",
   "execution_count": 19,
   "metadata": {},
   "outputs": [],
   "source": [
    "training_config = {\n",
    "    \"model\": {\n",
    "        \"pretrained_name\": model_name,\n",
    "        \"max_length\" : 2048\n",
    "    },\n",
    "    \"datasets\": {\n",
    "        \"use_hf\": use_hf,\n",
    "        \"path\": dataset_path\n",
    "    },\n",
    "    \"verbose\": True\n",
    "}"
   ]
  },
  {
   "cell_type": "code",
   "execution_count": 20,
   "metadata": {},
   "outputs": [
    {
     "data": {
      "text/plain": [
       "{'model': {'pretrained_name': 'EleutherAI/pythia-160m', 'max_length': 2048},\n",
       " 'datasets': {'use_hf': False,\n",
       "  'path': 'c:\\\\Blog\\\\How-to-Finetuning-Large-Language-Models\\\\content\\\\ai-medical-chatbot_processed.jsonl'},\n",
       " 'verbose': True}"
      ]
     },
     "execution_count": 20,
     "metadata": {},
     "output_type": "execute_result"
    }
   ],
   "source": [
    "training_config"
   ]
  },
  {
   "cell_type": "code",
   "execution_count": 21,
   "metadata": {},
   "outputs": [
    {
     "name": "stderr",
     "output_type": "stream",
     "text": [
      "2024-04-10 15:17:31,203 - DEBUG - utilities - Config: datasets.path: c:\\Blog\\How-to-Finetuning-Large-Language-Models\\content\\ai-medical-chatbot_processed.jsonl\n",
      "datasets.use_hf: false\n",
      "model.max_length: 2048\n",
      "model.pretrained_name: EleutherAI/pythia-160m\n",
      "verbose: true\n",
      "\n"
     ]
    },
    {
     "name": "stdout",
     "output_type": "stream",
     "text": [
      "tokenize False c:\\Blog\\How-to-Finetuning-Large-Language-Models\\content\\ai-medical-chatbot_processed.jsonl\n"
     ]
    },
    {
     "data": {
      "application/vnd.jupyter.widget-view+json": {
       "model_id": "244faf5ba4e34307b62104d3e9402672",
       "version_major": 2,
       "version_minor": 0
      },
      "text/plain": [
       "Downloading data files:   0%|          | 0/1 [00:00<?, ?it/s]"
      ]
     },
     "metadata": {},
     "output_type": "display_data"
    },
    {
     "data": {
      "application/vnd.jupyter.widget-view+json": {
       "model_id": "dfef99c7ef3445dea47fc63d3eac178b",
       "version_major": 2,
       "version_minor": 0
      },
      "text/plain": [
       "Extracting data files:   0%|          | 0/1 [00:00<?, ?it/s]"
      ]
     },
     "metadata": {},
     "output_type": "display_data"
    },
    {
     "data": {
      "application/vnd.jupyter.widget-view+json": {
       "model_id": "18d7da9b29db4ac0a504988b16200e63",
       "version_major": 2,
       "version_minor": 0
      },
      "text/plain": [
       "Generating train split: 0 examples [00:00, ? examples/s]"
      ]
     },
     "metadata": {},
     "output_type": "display_data"
    },
    {
     "name": "stderr",
     "output_type": "stream",
     "text": [
      "2024-04-10 15:17:31,567 - DEBUG - fsspec.local - open file: C:/Users/066226758/.cache/huggingface/datasets/json/default-067cad356d1dba73/0.0.0/8bb11242116d547c741b2e8a1f18598ffdd40a1d4f2a2872c7a28b697434bc96.incomplete/json-train-00000-00000-of-NNNNN.arrow\n",
      "2024-04-10 15:17:31,580 - DEBUG - fsspec.local - open file: C:/Users/066226758/.cache/huggingface/datasets/json/default-067cad356d1dba73/0.0.0/8bb11242116d547c741b2e8a1f18598ffdd40a1d4f2a2872c7a28b697434bc96.incomplete/dataset_info.json\n"
     ]
    },
    {
     "data": {
      "application/vnd.jupyter.widget-view+json": {
       "model_id": "cb9af0ee53a24c52bea0955d5c01c5cf",
       "version_major": 2,
       "version_minor": 0
      },
      "text/plain": [
       "Map:   0%|          | 0/1000 [00:00<?, ? examples/s]"
      ]
     },
     "metadata": {},
     "output_type": "display_data"
    },
    {
     "name": "stderr",
     "output_type": "stream",
     "text": [
      "Asking to truncate to max_length but no maximum length is provided and the model has no predefined maximum length. Default to no truncation.\n",
      "2024-04-10 15:17:31,649 - DEBUG - fsspec.local - open file: C:/Users/066226758/.cache/huggingface/datasets/json/default-067cad356d1dba73/0.0.0/8bb11242116d547c741b2e8a1f18598ffdd40a1d4f2a2872c7a28b697434bc96/tmpheg_a7a4\n",
      "2024-04-10 15:17:33,164 - DEBUG - fsspec.local - open file: C:/Users/066226758/.cache/huggingface/datasets/json/default-067cad356d1dba73/0.0.0/8bb11242116d547c741b2e8a1f18598ffdd40a1d4f2a2872c7a28b697434bc96/tmplwxnsn7p\n",
      "2024-04-10 15:17:33,180 - DEBUG - fsspec.local - open file: C:/Users/066226758/.cache/huggingface/datasets/json/default-067cad356d1dba73/0.0.0/8bb11242116d547c741b2e8a1f18598ffdd40a1d4f2a2872c7a28b697434bc96/tmp0w8b5hjt\n"
     ]
    },
    {
     "name": "stdout",
     "output_type": "stream",
     "text": [
      "Dataset({\n",
      "    features: ['question', 'answer', 'input_ids', 'attention_mask', 'labels'],\n",
      "    num_rows: 900\n",
      "})\n",
      "Dataset({\n",
      "    features: ['question', 'answer', 'input_ids', 'attention_mask', 'labels'],\n",
      "    num_rows: 100\n",
      "})\n"
     ]
    }
   ],
   "source": [
    "tokenizer = AutoTokenizer.from_pretrained(model_name)\n",
    "tokenizer.pad_token = tokenizer.eos_token\n",
    "train_dataset, test_dataset = tokenize_and_split_data(training_config, tokenizer)\n",
    "print(train_dataset)\n",
    "print(test_dataset)"
   ]
  },
  {
   "cell_type": "markdown",
   "metadata": {},
   "source": [
    "### Load the base model"
   ]
  },
  {
   "cell_type": "code",
   "execution_count": 22,
   "metadata": {},
   "outputs": [],
   "source": [
    "base_model = AutoModelForCausalLM.from_pretrained(model_name)"
   ]
  },
  {
   "cell_type": "code",
   "execution_count": 23,
   "metadata": {},
   "outputs": [
    {
     "name": "stderr",
     "output_type": "stream",
     "text": [
      "2024-04-10 15:17:34,868 - DEBUG - __main__ - Select CPU device\n"
     ]
    }
   ],
   "source": [
    "device_count = torch.cuda.device_count()\n",
    "if device_count > 0:\n",
    "    logger.debug(\"Select GPU device\")\n",
    "    device = torch.device(\"cuda\")\n",
    "else:\n",
    "    logger.debug(\"Select CPU device\")\n",
    "    device = torch.device(\"cpu\")"
   ]
  },
  {
   "cell_type": "code",
   "execution_count": 24,
   "metadata": {},
   "outputs": [
    {
     "data": {
      "text/plain": [
       "GPTNeoXForCausalLM(\n",
       "  (gpt_neox): GPTNeoXModel(\n",
       "    (embed_in): Embedding(50304, 768)\n",
       "    (emb_dropout): Dropout(p=0.0, inplace=False)\n",
       "    (layers): ModuleList(\n",
       "      (0-11): 12 x GPTNeoXLayer(\n",
       "        (input_layernorm): LayerNorm((768,), eps=1e-05, elementwise_affine=True)\n",
       "        (post_attention_layernorm): LayerNorm((768,), eps=1e-05, elementwise_affine=True)\n",
       "        (post_attention_dropout): Dropout(p=0.0, inplace=False)\n",
       "        (post_mlp_dropout): Dropout(p=0.0, inplace=False)\n",
       "        (attention): GPTNeoXAttention(\n",
       "          (rotary_emb): GPTNeoXRotaryEmbedding()\n",
       "          (query_key_value): Linear(in_features=768, out_features=2304, bias=True)\n",
       "          (dense): Linear(in_features=768, out_features=768, bias=True)\n",
       "          (attention_dropout): Dropout(p=0.0, inplace=False)\n",
       "        )\n",
       "        (mlp): GPTNeoXMLP(\n",
       "          (dense_h_to_4h): Linear(in_features=768, out_features=3072, bias=True)\n",
       "          (dense_4h_to_h): Linear(in_features=3072, out_features=768, bias=True)\n",
       "          (act): GELUActivation()\n",
       "        )\n",
       "      )\n",
       "    )\n",
       "    (final_layer_norm): LayerNorm((768,), eps=1e-05, elementwise_affine=True)\n",
       "  )\n",
       "  (embed_out): Linear(in_features=768, out_features=50304, bias=False)\n",
       ")"
      ]
     },
     "execution_count": 24,
     "metadata": {},
     "output_type": "execute_result"
    }
   ],
   "source": [
    "base_model.to(device)"
   ]
  },
  {
   "cell_type": "markdown",
   "metadata": {},
   "source": [
    "### Define function to carry out inference"
   ]
  },
  {
   "cell_type": "code",
   "execution_count": 25,
   "metadata": {},
   "outputs": [],
   "source": [
    "def inference(text, model, tokenizer, max_input_tokens=1000, max_output_tokens=100):\n",
    "  # Tokenize\n",
    "  input_ids = tokenizer.encode(\n",
    "          text,\n",
    "          return_tensors=\"pt\",\n",
    "          truncation=True,\n",
    "          max_length=max_input_tokens\n",
    "  )\n",
    "\n",
    "  # Generate\n",
    "  device = model.device\n",
    "  generated_tokens_with_prompt = model.generate(\n",
    "    input_ids=input_ids.to(device),\n",
    "    max_length=max_output_tokens\n",
    "  )\n",
    "\n",
    "  # Decode\n",
    "  generated_text_with_prompt = tokenizer.batch_decode(generated_tokens_with_prompt, skip_special_tokens=True)\n",
    "\n",
    "  # Strip the prompt\n",
    "  generated_text_answer = generated_text_with_prompt[0][len(text):]\n",
    "\n",
    "  return generated_text_answer"
   ]
  },
  {
   "cell_type": "markdown",
   "metadata": {},
   "source": [
    "However the previos inference function doesn't explicitly set the attention_mask and pad_token_id arguments in the model.generate call. These are crucial for the model to understand how to process the input and generate a proper response.\n",
    "\n",
    "Here's how to fix the issue:\n",
    "\n",
    "Setting pad_token_id:\n",
    "\n",
    "Access the eos_token_id (end-of-sentence token) from your tokenizer. This value usually indicates the pad token for the model.\n",
    "\n",
    "In the model.generate call, add the argument pad_token_id=tokenizer.eos_token_id. This tells the model which token represents padding.\n",
    "Setting attention_mask:\n",
    "\n",
    "The attention_mask informs the model which parts of the input sequence to focus on during generation. It's a binary mask where 1 indicates a valid token and 0 indicates padding.\n",
    "For your code, you can create the attention_mask directly:\n",
    "\n",
    "```Python\n",
    "attention_mask = torch.ones_like(input_ids)  # Create mask with all 1s\n",
    "attention_mask[input_ids[:, 1:] == tokenizer.pad_token_id] = 0  # Set padding to 0\n",
    "```\n",
    "\n",
    "This code snippet creates a mask with all 1s (meaning all tokens are considered) and then sets the mask elements corresponding to padding tokens (identified by tokenizer.pad_token_id) to 0 (ignored by the model)."
   ]
  },
  {
   "cell_type": "code",
   "execution_count": 26,
   "metadata": {},
   "outputs": [],
   "source": [
    "def inference_attempt(text, model, tokenizer, max_input_tokens=1000, max_output_tokens=100):\n",
    "  # Tokenize\n",
    "  input_ids = tokenizer.encode(\n",
    "      text,\n",
    "      return_tensors=\"pt\",\n",
    "      truncation=True,\n",
    "      max_length=max_input_tokens\n",
    "  )\n",
    "\n",
    "  # Generate\n",
    "  device = model.device\n",
    "  attention_mask = torch.ones_like(input_ids)  # Create mask with all 1s\n",
    "  attention_mask[input_ids[:, 1:] == tokenizer.pad_token_id] = 0  # Set padding to 0\n",
    "  generated_tokens_with_prompt = model.generate(\n",
    "      input_ids.to(device),\n",
    "      max_length=max_output_tokens,\n",
    "      attention_mask=attention_mask,\n",
    "      pad_token_id=tokenizer.eos_token_id  # Set pad token\n",
    "  )\n",
    "\n",
    "  # Decode\n",
    "  generated_text_with_prompt = tokenizer.batch_decode(generated_tokens_with_prompt, skip_special_tokens=True)\n",
    "\n",
    "  # Strip the prompt\n",
    "  generated_text_answer = generated_text_with_prompt[0][len(text):]\n",
    "  return generated_text_answer"
   ]
  },
  {
   "cell_type": "markdown",
   "metadata": {},
   "source": [
    "However there are stills some points to consider\n",
    "\n",
    "- Masking Purpose: The attention mask indicates which input tokens should be attended to during generation. Masking padding tokens ensure they don't influence the model's attention.\n",
    "\n",
    "- Crucial First Element: The CLS token (index 0) is essential for tasks like question-answering, so it must be included in the masking.\n",
    "\n",
    "\n",
    "- Clearer Slicing: While [:, 1:] would work if corrected to include the first element, using `input_ids == tokenizer.pad_token_id` is more explicit and less prone to errors.\n",
    "Consider torch.where: For more complex masking scenarios, explore torch.where for conditional assignments."
   ]
  },
  {
   "cell_type": "code",
   "execution_count": 27,
   "metadata": {},
   "outputs": [],
   "source": [
    "def inference_new(text, model, tokenizer, max_input_tokens=1000, max_output_tokens=100):\n",
    "  # Tokenize\n",
    "  input_ids = tokenizer.encode(\n",
    "      text,\n",
    "      return_tensors=\"pt\",\n",
    "      truncation=True,\n",
    "      max_length=max_input_tokens\n",
    "  )\n",
    "\n",
    "  # Generate\n",
    "  device = model.device\n",
    "  attention_mask = torch.ones_like(input_ids)  # Create mask with all 1s\n",
    "\n",
    "  # Fix: Mask all padding tokens, including the first element\n",
    "  attention_mask[input_ids == tokenizer.pad_token_id] = 0\n",
    "\n",
    "  generated_tokens_with_prompt = model.generate(\n",
    "      input_ids.to(device),\n",
    "      max_length=max_output_tokens,\n",
    "      attention_mask=attention_mask,\n",
    "      pad_token_id=tokenizer.eos_token_id  # Set pad token\n",
    "  )\n",
    "\n",
    "  # Decode\n",
    "  generated_text_with_prompt = tokenizer.batch_decode(generated_tokens_with_prompt, skip_special_tokens=True)\n",
    "\n",
    "  # Strip the prompt\n",
    "  generated_text_answer = generated_text_with_prompt[0][len(text):]\n",
    "  return generated_text_answer\n",
    "\n"
   ]
  },
  {
   "cell_type": "markdown",
   "metadata": {},
   "source": [
    "### Try the base model"
   ]
  },
  {
   "cell_type": "code",
   "execution_count": 28,
   "metadata": {},
   "outputs": [
    {
     "name": "stdout",
     "output_type": "stream",
     "text": [
      "Question input (test): Will Kalarchikai cure multiple ovarian cysts in PCOD?\n",
      "Correct answer from ai-medical-chatbot: Hello. I just read your query. See Kalarachi Kai choornam is helpful in amenorrhea. As far as small cysts are concerned they are unmatured eggs which failed to induce menstrual cycle previously, as a result, they got collected in the ovary and they will remain in the ovary. Now, you have got your periods you can start trying for conception. But I advise you to do it under the supervision of a nearby gynecologist because egg size is important while conception and that you can know by ovulation study. Ovulation study is performed under the supervision of a gynecologist. For gall stones, surgical intervention is required generally. Medicine is not of much help.\n",
      "Model's answer: \n"
     ]
    },
    {
     "name": "stdout",
     "output_type": "stream",
     "text": [
      "\n",
      "\n",
      "A:\n",
      "\n",
      "The answer is that the cysts are not caused by the cancer itself.\n",
      "The cysts are caused by the cancer itself.\n",
      "The cancer itself is not a cancer.\n",
      "\n",
      "A:\n",
      "\n",
      "The cancer itself is not a cancer.\n",
      "The cancer itself is not a cancer.\n",
      "\n",
      "A:\n",
      "\n",
      "The cancer itself is not a cancer.\n",
      "The cancer itself is not a cancer.\n",
      "\n",
      "\n"
     ]
    }
   ],
   "source": [
    "test_text = test_dataset[1]['question']\n",
    "print(\"Question input (test):\", test_text)\n",
    "print(f\"Correct answer from ai-medical-chatbot: {test_dataset[0]['answer']}\")\n",
    "print(\"Model's answer: \")\n",
    "print(inference_new(test_text, base_model, tokenizer))"
   ]
  },
  {
   "cell_type": "markdown",
   "metadata": {},
   "source": [
    "### Setup training"
   ]
  },
  {
   "cell_type": "code",
   "execution_count": 29,
   "metadata": {},
   "outputs": [],
   "source": [
    "max_steps = 3"
   ]
  },
  {
   "cell_type": "code",
   "execution_count": 30,
   "metadata": {},
   "outputs": [],
   "source": [
    "trained_model_name = f\"ai_medical_{max_steps}_steps\"\n",
    "output_dir = trained_model_name"
   ]
  },
  {
   "cell_type": "code",
   "execution_count": 31,
   "metadata": {},
   "outputs": [
    {
     "data": {
      "text/plain": [
       "'EleutherAI/pythia-160m'"
      ]
     },
     "execution_count": 31,
     "metadata": {},
     "output_type": "execute_result"
    }
   ],
   "source": [
    "model_name"
   ]
  },
  {
   "cell_type": "code",
   "execution_count": 32,
   "metadata": {},
   "outputs": [],
   "source": [
    "if model_name =='EleutherAI/pythia-160m':\n",
    "  # Best fit for \"EleutherAI/pythia-160\"\n",
    "  hyperparameters={'learning_rate': 6e-05, \n",
    "  'num_train_epochs': 1, \n",
    "  'per_device_train_batch_size': 1,\n",
    "    'optim': 'adafactor', \n",
    "    'max_steps': 20, \n",
    "    'gradient_accumulation_steps': 2}"
   ]
  },
  {
   "cell_type": "code",
   "execution_count": 33,
   "metadata": {},
   "outputs": [],
   "source": [
    "if model_name =='EleutherAI/pythia-70m-deduped':\n",
    "    # Best fit for \"EleutherAI/pythia-70m-deduped\"\n",
    "    hyperparameters={'learning_rate': 1e-05, \n",
    "    'num_train_epochs': 10, \n",
    "    'per_device_train_batch_size': 1, \n",
    "    'optim': 'adafactor',\n",
    "    'num_iterations': 1, \n",
    "    'max_steps': 3, \n",
    "    'gradient_accumulation_steps': 2}"
   ]
  },
  {
   "cell_type": "code",
   "execution_count": 34,
   "metadata": {},
   "outputs": [],
   "source": [
    "training_args = TrainingArguments(\n",
    "\n",
    "  # Learning rate\n",
    "  #learning_rate= 5.0e-5 ,\n",
    "  learning_rate=hyperparameters[\"learning_rate\"],\n",
    "\n",
    "  # Number of training epochs\n",
    "  #num_train_epochs=10,\n",
    "  num_train_epochs=hyperparameters[\"num_train_epochs\"],\n",
    "\n",
    "  # Max steps to train for (each step is a batch of data)\n",
    "  # Overrides num_train_epochs, if not -1\n",
    "  max_steps = hyperparameters[\"max_steps\"],\n",
    "\n",
    "  # Batch size for training\n",
    "  #per_device_train_batch_size=1,\n",
    "  per_device_train_batch_size=hyperparameters[\"per_device_train_batch_size\"],\n",
    "\n",
    "\n",
    "  # Directory to save model checkpoints\n",
    "  output_dir=output_dir,\n",
    "\n",
    "  # Other arguments\n",
    "  overwrite_output_dir=False, # Overwrite the content of the output directory\n",
    "  disable_tqdm=False, # Disable progress bars\n",
    "  eval_steps=120, # Number of update steps between two evaluations\n",
    "  save_steps=120, # After # steps model is saved\n",
    "  warmup_steps=1, # Number of warmup steps for learning rate scheduler\n",
    "  per_device_eval_batch_size=1, # Batch size for evaluation\n",
    "  evaluation_strategy=\"steps\",\n",
    "  logging_strategy=\"steps\",\n",
    "  logging_steps=1,\n",
    "  #optim=\"adafactor\",\n",
    "  optim=hyperparameters[\"optim\"],\n",
    "  #gradient_accumulation_steps = 2,\n",
    "  gradient_accumulation_steps = hyperparameters['gradient_accumulation_steps'],\n",
    "\n",
    "  gradient_checkpointing=False,\n",
    "\n",
    "  # Parameters for early stopping\n",
    "  load_best_model_at_end=True,\n",
    "  save_total_limit=1,\n",
    "  metric_for_best_model=\"eval_loss\",\n",
    "  greater_is_better=False\n",
    ")"
   ]
  },
  {
   "cell_type": "code",
   "execution_count": 35,
   "metadata": {},
   "outputs": [
    {
     "name": "stdout",
     "output_type": "stream",
     "text": [
      "GPTNeoXForCausalLM(\n",
      "  (gpt_neox): GPTNeoXModel(\n",
      "    (embed_in): Embedding(50304, 768)\n",
      "    (emb_dropout): Dropout(p=0.0, inplace=False)\n",
      "    (layers): ModuleList(\n",
      "      (0-11): 12 x GPTNeoXLayer(\n",
      "        (input_layernorm): LayerNorm((768,), eps=1e-05, elementwise_affine=True)\n",
      "        (post_attention_layernorm): LayerNorm((768,), eps=1e-05, elementwise_affine=True)\n",
      "        (post_attention_dropout): Dropout(p=0.0, inplace=False)\n",
      "        (post_mlp_dropout): Dropout(p=0.0, inplace=False)\n",
      "        (attention): GPTNeoXAttention(\n",
      "          (rotary_emb): GPTNeoXRotaryEmbedding()\n",
      "          (query_key_value): Linear(in_features=768, out_features=2304, bias=True)\n",
      "          (dense): Linear(in_features=768, out_features=768, bias=True)\n",
      "          (attention_dropout): Dropout(p=0.0, inplace=False)\n",
      "        )\n",
      "        (mlp): GPTNeoXMLP(\n",
      "          (dense_h_to_4h): Linear(in_features=768, out_features=3072, bias=True)\n",
      "          (dense_4h_to_h): Linear(in_features=3072, out_features=768, bias=True)\n",
      "          (act): GELUActivation()\n",
      "        )\n",
      "      )\n",
      "    )\n",
      "    (final_layer_norm): LayerNorm((768,), eps=1e-05, elementwise_affine=True)\n",
      "  )\n",
      "  (embed_out): Linear(in_features=768, out_features=50304, bias=False)\n",
      ")\n",
      "Memory footprint 0.699623904 GB\n",
      "Flops 3039.792463872 GFLOPs\n"
     ]
    }
   ],
   "source": [
    "model_flops = (\n",
    "  base_model.floating_point_ops(\n",
    "    {\n",
    "       \"input_ids\": torch.zeros(\n",
    "           (1, training_config[\"model\"][\"max_length\"])\n",
    "      )\n",
    "    }\n",
    "  )\n",
    "  * training_args.gradient_accumulation_steps\n",
    ")\n",
    "\n",
    "print(base_model)\n",
    "print(\"Memory footprint\", base_model.get_memory_footprint() / 1e9, \"GB\")\n",
    "print(\"Flops\", model_flops / 1e9, \"GFLOPs\")"
   ]
  },
  {
   "cell_type": "code",
   "execution_count": 36,
   "metadata": {},
   "outputs": [],
   "source": [
    "trainer = Trainer(\n",
    "    model=base_model,\n",
    "    model_flops=model_flops,\n",
    "    total_steps=max_steps,\n",
    "    args=training_args,\n",
    "    train_dataset=train_dataset,\n",
    "    eval_dataset=test_dataset,\n",
    ")"
   ]
  },
  {
   "cell_type": "markdown",
   "metadata": {},
   "source": [
    "### Train a few steps"
   ]
  },
  {
   "cell_type": "code",
   "execution_count": 37,
   "metadata": {},
   "outputs": [
    {
     "name": "stderr",
     "output_type": "stream",
     "text": [
      "2024-04-10 15:17:41,190 - DEBUG - matplotlib - matplotlib data path: c:\\Blog\\How-to-Finetuning-Large-Language-Models\\.venv\\lib\\site-packages\\matplotlib\\mpl-data\n",
      "2024-04-10 15:17:41,195 - DEBUG - matplotlib - CONFIGDIR=C:\\Users\\066226758\\.matplotlib\n",
      "2024-04-10 15:17:41,197 - DEBUG - matplotlib - interactive is False\n",
      "2024-04-10 15:17:41,197 - DEBUG - matplotlib - platform is win32\n",
      "2024-04-10 15:17:41,243 - DEBUG - matplotlib - CACHEDIR=C:\\Users\\066226758\\.matplotlib\n",
      "2024-04-10 15:17:41,247 - DEBUG - matplotlib.font_manager - Using fontManager instance from C:\\Users\\066226758\\.matplotlib\\fontlist-v330.json\n"
     ]
    }
   ],
   "source": [
    "from transformers.trainer_callback import TrainerCallback\n",
    "class MetricsCollector(TrainerCallback):\n",
    "  \"\"\"\n",
    "  Callback to collect metrics during training.\n",
    "\n",
    "  This callback stores all the logs it receives during training in a list\n",
    "  called `metrics`. This list can then be used to plot training loss, learning rate,\n",
    "  and other metrics.\n",
    "  \"\"\"\n",
    "\n",
    "  def __init__(self):\n",
    "    super().__init__()\n",
    "    self.metrics = []\n",
    "\n",
    "  def on_log(self, args, state, control, logs=None, **kwargs):\n",
    "    \"\"\"\n",
    "    Stores the logs received during training.\n",
    "\n",
    "    This method is called whenever the trainer logs information. It simply\n",
    "    appends the entire `logs` dictionary to the `metrics` list.\n",
    "\n",
    "    Args:\n",
    "      args: Arguments passed to the trainer.\n",
    "      state: State of the trainer.\n",
    "      control: Control object for the trainer.\n",
    "      logs: Dictionary containing the logged metrics. (optional)\n",
    "      **kwargs: Additional keyword arguments.\n",
    "    \"\"\"\n",
    "\n",
    "    #print(\"Available logs:\", logs)  # Print the logs dictionary to see its keys for debugging\n",
    "\n",
    "    self.metrics.append(logs)\n",
    "\n",
    "\n",
    "import matplotlib.pyplot as plt\n",
    "\n",
    "def plot_loss(metrics):\n",
    "  \"\"\"\n",
    "  Plots the training loss from the collected metrics.\n",
    "\n",
    "  This function iterates through the `metrics` list and extracts the `loss` value\n",
    "  from each dictionary. It then filters out any entries where `loss` is missing\n",
    "  and plots the remaining values.\n",
    "\n",
    "  Args:\n",
    "    metrics: List of dictionaries containing training logs.\n",
    "  \"\"\"\n",
    "\n",
    "  losses = [m.get('loss', None) for m in metrics]  # Use .get() to handle missing keys\n",
    "  non_none_losses = [loss for loss in losses if loss is not None]\n",
    "  plt.plot(non_none_losses)\n",
    "  plt.xlabel('Iteration')\n",
    "  plt.ylabel('Loss')\n",
    "  plt.title('Training Loss')\n",
    "  plt.show()\n",
    "\n",
    "\n",
    "def plot_learning_rate(metrics):\n",
    "  \"\"\"\n",
    "  Plots the learning rate from the collected metrics.\n",
    "\n",
    "  This function follows the same logic as `plot_loss` to extract and plot the\n",
    "  learning rate values from the `metrics` list, handling missing entries.\n",
    "\n",
    "  Args:\n",
    "    metrics: List of dictionaries containing training logs.\n",
    "  \"\"\"\n",
    "\n",
    "  learning_rates = [m.get('learning_rate', None) for m in metrics]\n",
    "  non_none_learning_rates = [lr for lr in learning_rates if lr is not None]\n",
    "  plt.plot(non_none_learning_rates)\n",
    "  plt.xlabel('Iteration')\n",
    "  plt.ylabel('Learning Rate')\n",
    "  plt.title('Learning Rate')\n",
    "  plt.show()\n",
    "\n",
    "\n",
    "\n"
   ]
  },
  {
   "cell_type": "code",
   "execution_count": 38,
   "metadata": {},
   "outputs": [],
   "source": [
    "metrics_collector = MetricsCollector()\n",
    "trainer.add_callback(metrics_collector)"
   ]
  },
  {
   "cell_type": "code",
   "execution_count": 39,
   "metadata": {},
   "outputs": [
    {
     "data": {
      "application/vnd.jupyter.widget-view+json": {
       "model_id": "8f5f6be67960448e8becccb0f49025ae",
       "version_major": 2,
       "version_minor": 0
      },
      "text/plain": [
       "  0%|          | 0/20 [00:00<?, ?it/s]"
      ]
     },
     "metadata": {},
     "output_type": "display_data"
    },
    {
     "name": "stderr",
     "output_type": "stream",
     "text": [
      "2024-04-10 15:17:44,407 - DEBUG - utilities - Step (1) Logs: {'loss': 4.7671, 'learning_rate': 6e-05, 'epoch': 0.0, 'iter_time': 0.0, 'flops': 0.0, 'remaining_time': 0.0}\n"
     ]
    },
    {
     "name": "stdout",
     "output_type": "stream",
     "text": [
      "{'loss': 4.7671, 'learning_rate': 6e-05, 'epoch': 0.0, 'iter_time': 0.0, 'flops': 0.0, 'remaining_time': 0.0}\n"
     ]
    },
    {
     "name": "stderr",
     "output_type": "stream",
     "text": [
      "2024-04-10 15:17:46,873 - DEBUG - utilities - Step (2) Logs: {'loss': 4.5633, 'learning_rate': 5.684210526315789e-05, 'epoch': 0.0, 'iter_time': 2.4658052921295166, 'flops': 1232778789783.0234, 'remaining_time': 2.4658052921295166}\n"
     ]
    },
    {
     "name": "stdout",
     "output_type": "stream",
     "text": [
      "{'loss': 4.5633, 'learning_rate': 5.684210526315789e-05, 'epoch': 0.0, 'iter_time': 2.4658052921295166, 'flops': 1232778789783.0234, 'remaining_time': 2.4658052921295166}\n"
     ]
    },
    {
     "name": "stderr",
     "output_type": "stream",
     "text": [
      "2024-04-10 15:17:49,061 - DEBUG - utilities - Step (3) Logs: {'loss': 4.7429, 'learning_rate': 5.368421052631579e-05, 'epoch': 0.01, 'iter_time': 2.3267502784729004, 'flops': 1306454109835.5796, 'remaining_time': 0.0}\n"
     ]
    },
    {
     "name": "stdout",
     "output_type": "stream",
     "text": [
      "{'loss': 4.7429, 'learning_rate': 5.368421052631579e-05, 'epoch': 0.01, 'iter_time': 2.3267502784729004, 'flops': 1306454109835.5796, 'remaining_time': 0.0}\n"
     ]
    },
    {
     "name": "stderr",
     "output_type": "stream",
     "text": [
      "2024-04-10 15:17:51,292 - DEBUG - utilities - Step (4) Logs: {'loss': 3.6544, 'learning_rate': 5.052631578947368e-05, 'epoch': 0.01, 'iter_time': 2.29459555943807, 'flops': 1324761765256.9778, 'remaining_time': -2.29459555943807}\n"
     ]
    },
    {
     "name": "stdout",
     "output_type": "stream",
     "text": [
      "{'loss': 3.6544, 'learning_rate': 5.052631578947368e-05, 'epoch': 0.01, 'iter_time': 2.29459555943807, 'flops': 1324761765256.9778, 'remaining_time': -2.29459555943807}\n"
     ]
    },
    {
     "name": "stderr",
     "output_type": "stream",
     "text": [
      "2024-04-10 15:17:53,309 - DEBUG - utilities - Step (5) Logs: {'loss': 2.897, 'learning_rate': 4.736842105263158e-05, 'epoch': 0.01, 'iter_time': 2.2252930402755737, 'flops': 1366018950697.64, 'remaining_time': -4.4505860805511475}\n"
     ]
    },
    {
     "name": "stdout",
     "output_type": "stream",
     "text": [
      "{'loss': 2.897, 'learning_rate': 4.736842105263158e-05, 'epoch': 0.01, 'iter_time': 2.2252930402755737, 'flops': 1366018950697.64, 'remaining_time': -4.4505860805511475}\n"
     ]
    },
    {
     "name": "stderr",
     "output_type": "stream",
     "text": [
      "2024-04-10 15:17:55,849 - DEBUG - utilities - Step (6) Logs: {'loss': 3.7838, 'learning_rate': 4.421052631578947e-05, 'epoch': 0.01, 'iter_time': 2.28829345703125, 'flops': 1328410241497.486, 'remaining_time': -6.864880371093751}\n"
     ]
    },
    {
     "name": "stdout",
     "output_type": "stream",
     "text": [
      "{'loss': 3.7838, 'learning_rate': 4.421052631578947e-05, 'epoch': 0.01, 'iter_time': 2.28829345703125, 'flops': 1328410241497.486, 'remaining_time': -6.864880371093751}\n"
     ]
    },
    {
     "name": "stderr",
     "output_type": "stream",
     "text": [
      "2024-04-10 15:17:57,838 - DEBUG - utilities - Step (7) Logs: {'loss': 4.15, 'learning_rate': 4.105263157894737e-05, 'epoch': 0.02, 'iter_time': 2.2383589347203574, 'flops': 1358045135978.9475, 'remaining_time': -8.95343573888143}\n"
     ]
    },
    {
     "name": "stdout",
     "output_type": "stream",
     "text": [
      "{'loss': 4.15, 'learning_rate': 4.105263157894737e-05, 'epoch': 0.02, 'iter_time': 2.2383589347203574, 'flops': 1358045135978.9475, 'remaining_time': -8.95343573888143}\n"
     ]
    },
    {
     "name": "stderr",
     "output_type": "stream",
     "text": [
      "2024-04-10 15:18:00,079 - DEBUG - utilities - Step (8) Logs: {'loss': 2.6398, 'learning_rate': 3.789473684210526e-05, 'epoch': 0.02, 'iter_time': 2.238746609006609, 'flops': 1357809969043.7214, 'remaining_time': -11.193733045033046}\n"
     ]
    },
    {
     "name": "stdout",
     "output_type": "stream",
     "text": [
      "{'loss': 2.6398, 'learning_rate': 3.789473684210526e-05, 'epoch': 0.02, 'iter_time': 2.238746609006609, 'flops': 1357809969043.7214, 'remaining_time': -11.193733045033046}\n"
     ]
    },
    {
     "name": "stderr",
     "output_type": "stream",
     "text": [
      "2024-04-10 15:18:02,017 - DEBUG - utilities - Step (9) Logs: {'loss': 2.0686, 'learning_rate': 3.473684210526316e-05, 'epoch': 0.02, 'iter_time': 2.2012442648410797, 'flops': 1380942820578.5513, 'remaining_time': -13.207465589046478}\n"
     ]
    },
    {
     "name": "stdout",
     "output_type": "stream",
     "text": [
      "{'loss': 2.0686, 'learning_rate': 3.473684210526316e-05, 'epoch': 0.02, 'iter_time': 2.2012442648410797, 'flops': 1380942820578.5513, 'remaining_time': -13.207465589046478}\n"
     ]
    },
    {
     "name": "stderr",
     "output_type": "stream",
     "text": [
      "2024-04-10 15:18:04,022 - DEBUG - utilities - Step (10) Logs: {'loss': 4.5665, 'learning_rate': 3.157894736842105e-05, 'epoch': 0.02, 'iter_time': 2.179392443762885, 'flops': 1394788934214.8813, 'remaining_time': -15.255747106340195}\n"
     ]
    },
    {
     "name": "stdout",
     "output_type": "stream",
     "text": [
      "{'loss': 4.5665, 'learning_rate': 3.157894736842105e-05, 'epoch': 0.02, 'iter_time': 2.179392443762885, 'flops': 1394788934214.8813, 'remaining_time': -15.255747106340195}\n"
     ]
    },
    {
     "name": "stderr",
     "output_type": "stream",
     "text": [
      "2024-04-10 15:18:06,102 - DEBUG - utilities - Step (11) Logs: {'loss': 2.7402, 'learning_rate': 2.8421052631578946e-05, 'epoch': 0.02, 'iter_time': 2.169456624984741, 'flops': 1401176879437.901, 'remaining_time': -17.35565299987793}\n"
     ]
    },
    {
     "name": "stdout",
     "output_type": "stream",
     "text": [
      "{'loss': 2.7402, 'learning_rate': 2.8421052631578946e-05, 'epoch': 0.02, 'iter_time': 2.169456624984741, 'flops': 1401176879437.901, 'remaining_time': -17.35565299987793}\n"
     ]
    },
    {
     "name": "stderr",
     "output_type": "stream",
     "text": [
      "2024-04-10 15:18:08,600 - DEBUG - utilities - Step (12) Logs: {'loss': 4.3955, 'learning_rate': 2.526315789473684e-05, 'epoch': 0.03, 'iter_time': 2.199346433986317, 'flops': 1382134445441.7644, 'remaining_time': -19.794117905876853}\n"
     ]
    },
    {
     "name": "stdout",
     "output_type": "stream",
     "text": [
      "{'loss': 4.3955, 'learning_rate': 2.526315789473684e-05, 'epoch': 0.03, 'iter_time': 2.199346433986317, 'flops': 1382134445441.7644, 'remaining_time': -19.794117905876853}\n"
     ]
    },
    {
     "name": "stderr",
     "output_type": "stream",
     "text": [
      "2024-04-10 15:18:10,651 - DEBUG - utilities - Step (13) Logs: {'loss': 3.8241, 'learning_rate': 2.2105263157894736e-05, 'epoch': 0.03, 'iter_time': 2.1869277358055115, 'flops': 1389983040638.676, 'remaining_time': -21.869277358055115}\n"
     ]
    },
    {
     "name": "stdout",
     "output_type": "stream",
     "text": [
      "{'loss': 3.8241, 'learning_rate': 2.2105263157894736e-05, 'epoch': 0.03, 'iter_time': 2.1869277358055115, 'flops': 1389983040638.676, 'remaining_time': -21.869277358055115}\n"
     ]
    },
    {
     "name": "stderr",
     "output_type": "stream",
     "text": [
      "2024-04-10 15:18:12,767 - DEBUG - utilities - Step (14) Logs: {'loss': 3.5168, 'learning_rate': 1.894736842105263e-05, 'epoch': 0.03, 'iter_time': 2.1815237448765683, 'flops': 1393426255850.3542, 'remaining_time': -23.99676119364225}\n"
     ]
    },
    {
     "name": "stdout",
     "output_type": "stream",
     "text": [
      "{'loss': 3.5168, 'learning_rate': 1.894736842105263e-05, 'epoch': 0.03, 'iter_time': 2.1815237448765683, 'flops': 1393426255850.3542, 'remaining_time': -23.99676119364225}\n"
     ]
    },
    {
     "name": "stderr",
     "output_type": "stream",
     "text": [
      "2024-04-10 15:18:15,688 - DEBUG - utilities - Step (15) Logs: {'loss': 3.5656, 'learning_rate': 1.5789473684210526e-05, 'epoch': 0.03, 'iter_time': 2.2343075275421143, 'flops': 1360507641137.4634, 'remaining_time': -26.81169033050537}\n"
     ]
    },
    {
     "name": "stdout",
     "output_type": "stream",
     "text": [
      "{'loss': 3.5656, 'learning_rate': 1.5789473684210526e-05, 'epoch': 0.03, 'iter_time': 2.2343075275421143, 'flops': 1360507641137.4634, 'remaining_time': -26.81169033050537}\n"
     ]
    },
    {
     "name": "stderr",
     "output_type": "stream",
     "text": [
      "2024-04-10 15:18:17,536 - DEBUG - utilities - Step (16) Logs: {'loss': 3.0824, 'learning_rate': 1.263157894736842e-05, 'epoch': 0.04, 'iter_time': 2.208589299519857, 'flops': 1376350263280.2056, 'remaining_time': -28.71166089375814}\n"
     ]
    },
    {
     "name": "stdout",
     "output_type": "stream",
     "text": [
      "{'loss': 3.0824, 'learning_rate': 1.263157894736842e-05, 'epoch': 0.04, 'iter_time': 2.208589299519857, 'flops': 1376350263280.2056, 'remaining_time': -28.71166089375814}\n"
     ]
    },
    {
     "name": "stderr",
     "output_type": "stream",
     "text": [
      "2024-04-10 15:18:20,374 - DEBUG - utilities - Step (17) Logs: {'loss': 2.2437, 'learning_rate': 9.473684210526315e-06, 'epoch': 0.04, 'iter_time': 2.2479237467050552, 'flops': 1352266716487.89, 'remaining_time': -31.470932453870773}\n"
     ]
    },
    {
     "name": "stdout",
     "output_type": "stream",
     "text": [
      "{'loss': 2.2437, 'learning_rate': 9.473684210526315e-06, 'epoch': 0.04, 'iter_time': 2.2479237467050552, 'flops': 1352266716487.89, 'remaining_time': -31.470932453870773}\n"
     ]
    },
    {
     "name": "stderr",
     "output_type": "stream",
     "text": [
      "2024-04-10 15:18:22,410 - DEBUG - utilities - Step (18) Logs: {'loss': 1.6337, 'learning_rate': 6.31578947368421e-06, 'epoch': 0.04, 'iter_time': 2.235423635034, 'flops': 1359828363730.1553, 'remaining_time': -33.53135452551}\n"
     ]
    },
    {
     "name": "stdout",
     "output_type": "stream",
     "text": [
      "{'loss': 1.6337, 'learning_rate': 6.31578947368421e-06, 'epoch': 0.04, 'iter_time': 2.235423635034, 'flops': 1359828363730.1553, 'remaining_time': -33.53135452551}\n"
     ]
    },
    {
     "name": "stderr",
     "output_type": "stream",
     "text": [
      "2024-04-10 15:18:25,139 - DEBUG - utilities - Step (19) Logs: {'loss': 2.5989, 'learning_rate': 3.157894736842105e-06, 'epoch': 0.04, 'iter_time': 2.2628593179914684, 'flops': 1343341337971.5286, 'remaining_time': -36.205749087863495}\n"
     ]
    },
    {
     "name": "stdout",
     "output_type": "stream",
     "text": [
      "{'loss': 2.5989, 'learning_rate': 3.157894736842105e-06, 'epoch': 0.04, 'iter_time': 2.2628593179914684, 'flops': 1343341337971.5286, 'remaining_time': -36.205749087863495}\n"
     ]
    },
    {
     "name": "stderr",
     "output_type": "stream",
     "text": [
      "2024-04-10 15:18:27,184 - DEBUG - utilities - Step (20) Logs: {'loss': 2.0084, 'learning_rate': 0.0, 'epoch': 0.04, 'iter_time': 2.251368899094431, 'flops': 1350197413269.1877, 'remaining_time': -38.27327128460533}\n",
      "2024-04-10 15:18:27,186 - DEBUG - utilities - Step (20) Logs: {'train_runtime': 45.4756, 'train_samples_per_second': 0.88, 'train_steps_per_second': 0.44, 'total_flos': 2407491883008.0, 'train_loss': 3.3721320569515227, 'epoch': 0.04, 'iter_time': 2.2515007571170202, 'flops': 1350118339628.881, 'remaining_time': -38.275512870989346}\n"
     ]
    },
    {
     "name": "stdout",
     "output_type": "stream",
     "text": [
      "{'loss': 2.0084, 'learning_rate': 0.0, 'epoch': 0.04, 'iter_time': 2.251368899094431, 'flops': 1350197413269.1877, 'remaining_time': -38.27327128460533}\n",
      "{'train_runtime': 45.4756, 'train_samples_per_second': 0.88, 'train_steps_per_second': 0.44, 'train_loss': 3.3721320569515227, 'epoch': 0.04, 'iter_time': 2.2515007571170202, 'flops': 1350118339628.881, 'remaining_time': -38.275512870989346}\n"
     ]
    }
   ],
   "source": [
    "training_output = trainer.train()"
   ]
  },
  {
   "cell_type": "code",
   "execution_count": 40,
   "metadata": {},
   "outputs": [
    {
     "name": "stderr",
     "output_type": "stream",
     "text": [
      "2024-04-10 15:18:27,276 - DEBUG - matplotlib.pyplot - Loaded backend module://matplotlib_inline.backend_inline version unknown.\n",
      "2024-04-10 15:18:27,283 - DEBUG - matplotlib.pyplot - Loaded backend module://matplotlib_inline.backend_inline version unknown.\n",
      "2024-04-10 15:18:27,289 - DEBUG - matplotlib.font_manager - findfont: Matching sans\\-serif:style=normal:variant=normal:weight=normal:stretch=normal:size=10.0.\n",
      "2024-04-10 15:18:27,290 - DEBUG - matplotlib.font_manager - findfont: score(FontEntry(fname='c:\\\\Blog\\\\How-to-Finetuning-Large-Language-Models\\\\.venv\\\\lib\\\\site-packages\\\\matplotlib\\\\mpl-data\\\\fonts\\\\ttf\\\\DejaVuSansMono-BoldOblique.ttf', name='DejaVu Sans Mono', style='oblique', variant='normal', weight=700, stretch='normal', size='scalable')) = 11.335\n",
      "2024-04-10 15:18:27,291 - DEBUG - matplotlib.font_manager - findfont: score(FontEntry(fname='c:\\\\Blog\\\\How-to-Finetuning-Large-Language-Models\\\\.venv\\\\lib\\\\site-packages\\\\matplotlib\\\\mpl-data\\\\fonts\\\\ttf\\\\cmtt10.ttf', name='cmtt10', style='normal', variant='normal', weight=400, stretch='normal', size='scalable')) = 10.05\n",
      "2024-04-10 15:18:27,292 - DEBUG - matplotlib.font_manager - findfont: score(FontEntry(fname='c:\\\\Blog\\\\How-to-Finetuning-Large-Language-Models\\\\.venv\\\\lib\\\\site-packages\\\\matplotlib\\\\mpl-data\\\\fonts\\\\ttf\\\\STIXSizOneSymReg.ttf', name='STIXSizeOneSym', style='normal', variant='normal', weight=400, stretch='normal', size='scalable')) = 10.05\n",
      "2024-04-10 15:18:27,293 - DEBUG - matplotlib.font_manager - findfont: score(FontEntry(fname='c:\\\\Blog\\\\How-to-Finetuning-Large-Language-Models\\\\.venv\\\\lib\\\\site-packages\\\\matplotlib\\\\mpl-data\\\\fonts\\\\ttf\\\\STIXSizTwoSymBol.ttf', name='STIXSizeTwoSym', style='normal', variant='normal', weight=700, stretch='normal', size='scalable')) = 10.335\n",
      "2024-04-10 15:18:27,294 - DEBUG - matplotlib.font_manager - findfont: score(FontEntry(fname='c:\\\\Blog\\\\How-to-Finetuning-Large-Language-Models\\\\.venv\\\\lib\\\\site-packages\\\\matplotlib\\\\mpl-data\\\\fonts\\\\ttf\\\\cmex10.ttf', name='cmex10', style='normal', variant='normal', weight=400, stretch='normal', size='scalable')) = 10.05\n",
      "2024-04-10 15:18:27,294 - DEBUG - matplotlib.font_manager - findfont: score(FontEntry(fname='c:\\\\Blog\\\\How-to-Finetuning-Large-Language-Models\\\\.venv\\\\lib\\\\site-packages\\\\matplotlib\\\\mpl-data\\\\fonts\\\\ttf\\\\cmb10.ttf', name='cmb10', style='normal', variant='normal', weight=400, stretch='normal', size='scalable')) = 10.05\n",
      "2024-04-10 15:18:27,295 - DEBUG - matplotlib.font_manager - findfont: score(FontEntry(fname='c:\\\\Blog\\\\How-to-Finetuning-Large-Language-Models\\\\.venv\\\\lib\\\\site-packages\\\\matplotlib\\\\mpl-data\\\\fonts\\\\ttf\\\\STIXSizFiveSymReg.ttf', name='STIXSizeFiveSym', style='normal', variant='normal', weight=400, stretch='normal', size='scalable')) = 10.05\n",
      "2024-04-10 15:18:27,295 - DEBUG - matplotlib.font_manager - findfont: score(FontEntry(fname='c:\\\\Blog\\\\How-to-Finetuning-Large-Language-Models\\\\.venv\\\\lib\\\\site-packages\\\\matplotlib\\\\mpl-data\\\\fonts\\\\ttf\\\\STIXSizFourSymReg.ttf', name='STIXSizeFourSym', style='normal', variant='normal', weight=400, stretch='normal', size='scalable')) = 10.05\n",
      "2024-04-10 15:18:27,296 - DEBUG - matplotlib.font_manager - findfont: score(FontEntry(fname='c:\\\\Blog\\\\How-to-Finetuning-Large-Language-Models\\\\.venv\\\\lib\\\\site-packages\\\\matplotlib\\\\mpl-data\\\\fonts\\\\ttf\\\\DejaVuSerif.ttf', name='DejaVu Serif', style='normal', variant='normal', weight=400, stretch='normal', size='scalable')) = 10.05\n",
      "2024-04-10 15:18:27,297 - DEBUG - matplotlib.font_manager - findfont: score(FontEntry(fname='c:\\\\Blog\\\\How-to-Finetuning-Large-Language-Models\\\\.venv\\\\lib\\\\site-packages\\\\matplotlib\\\\mpl-data\\\\fonts\\\\ttf\\\\DejaVuSans-BoldOblique.ttf', name='DejaVu Sans', style='oblique', variant='normal', weight=700, stretch='normal', size='scalable')) = 1.335\n",
      "2024-04-10 15:18:27,298 - DEBUG - matplotlib.font_manager - findfont: score(FontEntry(fname='c:\\\\Blog\\\\How-to-Finetuning-Large-Language-Models\\\\.venv\\\\lib\\\\site-packages\\\\matplotlib\\\\mpl-data\\\\fonts\\\\ttf\\\\DejaVuSerifDisplay.ttf', name='DejaVu Serif Display', style='normal', variant='normal', weight=400, stretch='normal', size='scalable')) = 10.05\n",
      "2024-04-10 15:18:27,299 - DEBUG - matplotlib.font_manager - findfont: score(FontEntry(fname='c:\\\\Blog\\\\How-to-Finetuning-Large-Language-Models\\\\.venv\\\\lib\\\\site-packages\\\\matplotlib\\\\mpl-data\\\\fonts\\\\ttf\\\\STIXGeneral.ttf', name='STIXGeneral', style='normal', variant='normal', weight=400, stretch='normal', size='scalable')) = 10.05\n",
      "2024-04-10 15:18:27,299 - DEBUG - matplotlib.font_manager - findfont: score(FontEntry(fname='c:\\\\Blog\\\\How-to-Finetuning-Large-Language-Models\\\\.venv\\\\lib\\\\site-packages\\\\matplotlib\\\\mpl-data\\\\fonts\\\\ttf\\\\DejaVuSerif-Italic.ttf', name='DejaVu Serif', style='italic', variant='normal', weight=400, stretch='normal', size='scalable')) = 11.05\n",
      "2024-04-10 15:18:27,301 - DEBUG - matplotlib.font_manager - findfont: score(FontEntry(fname='c:\\\\Blog\\\\How-to-Finetuning-Large-Language-Models\\\\.venv\\\\lib\\\\site-packages\\\\matplotlib\\\\mpl-data\\\\fonts\\\\ttf\\\\STIXSizThreeSymBol.ttf', name='STIXSizeThreeSym', style='normal', variant='normal', weight=700, stretch='normal', size='scalable')) = 10.335\n",
      "2024-04-10 15:18:27,301 - DEBUG - matplotlib.font_manager - findfont: score(FontEntry(fname='c:\\\\Blog\\\\How-to-Finetuning-Large-Language-Models\\\\.venv\\\\lib\\\\site-packages\\\\matplotlib\\\\mpl-data\\\\fonts\\\\ttf\\\\DejaVuSans-Oblique.ttf', name='DejaVu Sans', style='oblique', variant='normal', weight=400, stretch='normal', size='scalable')) = 1.05\n",
      "2024-04-10 15:18:27,302 - DEBUG - matplotlib.font_manager - findfont: score(FontEntry(fname='c:\\\\Blog\\\\How-to-Finetuning-Large-Language-Models\\\\.venv\\\\lib\\\\site-packages\\\\matplotlib\\\\mpl-data\\\\fonts\\\\ttf\\\\cmr10.ttf', name='cmr10', style='normal', variant='normal', weight=400, stretch='normal', size='scalable')) = 10.05\n",
      "2024-04-10 15:18:27,303 - DEBUG - matplotlib.font_manager - findfont: score(FontEntry(fname='c:\\\\Blog\\\\How-to-Finetuning-Large-Language-Models\\\\.venv\\\\lib\\\\site-packages\\\\matplotlib\\\\mpl-data\\\\fonts\\\\ttf\\\\DejaVuSansMono-Bold.ttf', name='DejaVu Sans Mono', style='normal', variant='normal', weight=700, stretch='normal', size='scalable')) = 10.335\n",
      "2024-04-10 15:18:27,303 - DEBUG - matplotlib.font_manager - findfont: score(FontEntry(fname='c:\\\\Blog\\\\How-to-Finetuning-Large-Language-Models\\\\.venv\\\\lib\\\\site-packages\\\\matplotlib\\\\mpl-data\\\\fonts\\\\ttf\\\\STIXGeneralBolIta.ttf', name='STIXGeneral', style='italic', variant='normal', weight=700, stretch='normal', size='scalable')) = 11.335\n",
      "2024-04-10 15:18:27,304 - DEBUG - matplotlib.font_manager - findfont: score(FontEntry(fname='c:\\\\Blog\\\\How-to-Finetuning-Large-Language-Models\\\\.venv\\\\lib\\\\site-packages\\\\matplotlib\\\\mpl-data\\\\fonts\\\\ttf\\\\STIXNonUni.ttf', name='STIXNonUnicode', style='normal', variant='normal', weight=400, stretch='normal', size='scalable')) = 10.05\n",
      "2024-04-10 15:18:27,305 - DEBUG - matplotlib.font_manager - findfont: score(FontEntry(fname='c:\\\\Blog\\\\How-to-Finetuning-Large-Language-Models\\\\.venv\\\\lib\\\\site-packages\\\\matplotlib\\\\mpl-data\\\\fonts\\\\ttf\\\\STIXNonUniIta.ttf', name='STIXNonUnicode', style='italic', variant='normal', weight=400, stretch='normal', size='scalable')) = 11.05\n",
      "2024-04-10 15:18:27,306 - DEBUG - matplotlib.font_manager - findfont: score(FontEntry(fname='c:\\\\Blog\\\\How-to-Finetuning-Large-Language-Models\\\\.venv\\\\lib\\\\site-packages\\\\matplotlib\\\\mpl-data\\\\fonts\\\\ttf\\\\STIXSizOneSymBol.ttf', name='STIXSizeOneSym', style='normal', variant='normal', weight=700, stretch='normal', size='scalable')) = 10.335\n",
      "2024-04-10 15:18:27,306 - DEBUG - matplotlib.font_manager - findfont: score(FontEntry(fname='c:\\\\Blog\\\\How-to-Finetuning-Large-Language-Models\\\\.venv\\\\lib\\\\site-packages\\\\matplotlib\\\\mpl-data\\\\fonts\\\\ttf\\\\cmsy10.ttf', name='cmsy10', style='normal', variant='normal', weight=400, stretch='normal', size='scalable')) = 10.05\n",
      "2024-04-10 15:18:27,307 - DEBUG - matplotlib.font_manager - findfont: score(FontEntry(fname='c:\\\\Blog\\\\How-to-Finetuning-Large-Language-Models\\\\.venv\\\\lib\\\\site-packages\\\\matplotlib\\\\mpl-data\\\\fonts\\\\ttf\\\\STIXNonUniBol.ttf', name='STIXNonUnicode', style='normal', variant='normal', weight=700, stretch='normal', size='scalable')) = 10.335\n",
      "2024-04-10 15:18:27,308 - DEBUG - matplotlib.font_manager - findfont: score(FontEntry(fname='c:\\\\Blog\\\\How-to-Finetuning-Large-Language-Models\\\\.venv\\\\lib\\\\site-packages\\\\matplotlib\\\\mpl-data\\\\fonts\\\\ttf\\\\STIXSizTwoSymReg.ttf', name='STIXSizeTwoSym', style='normal', variant='normal', weight=400, stretch='normal', size='scalable')) = 10.05\n",
      "2024-04-10 15:18:27,308 - DEBUG - matplotlib.font_manager - findfont: score(FontEntry(fname='c:\\\\Blog\\\\How-to-Finetuning-Large-Language-Models\\\\.venv\\\\lib\\\\site-packages\\\\matplotlib\\\\mpl-data\\\\fonts\\\\ttf\\\\DejaVuSans.ttf', name='DejaVu Sans', style='normal', variant='normal', weight=400, stretch='normal', size='scalable')) = 0.05\n",
      "2024-04-10 15:18:27,310 - DEBUG - matplotlib.font_manager - findfont: score(FontEntry(fname='c:\\\\Blog\\\\How-to-Finetuning-Large-Language-Models\\\\.venv\\\\lib\\\\site-packages\\\\matplotlib\\\\mpl-data\\\\fonts\\\\ttf\\\\DejaVuSerif-BoldItalic.ttf', name='DejaVu Serif', style='italic', variant='normal', weight=700, stretch='normal', size='scalable')) = 11.335\n",
      "2024-04-10 15:18:27,310 - DEBUG - matplotlib.font_manager - findfont: score(FontEntry(fname='c:\\\\Blog\\\\How-to-Finetuning-Large-Language-Models\\\\.venv\\\\lib\\\\site-packages\\\\matplotlib\\\\mpl-data\\\\fonts\\\\ttf\\\\DejaVuSansDisplay.ttf', name='DejaVu Sans Display', style='normal', variant='normal', weight=400, stretch='normal', size='scalable')) = 10.05\n",
      "2024-04-10 15:18:27,311 - DEBUG - matplotlib.font_manager - findfont: score(FontEntry(fname='c:\\\\Blog\\\\How-to-Finetuning-Large-Language-Models\\\\.venv\\\\lib\\\\site-packages\\\\matplotlib\\\\mpl-data\\\\fonts\\\\ttf\\\\cmmi10.ttf', name='cmmi10', style='normal', variant='normal', weight=400, stretch='normal', size='scalable')) = 10.05\n",
      "2024-04-10 15:18:27,312 - DEBUG - matplotlib.font_manager - findfont: score(FontEntry(fname='c:\\\\Blog\\\\How-to-Finetuning-Large-Language-Models\\\\.venv\\\\lib\\\\site-packages\\\\matplotlib\\\\mpl-data\\\\fonts\\\\ttf\\\\DejaVuSans-Bold.ttf', name='DejaVu Sans', style='normal', variant='normal', weight=700, stretch='normal', size='scalable')) = 0.33499999999999996\n",
      "2024-04-10 15:18:27,312 - DEBUG - matplotlib.font_manager - findfont: score(FontEntry(fname='c:\\\\Blog\\\\How-to-Finetuning-Large-Language-Models\\\\.venv\\\\lib\\\\site-packages\\\\matplotlib\\\\mpl-data\\\\fonts\\\\ttf\\\\DejaVuSerif-Bold.ttf', name='DejaVu Serif', style='normal', variant='normal', weight=700, stretch='normal', size='scalable')) = 10.335\n",
      "2024-04-10 15:18:27,313 - DEBUG - matplotlib.font_manager - findfont: score(FontEntry(fname='c:\\\\Blog\\\\How-to-Finetuning-Large-Language-Models\\\\.venv\\\\lib\\\\site-packages\\\\matplotlib\\\\mpl-data\\\\fonts\\\\ttf\\\\STIXNonUniBolIta.ttf', name='STIXNonUnicode', style='italic', variant='normal', weight=700, stretch='normal', size='scalable')) = 11.335\n",
      "2024-04-10 15:18:27,314 - DEBUG - matplotlib.font_manager - findfont: score(FontEntry(fname='c:\\\\Blog\\\\How-to-Finetuning-Large-Language-Models\\\\.venv\\\\lib\\\\site-packages\\\\matplotlib\\\\mpl-data\\\\fonts\\\\ttf\\\\STIXSizThreeSymReg.ttf', name='STIXSizeThreeSym', style='normal', variant='normal', weight=400, stretch='normal', size='scalable')) = 10.05\n",
      "2024-04-10 15:18:27,315 - DEBUG - matplotlib.font_manager - findfont: score(FontEntry(fname='c:\\\\Blog\\\\How-to-Finetuning-Large-Language-Models\\\\.venv\\\\lib\\\\site-packages\\\\matplotlib\\\\mpl-data\\\\fonts\\\\ttf\\\\cmss10.ttf', name='cmss10', style='normal', variant='normal', weight=400, stretch='normal', size='scalable')) = 10.05\n",
      "2024-04-10 15:18:27,316 - DEBUG - matplotlib.font_manager - findfont: score(FontEntry(fname='c:\\\\Blog\\\\How-to-Finetuning-Large-Language-Models\\\\.venv\\\\lib\\\\site-packages\\\\matplotlib\\\\mpl-data\\\\fonts\\\\ttf\\\\STIXGeneralBol.ttf', name='STIXGeneral', style='normal', variant='normal', weight=700, stretch='normal', size='scalable')) = 10.335\n",
      "2024-04-10 15:18:27,316 - DEBUG - matplotlib.font_manager - findfont: score(FontEntry(fname='c:\\\\Blog\\\\How-to-Finetuning-Large-Language-Models\\\\.venv\\\\lib\\\\site-packages\\\\matplotlib\\\\mpl-data\\\\fonts\\\\ttf\\\\STIXSizFourSymBol.ttf', name='STIXSizeFourSym', style='normal', variant='normal', weight=700, stretch='normal', size='scalable')) = 10.335\n",
      "2024-04-10 15:18:27,318 - DEBUG - matplotlib.font_manager - findfont: score(FontEntry(fname='c:\\\\Blog\\\\How-to-Finetuning-Large-Language-Models\\\\.venv\\\\lib\\\\site-packages\\\\matplotlib\\\\mpl-data\\\\fonts\\\\ttf\\\\STIXGeneralItalic.ttf', name='STIXGeneral', style='italic', variant='normal', weight=400, stretch='normal', size='scalable')) = 11.05\n",
      "2024-04-10 15:18:27,318 - DEBUG - matplotlib.font_manager - findfont: score(FontEntry(fname='c:\\\\Blog\\\\How-to-Finetuning-Large-Language-Models\\\\.venv\\\\lib\\\\site-packages\\\\matplotlib\\\\mpl-data\\\\fonts\\\\ttf\\\\DejaVuSansMono.ttf', name='DejaVu Sans Mono', style='normal', variant='normal', weight=400, stretch='normal', size='scalable')) = 10.05\n",
      "2024-04-10 15:18:27,319 - DEBUG - matplotlib.font_manager - findfont: score(FontEntry(fname='c:\\\\Blog\\\\How-to-Finetuning-Large-Language-Models\\\\.venv\\\\lib\\\\site-packages\\\\matplotlib\\\\mpl-data\\\\fonts\\\\ttf\\\\DejaVuSansMono-Oblique.ttf', name='DejaVu Sans Mono', style='oblique', variant='normal', weight=400, stretch='normal', size='scalable')) = 11.05\n",
      "2024-04-10 15:18:27,320 - DEBUG - matplotlib.font_manager - findfont: score(FontEntry(fname='C:\\\\Windows\\\\Fonts\\\\PARCHM.TTF', name='Parchment', style='normal', variant='normal', weight=400, stretch='normal', size='scalable')) = 10.05\n",
      "2024-04-10 15:18:27,320 - DEBUG - matplotlib.font_manager - findfont: score(FontEntry(fname='C:\\\\Windows\\\\Fonts\\\\cambriai.ttf', name='Cambria', style='italic', variant='normal', weight=400, stretch='normal', size='scalable')) = 11.05\n",
      "2024-04-10 15:18:27,321 - DEBUG - matplotlib.font_manager - findfont: score(FontEntry(fname='C:\\\\Windows\\\\Fonts\\\\IBMPlexThai-Light.ttf', name='IBM Plex Thai', style='normal', variant='normal', weight=300, stretch='normal', size='scalable')) = 10.145\n",
      "2024-04-10 15:18:27,322 - DEBUG - matplotlib.font_manager - findfont: score(FontEntry(fname='C:\\\\Windows\\\\Fonts\\\\TCBI____.TTF', name='Tw Cen MT', style='italic', variant='normal', weight=700, stretch='normal', size='scalable')) = 11.335\n",
      "2024-04-10 15:18:27,322 - DEBUG - matplotlib.font_manager - findfont: score(FontEntry(fname='C:\\\\Windows\\\\Fonts\\\\IBMPlexMono-Italic.ttf', name='IBM Plex Mono', style='italic', variant='normal', weight=400, stretch='normal', size='scalable')) = 11.05\n",
      "2024-04-10 15:18:27,323 - DEBUG - matplotlib.font_manager - findfont: score(FontEntry(fname='C:\\\\Windows\\\\Fonts\\\\IBMPlexSansArabic-ExtraLight.ttf', name='IBM Plex Sans Arabic', style='normal', variant='normal', weight=200, stretch='normal', size='scalable')) = 10.24\n",
      "2024-04-10 15:18:27,324 - DEBUG - matplotlib.font_manager - findfont: score(FontEntry(fname='C:\\\\Windows\\\\Fonts\\\\pala.ttf', name='Palatino Linotype', style='normal', variant='normal', weight=400, stretch='normal', size='scalable')) = 10.05\n",
      "2024-04-10 15:18:27,325 - DEBUG - matplotlib.font_manager - findfont: score(FontEntry(fname='C:\\\\Windows\\\\Fonts\\\\palab.ttf', name='Palatino Linotype', style='normal', variant='normal', weight=700, stretch='normal', size='scalable')) = 10.335\n",
      "2024-04-10 15:18:27,325 - DEBUG - matplotlib.font_manager - findfont: score(FontEntry(fname='C:\\\\Windows\\\\Fonts\\\\bahnschrift.ttf', name='Bahnschrift', style='normal', variant='normal', weight=400, stretch='normal', size='scalable')) = 10.05\n",
      "2024-04-10 15:18:27,326 - DEBUG - matplotlib.font_manager - findfont: score(FontEntry(fname='C:\\\\Windows\\\\Fonts\\\\CALISTI.TTF', name='Calisto MT', style='italic', variant='normal', weight=400, stretch='normal', size='scalable')) = 11.05\n",
      "2024-04-10 15:18:27,327 - DEBUG - matplotlib.font_manager - findfont: score(FontEntry(fname='C:\\\\Windows\\\\Fonts\\\\IBMPlexSansKR-Medium.ttf', name='IBM Plex Sans KR', style='normal', variant='normal', weight=500, stretch='normal', size='scalable')) = 10.145\n",
      "2024-04-10 15:18:27,328 - DEBUG - matplotlib.font_manager - findfont: score(FontEntry(fname='C:\\\\Windows\\\\Fonts\\\\IBMPlexSerif-Medium.ttf', name='IBM Plex Serif', style='normal', variant='normal', weight=500, stretch='normal', size='scalable')) = 10.145\n",
      "2024-04-10 15:18:27,328 - DEBUG - matplotlib.font_manager - findfont: score(FontEntry(fname='C:\\\\Windows\\\\Fonts\\\\PERBI___.TTF', name='Perpetua', style='italic', variant='normal', weight=700, stretch='normal', size='scalable')) = 11.335\n",
      "2024-04-10 15:18:27,329 - DEBUG - matplotlib.font_manager - findfont: score(FontEntry(fname='C:\\\\Windows\\\\Fonts\\\\IBMPlexSerif-ThinItalic.ttf', name='IBM Plex Serif', style='italic', variant='normal', weight=100, stretch='normal', size='scalable')) = 11.335\n",
      "2024-04-10 15:18:27,330 - DEBUG - matplotlib.font_manager - findfont: score(FontEntry(fname='C:\\\\Windows\\\\Fonts\\\\ANTQUABI.TTF', name='Book Antiqua', style='italic', variant='normal', weight=700, stretch='normal', size='scalable')) = 11.335\n",
      "2024-04-10 15:18:27,331 - DEBUG - matplotlib.font_manager - findfont: score(FontEntry(fname='C:\\\\Windows\\\\Fonts\\\\IBMPlexSansCondensed-ExtraLight.ttf', name='IBM Plex Sans Condensed', style='normal', variant='normal', weight=200, stretch='condensed', size='scalable')) = 10.44\n",
      "2024-04-10 15:18:27,331 - DEBUG - matplotlib.font_manager - findfont: score(FontEntry(fname='C:\\\\Windows\\\\Fonts\\\\OCRAEXT.TTF', name='OCR A Extended', style='normal', variant='normal', weight=400, stretch='expanded', size='scalable')) = 10.25\n",
      "2024-04-10 15:18:27,332 - DEBUG - matplotlib.font_manager - findfont: score(FontEntry(fname='C:\\\\Windows\\\\Fonts\\\\IBMPlexSansJP-SemiBold.ttf', name='IBM Plex Sans JP', style='normal', variant='normal', weight=600, stretch='normal', size='scalable')) = 10.24\n",
      "2024-04-10 15:18:27,333 - DEBUG - matplotlib.font_manager - findfont: score(FontEntry(fname='C:\\\\Windows\\\\Fonts\\\\BSSYM7.TTF', name='Bookshelf Symbol 7', style='normal', variant='normal', weight=400, stretch='normal', size='scalable')) = 10.05\n",
      "2024-04-10 15:18:27,334 - DEBUG - matplotlib.font_manager - findfont: score(FontEntry(fname='C:\\\\Windows\\\\Fonts\\\\IBMPlexMono-Bold.ttf', name='IBM Plex Mono', style='normal', variant='normal', weight=700, stretch='normal', size='scalable')) = 10.335\n",
      "2024-04-10 15:18:27,335 - DEBUG - matplotlib.font_manager - findfont: score(FontEntry(fname='C:\\\\Windows\\\\Fonts\\\\malgun.ttf', name='Malgun Gothic', style='normal', variant='normal', weight=400, stretch='normal', size='scalable')) = 10.05\n",
      "2024-04-10 15:18:27,335 - DEBUG - matplotlib.font_manager - findfont: score(FontEntry(fname='C:\\\\Windows\\\\Fonts\\\\taileb.ttf', name='Microsoft Tai Le', style='normal', variant='normal', weight=700, stretch='normal', size='scalable')) = 10.335\n",
      "2024-04-10 15:18:27,335 - DEBUG - matplotlib.font_manager - findfont: score(FontEntry(fname='C:\\\\Windows\\\\Fonts\\\\IBMPlexSerif-ExtraLightItalic.ttf', name='IBM Plex Serif', style='italic', variant='normal', weight=200, stretch='normal', size='scalable')) = 11.24\n",
      "2024-04-10 15:18:27,336 - DEBUG - matplotlib.font_manager - findfont: score(FontEntry(fname='C:\\\\Windows\\\\Fonts\\\\LSANSI.TTF', name='Lucida Sans', style='italic', variant='normal', weight=400, stretch='normal', size='scalable')) = 11.05\n",
      "2024-04-10 15:18:27,337 - DEBUG - matplotlib.font_manager - findfont: score(FontEntry(fname='C:\\\\Windows\\\\Fonts\\\\DUBAI-REGULAR.TTF', name='Dubai', style='normal', variant='normal', weight=400, stretch='normal', size='scalable')) = 10.05\n",
      "2024-04-10 15:18:27,338 - DEBUG - matplotlib.font_manager - findfont: score(FontEntry(fname='C:\\\\Windows\\\\Fonts\\\\GILB____.TTF', name='Gill Sans MT', style='normal', variant='normal', weight=700, stretch='normal', size='scalable')) = 10.335\n",
      "2024-04-10 15:18:27,338 - DEBUG - matplotlib.font_manager - findfont: score(FontEntry(fname='C:\\\\Windows\\\\Fonts\\\\mmrtextb.ttf', name='Myanmar Text', style='normal', variant='normal', weight=700, stretch='normal', size='scalable')) = 10.335\n",
      "2024-04-10 15:18:27,340 - DEBUG - matplotlib.font_manager - findfont: score(FontEntry(fname='C:\\\\Windows\\\\Fonts\\\\TEMPSITC.TTF', name='Tempus Sans ITC', style='normal', variant='normal', weight=400, stretch='normal', size='scalable')) = 10.05\n",
      "2024-04-10 15:18:27,341 - DEBUG - matplotlib.font_manager - findfont: score(FontEntry(fname='C:\\\\Windows\\\\Fonts\\\\IBMPlexSansThai-Thin.ttf', name='IBM Plex Sans Thai', style='normal', variant='normal', weight=100, stretch='normal', size='scalable')) = 10.335\n",
      "2024-04-10 15:18:27,342 - DEBUG - matplotlib.font_manager - findfont: score(FontEntry(fname='C:\\\\Windows\\\\Fonts\\\\ITCKRIST.TTF', name='Kristen ITC', style='normal', variant='normal', weight=400, stretch='normal', size='scalable')) = 10.05\n",
      "2024-04-10 15:18:27,342 - DEBUG - matplotlib.font_manager - findfont: score(FontEntry(fname='C:\\\\Windows\\\\Fonts\\\\GOUDOSI.TTF', name='Goudy Old Style', style='italic', variant='normal', weight=400, stretch='normal', size='scalable')) = 11.05\n",
      "2024-04-10 15:18:27,343 - DEBUG - matplotlib.font_manager - findfont: score(FontEntry(fname='C:\\\\Windows\\\\Fonts\\\\seguili.ttf', name='Segoe UI', style='italic', variant='normal', weight=300, stretch='normal', size='scalable')) = 11.145\n",
      "2024-04-10 15:18:27,344 - DEBUG - matplotlib.font_manager - findfont: score(FontEntry(fname='C:\\\\Windows\\\\Fonts\\\\LBRITEDI.TTF', name='Lucida Bright', style='italic', variant='normal', weight=600, stretch='normal', size='scalable')) = 11.24\n",
      "2024-04-10 15:18:27,345 - DEBUG - matplotlib.font_manager - findfont: score(FontEntry(fname='C:\\\\Windows\\\\Fonts\\\\courbd.ttf', name='Courier New', style='normal', variant='normal', weight=700, stretch='normal', size='scalable')) = 10.335\n",
      "2024-04-10 15:18:27,346 - DEBUG - matplotlib.font_manager - findfont: score(FontEntry(fname='C:\\\\Windows\\\\Fonts\\\\DUBAI-LIGHT.TTF', name='Dubai', style='normal', variant='normal', weight=300, stretch='normal', size='scalable')) = 10.145\n",
      "2024-04-10 15:18:27,347 - DEBUG - matplotlib.font_manager - findfont: score(FontEntry(fname='C:\\\\Windows\\\\Fonts\\\\segoepr.ttf', name='Segoe Print', style='normal', variant='normal', weight=400, stretch='normal', size='scalable')) = 10.05\n",
      "2024-04-10 15:18:27,347 - DEBUG - matplotlib.font_manager - findfont: score(FontEntry(fname='C:\\\\Windows\\\\Fonts\\\\COLONNA.TTF', name='Colonna MT', style='normal', variant='normal', weight=400, stretch='normal', size='scalable')) = 10.05\n",
      "2024-04-10 15:18:27,348 - DEBUG - matplotlib.font_manager - findfont: score(FontEntry(fname='C:\\\\Windows\\\\Fonts\\\\PER_____.TTF', name='Perpetua', style='normal', variant='normal', weight=400, stretch='normal', size='scalable')) = 10.05\n",
      "2024-04-10 15:18:27,349 - DEBUG - matplotlib.font_manager - findfont: score(FontEntry(fname='C:\\\\Windows\\\\Fonts\\\\taile.ttf', name='Microsoft Tai Le', style='normal', variant='normal', weight=400, stretch='normal', size='scalable')) = 10.05\n",
      "2024-04-10 15:18:27,349 - DEBUG - matplotlib.font_manager - findfont: score(FontEntry(fname='C:\\\\Windows\\\\Fonts\\\\palai.ttf', name='Palatino Linotype', style='italic', variant='normal', weight=400, stretch='normal', size='scalable')) = 11.05\n",
      "2024-04-10 15:18:27,350 - DEBUG - matplotlib.font_manager - findfont: score(FontEntry(fname='C:\\\\Windows\\\\Fonts\\\\seguibli.ttf', name='Segoe UI', style='italic', variant='normal', weight=900, stretch='normal', size='scalable')) = 11.525\n",
      "2024-04-10 15:18:27,351 - DEBUG - matplotlib.font_manager - findfont: score(FontEntry(fname='C:\\\\Windows\\\\Fonts\\\\impact.ttf', name='Impact', style='normal', variant='normal', weight=400, stretch='normal', size='scalable')) = 10.05\n",
      "2024-04-10 15:18:27,352 - DEBUG - matplotlib.font_manager - findfont: score(FontEntry(fname='C:\\\\Windows\\\\Fonts\\\\NirmalaS.ttf', name='Nirmala UI', style='normal', variant='normal', weight=350, stretch='normal', size='scalable')) = 10.0975\n",
      "2024-04-10 15:18:27,353 - DEBUG - matplotlib.font_manager - findfont: score(FontEntry(fname='C:\\\\Windows\\\\Fonts\\\\BOD_BLAI.TTF', name='Bodoni MT', style='italic', variant='normal', weight=900, stretch='normal', size='scalable')) = 11.525\n",
      "2024-04-10 15:18:27,353 - DEBUG - matplotlib.font_manager - findfont: score(FontEntry(fname='C:\\\\Windows\\\\Fonts\\\\LTYPE.TTF', name='Lucida Sans Typewriter', style='normal', variant='normal', weight=400, stretch='normal', size='scalable')) = 10.05\n",
      "2024-04-10 15:18:27,354 - DEBUG - matplotlib.font_manager - findfont: score(FontEntry(fname='C:\\\\Windows\\\\Fonts\\\\BOOKOSI.TTF', name='Bookman Old Style', style='italic', variant='normal', weight=300, stretch='normal', size='scalable')) = 11.145\n",
      "2024-04-10 15:18:27,355 - DEBUG - matplotlib.font_manager - findfont: score(FontEntry(fname='C:\\\\Windows\\\\Fonts\\\\IBMPlexSans-ExtraLightItalic.ttf', name='IBM Plex Sans', style='italic', variant='normal', weight=200, stretch='normal', size='scalable')) = 11.24\n",
      "2024-04-10 15:18:27,355 - DEBUG - matplotlib.font_manager - findfont: score(FontEntry(fname='C:\\\\Windows\\\\Fonts\\\\LCALLIG.TTF', name='Lucida Calligraphy', style='italic', variant='normal', weight=400, stretch='normal', size='scalable')) = 11.05\n",
      "2024-04-10 15:18:27,356 - DEBUG - matplotlib.font_manager - findfont: score(FontEntry(fname='C:\\\\Windows\\\\Fonts\\\\msjhl.ttc', name='Microsoft JhengHei', style='normal', variant='normal', weight=290, stretch='normal', size='scalable')) = 10.1545\n",
      "2024-04-10 15:18:27,357 - DEBUG - matplotlib.font_manager - findfont: score(FontEntry(fname='C:\\\\Windows\\\\Fonts\\\\IBMPlexSansCondensed-Italic.ttf', name='IBM Plex Sans Condensed', style='italic', variant='normal', weight=400, stretch='condensed', size='scalable')) = 11.25\n",
      "2024-04-10 15:18:27,357 - DEBUG - matplotlib.font_manager - findfont: score(FontEntry(fname='C:\\\\Windows\\\\Fonts\\\\mingliub.ttc', name='MingLiU-ExtB', style='normal', variant='normal', weight=400, stretch='normal', size='scalable')) = 10.05\n",
      "2024-04-10 15:18:27,358 - DEBUG - matplotlib.font_manager - findfont: score(FontEntry(fname='C:\\\\Windows\\\\Fonts\\\\malgunbd.ttf', name='Malgun Gothic', style='normal', variant='normal', weight=700, stretch='normal', size='scalable')) = 10.335\n",
      "2024-04-10 15:18:27,359 - DEBUG - matplotlib.font_manager - findfont: score(FontEntry(fname='C:\\\\Windows\\\\Fonts\\\\ITCBLKAD.TTF', name='Blackadder ITC', style='normal', variant='normal', weight=400, stretch='normal', size='scalable')) = 10.05\n",
      "2024-04-10 15:18:27,360 - DEBUG - matplotlib.font_manager - findfont: score(FontEntry(fname='C:\\\\Windows\\\\Fonts\\\\BRADHITC.TTF', name='Bradley Hand ITC', style='normal', variant='normal', weight=400, stretch='normal', size='scalable')) = 10.05\n",
      "2024-04-10 15:18:27,361 - DEBUG - matplotlib.font_manager - findfont: score(FontEntry(fname='C:\\\\Windows\\\\Fonts\\\\BOD_CB.TTF', name='Bodoni MT', style='normal', variant='normal', weight=700, stretch='condensed', size='scalable')) = 10.535\n",
      "2024-04-10 15:18:27,361 - DEBUG - matplotlib.font_manager - findfont: score(FontEntry(fname='C:\\\\Windows\\\\Fonts\\\\SitkaVF-Italic.ttf', name='Sitka', style='italic', variant='normal', weight=400, stretch='normal', size='scalable')) = 11.05\n",
      "2024-04-10 15:18:27,362 - DEBUG - matplotlib.font_manager - findfont: score(FontEntry(fname='C:\\\\Windows\\\\Fonts\\\\COPRGTL.TTF', name='Copperplate Gothic Light', style='normal', variant='normal', weight=400, stretch='normal', size='scalable')) = 10.05\n",
      "2024-04-10 15:18:27,363 - DEBUG - matplotlib.font_manager - findfont: score(FontEntry(fname='C:\\\\Windows\\\\Fonts\\\\LBRITED.TTF', name='Lucida Bright', style='normal', variant='normal', weight=600, stretch='normal', size='scalable')) = 10.24\n",
      "2024-04-10 15:18:27,363 - DEBUG - matplotlib.font_manager - findfont: score(FontEntry(fname='C:\\\\Windows\\\\Fonts\\\\LHANDW.TTF', name='Lucida Handwriting', style='italic', variant='normal', weight=400, stretch='normal', size='scalable')) = 11.05\n",
      "2024-04-10 15:18:27,364 - DEBUG - matplotlib.font_manager - findfont: score(FontEntry(fname='C:\\\\Windows\\\\Fonts\\\\holomdl2.ttf', name='HoloLens MDL2 Assets', style='normal', variant='normal', weight=400, stretch='normal', size='scalable')) = 10.05\n",
      "2024-04-10 15:18:27,365 - DEBUG - matplotlib.font_manager - findfont: score(FontEntry(fname='C:\\\\Windows\\\\Fonts\\\\HTOWERTI.TTF', name='High Tower Text', style='italic', variant='normal', weight=400, stretch='normal', size='scalable')) = 11.05\n",
      "2024-04-10 15:18:27,365 - DEBUG - matplotlib.font_manager - findfont: score(FontEntry(fname='C:\\\\Windows\\\\Fonts\\\\ntailu.ttf', name='Microsoft New Tai Lue', style='normal', variant='normal', weight=400, stretch='normal', size='scalable')) = 10.05\n",
      "2024-04-10 15:18:27,366 - DEBUG - matplotlib.font_manager - findfont: score(FontEntry(fname='C:\\\\Windows\\\\Fonts\\\\GILI____.TTF', name='Gill Sans MT', style='italic', variant='normal', weight=400, stretch='normal', size='scalable')) = 11.05\n"
     ]
    },
    {
     "name": "stderr",
     "output_type": "stream",
     "text": [
      "2024-04-10 15:18:27,367 - DEBUG - matplotlib.font_manager - findfont: score(FontEntry(fname='C:\\\\Windows\\\\Fonts\\\\BRUSHSCI.TTF', name='Brush Script MT', style='italic', variant='normal', weight=400, stretch='normal', size='scalable')) = 11.05\n",
      "2024-04-10 15:18:27,368 - DEBUG - matplotlib.font_manager - findfont: score(FontEntry(fname='C:\\\\Windows\\\\Fonts\\\\IBMPlexSansArabic-Regular.ttf', name='IBM Plex Sans Arabic', style='normal', variant='normal', weight=400, stretch='normal', size='scalable')) = 10.05\n",
      "2024-04-10 15:18:27,369 - DEBUG - matplotlib.font_manager - findfont: score(FontEntry(fname='C:\\\\Windows\\\\Fonts\\\\AGENCYR.TTF', name='Agency FB', style='normal', variant='normal', weight=400, stretch='normal', size='scalable')) = 10.05\n",
      "2024-04-10 15:18:27,369 - DEBUG - matplotlib.font_manager - findfont: score(FontEntry(fname='C:\\\\Windows\\\\Fonts\\\\GILLUBCD.TTF', name='Gill Sans Ultra Bold Condensed', style='normal', variant='normal', weight=400, stretch='condensed', size='scalable')) = 10.25\n",
      "2024-04-10 15:18:27,370 - DEBUG - matplotlib.font_manager - findfont: score(FontEntry(fname='C:\\\\Windows\\\\Fonts\\\\IBMPlexSansThai-SemiBold.ttf', name='IBM Plex Sans Thai', style='normal', variant='normal', weight=600, stretch='normal', size='scalable')) = 10.24\n",
      "2024-04-10 15:18:27,370 - DEBUG - matplotlib.font_manager - findfont: score(FontEntry(fname='C:\\\\Windows\\\\Fonts\\\\constani.ttf', name='Constantia', style='italic', variant='normal', weight=400, stretch='normal', size='scalable')) = 11.05\n",
      "2024-04-10 15:18:27,371 - DEBUG - matplotlib.font_manager - findfont: score(FontEntry(fname='C:\\\\Windows\\\\Fonts\\\\BERNHC.TTF', name='Bernard MT Condensed', style='normal', variant='normal', weight=400, stretch='condensed', size='scalable')) = 10.25\n",
      "2024-04-10 15:18:27,372 - DEBUG - matplotlib.font_manager - findfont: score(FontEntry(fname='C:\\\\Windows\\\\Fonts\\\\GARA.TTF', name='Garamond', style='normal', variant='normal', weight=400, stretch='normal', size='scalable')) = 10.05\n",
      "2024-04-10 15:18:27,372 - DEBUG - matplotlib.font_manager - findfont: score(FontEntry(fname='C:\\\\Windows\\\\Fonts\\\\corbell.ttf', name='Corbel', style='normal', variant='normal', weight=300, stretch='normal', size='scalable')) = 10.145\n",
      "2024-04-10 15:18:27,373 - DEBUG - matplotlib.font_manager - findfont: score(FontEntry(fname='C:\\\\Windows\\\\Fonts\\\\segoeuisl.ttf', name='Segoe UI', style='normal', variant='normal', weight=350, stretch='normal', size='scalable')) = 10.0975\n",
      "2024-04-10 15:18:27,374 - DEBUG - matplotlib.font_manager - findfont: score(FontEntry(fname='C:\\\\Windows\\\\Fonts\\\\ROCKBI.TTF', name='Rockwell', style='italic', variant='normal', weight=700, stretch='normal', size='scalable')) = 11.335\n",
      "2024-04-10 15:18:27,374 - DEBUG - matplotlib.font_manager - findfont: score(FontEntry(fname='C:\\\\Windows\\\\Fonts\\\\CHILLER.TTF', name='Chiller', style='normal', variant='normal', weight=400, stretch='normal', size='scalable')) = 10.05\n",
      "2024-04-10 15:18:27,375 - DEBUG - matplotlib.font_manager - findfont: score(FontEntry(fname='C:\\\\Windows\\\\Fonts\\\\GLSNECB.TTF', name='Gill Sans MT Ext Condensed Bold', style='normal', variant='normal', weight=400, stretch='condensed', size='scalable')) = 10.25\n",
      "2024-04-10 15:18:27,376 - DEBUG - matplotlib.font_manager - findfont: score(FontEntry(fname='C:\\\\Windows\\\\Fonts\\\\IBMPlexSansCondensed-ThinItalic.ttf', name='IBM Plex Sans Condensed', style='italic', variant='normal', weight=100, stretch='condensed', size='scalable')) = 11.535\n",
      "2024-04-10 15:18:27,377 - DEBUG - matplotlib.font_manager - findfont: score(FontEntry(fname='C:\\\\Windows\\\\Fonts\\\\LeelaUIb.ttf', name='Leelawadee UI', style='normal', variant='normal', weight=700, stretch='normal', size='scalable')) = 10.335\n",
      "2024-04-10 15:18:27,377 - DEBUG - matplotlib.font_manager - findfont: score(FontEntry(fname='C:\\\\Windows\\\\Fonts\\\\IBMPlexSansHebrew-Text.ttf', name='IBM Plex Sans Hebrew', style='normal', variant='normal', weight=450, stretch='normal', size='scalable')) = 10.0975\n",
      "2024-04-10 15:18:27,378 - DEBUG - matplotlib.font_manager - findfont: score(FontEntry(fname='C:\\\\Windows\\\\Fonts\\\\HARNGTON.TTF', name='Harrington', style='normal', variant='normal', weight=400, stretch='normal', size='scalable')) = 10.05\n",
      "2024-04-10 15:18:27,378 - DEBUG - matplotlib.font_manager - findfont: score(FontEntry(fname='C:\\\\Windows\\\\Fonts\\\\IBMPlexSansKR-Thin.ttf', name='IBM Plex Sans KR', style='normal', variant='normal', weight=100, stretch='normal', size='scalable')) = 10.335\n",
      "2024-04-10 15:18:27,379 - DEBUG - matplotlib.font_manager - findfont: score(FontEntry(fname='C:\\\\Windows\\\\Fonts\\\\monbaiti.ttf', name='Mongolian Baiti', style='normal', variant='normal', weight=400, stretch='normal', size='scalable')) = 10.05\n",
      "2024-04-10 15:18:27,380 - DEBUG - matplotlib.font_manager - findfont: score(FontEntry(fname='C:\\\\Windows\\\\Fonts\\\\FRADM.TTF', name='Franklin Gothic Demi', style='normal', variant='normal', weight=400, stretch='normal', size='scalable')) = 10.05\n",
      "2024-04-10 15:18:27,380 - DEBUG - matplotlib.font_manager - findfont: score(FontEntry(fname='C:\\\\Windows\\\\Fonts\\\\YuGothL.ttc', name='Yu Gothic', style='normal', variant='normal', weight=300, stretch='normal', size='scalable')) = 10.145\n",
      "2024-04-10 15:18:27,381 - DEBUG - matplotlib.font_manager - findfont: score(FontEntry(fname='C:\\\\Windows\\\\Fonts\\\\IBMPlexSans-Italic.ttf', name='IBM Plex Sans', style='italic', variant='normal', weight=400, stretch='normal', size='scalable')) = 11.05\n",
      "2024-04-10 15:18:27,382 - DEBUG - matplotlib.font_manager - findfont: score(FontEntry(fname='C:\\\\Windows\\\\Fonts\\\\CENTURY.TTF', name='Century', style='normal', variant='normal', weight=400, stretch='normal', size='scalable')) = 10.05\n",
      "2024-04-10 15:18:27,383 - DEBUG - matplotlib.font_manager - findfont: score(FontEntry(fname='C:\\\\Windows\\\\Fonts\\\\IBMPlexSansHebrew-Medium.ttf', name='IBM Plex Sans Hebrew', style='normal', variant='normal', weight=500, stretch='normal', size='scalable')) = 10.145\n",
      "2024-04-10 15:18:27,384 - DEBUG - matplotlib.font_manager - findfont: score(FontEntry(fname='C:\\\\Windows\\\\Fonts\\\\segoeui.ttf', name='Segoe UI', style='normal', variant='normal', weight=400, stretch='normal', size='scalable')) = 10.05\n",
      "2024-04-10 15:18:27,385 - DEBUG - matplotlib.font_manager - findfont: score(FontEntry(fname='C:\\\\Windows\\\\Fonts\\\\ROCKEB.TTF', name='Rockwell Extra Bold', style='normal', variant='normal', weight=800, stretch='normal', size='scalable')) = 10.43\n",
      "2024-04-10 15:18:27,386 - DEBUG - matplotlib.font_manager - findfont: score(FontEntry(fname='C:\\\\Windows\\\\Fonts\\\\KUNSTLER.TTF', name='Kunstler Script', style='normal', variant='normal', weight=400, stretch='normal', size='scalable')) = 10.05\n",
      "2024-04-10 15:18:27,386 - DEBUG - matplotlib.font_manager - findfont: score(FontEntry(fname='C:\\\\Windows\\\\Fonts\\\\simsunb.ttf', name='SimSun-ExtB', style='normal', variant='normal', weight=400, stretch='normal', size='scalable')) = 10.05\n",
      "2024-04-10 15:18:27,386 - DEBUG - matplotlib.font_manager - findfont: score(FontEntry(fname='C:\\\\Windows\\\\Fonts\\\\BKANT.TTF', name='Book Antiqua', style='normal', variant='normal', weight=400, stretch='normal', size='scalable')) = 10.05\n",
      "2024-04-10 15:18:27,387 - DEBUG - matplotlib.font_manager - findfont: score(FontEntry(fname='C:\\\\Windows\\\\Fonts\\\\IBMPlexSansDevanagari-ExtraLight.ttf', name='IBM Plex Sans Devanagari', style='normal', variant='normal', weight=200, stretch='normal', size='scalable')) = 10.24\n",
      "2024-04-10 15:18:27,388 - DEBUG - matplotlib.font_manager - findfont: score(FontEntry(fname='C:\\\\Windows\\\\Fonts\\\\MAIAN.TTF', name='Maiandra GD', style='normal', variant='normal', weight=400, stretch='normal', size='scalable')) = 10.05\n",
      "2024-04-10 15:18:27,388 - DEBUG - matplotlib.font_manager - findfont: score(FontEntry(fname='C:\\\\Windows\\\\Fonts\\\\BOOKOSBI.TTF', name='Bookman Old Style', style='italic', variant='normal', weight=600, stretch='normal', size='scalable')) = 11.24\n",
      "2024-04-10 15:18:27,388 - DEBUG - matplotlib.font_manager - findfont: score(FontEntry(fname='C:\\\\Windows\\\\Fonts\\\\IBMPlexSansThaiLooped-Thin.ttf', name='IBM Plex Sans Thai Looped', style='normal', variant='normal', weight=100, stretch='normal', size='scalable')) = 10.335\n",
      "2024-04-10 15:18:27,390 - DEBUG - matplotlib.font_manager - findfont: score(FontEntry(fname='C:\\\\Windows\\\\Fonts\\\\ALGER.TTF', name='Algerian', style='normal', variant='normal', weight=400, stretch='normal', size='scalable')) = 10.05\n",
      "2024-04-10 15:18:27,390 - DEBUG - matplotlib.font_manager - findfont: score(FontEntry(fname='C:\\\\Windows\\\\Fonts\\\\IBMPlexDevanagari-Regular.ttf', name='IBM Plex Devanagari', style='normal', variant='normal', weight=400, stretch='normal', size='scalable')) = 10.05\n",
      "2024-04-10 15:18:27,391 - DEBUG - matplotlib.font_manager - findfont: score(FontEntry(fname='C:\\\\Windows\\\\Fonts\\\\YuGothB.ttc', name='Yu Gothic', style='normal', variant='normal', weight=700, stretch='normal', size='scalable')) = 10.335\n",
      "2024-04-10 15:18:27,391 - DEBUG - matplotlib.font_manager - findfont: score(FontEntry(fname='C:\\\\Windows\\\\Fonts\\\\georgiai.ttf', name='Georgia', style='italic', variant='normal', weight=400, stretch='normal', size='scalable')) = 11.05\n",
      "2024-04-10 15:18:27,392 - DEBUG - matplotlib.font_manager - findfont: score(FontEntry(fname='C:\\\\Windows\\\\Fonts\\\\constan.ttf', name='Constantia', style='normal', variant='normal', weight=400, stretch='normal', size='scalable')) = 10.05\n",
      "2024-04-10 15:18:27,393 - DEBUG - matplotlib.font_manager - findfont: score(FontEntry(fname='C:\\\\Windows\\\\Fonts\\\\BRLNSDB.TTF', name='Berlin Sans FB Demi', style='normal', variant='normal', weight=700, stretch='normal', size='scalable')) = 10.335\n",
      "2024-04-10 15:18:27,393 - DEBUG - matplotlib.font_manager - findfont: score(FontEntry(fname='C:\\\\Windows\\\\Fonts\\\\ERASBD.TTF', name='Eras Bold ITC', style='normal', variant='normal', weight=400, stretch='normal', size='scalable')) = 10.05\n",
      "2024-04-10 15:18:27,394 - DEBUG - matplotlib.font_manager - findfont: score(FontEntry(fname='C:\\\\Windows\\\\Fonts\\\\ARIALNI.TTF', name='Arial', style='italic', variant='normal', weight=400, stretch='condensed', size='scalable')) = 7.613636363636363\n",
      "2024-04-10 15:18:27,395 - DEBUG - matplotlib.font_manager - findfont: score(FontEntry(fname='C:\\\\Windows\\\\Fonts\\\\constanz.ttf', name='Constantia', style='italic', variant='normal', weight=700, stretch='normal', size='scalable')) = 11.335\n",
      "2024-04-10 15:18:27,396 - DEBUG - matplotlib.font_manager - findfont: score(FontEntry(fname='C:\\\\Windows\\\\Fonts\\\\GIL_____.TTF', name='Gill Sans MT', style='normal', variant='normal', weight=400, stretch='normal', size='scalable')) = 10.05\n",
      "2024-04-10 15:18:27,396 - DEBUG - matplotlib.font_manager - findfont: score(FontEntry(fname='C:\\\\Windows\\\\Fonts\\\\IBMPlexMono-ExtraLightItalic.ttf', name='IBM Plex Mono', style='italic', variant='normal', weight=200, stretch='normal', size='scalable')) = 11.24\n",
      "2024-04-10 15:18:27,397 - DEBUG - matplotlib.font_manager - findfont: score(FontEntry(fname='C:\\\\Windows\\\\Fonts\\\\comici.ttf', name='Comic Sans MS', style='italic', variant='normal', weight=400, stretch='normal', size='scalable')) = 11.05\n",
      "2024-04-10 15:18:27,397 - DEBUG - matplotlib.font_manager - findfont: score(FontEntry(fname='C:\\\\Windows\\\\Fonts\\\\LEELAWDB.TTF', name='Leelawadee', style='normal', variant='normal', weight=700, stretch='normal', size='scalable')) = 10.335\n",
      "2024-04-10 15:18:27,398 - DEBUG - matplotlib.font_manager - findfont: score(FontEntry(fname='C:\\\\Windows\\\\Fonts\\\\Candarali.ttf', name='Candara', style='italic', variant='normal', weight=400, stretch='normal', size='scalable')) = 11.05\n",
      "2024-04-10 15:18:27,398 - DEBUG - matplotlib.font_manager - findfont: score(FontEntry(fname='C:\\\\Windows\\\\Fonts\\\\gadugi.ttf', name='Gadugi', style='normal', variant='normal', weight=400, stretch='normal', size='scalable')) = 10.05\n",
      "2024-04-10 15:18:27,399 - DEBUG - matplotlib.font_manager - findfont: score(FontEntry(fname='C:\\\\Windows\\\\Fonts\\\\msyhbd.ttc', name='Microsoft YaHei', style='normal', variant='normal', weight=700, stretch='normal', size='scalable')) = 10.335\n",
      "2024-04-10 15:18:27,399 - DEBUG - matplotlib.font_manager - findfont: score(FontEntry(fname='C:\\\\Windows\\\\Fonts\\\\PALSCRI.TTF', name='Palace Script MT', style='normal', variant='normal', weight=400, stretch='normal', size='scalable')) = 10.05\n",
      "2024-04-10 15:18:27,400 - DEBUG - matplotlib.font_manager - findfont: score(FontEntry(fname='C:\\\\Windows\\\\Fonts\\\\INFROMAN.TTF', name='Informal Roman', style='normal', variant='normal', weight=400, stretch='normal', size='scalable')) = 10.05\n",
      "2024-04-10 15:18:27,400 - DEBUG - matplotlib.font_manager - findfont: score(FontEntry(fname='C:\\\\Windows\\\\Fonts\\\\LTYPEB.TTF', name='Lucida Sans Typewriter', style='normal', variant='normal', weight=600, stretch='normal', size='scalable')) = 10.24\n",
      "2024-04-10 15:18:27,401 - DEBUG - matplotlib.font_manager - findfont: score(FontEntry(fname='C:\\\\Windows\\\\Fonts\\\\BOD_PSTC.TTF', name='Bodoni MT', style='normal', variant='normal', weight=300, stretch='normal', size='scalable')) = 10.145\n",
      "2024-04-10 15:18:27,402 - DEBUG - matplotlib.font_manager - findfont: score(FontEntry(fname='C:\\\\Windows\\\\Fonts\\\\CALIFR.TTF', name='Californian FB', style='normal', variant='normal', weight=400, stretch='normal', size='scalable')) = 10.05\n",
      "2024-04-10 15:18:27,402 - DEBUG - matplotlib.font_manager - findfont: score(FontEntry(fname='C:\\\\Windows\\\\Fonts\\\\IBMPlexMono-Thin.ttf', name='IBM Plex Mono', style='normal', variant='normal', weight=100, stretch='normal', size='scalable')) = 10.335\n",
      "2024-04-10 15:18:27,403 - DEBUG - matplotlib.font_manager - findfont: score(FontEntry(fname='C:\\\\Windows\\\\Fonts\\\\ariali.ttf', name='Arial', style='italic', variant='normal', weight=400, stretch='normal', size='scalable')) = 7.413636363636363\n",
      "2024-04-10 15:18:27,403 - DEBUG - matplotlib.font_manager - findfont: score(FontEntry(fname='C:\\\\Windows\\\\Fonts\\\\IBMPlexSansThaiLooped-Medium.ttf', name='IBM Plex Sans Thai Looped', style='normal', variant='normal', weight=500, stretch='normal', size='scalable')) = 10.145\n",
      "2024-04-10 15:18:27,404 - DEBUG - matplotlib.font_manager - findfont: score(FontEntry(fname='C:\\\\Windows\\\\Fonts\\\\IBMPlexSansKR-Bold.ttf', name='IBM Plex Sans KR', style='normal', variant='normal', weight=700, stretch='normal', size='scalable')) = 10.335\n",
      "2024-04-10 15:18:27,404 - DEBUG - matplotlib.font_manager - findfont: score(FontEntry(fname='C:\\\\Windows\\\\Fonts\\\\cambria.ttc', name='Cambria', style='normal', variant='normal', weight=400, stretch='normal', size='scalable')) = 10.05\n",
      "2024-04-10 15:18:27,405 - DEBUG - matplotlib.font_manager - findfont: score(FontEntry(fname='C:\\\\Windows\\\\Fonts\\\\IBMPlexSansThaiLooped-SemiBold.ttf', name='IBM Plex Sans Thai Looped', style='normal', variant='normal', weight=600, stretch='normal', size='scalable')) = 10.24\n",
      "2024-04-10 15:18:27,406 - DEBUG - matplotlib.font_manager - findfont: score(FontEntry(fname='C:\\\\Windows\\\\Fonts\\\\GIGI.TTF', name='Gigi', style='normal', variant='normal', weight=400, stretch='normal', size='scalable')) = 10.05\n",
      "2024-04-10 15:18:27,407 - DEBUG - matplotlib.font_manager - findfont: score(FontEntry(fname='C:\\\\Windows\\\\Fonts\\\\LATINWD.TTF', name='Wide Latin', style='normal', variant='normal', weight=400, stretch='expanded', size='scalable')) = 10.25\n",
      "2024-04-10 15:18:27,407 - DEBUG - matplotlib.font_manager - findfont: score(FontEntry(fname='C:\\\\Windows\\\\Fonts\\\\ONYX.TTF', name='Onyx', style='normal', variant='normal', weight=400, stretch='normal', size='scalable')) = 10.05\n",
      "2024-04-10 15:18:27,407 - DEBUG - matplotlib.font_manager - findfont: score(FontEntry(fname='C:\\\\Windows\\\\Fonts\\\\BASKVILL.TTF', name='Baskerville Old Face', style='normal', variant='normal', weight=400, stretch='normal', size='scalable')) = 10.05\n",
      "2024-04-10 15:18:27,408 - DEBUG - matplotlib.font_manager - findfont: score(FontEntry(fname='C:\\\\Windows\\\\Fonts\\\\IBMPlexSerif-Thin.ttf', name='IBM Plex Serif', style='normal', variant='normal', weight=100, stretch='normal', size='scalable')) = 10.335\n",
      "2024-04-10 15:18:27,408 - DEBUG - matplotlib.font_manager - findfont: score(FontEntry(fname='C:\\\\Windows\\\\Fonts\\\\IBMPlexSansHebrew-Bold.ttf', name='IBM Plex Sans Hebrew', style='normal', variant='normal', weight=700, stretch='normal', size='scalable')) = 10.335\n",
      "2024-04-10 15:18:27,410 - DEBUG - matplotlib.font_manager - findfont: score(FontEntry(fname='C:\\\\Windows\\\\Fonts\\\\IBMPlexSans-Light.ttf', name='IBM Plex Sans', style='normal', variant='normal', weight=300, stretch='normal', size='scalable')) = 10.145\n",
      "2024-04-10 15:18:27,411 - DEBUG - matplotlib.font_manager - findfont: score(FontEntry(fname='C:\\\\Windows\\\\Fonts\\\\verdanai.ttf', name='Verdana', style='italic', variant='normal', weight=400, stretch='normal', size='scalable')) = 4.6863636363636365\n",
      "2024-04-10 15:18:27,412 - DEBUG - matplotlib.font_manager - findfont: score(FontEntry(fname='C:\\\\Windows\\\\Fonts\\\\LSANS.TTF', name='Lucida Sans', style='normal', variant='normal', weight=400, stretch='normal', size='scalable')) = 10.05\n",
      "2024-04-10 15:18:27,412 - DEBUG - matplotlib.font_manager - findfont: score(FontEntry(fname='C:\\\\Windows\\\\Fonts\\\\IBMPlexArabic-ExtraLight.ttf', name='IBM Plex Arabic', style='normal', variant='normal', weight=200, stretch='normal', size='scalable')) = 10.24\n",
      "2024-04-10 15:18:27,413 - DEBUG - matplotlib.font_manager - findfont: score(FontEntry(fname='C:\\\\Windows\\\\Fonts\\\\BOD_CBI.TTF', name='Bodoni MT', style='italic', variant='normal', weight=700, stretch='condensed', size='scalable')) = 11.535\n",
      "2024-04-10 15:18:27,415 - DEBUG - matplotlib.font_manager - findfont: score(FontEntry(fname='C:\\\\Windows\\\\Fonts\\\\IBMPlexMono-Regular.ttf', name='IBM Plex Mono', style='normal', variant='normal', weight=400, stretch='normal', size='scalable')) = 10.05\n",
      "2024-04-10 15:18:27,415 - DEBUG - matplotlib.font_manager - findfont: score(FontEntry(fname='C:\\\\Windows\\\\Fonts\\\\FELIXTI.TTF', name='Felix Titling', style='normal', variant='normal', weight=400, stretch='normal', size='scalable')) = 10.05\n",
      "2024-04-10 15:18:27,416 - DEBUG - matplotlib.font_manager - findfont: score(FontEntry(fname='C:\\\\Windows\\\\Fonts\\\\trebuc.ttf', name='Trebuchet MS', style='normal', variant='normal', weight=400, stretch='normal', size='scalable')) = 10.05\n",
      "2024-04-10 15:18:27,417 - DEBUG - matplotlib.font_manager - findfont: score(FontEntry(fname='C:\\\\Windows\\\\Fonts\\\\calibril.ttf', name='Calibri', style='normal', variant='normal', weight=300, stretch='normal', size='scalable')) = 10.145\n",
      "2024-04-10 15:18:27,418 - DEBUG - matplotlib.font_manager - findfont: score(FontEntry(fname='C:\\\\Windows\\\\Fonts\\\\segmdl2.ttf', name='Segoe MDL2 Assets', style='normal', variant='normal', weight=400, stretch='normal', size='scalable')) = 10.05\n",
      "2024-04-10 15:18:27,418 - DEBUG - matplotlib.font_manager - findfont: score(FontEntry(fname='C:\\\\Windows\\\\Fonts\\\\Candara.ttf', name='Candara', style='normal', variant='normal', weight=400, stretch='normal', size='scalable')) = 10.05\n",
      "2024-04-10 15:18:27,419 - DEBUG - matplotlib.font_manager - findfont: score(FontEntry(fname='C:\\\\Windows\\\\Fonts\\\\BOD_I.TTF', name='Bodoni MT', style='italic', variant='normal', weight=400, stretch='normal', size='scalable')) = 11.05\n",
      "2024-04-10 15:18:27,420 - DEBUG - matplotlib.font_manager - findfont: score(FontEntry(fname='C:\\\\Windows\\\\Fonts\\\\constanb.ttf', name='Constantia', style='normal', variant='normal', weight=700, stretch='normal', size='scalable')) = 10.335\n",
      "2024-04-10 15:18:27,420 - DEBUG - matplotlib.font_manager - findfont: score(FontEntry(fname='C:\\\\Windows\\\\Fonts\\\\IBMPlexSansThai-ExtraLight.ttf', name='IBM Plex Sans Thai', style='normal', variant='normal', weight=200, stretch='normal', size='scalable')) = 10.24\n",
      "2024-04-10 15:18:27,421 - DEBUG - matplotlib.font_manager - findfont: score(FontEntry(fname='C:\\\\Windows\\\\Fonts\\\\consolaz.ttf', name='Consolas', style='italic', variant='normal', weight=700, stretch='normal', size='scalable')) = 11.335\n",
      "2024-04-10 15:18:27,422 - DEBUG - matplotlib.font_manager - findfont: score(FontEntry(fname='C:\\\\Windows\\\\Fonts\\\\trebucbi.ttf', name='Trebuchet MS', style='italic', variant='normal', weight=700, stretch='normal', size='scalable')) = 11.335\n",
      "2024-04-10 15:18:27,422 - DEBUG - matplotlib.font_manager - findfont: score(FontEntry(fname='C:\\\\Windows\\\\Fonts\\\\FORTE.TTF', name='Forte', style='normal', variant='normal', weight=400, stretch='normal', size='scalable')) = 10.05\n",
      "2024-04-10 15:18:27,423 - DEBUG - matplotlib.font_manager - findfont: score(FontEntry(fname='C:\\\\Windows\\\\Fonts\\\\Candaral.ttf', name='Candara', style='normal', variant='normal', weight=400, stretch='normal', size='scalable')) = 10.05\n",
      "2024-04-10 15:18:27,424 - DEBUG - matplotlib.font_manager - findfont: score(FontEntry(fname='C:\\\\Windows\\\\Fonts\\\\IBMPlexMono-TextItalic.ttf', name='IBM Plex Mono', style='italic', variant='normal', weight=450, stretch='normal', size='scalable')) = 11.0975\n",
      "2024-04-10 15:18:27,425 - DEBUG - matplotlib.font_manager - findfont: score(FontEntry(fname='C:\\\\Windows\\\\Fonts\\\\TCCM____.TTF', name='Tw Cen MT Condensed', style='normal', variant='normal', weight=400, stretch='condensed', size='scalable')) = 10.25\n",
      "2024-04-10 15:18:27,425 - DEBUG - matplotlib.font_manager - findfont: score(FontEntry(fname='C:\\\\Windows\\\\Fonts\\\\IBMPlexSans-TextItalic.ttf', name='IBM Plex Sans', style='italic', variant='normal', weight=450, stretch='normal', size='scalable')) = 11.0975\n",
      "2024-04-10 15:18:27,427 - DEBUG - matplotlib.font_manager - findfont: score(FontEntry(fname='C:\\\\Windows\\\\Fonts\\\\IBMPlexSansHebrew-SemiBold.ttf', name='IBM Plex Sans Hebrew', style='normal', variant='normal', weight=600, stretch='normal', size='scalable')) = 10.24\n",
      "2024-04-10 15:18:27,428 - DEBUG - matplotlib.font_manager - findfont: score(FontEntry(fname='C:\\\\Windows\\\\Fonts\\\\ARIALNBI.TTF', name='Arial', style='italic', variant='normal', weight=700, stretch='condensed', size='scalable')) = 7.8986363636363635\n",
      "2024-04-10 15:18:27,428 - DEBUG - matplotlib.font_manager - findfont: score(FontEntry(fname='C:\\\\Windows\\\\Fonts\\\\IBMPlexArabic-SemiBold.ttf', name='IBM Plex Arabic', style='normal', variant='normal', weight=600, stretch='normal', size='scalable')) = 10.24\n",
      "2024-04-10 15:18:27,429 - DEBUG - matplotlib.font_manager - findfont: score(FontEntry(fname='C:\\\\Windows\\\\Fonts\\\\IBMPlexDevanagari-SemiBold.ttf', name='IBM Plex Devanagari', style='normal', variant='normal', weight=600, stretch='normal', size='scalable')) = 10.24\n",
      "2024-04-10 15:18:27,430 - DEBUG - matplotlib.font_manager - findfont: score(FontEntry(fname='C:\\\\Windows\\\\Fonts\\\\times.ttf', name='Times New Roman', style='normal', variant='normal', weight=400, stretch='normal', size='scalable')) = 10.05\n",
      "2024-04-10 15:18:27,430 - DEBUG - matplotlib.font_manager - findfont: score(FontEntry(fname='C:\\\\Windows\\\\Fonts\\\\CALIFI.TTF', name='Californian FB', style='italic', variant='normal', weight=400, stretch='normal', size='scalable')) = 11.05\n",
      "2024-04-10 15:18:27,431 - DEBUG - matplotlib.font_manager - findfont: score(FontEntry(fname='C:\\\\Windows\\\\Fonts\\\\wingding.ttf', name='Wingdings', style='normal', variant='normal', weight=400, stretch='normal', size='scalable')) = 10.05\n",
      "2024-04-10 15:18:27,432 - DEBUG - matplotlib.font_manager - findfont: score(FontEntry(fname='C:\\\\Windows\\\\Fonts\\\\FTLTLT.TTF', name='Footlight MT Light', style='normal', variant='normal', weight=300, stretch='normal', size='scalable')) = 10.145\n",
      "2024-04-10 15:18:27,432 - DEBUG - matplotlib.font_manager - findfont: score(FontEntry(fname='C:\\\\Windows\\\\Fonts\\\\javatext.ttf', name='Javanese Text', style='normal', variant='normal', weight=400, stretch='normal', size='scalable')) = 10.05\n",
      "2024-04-10 15:18:27,433 - DEBUG - matplotlib.font_manager - findfont: score(FontEntry(fname='C:\\\\Windows\\\\Fonts\\\\MSUIGHUR.TTF', name='Microsoft Uighur', style='normal', variant='normal', weight=400, stretch='normal', size='scalable')) = 10.05\n",
      "2024-04-10 15:18:27,433 - DEBUG - matplotlib.font_manager - findfont: score(FontEntry(fname='C:\\\\Windows\\\\Fonts\\\\IBMPlexSansCondensed-Thin.ttf', name='IBM Plex Sans Condensed', style='normal', variant='normal', weight=100, stretch='condensed', size='scalable')) = 10.535\n",
      "2024-04-10 15:18:27,434 - DEBUG - matplotlib.font_manager - findfont: score(FontEntry(fname='C:\\\\Windows\\\\Fonts\\\\mmrtext.ttf', name='Myanmar Text', style='normal', variant='normal', weight=400, stretch='normal', size='scalable')) = 10.05\n",
      "2024-04-10 15:18:27,434 - DEBUG - matplotlib.font_manager - findfont: score(FontEntry(fname='C:\\\\Windows\\\\Fonts\\\\IBMPlexSerif-Text.ttf', name='IBM Plex Serif', style='normal', variant='normal', weight=450, stretch='normal', size='scalable')) = 10.0975\n",
      "2024-04-10 15:18:27,435 - DEBUG - matplotlib.font_manager - findfont: score(FontEntry(fname='C:\\\\Windows\\\\Fonts\\\\IBMPlexSansDevanagari-Light.ttf', name='IBM Plex Sans Devanagari', style='normal', variant='normal', weight=300, stretch='normal', size='scalable')) = 10.145\n",
      "2024-04-10 15:18:27,435 - DEBUG - matplotlib.font_manager - findfont: score(FontEntry(fname='C:\\\\Windows\\\\Fonts\\\\IBMPlexThai-SemiBold.ttf', name='IBM Plex Thai', style='normal', variant='normal', weight=600, stretch='normal', size='scalable')) = 10.24\n",
      "2024-04-10 15:18:27,436 - DEBUG - matplotlib.font_manager - findfont: score(FontEntry(fname='C:\\\\Windows\\\\Fonts\\\\IBMPlexSansCondensed-Medium.ttf', name='IBM Plex Sans Condensed', style='normal', variant='normal', weight=500, stretch='condensed', size='scalable')) = 10.344999999999999\n",
      "2024-04-10 15:18:27,436 - DEBUG - matplotlib.font_manager - findfont: score(FontEntry(fname='C:\\\\Windows\\\\Fonts\\\\corbeli.ttf', name='Corbel', style='italic', variant='normal', weight=400, stretch='normal', size='scalable')) = 11.05\n",
      "2024-04-10 15:18:27,437 - DEBUG - matplotlib.font_manager - findfont: score(FontEntry(fname='C:\\\\Windows\\\\Fonts\\\\CALIFB.TTF', name='Californian FB', style='normal', variant='normal', weight=700, stretch='normal', size='scalable')) = 10.335\n",
      "2024-04-10 15:18:27,437 - DEBUG - matplotlib.font_manager - findfont: score(FontEntry(fname='C:\\\\Windows\\\\Fonts\\\\comicz.ttf', name='Comic Sans MS', style='italic', variant='normal', weight=700, stretch='normal', size='scalable')) = 11.335\n",
      "2024-04-10 15:18:27,438 - DEBUG - matplotlib.font_manager - findfont: score(FontEntry(fname='C:\\\\Windows\\\\Fonts\\\\IBMPlexMono-ExtraLight.ttf', name='IBM Plex Mono', style='normal', variant='normal', weight=200, stretch='normal', size='scalable')) = 10.24\n",
      "2024-04-10 15:18:27,438 - DEBUG - matplotlib.font_manager - findfont: score(FontEntry(fname='C:\\\\Windows\\\\Fonts\\\\DUBAI-MEDIUM.TTF', name='Dubai', style='normal', variant='normal', weight=500, stretch='normal', size='scalable')) = 10.145\n",
      "2024-04-10 15:18:27,438 - DEBUG - matplotlib.font_manager - findfont: score(FontEntry(fname='C:\\\\Windows\\\\Fonts\\\\IBMPlexSansArabic-Light.ttf', name='IBM Plex Sans Arabic', style='normal', variant='normal', weight=300, stretch='normal', size='scalable')) = 10.145\n",
      "2024-04-10 15:18:27,440 - DEBUG - matplotlib.font_manager - findfont: score(FontEntry(fname='C:\\\\Windows\\\\Fonts\\\\ROCKB.TTF', name='Rockwell', style='normal', variant='normal', weight=700, stretch='normal', size='scalable')) = 10.335\n",
      "2024-04-10 15:18:27,441 - DEBUG - matplotlib.font_manager - findfont: score(FontEntry(fname='C:\\\\Windows\\\\Fonts\\\\segoeuii.ttf', name='Segoe UI', style='italic', variant='normal', weight=400, stretch='normal', size='scalable')) = 11.05\n",
      "2024-04-10 15:18:27,442 - DEBUG - matplotlib.font_manager - findfont: score(FontEntry(fname='C:\\\\Windows\\\\Fonts\\\\SCHLBKI.TTF', name='Century Schoolbook', style='italic', variant='normal', weight=400, stretch='normal', size='scalable')) = 11.05\n",
      "2024-04-10 15:18:27,443 - DEBUG - matplotlib.font_manager - findfont: score(FontEntry(fname='C:\\\\Windows\\\\Fonts\\\\IBMPlexSans-Thin.ttf', name='IBM Plex Sans', style='normal', variant='normal', weight=100, stretch='normal', size='scalable')) = 10.335\n",
      "2024-04-10 15:18:27,443 - DEBUG - matplotlib.font_manager - findfont: score(FontEntry(fname='C:\\\\Windows\\\\Fonts\\\\verdanab.ttf', name='Verdana', style='normal', variant='normal', weight=700, stretch='normal', size='scalable')) = 3.9713636363636367\n",
      "2024-04-10 15:18:27,444 - DEBUG - matplotlib.font_manager - findfont: score(FontEntry(fname='C:\\\\Windows\\\\Fonts\\\\TCM_____.TTF', name='Tw Cen MT', style='normal', variant='normal', weight=400, stretch='normal', size='scalable')) = 10.05\n",
      "2024-04-10 15:18:27,444 - DEBUG - matplotlib.font_manager - findfont: score(FontEntry(fname='C:\\\\Windows\\\\Fonts\\\\IBMPlexSansJP-Medium.ttf', name='IBM Plex Sans JP', style='normal', variant='normal', weight=500, stretch='normal', size='scalable')) = 10.145\n",
      "2024-04-10 15:18:27,445 - DEBUG - matplotlib.font_manager - findfont: score(FontEntry(fname='C:\\\\Windows\\\\Fonts\\\\seguiemj.ttf', name='Segoe UI Emoji', style='normal', variant='normal', weight=400, stretch='normal', size='scalable')) = 10.05\n",
      "2024-04-10 15:18:27,445 - DEBUG - matplotlib.font_manager - findfont: score(FontEntry(fname='C:\\\\Windows\\\\Fonts\\\\IBMPlexSansThaiLooped-Text.ttf', name='IBM Plex Sans Thai Looped', style='normal', variant='normal', weight=450, stretch='normal', size='scalable')) = 10.0975\n",
      "2024-04-10 15:18:27,446 - DEBUG - matplotlib.font_manager - findfont: score(FontEntry(fname='C:\\\\Windows\\\\Fonts\\\\MOD20.TTF', name='Modern No. 20', style='normal', variant='normal', weight=400, stretch='normal', size='scalable')) = 10.05\n",
      "2024-04-10 15:18:27,447 - DEBUG - matplotlib.font_manager - findfont: score(FontEntry(fname='C:\\\\Windows\\\\Fonts\\\\IBMPlexSansThaiLooped-Bold.ttf', name='IBM Plex Sans Thai Looped', style='normal', variant='normal', weight=700, stretch='normal', size='scalable')) = 10.335\n",
      "2024-04-10 15:18:27,447 - DEBUG - matplotlib.font_manager - findfont: score(FontEntry(fname='C:\\\\Windows\\\\Fonts\\\\SegUIVar.ttf', name='Segoe UI Variable', style='normal', variant='normal', weight=400, stretch='normal', size='scalable')) = 10.05\n",
      "2024-04-10 15:18:27,448 - DEBUG - matplotlib.font_manager - findfont: score(FontEntry(fname='C:\\\\Windows\\\\Fonts\\\\IBMPlexSans-Medium.ttf', name='IBM Plex Sans', style='normal', variant='normal', weight=500, stretch='normal', size='scalable')) = 10.145\n",
      "2024-04-10 15:18:27,448 - DEBUG - matplotlib.font_manager - findfont: score(FontEntry(fname='C:\\\\Windows\\\\Fonts\\\\consola.ttf', name='Consolas', style='normal', variant='normal', weight=400, stretch='normal', size='scalable')) = 10.05\n",
      "2024-04-10 15:18:27,449 - DEBUG - matplotlib.font_manager - findfont: score(FontEntry(fname='C:\\\\Windows\\\\Fonts\\\\phagspa.ttf', name='Microsoft PhagsPa', style='normal', variant='normal', weight=400, stretch='normal', size='scalable')) = 10.05\n",
      "2024-04-10 15:18:27,449 - DEBUG - matplotlib.font_manager - findfont: score(FontEntry(fname='C:\\\\Windows\\\\Fonts\\\\symbol.ttf', name='Symbol', style='normal', variant='normal', weight=400, stretch='normal', size='scalable')) = 10.05\n",
      "2024-04-10 15:18:27,450 - DEBUG - matplotlib.font_manager - findfont: score(FontEntry(fname='C:\\\\Windows\\\\Fonts\\\\IBMPlexSansCondensed-BoldItalic.ttf', name='IBM Plex Sans Condensed', style='italic', variant='normal', weight=700, stretch='condensed', size='scalable')) = 11.535\n",
      "2024-04-10 15:18:27,450 - DEBUG - matplotlib.font_manager - findfont: score(FontEntry(fname='C:\\\\Windows\\\\Fonts\\\\comicbd.ttf', name='Comic Sans MS', style='normal', variant='normal', weight=700, stretch='normal', size='scalable')) = 10.335\n",
      "2024-04-10 15:18:27,450 - DEBUG - matplotlib.font_manager - findfont: score(FontEntry(fname='C:\\\\Windows\\\\Fonts\\\\GOTHICB.TTF', name='Century Gothic', style='normal', variant='normal', weight=700, stretch='normal', size='scalable')) = 10.335\n",
      "2024-04-10 15:18:27,451 - DEBUG - matplotlib.font_manager - findfont: score(FontEntry(fname='C:\\\\Windows\\\\Fonts\\\\IBMPlexSans-BoldItalic.ttf', name='IBM Plex Sans', style='italic', variant='normal', weight=700, stretch='normal', size='scalable')) = 11.335\n",
      "2024-04-10 15:18:27,451 - DEBUG - matplotlib.font_manager - findfont: score(FontEntry(fname='C:\\\\Windows\\\\Fonts\\\\FRAHVIT.TTF', name='Franklin Gothic Heavy', style='italic', variant='normal', weight=400, stretch='normal', size='scalable')) = 11.05\n",
      "2024-04-10 15:18:27,452 - DEBUG - matplotlib.font_manager - findfont: score(FontEntry(fname='C:\\\\Windows\\\\Fonts\\\\IBMPlexSansArabic-Medium.ttf', name='IBM Plex Sans Arabic', style='normal', variant='normal', weight=500, stretch='normal', size='scalable')) = 10.145\n",
      "2024-04-10 15:18:27,452 - DEBUG - matplotlib.font_manager - findfont: score(FontEntry(fname='C:\\\\Windows\\\\Fonts\\\\IBMPlexSans-ThinItalic.ttf', name='IBM Plex Sans', style='italic', variant='normal', weight=100, stretch='normal', size='scalable')) = 11.335\n",
      "2024-04-10 15:18:27,453 - DEBUG - matplotlib.font_manager - findfont: score(FontEntry(fname='C:\\\\Windows\\\\Fonts\\\\sylfaen.ttf', name='Sylfaen', style='normal', variant='normal', weight=400, stretch='normal', size='scalable')) = 10.05\n",
      "2024-04-10 15:18:27,454 - DEBUG - matplotlib.font_manager - findfont: score(FontEntry(fname='C:\\\\Windows\\\\Fonts\\\\LTYPEBO.TTF', name='Lucida Sans Typewriter', style='oblique', variant='normal', weight=600, stretch='normal', size='scalable')) = 11.24\n",
      "2024-04-10 15:18:27,454 - DEBUG - matplotlib.font_manager - findfont: score(FontEntry(fname='C:\\\\Windows\\\\Fonts\\\\FRAMDCN.TTF', name='Franklin Gothic Medium Cond', style='normal', variant='normal', weight=400, stretch='condensed', size='scalable')) = 10.25\n",
      "2024-04-10 15:18:27,454 - DEBUG - matplotlib.font_manager - findfont: score(FontEntry(fname='C:\\\\Windows\\\\Fonts\\\\Candarai.ttf', name='Candara', style='italic', variant='normal', weight=400, stretch='normal', size='scalable')) = 11.05\n",
      "2024-04-10 15:18:27,455 - DEBUG - matplotlib.font_manager - findfont: score(FontEntry(fname='C:\\\\Windows\\\\Fonts\\\\trebucit.ttf', name='Trebuchet MS', style='italic', variant='normal', weight=400, stretch='normal', size='scalable')) = 11.05\n",
      "2024-04-10 15:18:27,456 - DEBUG - matplotlib.font_manager - findfont: score(FontEntry(fname='C:\\\\Windows\\\\Fonts\\\\georgiab.ttf', name='Georgia', style='normal', variant='normal', weight=700, stretch='normal', size='scalable')) = 10.335\n",
      "2024-04-10 15:18:27,456 - DEBUG - matplotlib.font_manager - findfont: score(FontEntry(fname='C:\\\\Windows\\\\Fonts\\\\Gabriola.ttf', name='Gabriola', style='normal', variant='normal', weight=400, stretch='normal', size='scalable')) = 10.05\n",
      "2024-04-10 15:18:27,457 - DEBUG - matplotlib.font_manager - findfont: score(FontEntry(fname='C:\\\\Windows\\\\Fonts\\\\IBMPlexSansJP-Light.ttf', name='IBM Plex Sans JP', style='normal', variant='normal', weight=300, stretch='normal', size='scalable')) = 10.145\n",
      "2024-04-10 15:18:27,457 - DEBUG - matplotlib.font_manager - findfont: score(FontEntry(fname='C:\\\\Windows\\\\Fonts\\\\MTCORSVA.TTF', name='Monotype Corsiva', style='normal', variant='normal', weight=400, stretch='normal', size='scalable')) = 10.05\n",
      "2024-04-10 15:18:27,458 - DEBUG - matplotlib.font_manager - findfont: score(FontEntry(fname='C:\\\\Windows\\\\Fonts\\\\SNAP____.TTF', name='Snap ITC', style='normal', variant='normal', weight=400, stretch='normal', size='scalable')) = 10.05\n",
      "2024-04-10 15:18:27,458 - DEBUG - matplotlib.font_manager - findfont: score(FontEntry(fname='C:\\\\Windows\\\\Fonts\\\\ELEPHNT.TTF', name='Elephant', style='normal', variant='normal', weight=400, stretch='normal', size='scalable')) = 10.05\n",
      "2024-04-10 15:18:27,460 - DEBUG - matplotlib.font_manager - findfont: score(FontEntry(fname='C:\\\\Windows\\\\Fonts\\\\seguisbi.ttf', name='Segoe UI', style='italic', variant='normal', weight=600, stretch='normal', size='scalable')) = 11.24\n",
      "2024-04-10 15:18:27,461 - DEBUG - matplotlib.font_manager - findfont: score(FontEntry(fname='C:\\\\Windows\\\\Fonts\\\\simsun.ttc', name='SimSun', style='normal', variant='normal', weight=400, stretch='normal', size='scalable')) = 10.05\n",
      "2024-04-10 15:18:27,461 - DEBUG - matplotlib.font_manager - findfont: score(FontEntry(fname='C:\\\\Windows\\\\Fonts\\\\consolab.ttf', name='Consolas', style='normal', variant='normal', weight=700, stretch='normal', size='scalable')) = 10.335\n",
      "2024-04-10 15:18:27,462 - DEBUG - matplotlib.font_manager - findfont: score(FontEntry(fname='C:\\\\Windows\\\\Fonts\\\\IBMPlexSerif-BoldItalic.ttf', name='IBM Plex Serif', style='italic', variant='normal', weight=700, stretch='normal', size='scalable')) = 11.335\n",
      "2024-04-10 15:18:27,463 - DEBUG - matplotlib.font_manager - findfont: score(FontEntry(fname='C:\\\\Windows\\\\Fonts\\\\TCB_____.TTF', name='Tw Cen MT', style='normal', variant='normal', weight=700, stretch='normal', size='scalable')) = 10.335\n",
      "2024-04-10 15:18:27,463 - DEBUG - matplotlib.font_manager - findfont: score(FontEntry(fname='C:\\\\Windows\\\\Fonts\\\\IBMPlexDevanagari-ExtraLight.ttf', name='IBM Plex Devanagari', style='normal', variant='normal', weight=200, stretch='normal', size='scalable')) = 10.24\n",
      "2024-04-10 15:18:27,464 - DEBUG - matplotlib.font_manager - findfont: score(FontEntry(fname='C:\\\\Windows\\\\Fonts\\\\consolai.ttf', name='Consolas', style='italic', variant='normal', weight=400, stretch='normal', size='scalable')) = 11.05\n",
      "2024-04-10 15:18:27,465 - DEBUG - matplotlib.font_manager - findfont: score(FontEntry(fname='C:\\\\Windows\\\\Fonts\\\\BROADW.TTF', name='Broadway', style='normal', variant='normal', weight=400, stretch='normal', size='scalable')) = 10.05\n",
      "2024-04-10 15:18:27,465 - DEBUG - matplotlib.font_manager - findfont: score(FontEntry(fname='C:\\\\Windows\\\\Fonts\\\\courbi.ttf', name='Courier New', style='italic', variant='normal', weight=700, stretch='normal', size='scalable')) = 11.335\n",
      "2024-04-10 15:18:27,466 - DEBUG - matplotlib.font_manager - findfont: score(FontEntry(fname='C:\\\\Windows\\\\Fonts\\\\ANTQUAI.TTF', name='Book Antiqua', style='italic', variant='normal', weight=400, stretch='normal', size='scalable')) = 11.05\n",
      "2024-04-10 15:18:27,467 - DEBUG - matplotlib.font_manager - findfont: score(FontEntry(fname='C:\\\\Windows\\\\Fonts\\\\IBMPlexMono-SemiBold.ttf', name='IBM Plex Mono', style='normal', variant='normal', weight=600, stretch='normal', size='scalable')) = 10.24\n",
      "2024-04-10 15:18:27,468 - DEBUG - matplotlib.font_manager - findfont: score(FontEntry(fname='C:\\\\Windows\\\\Fonts\\\\NirmalaB.ttf', name='Nirmala UI', style='normal', variant='normal', weight=700, stretch='normal', size='scalable')) = 10.335\n",
      "2024-04-10 15:18:27,468 - DEBUG - matplotlib.font_manager - findfont: score(FontEntry(fname='C:\\\\Windows\\\\Fonts\\\\MATURASC.TTF', name='Matura MT Script Capitals', style='normal', variant='normal', weight=400, stretch='normal', size='scalable')) = 10.05\n",
      "2024-04-10 15:18:27,469 - DEBUG - matplotlib.font_manager - findfont: score(FontEntry(fname='C:\\\\Windows\\\\Fonts\\\\msjh.ttc', name='Microsoft JhengHei', style='normal', variant='normal', weight=400, stretch='normal', size='scalable')) = 10.05\n",
      "2024-04-10 15:18:27,469 - DEBUG - matplotlib.font_manager - findfont: score(FontEntry(fname='C:\\\\Windows\\\\Fonts\\\\SegoeIcons.ttf', name='Segoe Fluent Icons', style='normal', variant='normal', weight=400, stretch='normal', size='scalable')) = 10.05\n",
      "2024-04-10 15:18:27,470 - DEBUG - matplotlib.font_manager - findfont: score(FontEntry(fname='C:\\\\Windows\\\\Fonts\\\\timesi.ttf', name='Times New Roman', style='italic', variant='normal', weight=400, stretch='normal', size='scalable')) = 11.05\n",
      "2024-04-10 15:18:27,470 - DEBUG - matplotlib.font_manager - findfont: score(FontEntry(fname='C:\\\\Windows\\\\Fonts\\\\IBMPlexSerif-MediumItalic.ttf', name='IBM Plex Serif', style='italic', variant='normal', weight=500, stretch='normal', size='scalable')) = 11.145\n",
      "2024-04-10 15:18:27,471 - DEBUG - matplotlib.font_manager - findfont: score(FontEntry(fname='C:\\\\Windows\\\\Fonts\\\\MAGNETOB.TTF', name='Magneto', style='normal', variant='normal', weight=700, stretch='normal', size='scalable')) = 10.335\n",
      "2024-04-10 15:18:27,472 - DEBUG - matplotlib.font_manager - findfont: score(FontEntry(fname='C:\\\\Windows\\\\Fonts\\\\JOKERMAN.TTF', name='Jokerman', style='normal', variant='normal', weight=400, stretch='normal', size='scalable')) = 10.05\n",
      "2024-04-10 15:18:27,473 - DEBUG - matplotlib.font_manager - findfont: score(FontEntry(fname='C:\\\\Windows\\\\Fonts\\\\IBMPlexSansHebrew-ExtraLight.ttf', name='IBM Plex Sans Hebrew', style='normal', variant='normal', weight=200, stretch='normal', size='scalable')) = 10.24\n",
      "2024-04-10 15:18:27,473 - DEBUG - matplotlib.font_manager - findfont: score(FontEntry(fname='C:\\\\Windows\\\\Fonts\\\\malgunsl.ttf', name='Malgun Gothic', style='normal', variant='normal', weight=300, stretch='normal', size='scalable')) = 10.145\n",
      "2024-04-10 15:18:27,474 - DEBUG - matplotlib.font_manager - findfont: score(FontEntry(fname='C:\\\\Windows\\\\Fonts\\\\tahoma.ttf', name='Tahoma', style='normal', variant='normal', weight=400, stretch='normal', size='scalable')) = 10.05\n",
      "2024-04-10 15:18:27,474 - DEBUG - matplotlib.font_manager - findfont: score(FontEntry(fname='C:\\\\Windows\\\\Fonts\\\\IBMPlexSansArabic-Text.ttf', name='IBM Plex Sans Arabic', style='normal', variant='normal', weight=450, stretch='normal', size='scalable')) = 10.0975\n",
      "2024-04-10 15:18:27,476 - DEBUG - matplotlib.font_manager - findfont: score(FontEntry(fname='C:\\\\Windows\\\\Fonts\\\\IBMPlexSans-Regular.ttf', name='IBM Plex Sans', style='normal', variant='normal', weight=400, stretch='normal', size='scalable')) = 10.05\n",
      "2024-04-10 15:18:27,478 - DEBUG - matplotlib.font_manager - findfont: score(FontEntry(fname='C:\\\\Windows\\\\Fonts\\\\IBMPlexSansArabic-Bold.ttf', name='IBM Plex Sans Arabic', style='normal', variant='normal', weight=700, stretch='normal', size='scalable')) = 10.335\n",
      "2024-04-10 15:18:27,480 - DEBUG - matplotlib.font_manager - findfont: score(FontEntry(fname='C:\\\\Windows\\\\Fonts\\\\IBMPlexSans-MediumItalic.ttf', name='IBM Plex Sans', style='italic', variant='normal', weight=500, stretch='normal', size='scalable')) = 11.145\n",
      "2024-04-10 15:18:27,481 - DEBUG - matplotlib.font_manager - findfont: score(FontEntry(fname='C:\\\\Windows\\\\Fonts\\\\GOTHICI.TTF', name='Century Gothic', style='italic', variant='normal', weight=400, stretch='normal', size='scalable')) = 11.05\n",
      "2024-04-10 15:18:27,531 - DEBUG - matplotlib.font_manager - findfont: score(FontEntry(fname='C:\\\\Windows\\\\Fonts\\\\IBMPlexSansDevanagari-Medium.ttf', name='IBM Plex Sans Devanagari', style='normal', variant='normal', weight=500, stretch='normal', size='scalable')) = 10.145\n",
      "2024-04-10 15:18:27,541 - DEBUG - matplotlib.font_manager - findfont: score(FontEntry(fname='C:\\\\Windows\\\\Fonts\\\\IBMPlexSerif-Light.ttf', name='IBM Plex Serif', style='normal', variant='normal', weight=300, stretch='normal', size='scalable')) = 10.145\n",
      "2024-04-10 15:18:27,543 - DEBUG - matplotlib.font_manager - findfont: score(FontEntry(fname='C:\\\\Windows\\\\Fonts\\\\seguibl.ttf', name='Segoe UI', style='normal', variant='normal', weight=900, stretch='normal', size='scalable')) = 10.525\n",
      "2024-04-10 15:18:27,544 - DEBUG - matplotlib.font_manager - findfont: score(FontEntry(fname='C:\\\\Windows\\\\Fonts\\\\IBMPlexSansKR-Text.ttf', name='IBM Plex Sans KR', style='normal', variant='normal', weight=450, stretch='normal', size='scalable')) = 10.0975\n",
      "2024-04-10 15:18:27,545 - DEBUG - matplotlib.font_manager - findfont: score(FontEntry(fname='C:\\\\Windows\\\\Fonts\\\\WINGDNG3.TTF', name='Wingdings 3', style='normal', variant='normal', weight=400, stretch='normal', size='scalable')) = 10.05\n",
      "2024-04-10 15:18:27,546 - DEBUG - matplotlib.font_manager - findfont: score(FontEntry(fname='C:\\\\Windows\\\\Fonts\\\\ARLRDBD.TTF', name='Arial Rounded MT Bold', style='normal', variant='normal', weight=400, stretch='normal', size='scalable')) = 10.05\n",
      "2024-04-10 15:18:27,546 - DEBUG - matplotlib.font_manager - findfont: score(FontEntry(fname='C:\\\\Windows\\\\Fonts\\\\BRITANIC.TTF', name='Britannic Bold', style='normal', variant='normal', weight=400, stretch='normal', size='scalable')) = 10.05\n",
      "2024-04-10 15:18:27,547 - DEBUG - matplotlib.font_manager - findfont: score(FontEntry(fname='C:\\\\Windows\\\\Fonts\\\\LFAXI.TTF', name='Lucida Fax', style='italic', variant='normal', weight=400, stretch='normal', size='scalable')) = 11.05\n",
      "2024-04-10 15:18:27,548 - DEBUG - matplotlib.font_manager - findfont: score(FontEntry(fname='C:\\\\Windows\\\\Fonts\\\\IBMPlexSansHebrew-Light.ttf', name='IBM Plex Sans Hebrew', style='normal', variant='normal', weight=300, stretch='normal', size='scalable')) = 10.145\n",
      "2024-04-10 15:18:27,554 - DEBUG - matplotlib.font_manager - findfont: score(FontEntry(fname='C:\\\\Windows\\\\Fonts\\\\IBMPlexSansArabic-SemiBold.ttf', name='IBM Plex Sans Arabic', style='normal', variant='normal', weight=600, stretch='normal', size='scalable')) = 10.24\n",
      "2024-04-10 15:18:27,556 - DEBUG - matplotlib.font_manager - findfont: score(FontEntry(fname='C:\\\\Windows\\\\Fonts\\\\IBMPlexSans-ExtraLight.ttf', name='IBM Plex Sans', style='normal', variant='normal', weight=200, stretch='normal', size='scalable')) = 10.24\n",
      "2024-04-10 15:18:27,557 - DEBUG - matplotlib.font_manager - findfont: score(FontEntry(fname='C:\\\\Windows\\\\Fonts\\\\verdana.ttf', name='Verdana', style='normal', variant='normal', weight=400, stretch='normal', size='scalable')) = 3.6863636363636365\n",
      "2024-04-10 15:18:27,559 - DEBUG - matplotlib.font_manager - findfont: score(FontEntry(fname='C:\\\\Windows\\\\Fonts\\\\BOD_R.TTF', name='Bodoni MT', style='normal', variant='normal', weight=400, stretch='normal', size='scalable')) = 10.05\n",
      "2024-04-10 15:18:27,560 - DEBUG - matplotlib.font_manager - findfont: score(FontEntry(fname='C:\\\\Windows\\\\Fonts\\\\IBMPlexMono-Medium.ttf', name='IBM Plex Mono', style='normal', variant='normal', weight=500, stretch='normal', size='scalable')) = 10.145\n",
      "2024-04-10 15:18:27,560 - DEBUG - matplotlib.font_manager - findfont: score(FontEntry(fname='C:\\\\Windows\\\\Fonts\\\\Candaraz.ttf', name='Candara', style='italic', variant='normal', weight=700, stretch='normal', size='scalable')) = 11.335\n",
      "2024-04-10 15:18:27,561 - DEBUG - matplotlib.font_manager - findfont: score(FontEntry(fname='C:\\\\Windows\\\\Fonts\\\\IBMPlexMono-Light.ttf', name='IBM Plex Mono', style='normal', variant='normal', weight=300, stretch='normal', size='scalable')) = 10.145\n",
      "2024-04-10 15:18:27,562 - DEBUG - matplotlib.font_manager - findfont: score(FontEntry(fname='C:\\\\Windows\\\\Fonts\\\\seguisb.ttf', name='Segoe UI', style='normal', variant='normal', weight=600, stretch='normal', size='scalable')) = 10.24\n",
      "2024-04-10 15:18:27,563 - DEBUG - matplotlib.font_manager - findfont: score(FontEntry(fname='C:\\\\Windows\\\\Fonts\\\\IBMPlexSansKR-ExtraLight.ttf', name='IBM Plex Sans KR', style='normal', variant='normal', weight=200, stretch='normal', size='scalable')) = 10.24\n",
      "2024-04-10 15:18:27,564 - DEBUG - matplotlib.font_manager - findfont: score(FontEntry(fname='C:\\\\Windows\\\\Fonts\\\\IBMPlexSansCondensed-ExtraLightItalic.ttf', name='IBM Plex Sans Condensed', style='italic', variant='normal', weight=200, stretch='condensed', size='scalable')) = 11.44\n",
      "2024-04-10 15:18:27,564 - DEBUG - matplotlib.font_manager - findfont: score(FontEntry(fname='C:\\\\Windows\\\\Fonts\\\\IBMPlexSerif-Bold.ttf', name='IBM Plex Serif', style='normal', variant='normal', weight=700, stretch='normal', size='scalable')) = 10.335\n",
      "2024-04-10 15:18:27,565 - DEBUG - matplotlib.font_manager - findfont: score(FontEntry(fname='C:\\\\Windows\\\\Fonts\\\\FRSCRIPT.TTF', name='French Script MT', style='normal', variant='normal', weight=400, stretch='normal', size='scalable')) = 10.05\n",
      "2024-04-10 15:18:27,566 - DEBUG - matplotlib.font_manager - findfont: score(FontEntry(fname='C:\\\\Windows\\\\Fonts\\\\IBMPlexSans-SemiBoldItalic.ttf', name='IBM Plex Sans', style='italic', variant='normal', weight=600, stretch='normal', size='scalable')) = 11.24\n",
      "2024-04-10 15:18:27,567 - DEBUG - matplotlib.font_manager - findfont: score(FontEntry(fname='C:\\\\Windows\\\\Fonts\\\\BELLB.TTF', name='Bell MT', style='normal', variant='normal', weight=700, stretch='normal', size='scalable')) = 10.335\n",
      "2024-04-10 15:18:27,567 - DEBUG - matplotlib.font_manager - findfont: score(FontEntry(fname='C:\\\\Windows\\\\Fonts\\\\IBMPlexMono-BoldItalic.ttf', name='IBM Plex Mono', style='italic', variant='normal', weight=700, stretch='normal', size='scalable')) = 11.335\n",
      "2024-04-10 15:18:27,568 - DEBUG - matplotlib.font_manager - findfont: score(FontEntry(fname='C:\\\\Windows\\\\Fonts\\\\segoeuib.ttf', name='Segoe UI', style='normal', variant='normal', weight=700, stretch='normal', size='scalable')) = 10.335\n",
      "2024-04-10 15:18:27,570 - DEBUG - matplotlib.font_manager - findfont: score(FontEntry(fname='C:\\\\Windows\\\\Fonts\\\\arialbi.ttf', name='Arial', style='italic', variant='normal', weight=700, stretch='normal', size='scalable')) = 7.698636363636363\n",
      "2024-04-10 15:18:27,570 - DEBUG - matplotlib.font_manager - findfont: score(FontEntry(fname='C:\\\\Windows\\\\Fonts\\\\GILSANUB.TTF', name='Gill Sans Ultra Bold', style='normal', variant='normal', weight=400, stretch='normal', size='scalable')) = 10.05\n",
      "2024-04-10 15:18:27,571 - DEBUG - matplotlib.font_manager - findfont: score(FontEntry(fname='C:\\\\Windows\\\\Fonts\\\\msgothic.ttc', name='MS Gothic', style='normal', variant='normal', weight=400, stretch='normal', size='scalable')) = 10.05\n",
      "2024-04-10 15:18:27,572 - DEBUG - matplotlib.font_manager - findfont: score(FontEntry(fname='C:\\\\Windows\\\\Fonts\\\\PERTILI.TTF', name='Perpetua Titling MT', style='normal', variant='normal', weight=300, stretch='normal', size='scalable')) = 10.145\n",
      "2024-04-10 15:18:27,573 - DEBUG - matplotlib.font_manager - findfont: score(FontEntry(fname='C:\\\\Windows\\\\Fonts\\\\segoesc.ttf', name='Segoe Script', style='normal', variant='normal', weight=400, stretch='normal', size='scalable')) = 10.05\n",
      "2024-04-10 15:18:27,573 - DEBUG - matplotlib.font_manager - findfont: score(FontEntry(fname='C:\\\\Windows\\\\Fonts\\\\IBMPlexSansCondensed-SemiBold.ttf', name='IBM Plex Sans Condensed', style='normal', variant='normal', weight=600, stretch='condensed', size='scalable')) = 10.44\n",
      "2024-04-10 15:18:27,574 - DEBUG - matplotlib.font_manager - findfont: score(FontEntry(fname='C:\\\\Windows\\\\Fonts\\\\PERI____.TTF', name='Perpetua', style='italic', variant='normal', weight=400, stretch='normal', size='scalable')) = 11.05\n",
      "2024-04-10 15:18:27,575 - DEBUG - matplotlib.font_manager - findfont: score(FontEntry(fname='C:\\\\Windows\\\\Fonts\\\\PAPYRUS.TTF', name='Papyrus', style='normal', variant='normal', weight=400, stretch='normal', size='scalable')) = 10.05\n",
      "2024-04-10 15:18:27,575 - DEBUG - matplotlib.font_manager - findfont: score(FontEntry(fname='C:\\\\Windows\\\\Fonts\\\\FRADMIT.TTF', name='Franklin Gothic Demi', style='italic', variant='normal', weight=400, stretch='normal', size='scalable')) = 11.05\n",
      "2024-04-10 15:18:27,576 - DEBUG - matplotlib.font_manager - findfont: score(FontEntry(fname='C:\\\\Windows\\\\Fonts\\\\IBMPlexSansCondensed-MediumItalic.ttf', name='IBM Plex Sans Condensed', style='italic', variant='normal', weight=500, stretch='condensed', size='scalable')) = 11.344999999999999\n",
      "2024-04-10 15:18:27,577 - DEBUG - matplotlib.font_manager - findfont: score(FontEntry(fname='C:\\\\Windows\\\\Fonts\\\\timesbd.ttf', name='Times New Roman', style='normal', variant='normal', weight=700, stretch='normal', size='scalable')) = 10.335\n",
      "2024-04-10 15:18:27,578 - DEBUG - matplotlib.font_manager - findfont: score(FontEntry(fname='C:\\\\Windows\\\\Fonts\\\\HTOWERT.TTF', name='High Tower Text', style='normal', variant='normal', weight=400, stretch='normal', size='scalable')) = 10.05\n",
      "2024-04-10 15:18:27,578 - DEBUG - matplotlib.font_manager - findfont: score(FontEntry(fname='C:\\\\Windows\\\\Fonts\\\\himalaya.ttf', name='Microsoft Himalaya', style='normal', variant='normal', weight=400, stretch='normal', size='scalable')) = 10.05\n",
      "2024-04-10 15:18:27,579 - DEBUG - matplotlib.font_manager - findfont: score(FontEntry(fname='C:\\\\Windows\\\\Fonts\\\\BOOKOS.TTF', name='Bookman Old Style', style='normal', variant='normal', weight=300, stretch='normal', size='scalable')) = 10.145\n",
      "2024-04-10 15:18:27,580 - DEBUG - matplotlib.font_manager - findfont: score(FontEntry(fname='C:\\\\Windows\\\\Fonts\\\\GOUDOS.TTF', name='Goudy Old Style', style='normal', variant='normal', weight=400, stretch='normal', size='scalable')) = 10.05\n",
      "2024-04-10 15:18:27,580 - DEBUG - matplotlib.font_manager - findfont: score(FontEntry(fname='C:\\\\Windows\\\\Fonts\\\\IBMPlexSansKR-Light.ttf', name='IBM Plex Sans KR', style='normal', variant='normal', weight=300, stretch='normal', size='scalable')) = 10.145\n",
      "2024-04-10 15:18:27,581 - DEBUG - matplotlib.font_manager - findfont: score(FontEntry(fname='C:\\\\Windows\\\\Fonts\\\\IBMPlexSerif-Italic.ttf', name='IBM Plex Serif', style='italic', variant='normal', weight=400, stretch='normal', size='scalable')) = 11.05\n",
      "2024-04-10 15:18:27,583 - DEBUG - matplotlib.font_manager - findfont: score(FontEntry(fname='C:\\\\Windows\\\\Fonts\\\\IBMPlexSans-Bold.ttf', name='IBM Plex Sans', style='normal', variant='normal', weight=700, stretch='normal', size='scalable')) = 10.335\n",
      "2024-04-10 15:18:27,584 - DEBUG - matplotlib.font_manager - findfont: score(FontEntry(fname='C:\\\\Windows\\\\Fonts\\\\MTEXTRA.TTF', name='MT Extra', style='normal', variant='normal', weight=400, stretch='normal', size='scalable')) = 10.05\n",
      "2024-04-10 15:18:27,584 - DEBUG - matplotlib.font_manager - findfont: score(FontEntry(fname='C:\\\\Windows\\\\Fonts\\\\IBMPlexSansCondensed-Bold.ttf', name='IBM Plex Sans Condensed', style='normal', variant='normal', weight=700, stretch='condensed', size='scalable')) = 10.535\n",
      "2024-04-10 15:18:27,585 - DEBUG - matplotlib.font_manager - findfont: score(FontEntry(fname='C:\\\\Windows\\\\Fonts\\\\IBMPlexArabic-Bold.ttf', name='IBM Plex Arabic', style='normal', variant='normal', weight=700, stretch='normal', size='scalable')) = 10.335\n",
      "2024-04-10 15:18:27,586 - DEBUG - matplotlib.font_manager - findfont: score(FontEntry(fname='C:\\\\Windows\\\\Fonts\\\\GLECB.TTF', name='Gloucester MT Extra Condensed', style='normal', variant='normal', weight=400, stretch='condensed', size='scalable')) = 10.25\n",
      "2024-04-10 15:18:27,587 - DEBUG - matplotlib.font_manager - findfont: score(FontEntry(fname='C:\\\\Windows\\\\Fonts\\\\l_10646.ttf', name='Lucida Sans Unicode', style='normal', variant='normal', weight=400, stretch='normal', size='scalable')) = 10.05\n",
      "2024-04-10 15:18:27,587 - DEBUG - matplotlib.font_manager - findfont: score(FontEntry(fname='C:\\\\Windows\\\\Fonts\\\\ITCEDSCR.TTF', name='Edwardian Script ITC', style='normal', variant='normal', weight=400, stretch='normal', size='scalable')) = 10.05\n",
      "2024-04-10 15:18:27,588 - DEBUG - matplotlib.font_manager - findfont: score(FontEntry(fname='C:\\\\Windows\\\\Fonts\\\\IBMPlexSansJP-Thin.ttf', name='IBM Plex Sans JP', style='normal', variant='normal', weight=100, stretch='normal', size='scalable')) = 10.335\n",
      "2024-04-10 15:18:27,589 - DEBUG - matplotlib.font_manager - findfont: score(FontEntry(fname='C:\\\\Windows\\\\Fonts\\\\IBMPlexSansCondensed-LightItalic.ttf', name='IBM Plex Sans Condensed', style='italic', variant='normal', weight=300, stretch='condensed', size='scalable')) = 11.344999999999999\n",
      "2024-04-10 15:18:27,589 - DEBUG - matplotlib.font_manager - findfont: score(FontEntry(fname='C:\\\\Windows\\\\Fonts\\\\Candarab.ttf', name='Candara', style='normal', variant='normal', weight=700, stretch='normal', size='scalable')) = 10.335\n",
      "2024-04-10 15:18:27,591 - DEBUG - matplotlib.font_manager - findfont: score(FontEntry(fname='C:\\\\Windows\\\\Fonts\\\\Inkfree.ttf', name='Ink Free', style='normal', variant='normal', weight=400, stretch='normal', size='scalable')) = 10.05\n",
      "2024-04-10 15:18:27,591 - DEBUG - matplotlib.font_manager - findfont: score(FontEntry(fname='C:\\\\Windows\\\\Fonts\\\\msyi.ttf', name='Microsoft Yi Baiti', style='normal', variant='normal', weight=400, stretch='normal', size='scalable')) = 10.05\n",
      "2024-04-10 15:18:27,592 - DEBUG - matplotlib.font_manager - findfont: score(FontEntry(fname='C:\\\\Windows\\\\Fonts\\\\CALISTBI.TTF', name='Calisto MT', style='italic', variant='normal', weight=700, stretch='normal', size='scalable')) = 11.335\n",
      "2024-04-10 15:18:27,593 - DEBUG - matplotlib.font_manager - findfont: score(FontEntry(fname='C:\\\\Windows\\\\Fonts\\\\segoeuiz.ttf', name='Segoe UI', style='italic', variant='normal', weight=700, stretch='normal', size='scalable')) = 11.335\n",
      "2024-04-10 15:18:27,594 - DEBUG - matplotlib.font_manager - findfont: score(FontEntry(fname='C:\\\\Windows\\\\Fonts\\\\GILC____.TTF', name='Gill Sans MT Condensed', style='normal', variant='normal', weight=400, stretch='condensed', size='scalable')) = 10.25\n",
      "2024-04-10 15:18:27,595 - DEBUG - matplotlib.font_manager - findfont: score(FontEntry(fname='C:\\\\Windows\\\\Fonts\\\\IBMPlexSerif-LightItalic.ttf', name='IBM Plex Serif', style='italic', variant='normal', weight=300, stretch='normal', size='scalable')) = 11.145\n",
      "2024-04-10 15:18:27,595 - DEBUG - matplotlib.font_manager - findfont: score(FontEntry(fname='C:\\\\Windows\\\\Fonts\\\\IBMPlexSansDevanagari-SemiBold.ttf', name='IBM Plex Sans Devanagari', style='normal', variant='normal', weight=600, stretch='normal', size='scalable')) = 10.24\n",
      "2024-04-10 15:18:27,596 - DEBUG - matplotlib.font_manager - findfont: score(FontEntry(fname='C:\\\\Windows\\\\Fonts\\\\PERB____.TTF', name='Perpetua', style='normal', variant='normal', weight=700, stretch='normal', size='scalable')) = 10.335\n",
      "2024-04-10 15:18:27,597 - DEBUG - matplotlib.font_manager - findfont: score(FontEntry(fname='C:\\\\Windows\\\\Fonts\\\\LBRITE.TTF', name='Lucida Bright', style='normal', variant='normal', weight=400, stretch='normal', size='scalable')) = 10.05\n",
      "2024-04-10 15:18:27,598 - DEBUG - matplotlib.font_manager - findfont: score(FontEntry(fname='C:\\\\Windows\\\\Fonts\\\\IBMPlexSans-Text.ttf', name='IBM Plex Sans', style='normal', variant='normal', weight=450, stretch='normal', size='scalable')) = 10.0975\n",
      "2024-04-10 15:18:27,599 - DEBUG - matplotlib.font_manager - findfont: score(FontEntry(fname='C:\\\\Windows\\\\Fonts\\\\corbel.ttf', name='Corbel', style='normal', variant='normal', weight=400, stretch='normal', size='scalable')) = 10.05\n",
      "2024-04-10 15:18:27,599 - DEBUG - matplotlib.font_manager - findfont: score(FontEntry(fname='C:\\\\Windows\\\\Fonts\\\\calibri.ttf', name='Calibri', style='normal', variant='normal', weight=400, stretch='normal', size='scalable')) = 10.05\n",
      "2024-04-10 15:18:27,600 - DEBUG - matplotlib.font_manager - findfont: score(FontEntry(fname='C:\\\\Windows\\\\Fonts\\\\FRADMCN.TTF', name='Franklin Gothic Demi Cond', style='normal', variant='normal', weight=400, stretch='condensed', size='scalable')) = 10.25\n",
      "2024-04-10 15:18:27,601 - DEBUG - matplotlib.font_manager - findfont: score(FontEntry(fname='C:\\\\Windows\\\\Fonts\\\\IBMPlexSansThaiLooped-ExtraLight.ttf', name='IBM Plex Sans Thai Looped', style='normal', variant='normal', weight=200, stretch='normal', size='scalable')) = 10.24\n",
      "2024-04-10 15:18:27,601 - DEBUG - matplotlib.font_manager - findfont: score(FontEntry(fname='C:\\\\Windows\\\\Fonts\\\\GOTHICBI.TTF', name='Century Gothic', style='italic', variant='normal', weight=700, stretch='normal', size='scalable')) = 11.335\n",
      "2024-04-10 15:18:27,602 - DEBUG - matplotlib.font_manager - findfont: score(FontEntry(fname='C:\\\\Windows\\\\Fonts\\\\AGENCYB.TTF', name='Agency FB', style='normal', variant='normal', weight=700, stretch='normal', size='scalable')) = 10.335\n",
      "2024-04-10 15:18:27,603 - DEBUG - matplotlib.font_manager - findfont: score(FontEntry(fname='C:\\\\Windows\\\\Fonts\\\\IBMPlexSansDevanagari-Regular.ttf', name='IBM Plex Sans Devanagari', style='normal', variant='normal', weight=400, stretch='normal', size='scalable')) = 10.05\n",
      "2024-04-10 15:18:27,604 - DEBUG - matplotlib.font_manager - findfont: score(FontEntry(fname='C:\\\\Windows\\\\Fonts\\\\IBMPlexSansThai-Bold.ttf', name='IBM Plex Sans Thai', style='normal', variant='normal', weight=700, stretch='normal', size='scalable')) = 10.335\n",
      "2024-04-10 15:18:27,604 - DEBUG - matplotlib.font_manager - findfont: score(FontEntry(fname='C:\\\\Windows\\\\Fonts\\\\YuGothR.ttc', name='Yu Gothic', style='normal', variant='normal', weight=400, stretch='normal', size='scalable')) = 10.05\n",
      "2024-04-10 15:18:27,605 - DEBUG - matplotlib.font_manager - findfont: score(FontEntry(fname='C:\\\\Windows\\\\Fonts\\\\CENTAUR.TTF', name='Centaur', style='normal', variant='normal', weight=400, stretch='normal', size='scalable')) = 10.05\n",
      "2024-04-10 15:18:27,606 - DEBUG - matplotlib.font_manager - findfont: score(FontEntry(fname='C:\\\\Windows\\\\Fonts\\\\BOD_CR.TTF', name='Bodoni MT', style='normal', variant='normal', weight=400, stretch='condensed', size='scalable')) = 10.25\n",
      "2024-04-10 15:18:27,607 - DEBUG - matplotlib.font_manager - findfont: score(FontEntry(fname='C:\\\\Windows\\\\Fonts\\\\CASTELAR.TTF', name='Castellar', style='normal', variant='normal', weight=400, stretch='normal', size='scalable')) = 10.05\n",
      "2024-04-10 15:18:27,608 - DEBUG - matplotlib.font_manager - findfont: score(FontEntry(fname='C:\\\\Windows\\\\Fonts\\\\NIAGENG.TTF', name='Niagara Engraved', style='normal', variant='normal', weight=400, stretch='normal', size='scalable')) = 10.05\n",
      "2024-04-10 15:18:27,608 - DEBUG - matplotlib.font_manager - findfont: score(FontEntry(fname='C:\\\\Windows\\\\Fonts\\\\timesbi.ttf', name='Times New Roman', style='italic', variant='normal', weight=700, stretch='normal', size='scalable')) = 11.335\n",
      "2024-04-10 15:18:27,609 - DEBUG - matplotlib.font_manager - findfont: score(FontEntry(fname='C:\\\\Windows\\\\Fonts\\\\RAVIE.TTF', name='Ravie', style='normal', variant='normal', weight=400, stretch='normal', size='scalable')) = 10.05\n",
      "2024-04-10 15:18:27,610 - DEBUG - matplotlib.font_manager - findfont: score(FontEntry(fname='C:\\\\Windows\\\\Fonts\\\\TCCEB.TTF', name='Tw Cen MT Condensed Extra Bold', style='normal', variant='normal', weight=400, stretch='condensed', size='scalable')) = 10.25\n",
      "2024-04-10 15:18:27,611 - DEBUG - matplotlib.font_manager - findfont: score(FontEntry(fname='C:\\\\Windows\\\\Fonts\\\\FRABK.TTF', name='Franklin Gothic Book', style='normal', variant='normal', weight=400, stretch='normal', size='scalable')) = 10.05\n",
      "2024-04-10 15:18:27,612 - DEBUG - matplotlib.font_manager - findfont: score(FontEntry(fname='C:\\\\Windows\\\\Fonts\\\\ANTQUAB.TTF', name='Book Antiqua', style='normal', variant='normal', weight=700, stretch='normal', size='scalable')) = 10.335\n",
      "2024-04-10 15:18:27,613 - DEBUG - matplotlib.font_manager - findfont: score(FontEntry(fname='C:\\\\Windows\\\\Fonts\\\\LFAX.TTF', name='Lucida Fax', style='normal', variant='normal', weight=400, stretch='normal', size='scalable')) = 10.05\n",
      "2024-04-10 15:18:27,613 - DEBUG - matplotlib.font_manager - findfont: score(FontEntry(fname='C:\\\\Windows\\\\Fonts\\\\tahomabd.ttf', name='Tahoma', style='normal', variant='normal', weight=700, stretch='normal', size='scalable')) = 10.335\n",
      "2024-04-10 15:18:27,614 - DEBUG - matplotlib.font_manager - findfont: score(FontEntry(fname='C:\\\\Windows\\\\Fonts\\\\LFAXD.TTF', name='Lucida Fax', style='normal', variant='normal', weight=600, stretch='normal', size='scalable')) = 10.24\n",
      "2024-04-10 15:18:27,615 - DEBUG - matplotlib.font_manager - findfont: score(FontEntry(fname='C:\\\\Windows\\\\Fonts\\\\BAUHS93.TTF', name='Bauhaus 93', style='normal', variant='normal', weight=400, stretch='normal', size='scalable')) = 10.05\n",
      "2024-04-10 15:18:27,615 - DEBUG - matplotlib.font_manager - findfont: score(FontEntry(fname='C:\\\\Windows\\\\Fonts\\\\VIVALDII.TTF', name='Vivaldi', style='italic', variant='normal', weight=400, stretch='normal', size='scalable')) = 11.05\n",
      "2024-04-10 15:18:27,616 - DEBUG - matplotlib.font_manager - findfont: score(FontEntry(fname='C:\\\\Windows\\\\Fonts\\\\webdings.ttf', name='Webdings', style='normal', variant='normal', weight=400, stretch='normal', size='scalable')) = 10.05\n",
      "2024-04-10 15:18:27,617 - DEBUG - matplotlib.font_manager - findfont: score(FontEntry(fname='C:\\\\Windows\\\\Fonts\\\\ERASDEMI.TTF', name='Eras Demi ITC', style='normal', variant='normal', weight=400, stretch='normal', size='scalable')) = 10.05\n",
      "2024-04-10 15:18:27,618 - DEBUG - matplotlib.font_manager - findfont: score(FontEntry(fname='C:\\\\Windows\\\\Fonts\\\\OLDENGL.TTF', name='Old English Text MT', style='normal', variant='normal', weight=400, stretch='normal', size='scalable')) = 10.05\n",
      "2024-04-10 15:18:27,618 - DEBUG - matplotlib.font_manager - findfont: score(FontEntry(fname='C:\\\\Windows\\\\Fonts\\\\GOUDOSB.TTF', name='Goudy Old Style', style='normal', variant='normal', weight=700, stretch='normal', size='scalable')) = 10.335\n",
      "2024-04-10 15:18:27,619 - DEBUG - matplotlib.font_manager - findfont: score(FontEntry(fname='C:\\\\Windows\\\\Fonts\\\\GARAIT.TTF', name='Garamond', style='italic', variant='normal', weight=400, stretch='normal', size='scalable')) = 11.05\n",
      "2024-04-10 15:18:27,619 - DEBUG - matplotlib.font_manager - findfont: score(FontEntry(fname='C:\\\\Windows\\\\Fonts\\\\IBMPlexSansThaiLooped-Regular.ttf', name='IBM Plex Sans Thai Looped', style='normal', variant='normal', weight=400, stretch='normal', size='scalable')) = 10.05\n",
      "2024-04-10 15:18:27,620 - DEBUG - matplotlib.font_manager - findfont: score(FontEntry(fname='C:\\\\Windows\\\\Fonts\\\\POORICH.TTF', name='Poor Richard', style='normal', variant='normal', weight=400, stretch='normal', size='scalable')) = 10.05\n",
      "2024-04-10 15:18:27,620 - DEBUG - matplotlib.font_manager - findfont: score(FontEntry(fname='C:\\\\Windows\\\\Fonts\\\\verdanaz.ttf', name='Verdana', style='italic', variant='normal', weight=700, stretch='normal', size='scalable')) = 4.971363636363637\n",
      "2024-04-10 15:18:27,621 - DEBUG - matplotlib.font_manager - findfont: score(FontEntry(fname='C:\\\\Windows\\\\Fonts\\\\georgia.ttf', name='Georgia', style='normal', variant='normal', weight=400, stretch='normal', size='scalable')) = 10.05\n",
      "2024-04-10 15:18:27,622 - DEBUG - matplotlib.font_manager - findfont: score(FontEntry(fname='C:\\\\Windows\\\\Fonts\\\\STENCIL.TTF', name='Stencil', style='normal', variant='normal', weight=400, stretch='normal', size='scalable')) = 10.05\n",
      "2024-04-10 15:18:27,622 - DEBUG - matplotlib.font_manager - findfont: score(FontEntry(fname='C:\\\\Windows\\\\Fonts\\\\SitkaVF.ttf', name='Sitka', style='normal', variant='normal', weight=400, stretch='normal', size='scalable')) = 10.05\n",
      "2024-04-10 15:18:27,623 - DEBUG - matplotlib.font_manager - findfont: score(FontEntry(fname='C:\\\\Windows\\\\Fonts\\\\ERASMD.TTF', name='Eras Medium ITC', style='normal', variant='normal', weight=400, stretch='normal', size='scalable')) = 10.05\n",
      "2024-04-10 15:18:27,623 - DEBUG - matplotlib.font_manager - findfont: score(FontEntry(fname='C:\\\\Windows\\\\Fonts\\\\IBMPlexMono-MediumItalic.ttf', name='IBM Plex Mono', style='italic', variant='normal', weight=500, stretch='normal', size='scalable')) = 11.145\n",
      "2024-04-10 15:18:27,624 - DEBUG - matplotlib.font_manager - findfont: score(FontEntry(fname='C:\\\\Windows\\\\Fonts\\\\seguisli.ttf', name='Segoe UI', style='italic', variant='normal', weight=350, stretch='normal', size='scalable')) = 11.0975\n",
      "2024-04-10 15:18:27,624 - DEBUG - matplotlib.font_manager - findfont: score(FontEntry(fname='C:\\\\Windows\\\\Fonts\\\\IBMPlexSansHebrew-Regular.ttf', name='IBM Plex Sans Hebrew', style='normal', variant='normal', weight=400, stretch='normal', size='scalable')) = 10.05\n",
      "2024-04-10 15:18:27,625 - DEBUG - matplotlib.font_manager - findfont: score(FontEntry(fname='C:\\\\Windows\\\\Fonts\\\\calibriz.ttf', name='Calibri', style='italic', variant='normal', weight=700, stretch='normal', size='scalable')) = 11.335\n",
      "2024-04-10 15:18:27,626 - DEBUG - matplotlib.font_manager - findfont: score(FontEntry(fname='C:\\\\Windows\\\\Fonts\\\\ARIALN.TTF', name='Arial', style='normal', variant='normal', weight=400, stretch='condensed', size='scalable')) = 6.613636363636363\n",
      "2024-04-10 15:18:27,626 - DEBUG - matplotlib.font_manager - findfont: score(FontEntry(fname='C:\\\\Windows\\\\Fonts\\\\PERTIBD.TTF', name='Perpetua Titling MT', style='normal', variant='normal', weight=700, stretch='normal', size='scalable')) = 10.335\n",
      "2024-04-10 15:18:27,627 - DEBUG - matplotlib.font_manager - findfont: score(FontEntry(fname='C:\\\\Windows\\\\Fonts\\\\VINERITC.TTF', name='Viner Hand ITC', style='normal', variant='normal', weight=400, stretch='normal', size='scalable')) = 10.05\n",
      "2024-04-10 15:18:27,628 - DEBUG - matplotlib.font_manager - findfont: score(FontEntry(fname='C:\\\\Windows\\\\Fonts\\\\trebucbd.ttf', name='Trebuchet MS', style='normal', variant='normal', weight=700, stretch='normal', size='scalable')) = 10.335\n",
      "2024-04-10 15:18:27,628 - DEBUG - matplotlib.font_manager - findfont: score(FontEntry(fname='C:\\\\Windows\\\\Fonts\\\\segoeprb.ttf', name='Segoe Print', style='normal', variant='normal', weight=700, stretch='normal', size='scalable')) = 10.335\n",
      "2024-04-10 15:18:27,629 - DEBUG - matplotlib.font_manager - findfont: score(FontEntry(fname='C:\\\\Windows\\\\Fonts\\\\msyh.ttc', name='Microsoft YaHei', style='normal', variant='normal', weight=400, stretch='normal', size='scalable')) = 10.05\n",
      "2024-04-10 15:18:27,630 - DEBUG - matplotlib.font_manager - findfont: score(FontEntry(fname='C:\\\\Windows\\\\Fonts\\\\IBMPlexSansCondensed-TextItalic.ttf', name='IBM Plex Sans Condensed', style='italic', variant='normal', weight=450, stretch='condensed', size='scalable')) = 11.2975\n",
      "2024-04-10 15:18:27,631 - DEBUG - matplotlib.font_manager - findfont: score(FontEntry(fname='C:\\\\Windows\\\\Fonts\\\\framd.ttf', name='Franklin Gothic Medium', style='normal', variant='normal', weight=400, stretch='normal', size='scalable')) = 10.05\n",
      "2024-04-10 15:18:27,631 - DEBUG - matplotlib.font_manager - findfont: score(FontEntry(fname='C:\\\\Windows\\\\Fonts\\\\IBMPlexSerif-Regular.ttf', name='IBM Plex Serif', style='normal', variant='normal', weight=400, stretch='normal', size='scalable')) = 10.05\n",
      "2024-04-10 15:18:27,632 - DEBUG - matplotlib.font_manager - findfont: score(FontEntry(fname='C:\\\\Windows\\\\Fonts\\\\CALISTB.TTF', name='Calisto MT', style='normal', variant='normal', weight=700, stretch='normal', size='scalable')) = 10.335\n",
      "2024-04-10 15:18:27,632 - DEBUG - matplotlib.font_manager - findfont: score(FontEntry(fname='C:\\\\Windows\\\\Fonts\\\\RAGE.TTF', name='Rage Italic', style='italic', variant='normal', weight=400, stretch='normal', size='scalable')) = 11.05\n",
      "2024-04-10 15:18:27,633 - DEBUG - matplotlib.font_manager - findfont: score(FontEntry(fname='C:\\\\Windows\\\\Fonts\\\\BOD_CI.TTF', name='Bodoni MT', style='italic', variant='normal', weight=400, stretch='condensed', size='scalable')) = 11.25\n",
      "2024-04-10 15:18:27,633 - DEBUG - matplotlib.font_manager - findfont: score(FontEntry(fname='C:\\\\Windows\\\\Fonts\\\\ariblk.ttf', name='Arial', style='normal', variant='normal', weight=900, stretch='normal', size='scalable')) = 6.888636363636364\n",
      "2024-04-10 15:18:27,634 - DEBUG - matplotlib.font_manager - findfont: score(FontEntry(fname='C:\\\\Windows\\\\Fonts\\\\IBMPlexSansThai-Regular.ttf', name='IBM Plex Sans Thai', style='normal', variant='normal', weight=400, stretch='normal', size='scalable')) = 10.05\n",
      "2024-04-10 15:18:27,635 - DEBUG - matplotlib.font_manager - findfont: score(FontEntry(fname='C:\\\\Windows\\\\Fonts\\\\ROCC____.TTF', name='Rockwell Condensed', style='normal', variant='normal', weight=400, stretch='condensed', size='scalable')) = 10.25\n",
      "2024-04-10 15:18:27,635 - DEBUG - matplotlib.font_manager - findfont: score(FontEntry(fname='C:\\\\Windows\\\\Fonts\\\\GARABD.TTF', name='Garamond', style='normal', variant='normal', weight=700, stretch='normal', size='scalable')) = 10.335\n",
      "2024-04-10 15:18:27,636 - DEBUG - matplotlib.font_manager - findfont: score(FontEntry(fname='C:\\\\Windows\\\\Fonts\\\\SCHLBKB.TTF', name='Century Schoolbook', style='normal', variant='normal', weight=700, stretch='normal', size='scalable')) = 10.335\n",
      "2024-04-10 15:18:27,636 - DEBUG - matplotlib.font_manager - findfont: score(FontEntry(fname='C:\\\\Windows\\\\Fonts\\\\LTYPEO.TTF', name='Lucida Sans Typewriter', style='oblique', variant='normal', weight=400, stretch='normal', size='scalable')) = 11.05\n",
      "2024-04-10 15:18:27,637 - DEBUG - matplotlib.font_manager - findfont: score(FontEntry(fname='C:\\\\Windows\\\\Fonts\\\\ELEPHNTI.TTF', name='Elephant', style='italic', variant='normal', weight=400, stretch='normal', size='scalable')) = 11.05\n",
      "2024-04-10 15:18:27,638 - DEBUG - matplotlib.font_manager - findfont: score(FontEntry(fname='C:\\\\Windows\\\\Fonts\\\\IBMPlexMono-ThinItalic.ttf', name='IBM Plex Mono', style='italic', variant='normal', weight=100, stretch='normal', size='scalable')) = 11.335\n",
      "2024-04-10 15:18:27,638 - DEBUG - matplotlib.font_manager - findfont: score(FontEntry(fname='C:\\\\Windows\\\\Fonts\\\\NIAGSOL.TTF', name='Niagara Solid', style='normal', variant='normal', weight=400, stretch='normal', size='scalable')) = 10.05\n",
      "2024-04-10 15:18:27,639 - DEBUG - matplotlib.font_manager - findfont: score(FontEntry(fname='C:\\\\Windows\\\\Fonts\\\\IBMPlexSansDevanagari-Bold.ttf', name='IBM Plex Sans Devanagari', style='normal', variant='normal', weight=700, stretch='normal', size='scalable')) = 10.335\n",
      "2024-04-10 15:18:27,640 - DEBUG - matplotlib.font_manager - findfont: score(FontEntry(fname='C:\\\\Windows\\\\Fonts\\\\IBMPlexSansDevanagari-Text.ttf', name='IBM Plex Sans Devanagari', style='normal', variant='normal', weight=450, stretch='normal', size='scalable')) = 10.0975\n",
      "2024-04-10 15:18:27,641 - DEBUG - matplotlib.font_manager - findfont: score(FontEntry(fname='C:\\\\Windows\\\\Fonts\\\\ARIALNB.TTF', name='Arial', style='normal', variant='normal', weight=700, stretch='condensed', size='scalable')) = 6.8986363636363635\n",
      "2024-04-10 15:18:27,641 - DEBUG - matplotlib.font_manager - findfont: score(FontEntry(fname='C:\\\\Windows\\\\Fonts\\\\cambriab.ttf', name='Cambria', style='normal', variant='normal', weight=700, stretch='normal', size='scalable')) = 10.335\n",
      "2024-04-10 15:18:27,642 - DEBUG - matplotlib.font_manager - findfont: score(FontEntry(fname='C:\\\\Windows\\\\Fonts\\\\REFSAN.TTF', name='MS Reference Sans Serif', style='normal', variant='normal', weight=400, stretch='normal', size='scalable')) = 10.05\n",
      "2024-04-10 15:18:27,643 - DEBUG - matplotlib.font_manager - findfont: score(FontEntry(fname='C:\\\\Windows\\\\Fonts\\\\IMPRISHA.TTF', name='Imprint MT Shadow', style='normal', variant='normal', weight=400, stretch='normal', size='scalable')) = 10.05\n",
      "2024-04-10 15:18:27,644 - DEBUG - matplotlib.font_manager - findfont: score(FontEntry(fname='C:\\\\Windows\\\\Fonts\\\\seguisym.ttf', name='Segoe UI Symbol', style='normal', variant='normal', weight=400, stretch='normal', size='scalable')) = 10.05\n",
      "2024-04-10 15:18:27,645 - DEBUG - matplotlib.font_manager - findfont: score(FontEntry(fname='C:\\\\Windows\\\\Fonts\\\\BELL.TTF', name='Bell MT', style='normal', variant='normal', weight=400, stretch='normal', size='scalable')) = 10.05\n",
      "2024-04-10 15:18:27,646 - DEBUG - matplotlib.font_manager - findfont: score(FontEntry(fname='C:\\\\Windows\\\\Fonts\\\\corbelz.ttf', name='Corbel', style='italic', variant='normal', weight=700, stretch='normal', size='scalable')) = 11.335\n",
      "2024-04-10 15:18:27,647 - DEBUG - matplotlib.font_manager - findfont: score(FontEntry(fname='C:\\\\Windows\\\\Fonts\\\\IBMPlexMono-LightItalic.ttf', name='IBM Plex Mono', style='italic', variant='normal', weight=300, stretch='normal', size='scalable')) = 11.145\n",
      "2024-04-10 15:18:27,647 - DEBUG - matplotlib.font_manager - findfont: score(FontEntry(fname='C:\\\\Windows\\\\Fonts\\\\arial.ttf', name='Arial', style='normal', variant='normal', weight=400, stretch='normal', size='scalable')) = 6.413636363636363\n",
      "2024-04-10 15:18:27,648 - DEBUG - matplotlib.font_manager - findfont: score(FontEntry(fname='C:\\\\Windows\\\\Fonts\\\\VLADIMIR.TTF', name='Vladimir Script', style='normal', variant='normal', weight=400, stretch='normal', size='scalable')) = 10.05\n",
      "2024-04-10 15:18:27,648 - DEBUG - matplotlib.font_manager - findfont: score(FontEntry(fname='C:\\\\Windows\\\\Fonts\\\\TCCB____.TTF', name='Tw Cen MT Condensed', style='normal', variant='normal', weight=700, stretch='condensed', size='scalable')) = 10.535\n",
      "2024-04-10 15:18:27,650 - DEBUG - matplotlib.font_manager - findfont: score(FontEntry(fname='C:\\\\Windows\\\\Fonts\\\\georgiaz.ttf', name='Georgia', style='italic', variant='normal', weight=700, stretch='normal', size='scalable')) = 11.335\n",
      "2024-04-10 15:18:27,651 - DEBUG - matplotlib.font_manager - findfont: score(FontEntry(fname='C:\\\\Windows\\\\Fonts\\\\IBMPlexSansJP-ExtraLight.ttf', name='IBM Plex Sans JP', style='normal', variant='normal', weight=200, stretch='normal', size='scalable')) = 10.24\n",
      "2024-04-10 15:18:27,652 - DEBUG - matplotlib.font_manager - findfont: score(FontEntry(fname='C:\\\\Windows\\\\Fonts\\\\GILBI___.TTF', name='Gill Sans MT', style='italic', variant='normal', weight=700, stretch='normal', size='scalable')) = 11.335\n",
      "2024-04-10 15:18:27,653 - DEBUG - matplotlib.font_manager - findfont: score(FontEntry(fname='C:\\\\Windows\\\\Fonts\\\\ROCK.TTF', name='Rockwell', style='normal', variant='normal', weight=400, stretch='normal', size='scalable')) = 10.05\n",
      "2024-04-10 15:18:27,654 - DEBUG - matplotlib.font_manager - findfont: score(FontEntry(fname='C:\\\\Windows\\\\Fonts\\\\IBMPlexSerif-SemiBoldItalic.ttf', name='IBM Plex Serif', style='italic', variant='normal', weight=600, stretch='normal', size='scalable')) = 11.24\n",
      "2024-04-10 15:18:27,654 - DEBUG - matplotlib.font_manager - findfont: score(FontEntry(fname='C:\\\\Windows\\\\Fonts\\\\IBMPlexSansThai-Light.ttf', name='IBM Plex Sans Thai', style='normal', variant='normal', weight=300, stretch='normal', size='scalable')) = 10.145\n",
      "2024-04-10 15:18:27,655 - DEBUG - matplotlib.font_manager - findfont: score(FontEntry(fname='C:\\\\Windows\\\\Fonts\\\\seguihis.ttf', name='Segoe UI Historic', style='normal', variant='normal', weight=400, stretch='normal', size='scalable')) = 10.05\n",
      "2024-04-10 15:18:27,656 - DEBUG - matplotlib.font_manager - findfont: score(FontEntry(fname='C:\\\\Windows\\\\Fonts\\\\IBMPlexSansCondensed-SemiBoldItalic.ttf', name='IBM Plex Sans Condensed', style='italic', variant='normal', weight=600, stretch='condensed', size='scalable')) = 11.44\n",
      "2024-04-10 15:18:27,656 - DEBUG - matplotlib.font_manager - findfont: score(FontEntry(fname='C:\\\\Windows\\\\Fonts\\\\palabi.ttf', name='Palatino Linotype', style='italic', variant='normal', weight=700, stretch='normal', size='scalable')) = 11.335\n",
      "2024-04-10 15:18:27,657 - DEBUG - matplotlib.font_manager - findfont: score(FontEntry(fname='C:\\\\Windows\\\\Fonts\\\\IBMPlexSansCondensed-Text.ttf', name='IBM Plex Sans Condensed', style='normal', variant='normal', weight=450, stretch='condensed', size='scalable')) = 10.2975\n",
      "2024-04-10 15:18:27,657 - DEBUG - matplotlib.font_manager - findfont: score(FontEntry(fname='C:\\\\Windows\\\\Fonts\\\\LBRITEI.TTF', name='Lucida Bright', style='italic', variant='normal', weight=400, stretch='normal', size='scalable')) = 11.05\n",
      "2024-04-10 15:18:27,658 - DEBUG - matplotlib.font_manager - findfont: score(FontEntry(fname='C:\\\\Windows\\\\Fonts\\\\corbelli.ttf', name='Corbel', style='italic', variant='normal', weight=300, stretch='normal', size='scalable')) = 11.145\n",
      "2024-04-10 15:18:27,659 - DEBUG - matplotlib.font_manager - findfont: score(FontEntry(fname='C:\\\\Windows\\\\Fonts\\\\IBMPlexMono-SemiBoldItalic.ttf', name='IBM Plex Mono', style='italic', variant='normal', weight=600, stretch='normal', size='scalable')) = 11.24\n",
      "2024-04-10 15:18:27,660 - DEBUG - matplotlib.font_manager - findfont: score(FontEntry(fname='C:\\\\Windows\\\\Fonts\\\\LEELAWAD.TTF', name='Leelawadee', style='normal', variant='normal', weight=400, stretch='normal', size='scalable')) = 10.05\n",
      "2024-04-10 15:18:27,660 - DEBUG - matplotlib.font_manager - findfont: score(FontEntry(fname='C:\\\\Windows\\\\Fonts\\\\BELLI.TTF', name='Bell MT', style='italic', variant='normal', weight=400, stretch='normal', size='scalable')) = 11.05\n",
      "2024-04-10 15:18:27,661 - DEBUG - matplotlib.font_manager - findfont: score(FontEntry(fname='C:\\\\Windows\\\\Fonts\\\\IBMPlexSansCondensed-Light.ttf', name='IBM Plex Sans Condensed', style='normal', variant='normal', weight=300, stretch='condensed', size='scalable')) = 10.344999999999999\n",
      "2024-04-10 15:18:27,661 - DEBUG - matplotlib.font_manager - findfont: score(FontEntry(fname='C:\\\\Windows\\\\Fonts\\\\GOUDYSTO.TTF', name='Goudy Stout', style='normal', variant='normal', weight=400, stretch='normal', size='scalable')) = 10.05\n",
      "2024-04-10 15:18:27,663 - DEBUG - matplotlib.font_manager - findfont: score(FontEntry(fname='C:\\\\Windows\\\\Fonts\\\\Nirmala.ttf', name='Nirmala UI', style='normal', variant='normal', weight=400, stretch='normal', size='scalable')) = 10.05\n",
      "2024-04-10 15:18:27,663 - DEBUG - matplotlib.font_manager - findfont: score(FontEntry(fname='C:\\\\Windows\\\\Fonts\\\\IBMPlexSansThaiLooped-Light.ttf', name='IBM Plex Sans Thai Looped', style='normal', variant='normal', weight=300, stretch='normal', size='scalable')) = 10.145\n",
      "2024-04-10 15:18:27,664 - DEBUG - matplotlib.font_manager - findfont: score(FontEntry(fname='C:\\\\Windows\\\\Fonts\\\\calibrii.ttf', name='Calibri', style='italic', variant='normal', weight=400, stretch='normal', size='scalable')) = 11.05\n",
      "2024-04-10 15:18:27,665 - DEBUG - matplotlib.font_manager - findfont: score(FontEntry(fname='C:\\\\Windows\\\\Fonts\\\\BOD_BLAR.TTF', name='Bodoni MT', style='normal', variant='normal', weight=900, stretch='normal', size='scalable')) = 10.525\n",
      "2024-04-10 15:18:27,665 - DEBUG - matplotlib.font_manager - findfont: score(FontEntry(fname='C:\\\\Windows\\\\Fonts\\\\YuGothM.ttc', name='Yu Gothic', style='normal', variant='normal', weight=500, stretch='normal', size='scalable')) = 10.145\n",
      "2024-04-10 15:18:27,666 - DEBUG - matplotlib.font_manager - findfont: score(FontEntry(fname='C:\\\\Windows\\\\Fonts\\\\ENGR.TTF', name='Engravers MT', style='normal', variant='normal', weight=500, stretch='normal', size='scalable')) = 10.145\n",
      "2024-04-10 15:18:27,667 - DEBUG - matplotlib.font_manager - findfont: score(FontEntry(fname='C:\\\\Windows\\\\Fonts\\\\arialbd.ttf', name='Arial', style='normal', variant='normal', weight=700, stretch='normal', size='scalable')) = 6.698636363636363\n",
      "2024-04-10 15:18:27,667 - DEBUG - matplotlib.font_manager - findfont: score(FontEntry(fname='C:\\\\Windows\\\\Fonts\\\\JUICE___.TTF', name='Juice ITC', style='normal', variant='normal', weight=400, stretch='normal', size='scalable')) = 10.05\n",
      "2024-04-10 15:18:27,668 - DEBUG - matplotlib.font_manager - findfont: score(FontEntry(fname='C:\\\\Windows\\\\Fonts\\\\DUBAI-BOLD.TTF', name='Dubai', style='normal', variant='normal', weight=700, stretch='normal', size='scalable')) = 10.335\n",
      "2024-04-10 15:18:27,668 - DEBUG - matplotlib.font_manager - findfont: score(FontEntry(fname='C:\\\\Windows\\\\Fonts\\\\LeelUIsl.ttf', name='Leelawadee UI', style='normal', variant='normal', weight=350, stretch='normal', size='scalable')) = 10.0975\n",
      "2024-04-10 15:18:27,669 - DEBUG - matplotlib.font_manager - findfont: score(FontEntry(fname='C:\\\\Windows\\\\Fonts\\\\IBMPlexSerif-ExtraLight.ttf', name='IBM Plex Serif', style='normal', variant='normal', weight=200, stretch='normal', size='scalable')) = 10.24\n",
      "2024-04-10 15:18:27,669 - DEBUG - matplotlib.font_manager - findfont: score(FontEntry(fname='C:\\\\Windows\\\\Fonts\\\\IBMPlexSansArabic-Thin.ttf', name='IBM Plex Sans Arabic', style='normal', variant='normal', weight=100, stretch='normal', size='scalable')) = 10.335\n",
      "2024-04-10 15:18:27,670 - DEBUG - matplotlib.font_manager - findfont: score(FontEntry(fname='C:\\\\Windows\\\\Fonts\\\\SansSerifCollection.ttf', name='Sans Serif Collection', style='normal', variant='normal', weight=400, stretch='normal', size='scalable')) = 10.05\n",
      "2024-04-10 15:18:27,670 - DEBUG - matplotlib.font_manager - findfont: score(FontEntry(fname='C:\\\\Windows\\\\Fonts\\\\framdit.ttf', name='Franklin Gothic Medium', style='italic', variant='normal', weight=400, stretch='normal', size='scalable')) = 11.05\n",
      "2024-04-10 15:18:27,671 - DEBUG - matplotlib.font_manager - findfont: score(FontEntry(fname='C:\\\\Windows\\\\Fonts\\\\IBMPlexSansJP-Bold.ttf', name='IBM Plex Sans JP', style='normal', variant='normal', weight=700, stretch='normal', size='scalable')) = 10.335\n",
      "2024-04-10 15:18:27,671 - DEBUG - matplotlib.font_manager - findfont: score(FontEntry(fname='C:\\\\Windows\\\\Fonts\\\\msjhbd.ttc', name='Microsoft JhengHei', style='normal', variant='normal', weight=700, stretch='normal', size='scalable')) = 10.335\n",
      "2024-04-10 15:18:27,672 - DEBUG - matplotlib.font_manager - findfont: score(FontEntry(fname='C:\\\\Windows\\\\Fonts\\\\BRLNSR.TTF', name='Berlin Sans FB', style='normal', variant='normal', weight=400, stretch='normal', size='scalable')) = 10.05\n",
      "2024-04-10 15:18:27,672 - DEBUG - matplotlib.font_manager - findfont: score(FontEntry(fname='C:\\\\Windows\\\\Fonts\\\\lucon.ttf', name='Lucida Console', style='normal', variant='normal', weight=400, stretch='normal', size='scalable')) = 10.05\n",
      "2024-04-10 15:18:27,673 - DEBUG - matplotlib.font_manager - findfont: score(FontEntry(fname='C:\\\\Windows\\\\Fonts\\\\cour.ttf', name='Courier New', style='normal', variant='normal', weight=400, stretch='normal', size='scalable')) = 10.05\n",
      "2024-04-10 15:18:27,674 - DEBUG - matplotlib.font_manager - findfont: score(FontEntry(fname='C:\\\\Windows\\\\Fonts\\\\couri.ttf', name='Courier New', style='italic', variant='normal', weight=400, stretch='normal', size='scalable')) = 11.05\n",
      "2024-04-10 15:18:27,674 - DEBUG - matplotlib.font_manager - findfont: score(FontEntry(fname='C:\\\\Windows\\\\Fonts\\\\BOD_B.TTF', name='Bodoni MT', style='normal', variant='normal', weight=700, stretch='normal', size='scalable')) = 10.335\n",
      "2024-04-10 15:18:27,675 - DEBUG - matplotlib.font_manager - findfont: score(FontEntry(fname='C:\\\\Windows\\\\Fonts\\\\IBMPlexSansThai-Text.ttf', name='IBM Plex Sans Thai', style='normal', variant='normal', weight=450, stretch='normal', size='scalable')) = 10.0975\n",
      "2024-04-10 15:18:27,676 - DEBUG - matplotlib.font_manager - findfont: score(FontEntry(fname='C:\\\\Windows\\\\Fonts\\\\GOTHIC.TTF', name='Century Gothic', style='normal', variant='normal', weight=400, stretch='normal', size='scalable')) = 10.05\n",
      "2024-04-10 15:18:27,676 - DEBUG - matplotlib.font_manager - findfont: score(FontEntry(fname='C:\\\\Windows\\\\Fonts\\\\cambriaz.ttf', name='Cambria', style='italic', variant='normal', weight=700, stretch='normal', size='scalable')) = 11.335\n",
      "2024-04-10 15:18:27,677 - DEBUG - matplotlib.font_manager - findfont: score(FontEntry(fname='C:\\\\Windows\\\\Fonts\\\\PRISTINA.TTF', name='Pristina', style='normal', variant='normal', weight=400, stretch='normal', size='scalable')) = 10.05\n",
      "2024-04-10 15:18:27,678 - DEBUG - matplotlib.font_manager - findfont: score(FontEntry(fname='C:\\\\Windows\\\\Fonts\\\\IBMPlexSansKR-SemiBold.ttf', name='IBM Plex Sans KR', style='normal', variant='normal', weight=600, stretch='normal', size='scalable')) = 10.24\n",
      "2024-04-10 15:18:27,678 - DEBUG - matplotlib.font_manager - findfont: score(FontEntry(fname='C:\\\\Windows\\\\Fonts\\\\SCHLBKBI.TTF', name='Century Schoolbook', style='italic', variant='normal', weight=700, stretch='normal', size='scalable')) = 11.335\n",
      "2024-04-10 15:18:27,680 - DEBUG - matplotlib.font_manager - findfont: score(FontEntry(fname='C:\\\\Windows\\\\Fonts\\\\mvboli.ttf', name='MV Boli', style='normal', variant='normal', weight=400, stretch='normal', size='scalable')) = 10.05\n",
      "2024-04-10 15:18:27,681 - DEBUG - matplotlib.font_manager - findfont: score(FontEntry(fname='C:\\\\Windows\\\\Fonts\\\\ntailub.ttf', name='Microsoft New Tai Lue', style='normal', variant='normal', weight=700, stretch='normal', size='scalable')) = 10.335\n",
      "2024-04-10 15:18:27,682 - DEBUG - matplotlib.font_manager - findfont: score(FontEntry(fname='C:\\\\Windows\\\\Fonts\\\\OUTLOOK.TTF', name='MS Outlook', style='normal', variant='normal', weight=400, stretch='normal', size='scalable')) = 10.05\n",
      "2024-04-10 15:18:27,682 - DEBUG - matplotlib.font_manager - findfont: score(FontEntry(fname='C:\\\\Windows\\\\Fonts\\\\LeelawUI.ttf', name='Leelawadee UI', style='normal', variant='normal', weight=400, stretch='normal', size='scalable')) = 10.05\n",
      "2024-04-10 15:18:27,683 - DEBUG - matplotlib.font_manager - findfont: score(FontEntry(fname='C:\\\\Windows\\\\Fonts\\\\IBMPlexDevanagari-Bold.ttf', name='IBM Plex Devanagari', style='normal', variant='normal', weight=700, stretch='normal', size='scalable')) = 10.335\n",
      "2024-04-10 15:18:27,684 - DEBUG - matplotlib.font_manager - findfont: score(FontEntry(fname='C:\\\\Windows\\\\Fonts\\\\ROCCB___.TTF', name='Rockwell Condensed', style='normal', variant='normal', weight=700, stretch='condensed', size='scalable')) = 10.535\n",
      "2024-04-10 15:18:27,685 - DEBUG - matplotlib.font_manager - findfont: score(FontEntry(fname='C:\\\\Windows\\\\Fonts\\\\segoeuil.ttf', name='Segoe UI', style='normal', variant='normal', weight=300, stretch='normal', size='scalable')) = 10.145\n",
      "2024-04-10 15:18:27,685 - DEBUG - matplotlib.font_manager - findfont: score(FontEntry(fname='C:\\\\Windows\\\\Fonts\\\\TCMI____.TTF', name='Tw Cen MT', style='italic', variant='normal', weight=400, stretch='normal', size='scalable')) = 11.05\n",
      "2024-04-10 15:18:27,685 - DEBUG - matplotlib.font_manager - findfont: score(FontEntry(fname='C:\\\\Windows\\\\Fonts\\\\comic.ttf', name='Comic Sans MS', style='normal', variant='normal', weight=400, stretch='normal', size='scalable')) = 10.05\n",
      "2024-04-10 15:18:27,686 - DEBUG - matplotlib.font_manager - findfont: score(FontEntry(fname='C:\\\\Windows\\\\Fonts\\\\IBMPlexArabic-Regular.ttf', name='IBM Plex Arabic', style='normal', variant='normal', weight=400, stretch='normal', size='scalable')) = 10.05\n",
      "2024-04-10 15:18:27,686 - DEBUG - matplotlib.font_manager - findfont: score(FontEntry(fname='C:\\\\Windows\\\\Fonts\\\\BRLNSB.TTF', name='Berlin Sans FB', style='normal', variant='normal', weight=700, stretch='normal', size='scalable')) = 10.335\n",
      "2024-04-10 15:18:27,687 - DEBUG - matplotlib.font_manager - findfont: score(FontEntry(fname='C:\\\\Windows\\\\Fonts\\\\HATTEN.TTF', name='Haettenschweiler', style='normal', variant='normal', weight=400, stretch='normal', size='scalable')) = 10.05\n",
      "2024-04-10 15:18:27,687 - DEBUG - matplotlib.font_manager - findfont: score(FontEntry(fname='C:\\\\Windows\\\\Fonts\\\\IBMPlexSansJP-Text.ttf', name='IBM Plex Sans JP', style='normal', variant='normal', weight=450, stretch='normal', size='scalable')) = 10.0975\n",
      "2024-04-10 15:18:27,688 - DEBUG - matplotlib.font_manager - findfont: score(FontEntry(fname='C:\\\\Windows\\\\Fonts\\\\SCRIPTBL.TTF', name='Script MT Bold', style='normal', variant='normal', weight=700, stretch='normal', size='scalable')) = 10.335\n",
      "2024-04-10 15:18:27,688 - DEBUG - matplotlib.font_manager - findfont: score(FontEntry(fname='C:\\\\Windows\\\\Fonts\\\\IBMPlexSansJP-Regular.ttf', name='IBM Plex Sans JP', style='normal', variant='normal', weight=400, stretch='normal', size='scalable')) = 10.05\n",
      "2024-04-10 15:18:27,690 - DEBUG - matplotlib.font_manager - findfont: score(FontEntry(fname='C:\\\\Windows\\\\Fonts\\\\COPRGTB.TTF', name='Copperplate Gothic Bold', style='normal', variant='normal', weight=400, stretch='normal', size='scalable')) = 10.05\n",
      "2024-04-10 15:18:27,690 - DEBUG - matplotlib.font_manager - findfont: score(FontEntry(fname='C:\\\\Windows\\\\Fonts\\\\WINGDNG2.TTF', name='Wingdings 2', style='normal', variant='normal', weight=400, stretch='normal', size='scalable')) = 10.05\n",
      "2024-04-10 15:18:27,691 - DEBUG - matplotlib.font_manager - findfont: score(FontEntry(fname='C:\\\\Windows\\\\Fonts\\\\PLAYBILL.TTF', name='Playbill', style='normal', variant='normal', weight=400, stretch='normal', size='scalable')) = 10.05\n",
      "2024-04-10 15:18:27,692 - DEBUG - matplotlib.font_manager - findfont: score(FontEntry(fname='C:\\\\Windows\\\\Fonts\\\\IBMPlexSansCondensed-Regular.ttf', name='IBM Plex Sans Condensed', style='normal', variant='normal', weight=400, stretch='condensed', size='scalable')) = 10.25\n",
      "2024-04-10 15:18:27,693 - DEBUG - matplotlib.font_manager - findfont: score(FontEntry(fname='C:\\\\Windows\\\\Fonts\\\\BOD_BI.TTF', name='Bodoni MT', style='italic', variant='normal', weight=700, stretch='normal', size='scalable')) = 11.335\n",
      "2024-04-10 15:18:27,693 - DEBUG - matplotlib.font_manager - findfont: score(FontEntry(fname='C:\\\\Windows\\\\Fonts\\\\IBMPlexSerif-TextItalic.ttf', name='IBM Plex Serif', style='italic', variant='normal', weight=450, stretch='normal', size='scalable')) = 11.0975\n",
      "2024-04-10 15:18:27,694 - DEBUG - matplotlib.font_manager - findfont: score(FontEntry(fname='C:\\\\Windows\\\\Fonts\\\\calibrib.ttf', name='Calibri', style='normal', variant='normal', weight=700, stretch='normal', size='scalable')) = 10.335\n",
      "2024-04-10 15:18:27,695 - DEBUG - matplotlib.font_manager - findfont: score(FontEntry(fname='C:\\\\Windows\\\\Fonts\\\\HARLOWSI.TTF', name='Harlow Solid Italic', style='italic', variant='normal', weight=400, stretch='normal', size='scalable')) = 11.05\n",
      "2024-04-10 15:18:27,696 - DEBUG - matplotlib.font_manager - findfont: score(FontEntry(fname='C:\\\\Windows\\\\Fonts\\\\micross.ttf', name='Microsoft Sans Serif', style='normal', variant='normal', weight=400, stretch='normal', size='scalable')) = 10.05\n",
      "2024-04-10 15:18:27,696 - DEBUG - matplotlib.font_manager - findfont: score(FontEntry(fname='C:\\\\Windows\\\\Fonts\\\\IBMPlexSans-SemiBold.ttf', name='IBM Plex Sans', style='normal', variant='normal', weight=600, stretch='normal', size='scalable')) = 10.24\n",
      "2024-04-10 15:18:27,697 - DEBUG - matplotlib.font_manager - findfont: score(FontEntry(fname='C:\\\\Windows\\\\Fonts\\\\phagspab.ttf', name='Microsoft PhagsPa', style='normal', variant='normal', weight=700, stretch='normal', size='scalable')) = 10.335\n",
      "2024-04-10 15:18:27,698 - DEBUG - matplotlib.font_manager - findfont: score(FontEntry(fname='C:\\\\Windows\\\\Fonts\\\\FREESCPT.TTF', name='Freestyle Script', style='normal', variant='normal', weight=400, stretch='normal', size='scalable')) = 10.05\n",
      "2024-04-10 15:18:27,698 - DEBUG - matplotlib.font_manager - findfont: score(FontEntry(fname='C:\\\\Windows\\\\Fonts\\\\gadugib.ttf', name='Gadugi', style='normal', variant='normal', weight=700, stretch='normal', size='scalable')) = 10.335\n",
      "2024-04-10 15:18:27,699 - DEBUG - matplotlib.font_manager - findfont: score(FontEntry(fname='C:\\\\Windows\\\\Fonts\\\\corbelb.ttf', name='Corbel', style='normal', variant='normal', weight=700, stretch='normal', size='scalable')) = 10.335\n",
      "2024-04-10 15:18:27,699 - DEBUG - matplotlib.font_manager - findfont: score(FontEntry(fname='C:\\\\Windows\\\\Fonts\\\\FRABKIT.TTF', name='Franklin Gothic Book', style='italic', variant='normal', weight=400, stretch='normal', size='scalable')) = 11.05\n",
      "2024-04-10 15:18:27,700 - DEBUG - matplotlib.font_manager - findfont: score(FontEntry(fname='C:\\\\Windows\\\\Fonts\\\\CALIST.TTF', name='Calisto MT', style='normal', variant='normal', weight=400, stretch='normal', size='scalable')) = 10.05\n",
      "2024-04-10 15:18:27,700 - DEBUG - matplotlib.font_manager - findfont: score(FontEntry(fname='C:\\\\Windows\\\\Fonts\\\\msyhl.ttc', name='Microsoft YaHei', style='normal', variant='normal', weight=290, stretch='normal', size='scalable')) = 10.1545\n",
      "2024-04-10 15:18:27,701 - DEBUG - matplotlib.font_manager - findfont: score(FontEntry(fname='C:\\\\Windows\\\\Fonts\\\\BOOKOSB.TTF', name='Bookman Old Style', style='normal', variant='normal', weight=600, stretch='normal', size='scalable')) = 10.24\n",
      "2024-04-10 15:18:27,701 - DEBUG - matplotlib.font_manager - findfont: score(FontEntry(fname='C:\\\\Windows\\\\Fonts\\\\ERASLGHT.TTF', name='Eras Light ITC', style='normal', variant='normal', weight=400, stretch='normal', size='scalable')) = 10.05\n",
      "2024-04-10 15:18:27,702 - DEBUG - matplotlib.font_manager - findfont: score(FontEntry(fname='C:\\\\Windows\\\\Fonts\\\\ROCKI.TTF', name='Rockwell', style='italic', variant='normal', weight=400, stretch='normal', size='scalable')) = 11.05\n",
      "2024-04-10 15:18:27,703 - DEBUG - matplotlib.font_manager - findfont: score(FontEntry(fname='C:\\\\Windows\\\\Fonts\\\\IBMPlexSansHebrew-Thin.ttf', name='IBM Plex Sans Hebrew', style='normal', variant='normal', weight=100, stretch='normal', size='scalable')) = 10.335\n",
      "2024-04-10 15:18:27,703 - DEBUG - matplotlib.font_manager - findfont: score(FontEntry(fname='C:\\\\Windows\\\\Fonts\\\\IBMPlexSans-LightItalic.ttf', name='IBM Plex Sans', style='italic', variant='normal', weight=300, stretch='normal', size='scalable')) = 11.145\n",
      "2024-04-10 15:18:27,704 - DEBUG - matplotlib.font_manager - findfont: score(FontEntry(fname='C:\\\\Windows\\\\Fonts\\\\MISTRAL.TTF', name='Mistral', style='normal', variant='normal', weight=400, stretch='normal', size='scalable')) = 10.05\n",
      "2024-04-10 15:18:27,704 - DEBUG - matplotlib.font_manager - findfont: score(FontEntry(fname='C:\\\\Windows\\\\Fonts\\\\COOPBL.TTF', name='Cooper Black', style='normal', variant='normal', weight=400, stretch='normal', size='scalable')) = 10.05\n",
      "2024-04-10 15:18:27,705 - DEBUG - matplotlib.font_manager - findfont: score(FontEntry(fname='C:\\\\Windows\\\\Fonts\\\\CURLZ___.TTF', name='Curlz MT', style='normal', variant='normal', weight=400, stretch='normal', size='scalable')) = 10.05\n",
      "2024-04-10 15:18:27,705 - DEBUG - matplotlib.font_manager - findfont: score(FontEntry(fname='C:\\\\Windows\\\\Fonts\\\\SHOWG.TTF', name='Showcard Gothic', style='normal', variant='normal', weight=400, stretch='normal', size='scalable')) = 10.05\n",
      "2024-04-10 15:18:27,706 - DEBUG - matplotlib.font_manager - findfont: score(FontEntry(fname='C:\\\\Windows\\\\Fonts\\\\segoescb.ttf', name='Segoe Script', style='normal', variant='normal', weight=700, stretch='normal', size='scalable')) = 10.335\n",
      "2024-04-10 15:18:27,706 - DEBUG - matplotlib.font_manager - findfont: score(FontEntry(fname='C:\\\\Windows\\\\Fonts\\\\LSANSDI.TTF', name='Lucida Sans', style='italic', variant='normal', weight=600, stretch='normal', size='scalable')) = 11.24\n",
      "2024-04-10 15:18:27,707 - DEBUG - matplotlib.font_manager - findfont: score(FontEntry(fname='C:\\\\Windows\\\\Fonts\\\\LSANSD.TTF', name='Lucida Sans', style='normal', variant='normal', weight=600, stretch='normal', size='scalable')) = 10.24\n",
      "2024-04-10 15:18:27,708 - DEBUG - matplotlib.font_manager - findfont: score(FontEntry(fname='C:\\\\Windows\\\\Fonts\\\\IBMPlexThai-Regular.ttf', name='IBM Plex Thai', style='normal', variant='normal', weight=400, stretch='normal', size='scalable')) = 10.05\n",
      "2024-04-10 15:18:27,708 - DEBUG - matplotlib.font_manager - findfont: score(FontEntry(fname='C:\\\\Windows\\\\Fonts\\\\ebrimabd.ttf', name='Ebrima', style='normal', variant='normal', weight=700, stretch='normal', size='scalable')) = 10.335\n",
      "2024-04-10 15:18:27,708 - DEBUG - matplotlib.font_manager - findfont: score(FontEntry(fname='C:\\\\Windows\\\\Fonts\\\\IBMPlexSansKR-Regular.ttf', name='IBM Plex Sans KR', style='normal', variant='normal', weight=400, stretch='normal', size='scalable')) = 10.05\n",
      "2024-04-10 15:18:27,710 - DEBUG - matplotlib.font_manager - findfont: score(FontEntry(fname='C:\\\\Windows\\\\Fonts\\\\IBMPlexSansThai-Medium.ttf', name='IBM Plex Sans Thai', style='normal', variant='normal', weight=500, stretch='normal', size='scalable')) = 10.145\n",
      "2024-04-10 15:18:27,710 - DEBUG - matplotlib.font_manager - findfont: score(FontEntry(fname='C:\\\\Windows\\\\Fonts\\\\CENSCBK.TTF', name='Century Schoolbook', style='normal', variant='normal', weight=400, stretch='normal', size='scalable')) = 10.05\n",
      "2024-04-10 15:18:27,711 - DEBUG - matplotlib.font_manager - findfont: score(FontEntry(fname='C:\\\\Windows\\\\Fonts\\\\IBMPlexSansDevanagari-Thin.ttf', name='IBM Plex Sans Devanagari', style='normal', variant='normal', weight=100, stretch='normal', size='scalable')) = 10.335\n",
      "2024-04-10 15:18:27,711 - DEBUG - matplotlib.font_manager - findfont: score(FontEntry(fname='C:\\\\Windows\\\\Fonts\\\\MSUIGHUB.TTF', name='Microsoft Uighur', style='normal', variant='normal', weight=700, stretch='normal', size='scalable')) = 10.335\n",
      "2024-04-10 15:18:27,712 - DEBUG - matplotlib.font_manager - findfont: score(FontEntry(fname='C:\\\\Windows\\\\Fonts\\\\calibrili.ttf', name='Calibri', style='italic', variant='normal', weight=300, stretch='normal', size='scalable')) = 11.145\n",
      "2024-04-10 15:18:27,713 - DEBUG - matplotlib.font_manager - findfont: score(FontEntry(fname='C:\\\\Windows\\\\Fonts\\\\ebrima.ttf', name='Ebrima', style='normal', variant='normal', weight=400, stretch='normal', size='scalable')) = 10.05\n",
      "2024-04-10 15:18:27,714 - DEBUG - matplotlib.font_manager - findfont: score(FontEntry(fname='C:\\\\Windows\\\\Fonts\\\\REFSPCL.TTF', name='MS Reference Specialty', style='normal', variant='normal', weight=400, stretch='normal', size='scalable')) = 10.05\n",
      "2024-04-10 15:18:27,714 - DEBUG - matplotlib.font_manager - findfont: score(FontEntry(fname='C:\\\\Windows\\\\Fonts\\\\LFAXDI.TTF', name='Lucida Fax', style='italic', variant='normal', weight=600, stretch='normal', size='scalable')) = 11.24\n",
      "2024-04-10 15:18:27,715 - DEBUG - matplotlib.font_manager - findfont: score(FontEntry(fname='C:\\\\Windows\\\\Fonts\\\\IBMPlexSerif-SemiBold.ttf', name='IBM Plex Serif', style='normal', variant='normal', weight=600, stretch='normal', size='scalable')) = 10.24\n",
      "2024-04-10 15:18:27,716 - DEBUG - matplotlib.font_manager - findfont: score(FontEntry(fname='C:\\\\Windows\\\\Fonts\\\\IBMPlexMono-Text.ttf', name='IBM Plex Mono', style='normal', variant='normal', weight=450, stretch='normal', size='scalable')) = 10.0975\n",
      "2024-04-10 15:18:27,716 - DEBUG - matplotlib.font_manager - findfont: score(FontEntry(fname='C:\\\\Windows\\\\Fonts\\\\FRAHV.TTF', name='Franklin Gothic Heavy', style='normal', variant='normal', weight=400, stretch='normal', size='scalable')) = 10.05\n",
      "2024-04-10 15:18:27,717 - DEBUG - matplotlib.font_manager - findfont: Matching sans\\-serif:style=normal:variant=normal:weight=normal:stretch=normal:size=10.0 to DejaVu Sans ('c:\\\\Blog\\\\How-to-Finetuning-Large-Language-Models\\\\.venv\\\\lib\\\\site-packages\\\\matplotlib\\\\mpl-data\\\\fonts\\\\ttf\\\\DejaVuSans.ttf') with score of 0.050000.\n",
      "2024-04-10 15:18:27,803 - DEBUG - matplotlib.font_manager - findfont: Matching sans\\-serif:style=normal:variant=normal:weight=normal:stretch=normal:size=12.0.\n",
      "2024-04-10 15:18:27,808 - DEBUG - matplotlib.font_manager - findfont: score(FontEntry(fname='c:\\\\Blog\\\\How-to-Finetuning-Large-Language-Models\\\\.venv\\\\lib\\\\site-packages\\\\matplotlib\\\\mpl-data\\\\fonts\\\\ttf\\\\DejaVuSansMono-BoldOblique.ttf', name='DejaVu Sans Mono', style='oblique', variant='normal', weight=700, stretch='normal', size='scalable')) = 11.335\n",
      "2024-04-10 15:18:27,809 - DEBUG - matplotlib.font_manager - findfont: score(FontEntry(fname='c:\\\\Blog\\\\How-to-Finetuning-Large-Language-Models\\\\.venv\\\\lib\\\\site-packages\\\\matplotlib\\\\mpl-data\\\\fonts\\\\ttf\\\\cmtt10.ttf', name='cmtt10', style='normal', variant='normal', weight=400, stretch='normal', size='scalable')) = 10.05\n",
      "2024-04-10 15:18:27,810 - DEBUG - matplotlib.font_manager - findfont: score(FontEntry(fname='c:\\\\Blog\\\\How-to-Finetuning-Large-Language-Models\\\\.venv\\\\lib\\\\site-packages\\\\matplotlib\\\\mpl-data\\\\fonts\\\\ttf\\\\STIXSizOneSymReg.ttf', name='STIXSizeOneSym', style='normal', variant='normal', weight=400, stretch='normal', size='scalable')) = 10.05\n",
      "2024-04-10 15:18:27,813 - DEBUG - matplotlib.font_manager - findfont: score(FontEntry(fname='c:\\\\Blog\\\\How-to-Finetuning-Large-Language-Models\\\\.venv\\\\lib\\\\site-packages\\\\matplotlib\\\\mpl-data\\\\fonts\\\\ttf\\\\STIXSizTwoSymBol.ttf', name='STIXSizeTwoSym', style='normal', variant='normal', weight=700, stretch='normal', size='scalable')) = 10.335\n",
      "2024-04-10 15:18:27,814 - DEBUG - matplotlib.font_manager - findfont: score(FontEntry(fname='c:\\\\Blog\\\\How-to-Finetuning-Large-Language-Models\\\\.venv\\\\lib\\\\site-packages\\\\matplotlib\\\\mpl-data\\\\fonts\\\\ttf\\\\cmex10.ttf', name='cmex10', style='normal', variant='normal', weight=400, stretch='normal', size='scalable')) = 10.05\n",
      "2024-04-10 15:18:27,814 - DEBUG - matplotlib.font_manager - findfont: score(FontEntry(fname='c:\\\\Blog\\\\How-to-Finetuning-Large-Language-Models\\\\.venv\\\\lib\\\\site-packages\\\\matplotlib\\\\mpl-data\\\\fonts\\\\ttf\\\\cmb10.ttf', name='cmb10', style='normal', variant='normal', weight=400, stretch='normal', size='scalable')) = 10.05\n",
      "2024-04-10 15:18:27,815 - DEBUG - matplotlib.font_manager - findfont: score(FontEntry(fname='c:\\\\Blog\\\\How-to-Finetuning-Large-Language-Models\\\\.venv\\\\lib\\\\site-packages\\\\matplotlib\\\\mpl-data\\\\fonts\\\\ttf\\\\STIXSizFiveSymReg.ttf', name='STIXSizeFiveSym', style='normal', variant='normal', weight=400, stretch='normal', size='scalable')) = 10.05\n",
      "2024-04-10 15:18:27,817 - DEBUG - matplotlib.font_manager - findfont: score(FontEntry(fname='c:\\\\Blog\\\\How-to-Finetuning-Large-Language-Models\\\\.venv\\\\lib\\\\site-packages\\\\matplotlib\\\\mpl-data\\\\fonts\\\\ttf\\\\STIXSizFourSymReg.ttf', name='STIXSizeFourSym', style='normal', variant='normal', weight=400, stretch='normal', size='scalable')) = 10.05\n",
      "2024-04-10 15:18:27,820 - DEBUG - matplotlib.font_manager - findfont: score(FontEntry(fname='c:\\\\Blog\\\\How-to-Finetuning-Large-Language-Models\\\\.venv\\\\lib\\\\site-packages\\\\matplotlib\\\\mpl-data\\\\fonts\\\\ttf\\\\DejaVuSerif.ttf', name='DejaVu Serif', style='normal', variant='normal', weight=400, stretch='normal', size='scalable')) = 10.05\n",
      "2024-04-10 15:18:27,826 - DEBUG - matplotlib.font_manager - findfont: score(FontEntry(fname='c:\\\\Blog\\\\How-to-Finetuning-Large-Language-Models\\\\.venv\\\\lib\\\\site-packages\\\\matplotlib\\\\mpl-data\\\\fonts\\\\ttf\\\\DejaVuSans-BoldOblique.ttf', name='DejaVu Sans', style='oblique', variant='normal', weight=700, stretch='normal', size='scalable')) = 1.335\n",
      "2024-04-10 15:18:27,828 - DEBUG - matplotlib.font_manager - findfont: score(FontEntry(fname='c:\\\\Blog\\\\How-to-Finetuning-Large-Language-Models\\\\.venv\\\\lib\\\\site-packages\\\\matplotlib\\\\mpl-data\\\\fonts\\\\ttf\\\\DejaVuSerifDisplay.ttf', name='DejaVu Serif Display', style='normal', variant='normal', weight=400, stretch='normal', size='scalable')) = 10.05\n",
      "2024-04-10 15:18:27,829 - DEBUG - matplotlib.font_manager - findfont: score(FontEntry(fname='c:\\\\Blog\\\\How-to-Finetuning-Large-Language-Models\\\\.venv\\\\lib\\\\site-packages\\\\matplotlib\\\\mpl-data\\\\fonts\\\\ttf\\\\STIXGeneral.ttf', name='STIXGeneral', style='normal', variant='normal', weight=400, stretch='normal', size='scalable')) = 10.05\n",
      "2024-04-10 15:18:27,830 - DEBUG - matplotlib.font_manager - findfont: score(FontEntry(fname='c:\\\\Blog\\\\How-to-Finetuning-Large-Language-Models\\\\.venv\\\\lib\\\\site-packages\\\\matplotlib\\\\mpl-data\\\\fonts\\\\ttf\\\\DejaVuSerif-Italic.ttf', name='DejaVu Serif', style='italic', variant='normal', weight=400, stretch='normal', size='scalable')) = 11.05\n",
      "2024-04-10 15:18:27,835 - DEBUG - matplotlib.font_manager - findfont: score(FontEntry(fname='c:\\\\Blog\\\\How-to-Finetuning-Large-Language-Models\\\\.venv\\\\lib\\\\site-packages\\\\matplotlib\\\\mpl-data\\\\fonts\\\\ttf\\\\STIXSizThreeSymBol.ttf', name='STIXSizeThreeSym', style='normal', variant='normal', weight=700, stretch='normal', size='scalable')) = 10.335\n",
      "2024-04-10 15:18:27,836 - DEBUG - matplotlib.font_manager - findfont: score(FontEntry(fname='c:\\\\Blog\\\\How-to-Finetuning-Large-Language-Models\\\\.venv\\\\lib\\\\site-packages\\\\matplotlib\\\\mpl-data\\\\fonts\\\\ttf\\\\DejaVuSans-Oblique.ttf', name='DejaVu Sans', style='oblique', variant='normal', weight=400, stretch='normal', size='scalable')) = 1.05\n",
      "2024-04-10 15:18:27,837 - DEBUG - matplotlib.font_manager - findfont: score(FontEntry(fname='c:\\\\Blog\\\\How-to-Finetuning-Large-Language-Models\\\\.venv\\\\lib\\\\site-packages\\\\matplotlib\\\\mpl-data\\\\fonts\\\\ttf\\\\cmr10.ttf', name='cmr10', style='normal', variant='normal', weight=400, stretch='normal', size='scalable')) = 10.05\n",
      "2024-04-10 15:18:27,838 - DEBUG - matplotlib.font_manager - findfont: score(FontEntry(fname='c:\\\\Blog\\\\How-to-Finetuning-Large-Language-Models\\\\.venv\\\\lib\\\\site-packages\\\\matplotlib\\\\mpl-data\\\\fonts\\\\ttf\\\\DejaVuSansMono-Bold.ttf', name='DejaVu Sans Mono', style='normal', variant='normal', weight=700, stretch='normal', size='scalable')) = 10.335\n",
      "2024-04-10 15:18:27,838 - DEBUG - matplotlib.font_manager - findfont: score(FontEntry(fname='c:\\\\Blog\\\\How-to-Finetuning-Large-Language-Models\\\\.venv\\\\lib\\\\site-packages\\\\matplotlib\\\\mpl-data\\\\fonts\\\\ttf\\\\STIXGeneralBolIta.ttf', name='STIXGeneral', style='italic', variant='normal', weight=700, stretch='normal', size='scalable')) = 11.335\n",
      "2024-04-10 15:18:27,840 - DEBUG - matplotlib.font_manager - findfont: score(FontEntry(fname='c:\\\\Blog\\\\How-to-Finetuning-Large-Language-Models\\\\.venv\\\\lib\\\\site-packages\\\\matplotlib\\\\mpl-data\\\\fonts\\\\ttf\\\\STIXNonUni.ttf', name='STIXNonUnicode', style='normal', variant='normal', weight=400, stretch='normal', size='scalable')) = 10.05\n",
      "2024-04-10 15:18:27,841 - DEBUG - matplotlib.font_manager - findfont: score(FontEntry(fname='c:\\\\Blog\\\\How-to-Finetuning-Large-Language-Models\\\\.venv\\\\lib\\\\site-packages\\\\matplotlib\\\\mpl-data\\\\fonts\\\\ttf\\\\STIXNonUniIta.ttf', name='STIXNonUnicode', style='italic', variant='normal', weight=400, stretch='normal', size='scalable')) = 11.05\n",
      "2024-04-10 15:18:27,842 - DEBUG - matplotlib.font_manager - findfont: score(FontEntry(fname='c:\\\\Blog\\\\How-to-Finetuning-Large-Language-Models\\\\.venv\\\\lib\\\\site-packages\\\\matplotlib\\\\mpl-data\\\\fonts\\\\ttf\\\\STIXSizOneSymBol.ttf', name='STIXSizeOneSym', style='normal', variant='normal', weight=700, stretch='normal', size='scalable')) = 10.335\n",
      "2024-04-10 15:18:27,842 - DEBUG - matplotlib.font_manager - findfont: score(FontEntry(fname='c:\\\\Blog\\\\How-to-Finetuning-Large-Language-Models\\\\.venv\\\\lib\\\\site-packages\\\\matplotlib\\\\mpl-data\\\\fonts\\\\ttf\\\\cmsy10.ttf', name='cmsy10', style='normal', variant='normal', weight=400, stretch='normal', size='scalable')) = 10.05\n",
      "2024-04-10 15:18:27,843 - DEBUG - matplotlib.font_manager - findfont: score(FontEntry(fname='c:\\\\Blog\\\\How-to-Finetuning-Large-Language-Models\\\\.venv\\\\lib\\\\site-packages\\\\matplotlib\\\\mpl-data\\\\fonts\\\\ttf\\\\STIXNonUniBol.ttf', name='STIXNonUnicode', style='normal', variant='normal', weight=700, stretch='normal', size='scalable')) = 10.335\n",
      "2024-04-10 15:18:27,844 - DEBUG - matplotlib.font_manager - findfont: score(FontEntry(fname='c:\\\\Blog\\\\How-to-Finetuning-Large-Language-Models\\\\.venv\\\\lib\\\\site-packages\\\\matplotlib\\\\mpl-data\\\\fonts\\\\ttf\\\\STIXSizTwoSymReg.ttf', name='STIXSizeTwoSym', style='normal', variant='normal', weight=400, stretch='normal', size='scalable')) = 10.05\n",
      "2024-04-10 15:18:27,845 - DEBUG - matplotlib.font_manager - findfont: score(FontEntry(fname='c:\\\\Blog\\\\How-to-Finetuning-Large-Language-Models\\\\.venv\\\\lib\\\\site-packages\\\\matplotlib\\\\mpl-data\\\\fonts\\\\ttf\\\\DejaVuSans.ttf', name='DejaVu Sans', style='normal', variant='normal', weight=400, stretch='normal', size='scalable')) = 0.05\n",
      "2024-04-10 15:18:27,845 - DEBUG - matplotlib.font_manager - findfont: score(FontEntry(fname='c:\\\\Blog\\\\How-to-Finetuning-Large-Language-Models\\\\.venv\\\\lib\\\\site-packages\\\\matplotlib\\\\mpl-data\\\\fonts\\\\ttf\\\\DejaVuSerif-BoldItalic.ttf', name='DejaVu Serif', style='italic', variant='normal', weight=700, stretch='normal', size='scalable')) = 11.335\n",
      "2024-04-10 15:18:27,846 - DEBUG - matplotlib.font_manager - findfont: score(FontEntry(fname='c:\\\\Blog\\\\How-to-Finetuning-Large-Language-Models\\\\.venv\\\\lib\\\\site-packages\\\\matplotlib\\\\mpl-data\\\\fonts\\\\ttf\\\\DejaVuSansDisplay.ttf', name='DejaVu Sans Display', style='normal', variant='normal', weight=400, stretch='normal', size='scalable')) = 10.05\n",
      "2024-04-10 15:18:27,847 - DEBUG - matplotlib.font_manager - findfont: score(FontEntry(fname='c:\\\\Blog\\\\How-to-Finetuning-Large-Language-Models\\\\.venv\\\\lib\\\\site-packages\\\\matplotlib\\\\mpl-data\\\\fonts\\\\ttf\\\\cmmi10.ttf', name='cmmi10', style='normal', variant='normal', weight=400, stretch='normal', size='scalable')) = 10.05\n",
      "2024-04-10 15:18:27,848 - DEBUG - matplotlib.font_manager - findfont: score(FontEntry(fname='c:\\\\Blog\\\\How-to-Finetuning-Large-Language-Models\\\\.venv\\\\lib\\\\site-packages\\\\matplotlib\\\\mpl-data\\\\fonts\\\\ttf\\\\DejaVuSans-Bold.ttf', name='DejaVu Sans', style='normal', variant='normal', weight=700, stretch='normal', size='scalable')) = 0.33499999999999996\n",
      "2024-04-10 15:18:27,848 - DEBUG - matplotlib.font_manager - findfont: score(FontEntry(fname='c:\\\\Blog\\\\How-to-Finetuning-Large-Language-Models\\\\.venv\\\\lib\\\\site-packages\\\\matplotlib\\\\mpl-data\\\\fonts\\\\ttf\\\\DejaVuSerif-Bold.ttf', name='DejaVu Serif', style='normal', variant='normal', weight=700, stretch='normal', size='scalable')) = 10.335\n",
      "2024-04-10 15:18:27,849 - DEBUG - matplotlib.font_manager - findfont: score(FontEntry(fname='c:\\\\Blog\\\\How-to-Finetuning-Large-Language-Models\\\\.venv\\\\lib\\\\site-packages\\\\matplotlib\\\\mpl-data\\\\fonts\\\\ttf\\\\STIXNonUniBolIta.ttf', name='STIXNonUnicode', style='italic', variant='normal', weight=700, stretch='normal', size='scalable')) = 11.335\n",
      "2024-04-10 15:18:27,850 - DEBUG - matplotlib.font_manager - findfont: score(FontEntry(fname='c:\\\\Blog\\\\How-to-Finetuning-Large-Language-Models\\\\.venv\\\\lib\\\\site-packages\\\\matplotlib\\\\mpl-data\\\\fonts\\\\ttf\\\\STIXSizThreeSymReg.ttf', name='STIXSizeThreeSym', style='normal', variant='normal', weight=400, stretch='normal', size='scalable')) = 10.05\n",
      "2024-04-10 15:18:27,850 - DEBUG - matplotlib.font_manager - findfont: score(FontEntry(fname='c:\\\\Blog\\\\How-to-Finetuning-Large-Language-Models\\\\.venv\\\\lib\\\\site-packages\\\\matplotlib\\\\mpl-data\\\\fonts\\\\ttf\\\\cmss10.ttf', name='cmss10', style='normal', variant='normal', weight=400, stretch='normal', size='scalable')) = 10.05\n",
      "2024-04-10 15:18:27,851 - DEBUG - matplotlib.font_manager - findfont: score(FontEntry(fname='c:\\\\Blog\\\\How-to-Finetuning-Large-Language-Models\\\\.venv\\\\lib\\\\site-packages\\\\matplotlib\\\\mpl-data\\\\fonts\\\\ttf\\\\STIXGeneralBol.ttf', name='STIXGeneral', style='normal', variant='normal', weight=700, stretch='normal', size='scalable')) = 10.335\n",
      "2024-04-10 15:18:27,851 - DEBUG - matplotlib.font_manager - findfont: score(FontEntry(fname='c:\\\\Blog\\\\How-to-Finetuning-Large-Language-Models\\\\.venv\\\\lib\\\\site-packages\\\\matplotlib\\\\mpl-data\\\\fonts\\\\ttf\\\\STIXSizFourSymBol.ttf', name='STIXSizeFourSym', style='normal', variant='normal', weight=700, stretch='normal', size='scalable')) = 10.335\n",
      "2024-04-10 15:18:27,852 - DEBUG - matplotlib.font_manager - findfont: score(FontEntry(fname='c:\\\\Blog\\\\How-to-Finetuning-Large-Language-Models\\\\.venv\\\\lib\\\\site-packages\\\\matplotlib\\\\mpl-data\\\\fonts\\\\ttf\\\\STIXGeneralItalic.ttf', name='STIXGeneral', style='italic', variant='normal', weight=400, stretch='normal', size='scalable')) = 11.05\n",
      "2024-04-10 15:18:27,853 - DEBUG - matplotlib.font_manager - findfont: score(FontEntry(fname='c:\\\\Blog\\\\How-to-Finetuning-Large-Language-Models\\\\.venv\\\\lib\\\\site-packages\\\\matplotlib\\\\mpl-data\\\\fonts\\\\ttf\\\\DejaVuSansMono.ttf', name='DejaVu Sans Mono', style='normal', variant='normal', weight=400, stretch='normal', size='scalable')) = 10.05\n",
      "2024-04-10 15:18:27,853 - DEBUG - matplotlib.font_manager - findfont: score(FontEntry(fname='c:\\\\Blog\\\\How-to-Finetuning-Large-Language-Models\\\\.venv\\\\lib\\\\site-packages\\\\matplotlib\\\\mpl-data\\\\fonts\\\\ttf\\\\DejaVuSansMono-Oblique.ttf', name='DejaVu Sans Mono', style='oblique', variant='normal', weight=400, stretch='normal', size='scalable')) = 11.05\n",
      "2024-04-10 15:18:27,853 - DEBUG - matplotlib.font_manager - findfont: score(FontEntry(fname='C:\\\\Windows\\\\Fonts\\\\PARCHM.TTF', name='Parchment', style='normal', variant='normal', weight=400, stretch='normal', size='scalable')) = 10.05\n",
      "2024-04-10 15:18:27,855 - DEBUG - matplotlib.font_manager - findfont: score(FontEntry(fname='C:\\\\Windows\\\\Fonts\\\\cambriai.ttf', name='Cambria', style='italic', variant='normal', weight=400, stretch='normal', size='scalable')) = 11.05\n",
      "2024-04-10 15:18:27,856 - DEBUG - matplotlib.font_manager - findfont: score(FontEntry(fname='C:\\\\Windows\\\\Fonts\\\\IBMPlexThai-Light.ttf', name='IBM Plex Thai', style='normal', variant='normal', weight=300, stretch='normal', size='scalable')) = 10.145\n",
      "2024-04-10 15:18:27,856 - DEBUG - matplotlib.font_manager - findfont: score(FontEntry(fname='C:\\\\Windows\\\\Fonts\\\\TCBI____.TTF', name='Tw Cen MT', style='italic', variant='normal', weight=700, stretch='normal', size='scalable')) = 11.335\n",
      "2024-04-10 15:18:27,857 - DEBUG - matplotlib.font_manager - findfont: score(FontEntry(fname='C:\\\\Windows\\\\Fonts\\\\IBMPlexMono-Italic.ttf', name='IBM Plex Mono', style='italic', variant='normal', weight=400, stretch='normal', size='scalable')) = 11.05\n",
      "2024-04-10 15:18:27,858 - DEBUG - matplotlib.font_manager - findfont: score(FontEntry(fname='C:\\\\Windows\\\\Fonts\\\\IBMPlexSansArabic-ExtraLight.ttf', name='IBM Plex Sans Arabic', style='normal', variant='normal', weight=200, stretch='normal', size='scalable')) = 10.24\n",
      "2024-04-10 15:18:27,859 - DEBUG - matplotlib.font_manager - findfont: score(FontEntry(fname='C:\\\\Windows\\\\Fonts\\\\pala.ttf', name='Palatino Linotype', style='normal', variant='normal', weight=400, stretch='normal', size='scalable')) = 10.05\n",
      "2024-04-10 15:18:27,859 - DEBUG - matplotlib.font_manager - findfont: score(FontEntry(fname='C:\\\\Windows\\\\Fonts\\\\palab.ttf', name='Palatino Linotype', style='normal', variant='normal', weight=700, stretch='normal', size='scalable')) = 10.335\n",
      "2024-04-10 15:18:27,860 - DEBUG - matplotlib.font_manager - findfont: score(FontEntry(fname='C:\\\\Windows\\\\Fonts\\\\bahnschrift.ttf', name='Bahnschrift', style='normal', variant='normal', weight=400, stretch='normal', size='scalable')) = 10.05\n",
      "2024-04-10 15:18:27,860 - DEBUG - matplotlib.font_manager - findfont: score(FontEntry(fname='C:\\\\Windows\\\\Fonts\\\\CALISTI.TTF', name='Calisto MT', style='italic', variant='normal', weight=400, stretch='normal', size='scalable')) = 11.05\n",
      "2024-04-10 15:18:27,861 - DEBUG - matplotlib.font_manager - findfont: score(FontEntry(fname='C:\\\\Windows\\\\Fonts\\\\IBMPlexSansKR-Medium.ttf', name='IBM Plex Sans KR', style='normal', variant='normal', weight=500, stretch='normal', size='scalable')) = 10.145\n",
      "2024-04-10 15:18:27,861 - DEBUG - matplotlib.font_manager - findfont: score(FontEntry(fname='C:\\\\Windows\\\\Fonts\\\\IBMPlexSerif-Medium.ttf', name='IBM Plex Serif', style='normal', variant='normal', weight=500, stretch='normal', size='scalable')) = 10.145\n",
      "2024-04-10 15:18:27,862 - DEBUG - matplotlib.font_manager - findfont: score(FontEntry(fname='C:\\\\Windows\\\\Fonts\\\\PERBI___.TTF', name='Perpetua', style='italic', variant='normal', weight=700, stretch='normal', size='scalable')) = 11.335\n",
      "2024-04-10 15:18:27,863 - DEBUG - matplotlib.font_manager - findfont: score(FontEntry(fname='C:\\\\Windows\\\\Fonts\\\\IBMPlexSerif-ThinItalic.ttf', name='IBM Plex Serif', style='italic', variant='normal', weight=100, stretch='normal', size='scalable')) = 11.335\n",
      "2024-04-10 15:18:27,864 - DEBUG - matplotlib.font_manager - findfont: score(FontEntry(fname='C:\\\\Windows\\\\Fonts\\\\ANTQUABI.TTF', name='Book Antiqua', style='italic', variant='normal', weight=700, stretch='normal', size='scalable')) = 11.335\n",
      "2024-04-10 15:18:27,865 - DEBUG - matplotlib.font_manager - findfont: score(FontEntry(fname='C:\\\\Windows\\\\Fonts\\\\IBMPlexSansCondensed-ExtraLight.ttf', name='IBM Plex Sans Condensed', style='normal', variant='normal', weight=200, stretch='condensed', size='scalable')) = 10.44\n",
      "2024-04-10 15:18:27,865 - DEBUG - matplotlib.font_manager - findfont: score(FontEntry(fname='C:\\\\Windows\\\\Fonts\\\\OCRAEXT.TTF', name='OCR A Extended', style='normal', variant='normal', weight=400, stretch='expanded', size='scalable')) = 10.25\n",
      "2024-04-10 15:18:27,866 - DEBUG - matplotlib.font_manager - findfont: score(FontEntry(fname='C:\\\\Windows\\\\Fonts\\\\IBMPlexSansJP-SemiBold.ttf', name='IBM Plex Sans JP', style='normal', variant='normal', weight=600, stretch='normal', size='scalable')) = 10.24\n",
      "2024-04-10 15:18:27,867 - DEBUG - matplotlib.font_manager - findfont: score(FontEntry(fname='C:\\\\Windows\\\\Fonts\\\\BSSYM7.TTF', name='Bookshelf Symbol 7', style='normal', variant='normal', weight=400, stretch='normal', size='scalable')) = 10.05\n",
      "2024-04-10 15:18:27,868 - DEBUG - matplotlib.font_manager - findfont: score(FontEntry(fname='C:\\\\Windows\\\\Fonts\\\\IBMPlexMono-Bold.ttf', name='IBM Plex Mono', style='normal', variant='normal', weight=700, stretch='normal', size='scalable')) = 10.335\n",
      "2024-04-10 15:18:27,868 - DEBUG - matplotlib.font_manager - findfont: score(FontEntry(fname='C:\\\\Windows\\\\Fonts\\\\malgun.ttf', name='Malgun Gothic', style='normal', variant='normal', weight=400, stretch='normal', size='scalable')) = 10.05\n",
      "2024-04-10 15:18:27,870 - DEBUG - matplotlib.font_manager - findfont: score(FontEntry(fname='C:\\\\Windows\\\\Fonts\\\\taileb.ttf', name='Microsoft Tai Le', style='normal', variant='normal', weight=700, stretch='normal', size='scalable')) = 10.335\n",
      "2024-04-10 15:18:27,870 - DEBUG - matplotlib.font_manager - findfont: score(FontEntry(fname='C:\\\\Windows\\\\Fonts\\\\IBMPlexSerif-ExtraLightItalic.ttf', name='IBM Plex Serif', style='italic', variant='normal', weight=200, stretch='normal', size='scalable')) = 11.24\n",
      "2024-04-10 15:18:27,871 - DEBUG - matplotlib.font_manager - findfont: score(FontEntry(fname='C:\\\\Windows\\\\Fonts\\\\LSANSI.TTF', name='Lucida Sans', style='italic', variant='normal', weight=400, stretch='normal', size='scalable')) = 11.05\n",
      "2024-04-10 15:18:27,872 - DEBUG - matplotlib.font_manager - findfont: score(FontEntry(fname='C:\\\\Windows\\\\Fonts\\\\DUBAI-REGULAR.TTF', name='Dubai', style='normal', variant='normal', weight=400, stretch='normal', size='scalable')) = 10.05\n",
      "2024-04-10 15:18:27,873 - DEBUG - matplotlib.font_manager - findfont: score(FontEntry(fname='C:\\\\Windows\\\\Fonts\\\\GILB____.TTF', name='Gill Sans MT', style='normal', variant='normal', weight=700, stretch='normal', size='scalable')) = 10.335\n",
      "2024-04-10 15:18:27,874 - DEBUG - matplotlib.font_manager - findfont: score(FontEntry(fname='C:\\\\Windows\\\\Fonts\\\\mmrtextb.ttf', name='Myanmar Text', style='normal', variant='normal', weight=700, stretch='normal', size='scalable')) = 10.335\n",
      "2024-04-10 15:18:27,874 - DEBUG - matplotlib.font_manager - findfont: score(FontEntry(fname='C:\\\\Windows\\\\Fonts\\\\TEMPSITC.TTF', name='Tempus Sans ITC', style='normal', variant='normal', weight=400, stretch='normal', size='scalable')) = 10.05\n",
      "2024-04-10 15:18:27,875 - DEBUG - matplotlib.font_manager - findfont: score(FontEntry(fname='C:\\\\Windows\\\\Fonts\\\\IBMPlexSansThai-Thin.ttf', name='IBM Plex Sans Thai', style='normal', variant='normal', weight=100, stretch='normal', size='scalable')) = 10.335\n",
      "2024-04-10 15:18:27,876 - DEBUG - matplotlib.font_manager - findfont: score(FontEntry(fname='C:\\\\Windows\\\\Fonts\\\\ITCKRIST.TTF', name='Kristen ITC', style='normal', variant='normal', weight=400, stretch='normal', size='scalable')) = 10.05\n",
      "2024-04-10 15:18:27,877 - DEBUG - matplotlib.font_manager - findfont: score(FontEntry(fname='C:\\\\Windows\\\\Fonts\\\\GOUDOSI.TTF', name='Goudy Old Style', style='italic', variant='normal', weight=400, stretch='normal', size='scalable')) = 11.05\n",
      "2024-04-10 15:18:27,878 - DEBUG - matplotlib.font_manager - findfont: score(FontEntry(fname='C:\\\\Windows\\\\Fonts\\\\seguili.ttf', name='Segoe UI', style='italic', variant='normal', weight=300, stretch='normal', size='scalable')) = 11.145\n",
      "2024-04-10 15:18:27,879 - DEBUG - matplotlib.font_manager - findfont: score(FontEntry(fname='C:\\\\Windows\\\\Fonts\\\\LBRITEDI.TTF', name='Lucida Bright', style='italic', variant='normal', weight=600, stretch='normal', size='scalable')) = 11.24\n",
      "2024-04-10 15:18:27,879 - DEBUG - matplotlib.font_manager - findfont: score(FontEntry(fname='C:\\\\Windows\\\\Fonts\\\\courbd.ttf', name='Courier New', style='normal', variant='normal', weight=700, stretch='normal', size='scalable')) = 10.335\n",
      "2024-04-10 15:18:27,880 - DEBUG - matplotlib.font_manager - findfont: score(FontEntry(fname='C:\\\\Windows\\\\Fonts\\\\DUBAI-LIGHT.TTF', name='Dubai', style='normal', variant='normal', weight=300, stretch='normal', size='scalable')) = 10.145\n",
      "2024-04-10 15:18:27,881 - DEBUG - matplotlib.font_manager - findfont: score(FontEntry(fname='C:\\\\Windows\\\\Fonts\\\\segoepr.ttf', name='Segoe Print', style='normal', variant='normal', weight=400, stretch='normal', size='scalable')) = 10.05\n",
      "2024-04-10 15:18:27,881 - DEBUG - matplotlib.font_manager - findfont: score(FontEntry(fname='C:\\\\Windows\\\\Fonts\\\\COLONNA.TTF', name='Colonna MT', style='normal', variant='normal', weight=400, stretch='normal', size='scalable')) = 10.05\n",
      "2024-04-10 15:18:27,882 - DEBUG - matplotlib.font_manager - findfont: score(FontEntry(fname='C:\\\\Windows\\\\Fonts\\\\PER_____.TTF', name='Perpetua', style='normal', variant='normal', weight=400, stretch='normal', size='scalable')) = 10.05\n",
      "2024-04-10 15:18:27,883 - DEBUG - matplotlib.font_manager - findfont: score(FontEntry(fname='C:\\\\Windows\\\\Fonts\\\\taile.ttf', name='Microsoft Tai Le', style='normal', variant='normal', weight=400, stretch='normal', size='scalable')) = 10.05\n",
      "2024-04-10 15:18:27,884 - DEBUG - matplotlib.font_manager - findfont: score(FontEntry(fname='C:\\\\Windows\\\\Fonts\\\\palai.ttf', name='Palatino Linotype', style='italic', variant='normal', weight=400, stretch='normal', size='scalable')) = 11.05\n",
      "2024-04-10 15:18:27,884 - DEBUG - matplotlib.font_manager - findfont: score(FontEntry(fname='C:\\\\Windows\\\\Fonts\\\\seguibli.ttf', name='Segoe UI', style='italic', variant='normal', weight=900, stretch='normal', size='scalable')) = 11.525\n",
      "2024-04-10 15:18:27,885 - DEBUG - matplotlib.font_manager - findfont: score(FontEntry(fname='C:\\\\Windows\\\\Fonts\\\\impact.ttf', name='Impact', style='normal', variant='normal', weight=400, stretch='normal', size='scalable')) = 10.05\n",
      "2024-04-10 15:18:27,886 - DEBUG - matplotlib.font_manager - findfont: score(FontEntry(fname='C:\\\\Windows\\\\Fonts\\\\NirmalaS.ttf', name='Nirmala UI', style='normal', variant='normal', weight=350, stretch='normal', size='scalable')) = 10.0975\n",
      "2024-04-10 15:18:27,886 - DEBUG - matplotlib.font_manager - findfont: score(FontEntry(fname='C:\\\\Windows\\\\Fonts\\\\BOD_BLAI.TTF', name='Bodoni MT', style='italic', variant='normal', weight=900, stretch='normal', size='scalable')) = 11.525\n",
      "2024-04-10 15:18:27,887 - DEBUG - matplotlib.font_manager - findfont: score(FontEntry(fname='C:\\\\Windows\\\\Fonts\\\\LTYPE.TTF', name='Lucida Sans Typewriter', style='normal', variant='normal', weight=400, stretch='normal', size='scalable')) = 10.05\n",
      "2024-04-10 15:18:27,888 - DEBUG - matplotlib.font_manager - findfont: score(FontEntry(fname='C:\\\\Windows\\\\Fonts\\\\BOOKOSI.TTF', name='Bookman Old Style', style='italic', variant='normal', weight=300, stretch='normal', size='scalable')) = 11.145\n",
      "2024-04-10 15:18:27,888 - DEBUG - matplotlib.font_manager - findfont: score(FontEntry(fname='C:\\\\Windows\\\\Fonts\\\\IBMPlexSans-ExtraLightItalic.ttf', name='IBM Plex Sans', style='italic', variant='normal', weight=200, stretch='normal', size='scalable')) = 11.24\n",
      "2024-04-10 15:18:27,890 - DEBUG - matplotlib.font_manager - findfont: score(FontEntry(fname='C:\\\\Windows\\\\Fonts\\\\LCALLIG.TTF', name='Lucida Calligraphy', style='italic', variant='normal', weight=400, stretch='normal', size='scalable')) = 11.05\n",
      "2024-04-10 15:18:27,890 - DEBUG - matplotlib.font_manager - findfont: score(FontEntry(fname='C:\\\\Windows\\\\Fonts\\\\msjhl.ttc', name='Microsoft JhengHei', style='normal', variant='normal', weight=290, stretch='normal', size='scalable')) = 10.1545\n",
      "2024-04-10 15:18:27,891 - DEBUG - matplotlib.font_manager - findfont: score(FontEntry(fname='C:\\\\Windows\\\\Fonts\\\\IBMPlexSansCondensed-Italic.ttf', name='IBM Plex Sans Condensed', style='italic', variant='normal', weight=400, stretch='condensed', size='scalable')) = 11.25\n",
      "2024-04-10 15:18:27,892 - DEBUG - matplotlib.font_manager - findfont: score(FontEntry(fname='C:\\\\Windows\\\\Fonts\\\\mingliub.ttc', name='MingLiU-ExtB', style='normal', variant='normal', weight=400, stretch='normal', size='scalable')) = 10.05\n",
      "2024-04-10 15:18:27,893 - DEBUG - matplotlib.font_manager - findfont: score(FontEntry(fname='C:\\\\Windows\\\\Fonts\\\\malgunbd.ttf', name='Malgun Gothic', style='normal', variant='normal', weight=700, stretch='normal', size='scalable')) = 10.335\n",
      "2024-04-10 15:18:27,893 - DEBUG - matplotlib.font_manager - findfont: score(FontEntry(fname='C:\\\\Windows\\\\Fonts\\\\ITCBLKAD.TTF', name='Blackadder ITC', style='normal', variant='normal', weight=400, stretch='normal', size='scalable')) = 10.05\n",
      "2024-04-10 15:18:27,894 - DEBUG - matplotlib.font_manager - findfont: score(FontEntry(fname='C:\\\\Windows\\\\Fonts\\\\BRADHITC.TTF', name='Bradley Hand ITC', style='normal', variant='normal', weight=400, stretch='normal', size='scalable')) = 10.05\n",
      "2024-04-10 15:18:27,895 - DEBUG - matplotlib.font_manager - findfont: score(FontEntry(fname='C:\\\\Windows\\\\Fonts\\\\BOD_CB.TTF', name='Bodoni MT', style='normal', variant='normal', weight=700, stretch='condensed', size='scalable')) = 10.535\n",
      "2024-04-10 15:18:27,896 - DEBUG - matplotlib.font_manager - findfont: score(FontEntry(fname='C:\\\\Windows\\\\Fonts\\\\SitkaVF-Italic.ttf', name='Sitka', style='italic', variant='normal', weight=400, stretch='normal', size='scalable')) = 11.05\n",
      "2024-04-10 15:18:27,897 - DEBUG - matplotlib.font_manager - findfont: score(FontEntry(fname='C:\\\\Windows\\\\Fonts\\\\COPRGTL.TTF', name='Copperplate Gothic Light', style='normal', variant='normal', weight=400, stretch='normal', size='scalable')) = 10.05\n",
      "2024-04-10 15:18:27,897 - DEBUG - matplotlib.font_manager - findfont: score(FontEntry(fname='C:\\\\Windows\\\\Fonts\\\\LBRITED.TTF', name='Lucida Bright', style='normal', variant='normal', weight=600, stretch='normal', size='scalable')) = 10.24\n",
      "2024-04-10 15:18:27,898 - DEBUG - matplotlib.font_manager - findfont: score(FontEntry(fname='C:\\\\Windows\\\\Fonts\\\\LHANDW.TTF', name='Lucida Handwriting', style='italic', variant='normal', weight=400, stretch='normal', size='scalable')) = 11.05\n",
      "2024-04-10 15:18:27,899 - DEBUG - matplotlib.font_manager - findfont: score(FontEntry(fname='C:\\\\Windows\\\\Fonts\\\\holomdl2.ttf', name='HoloLens MDL2 Assets', style='normal', variant='normal', weight=400, stretch='normal', size='scalable')) = 10.05\n",
      "2024-04-10 15:18:27,899 - DEBUG - matplotlib.font_manager - findfont: score(FontEntry(fname='C:\\\\Windows\\\\Fonts\\\\HTOWERTI.TTF', name='High Tower Text', style='italic', variant='normal', weight=400, stretch='normal', size='scalable')) = 11.05\n",
      "2024-04-10 15:18:27,900 - DEBUG - matplotlib.font_manager - findfont: score(FontEntry(fname='C:\\\\Windows\\\\Fonts\\\\ntailu.ttf', name='Microsoft New Tai Lue', style='normal', variant='normal', weight=400, stretch='normal', size='scalable')) = 10.05\n",
      "2024-04-10 15:18:27,901 - DEBUG - matplotlib.font_manager - findfont: score(FontEntry(fname='C:\\\\Windows\\\\Fonts\\\\GILI____.TTF', name='Gill Sans MT', style='italic', variant='normal', weight=400, stretch='normal', size='scalable')) = 11.05\n",
      "2024-04-10 15:18:27,902 - DEBUG - matplotlib.font_manager - findfont: score(FontEntry(fname='C:\\\\Windows\\\\Fonts\\\\BRUSHSCI.TTF', name='Brush Script MT', style='italic', variant='normal', weight=400, stretch='normal', size='scalable')) = 11.05\n",
      "2024-04-10 15:18:27,903 - DEBUG - matplotlib.font_manager - findfont: score(FontEntry(fname='C:\\\\Windows\\\\Fonts\\\\IBMPlexSansArabic-Regular.ttf', name='IBM Plex Sans Arabic', style='normal', variant='normal', weight=400, stretch='normal', size='scalable')) = 10.05\n",
      "2024-04-10 15:18:27,903 - DEBUG - matplotlib.font_manager - findfont: score(FontEntry(fname='C:\\\\Windows\\\\Fonts\\\\AGENCYR.TTF', name='Agency FB', style='normal', variant='normal', weight=400, stretch='normal', size='scalable')) = 10.05\n",
      "2024-04-10 15:18:27,904 - DEBUG - matplotlib.font_manager - findfont: score(FontEntry(fname='C:\\\\Windows\\\\Fonts\\\\GILLUBCD.TTF', name='Gill Sans Ultra Bold Condensed', style='normal', variant='normal', weight=400, stretch='condensed', size='scalable')) = 10.25\n",
      "2024-04-10 15:18:27,905 - DEBUG - matplotlib.font_manager - findfont: score(FontEntry(fname='C:\\\\Windows\\\\Fonts\\\\IBMPlexSansThai-SemiBold.ttf', name='IBM Plex Sans Thai', style='normal', variant='normal', weight=600, stretch='normal', size='scalable')) = 10.24\n",
      "2024-04-10 15:18:27,906 - DEBUG - matplotlib.font_manager - findfont: score(FontEntry(fname='C:\\\\Windows\\\\Fonts\\\\constani.ttf', name='Constantia', style='italic', variant='normal', weight=400, stretch='normal', size='scalable')) = 11.05\n",
      "2024-04-10 15:18:27,906 - DEBUG - matplotlib.font_manager - findfont: score(FontEntry(fname='C:\\\\Windows\\\\Fonts\\\\BERNHC.TTF', name='Bernard MT Condensed', style='normal', variant='normal', weight=400, stretch='condensed', size='scalable')) = 10.25\n",
      "2024-04-10 15:18:27,907 - DEBUG - matplotlib.font_manager - findfont: score(FontEntry(fname='C:\\\\Windows\\\\Fonts\\\\GARA.TTF', name='Garamond', style='normal', variant='normal', weight=400, stretch='normal', size='scalable')) = 10.05\n",
      "2024-04-10 15:18:27,909 - DEBUG - matplotlib.font_manager - findfont: score(FontEntry(fname='C:\\\\Windows\\\\Fonts\\\\corbell.ttf', name='Corbel', style='normal', variant='normal', weight=300, stretch='normal', size='scalable')) = 10.145\n",
      "2024-04-10 15:18:27,910 - DEBUG - matplotlib.font_manager - findfont: score(FontEntry(fname='C:\\\\Windows\\\\Fonts\\\\segoeuisl.ttf', name='Segoe UI', style='normal', variant='normal', weight=350, stretch='normal', size='scalable')) = 10.0975\n",
      "2024-04-10 15:18:27,911 - DEBUG - matplotlib.font_manager - findfont: score(FontEntry(fname='C:\\\\Windows\\\\Fonts\\\\ROCKBI.TTF', name='Rockwell', style='italic', variant='normal', weight=700, stretch='normal', size='scalable')) = 11.335\n",
      "2024-04-10 15:18:27,912 - DEBUG - matplotlib.font_manager - findfont: score(FontEntry(fname='C:\\\\Windows\\\\Fonts\\\\CHILLER.TTF', name='Chiller', style='normal', variant='normal', weight=400, stretch='normal', size='scalable')) = 10.05\n",
      "2024-04-10 15:18:27,913 - DEBUG - matplotlib.font_manager - findfont: score(FontEntry(fname='C:\\\\Windows\\\\Fonts\\\\GLSNECB.TTF', name='Gill Sans MT Ext Condensed Bold', style='normal', variant='normal', weight=400, stretch='condensed', size='scalable')) = 10.25\n",
      "2024-04-10 15:18:27,914 - DEBUG - matplotlib.font_manager - findfont: score(FontEntry(fname='C:\\\\Windows\\\\Fonts\\\\IBMPlexSansCondensed-ThinItalic.ttf', name='IBM Plex Sans Condensed', style='italic', variant='normal', weight=100, stretch='condensed', size='scalable')) = 11.535\n",
      "2024-04-10 15:18:27,915 - DEBUG - matplotlib.font_manager - findfont: score(FontEntry(fname='C:\\\\Windows\\\\Fonts\\\\LeelaUIb.ttf', name='Leelawadee UI', style='normal', variant='normal', weight=700, stretch='normal', size='scalable')) = 10.335\n",
      "2024-04-10 15:18:27,916 - DEBUG - matplotlib.font_manager - findfont: score(FontEntry(fname='C:\\\\Windows\\\\Fonts\\\\IBMPlexSansHebrew-Text.ttf', name='IBM Plex Sans Hebrew', style='normal', variant='normal', weight=450, stretch='normal', size='scalable')) = 10.0975\n",
      "2024-04-10 15:18:27,917 - DEBUG - matplotlib.font_manager - findfont: score(FontEntry(fname='C:\\\\Windows\\\\Fonts\\\\HARNGTON.TTF', name='Harrington', style='normal', variant='normal', weight=400, stretch='normal', size='scalable')) = 10.05\n",
      "2024-04-10 15:18:27,918 - DEBUG - matplotlib.font_manager - findfont: score(FontEntry(fname='C:\\\\Windows\\\\Fonts\\\\IBMPlexSansKR-Thin.ttf', name='IBM Plex Sans KR', style='normal', variant='normal', weight=100, stretch='normal', size='scalable')) = 10.335\n",
      "2024-04-10 15:18:27,918 - DEBUG - matplotlib.font_manager - findfont: score(FontEntry(fname='C:\\\\Windows\\\\Fonts\\\\monbaiti.ttf', name='Mongolian Baiti', style='normal', variant='normal', weight=400, stretch='normal', size='scalable')) = 10.05\n",
      "2024-04-10 15:18:27,919 - DEBUG - matplotlib.font_manager - findfont: score(FontEntry(fname='C:\\\\Windows\\\\Fonts\\\\FRADM.TTF', name='Franklin Gothic Demi', style='normal', variant='normal', weight=400, stretch='normal', size='scalable')) = 10.05\n",
      "2024-04-10 15:18:27,919 - DEBUG - matplotlib.font_manager - findfont: score(FontEntry(fname='C:\\\\Windows\\\\Fonts\\\\YuGothL.ttc', name='Yu Gothic', style='normal', variant='normal', weight=300, stretch='normal', size='scalable')) = 10.145\n",
      "2024-04-10 15:18:27,920 - DEBUG - matplotlib.font_manager - findfont: score(FontEntry(fname='C:\\\\Windows\\\\Fonts\\\\IBMPlexSans-Italic.ttf', name='IBM Plex Sans', style='italic', variant='normal', weight=400, stretch='normal', size='scalable')) = 11.05\n",
      "2024-04-10 15:18:27,920 - DEBUG - matplotlib.font_manager - findfont: score(FontEntry(fname='C:\\\\Windows\\\\Fonts\\\\CENTURY.TTF', name='Century', style='normal', variant='normal', weight=400, stretch='normal', size='scalable')) = 10.05\n",
      "2024-04-10 15:18:27,920 - DEBUG - matplotlib.font_manager - findfont: score(FontEntry(fname='C:\\\\Windows\\\\Fonts\\\\IBMPlexSansHebrew-Medium.ttf', name='IBM Plex Sans Hebrew', style='normal', variant='normal', weight=500, stretch='normal', size='scalable')) = 10.145\n",
      "2024-04-10 15:18:27,921 - DEBUG - matplotlib.font_manager - findfont: score(FontEntry(fname='C:\\\\Windows\\\\Fonts\\\\segoeui.ttf', name='Segoe UI', style='normal', variant='normal', weight=400, stretch='normal', size='scalable')) = 10.05\n",
      "2024-04-10 15:18:27,922 - DEBUG - matplotlib.font_manager - findfont: score(FontEntry(fname='C:\\\\Windows\\\\Fonts\\\\ROCKEB.TTF', name='Rockwell Extra Bold', style='normal', variant='normal', weight=800, stretch='normal', size='scalable')) = 10.43\n",
      "2024-04-10 15:18:27,922 - DEBUG - matplotlib.font_manager - findfont: score(FontEntry(fname='C:\\\\Windows\\\\Fonts\\\\KUNSTLER.TTF', name='Kunstler Script', style='normal', variant='normal', weight=400, stretch='normal', size='scalable')) = 10.05\n",
      "2024-04-10 15:18:27,923 - DEBUG - matplotlib.font_manager - findfont: score(FontEntry(fname='C:\\\\Windows\\\\Fonts\\\\simsunb.ttf', name='SimSun-ExtB', style='normal', variant='normal', weight=400, stretch='normal', size='scalable')) = 10.05\n",
      "2024-04-10 15:18:27,924 - DEBUG - matplotlib.font_manager - findfont: score(FontEntry(fname='C:\\\\Windows\\\\Fonts\\\\BKANT.TTF', name='Book Antiqua', style='normal', variant='normal', weight=400, stretch='normal', size='scalable')) = 10.05\n",
      "2024-04-10 15:18:27,925 - DEBUG - matplotlib.font_manager - findfont: score(FontEntry(fname='C:\\\\Windows\\\\Fonts\\\\IBMPlexSansDevanagari-ExtraLight.ttf', name='IBM Plex Sans Devanagari', style='normal', variant='normal', weight=200, stretch='normal', size='scalable')) = 10.24\n",
      "2024-04-10 15:18:27,925 - DEBUG - matplotlib.font_manager - findfont: score(FontEntry(fname='C:\\\\Windows\\\\Fonts\\\\MAIAN.TTF', name='Maiandra GD', style='normal', variant='normal', weight=400, stretch='normal', size='scalable')) = 10.05\n",
      "2024-04-10 15:18:27,926 - DEBUG - matplotlib.font_manager - findfont: score(FontEntry(fname='C:\\\\Windows\\\\Fonts\\\\BOOKOSBI.TTF', name='Bookman Old Style', style='italic', variant='normal', weight=600, stretch='normal', size='scalable')) = 11.24\n",
      "2024-04-10 15:18:27,927 - DEBUG - matplotlib.font_manager - findfont: score(FontEntry(fname='C:\\\\Windows\\\\Fonts\\\\IBMPlexSansThaiLooped-Thin.ttf', name='IBM Plex Sans Thai Looped', style='normal', variant='normal', weight=100, stretch='normal', size='scalable')) = 10.335\n",
      "2024-04-10 15:18:27,928 - DEBUG - matplotlib.font_manager - findfont: score(FontEntry(fname='C:\\\\Windows\\\\Fonts\\\\ALGER.TTF', name='Algerian', style='normal', variant='normal', weight=400, stretch='normal', size='scalable')) = 10.05\n",
      "2024-04-10 15:18:27,929 - DEBUG - matplotlib.font_manager - findfont: score(FontEntry(fname='C:\\\\Windows\\\\Fonts\\\\IBMPlexDevanagari-Regular.ttf', name='IBM Plex Devanagari', style='normal', variant='normal', weight=400, stretch='normal', size='scalable')) = 10.05\n",
      "2024-04-10 15:18:27,929 - DEBUG - matplotlib.font_manager - findfont: score(FontEntry(fname='C:\\\\Windows\\\\Fonts\\\\YuGothB.ttc', name='Yu Gothic', style='normal', variant='normal', weight=700, stretch='normal', size='scalable')) = 10.335\n",
      "2024-04-10 15:18:27,930 - DEBUG - matplotlib.font_manager - findfont: score(FontEntry(fname='C:\\\\Windows\\\\Fonts\\\\georgiai.ttf', name='Georgia', style='italic', variant='normal', weight=400, stretch='normal', size='scalable')) = 11.05\n",
      "2024-04-10 15:18:27,931 - DEBUG - matplotlib.font_manager - findfont: score(FontEntry(fname='C:\\\\Windows\\\\Fonts\\\\constan.ttf', name='Constantia', style='normal', variant='normal', weight=400, stretch='normal', size='scalable')) = 10.05\n",
      "2024-04-10 15:18:27,931 - DEBUG - matplotlib.font_manager - findfont: score(FontEntry(fname='C:\\\\Windows\\\\Fonts\\\\BRLNSDB.TTF', name='Berlin Sans FB Demi', style='normal', variant='normal', weight=700, stretch='normal', size='scalable')) = 10.335\n",
      "2024-04-10 15:18:27,932 - DEBUG - matplotlib.font_manager - findfont: score(FontEntry(fname='C:\\\\Windows\\\\Fonts\\\\ERASBD.TTF', name='Eras Bold ITC', style='normal', variant='normal', weight=400, stretch='normal', size='scalable')) = 10.05\n",
      "2024-04-10 15:18:27,933 - DEBUG - matplotlib.font_manager - findfont: score(FontEntry(fname='C:\\\\Windows\\\\Fonts\\\\ARIALNI.TTF', name='Arial', style='italic', variant='normal', weight=400, stretch='condensed', size='scalable')) = 7.613636363636363\n",
      "2024-04-10 15:18:27,934 - DEBUG - matplotlib.font_manager - findfont: score(FontEntry(fname='C:\\\\Windows\\\\Fonts\\\\constanz.ttf', name='Constantia', style='italic', variant='normal', weight=700, stretch='normal', size='scalable')) = 11.335\n",
      "2024-04-10 15:18:27,934 - DEBUG - matplotlib.font_manager - findfont: score(FontEntry(fname='C:\\\\Windows\\\\Fonts\\\\GIL_____.TTF', name='Gill Sans MT', style='normal', variant='normal', weight=400, stretch='normal', size='scalable')) = 10.05\n",
      "2024-04-10 15:18:27,935 - DEBUG - matplotlib.font_manager - findfont: score(FontEntry(fname='C:\\\\Windows\\\\Fonts\\\\IBMPlexMono-ExtraLightItalic.ttf', name='IBM Plex Mono', style='italic', variant='normal', weight=200, stretch='normal', size='scalable')) = 11.24\n",
      "2024-04-10 15:18:27,935 - DEBUG - matplotlib.font_manager - findfont: score(FontEntry(fname='C:\\\\Windows\\\\Fonts\\\\comici.ttf', name='Comic Sans MS', style='italic', variant='normal', weight=400, stretch='normal', size='scalable')) = 11.05\n",
      "2024-04-10 15:18:27,936 - DEBUG - matplotlib.font_manager - findfont: score(FontEntry(fname='C:\\\\Windows\\\\Fonts\\\\LEELAWDB.TTF', name='Leelawadee', style='normal', variant='normal', weight=700, stretch='normal', size='scalable')) = 10.335\n",
      "2024-04-10 15:18:27,937 - DEBUG - matplotlib.font_manager - findfont: score(FontEntry(fname='C:\\\\Windows\\\\Fonts\\\\Candarali.ttf', name='Candara', style='italic', variant='normal', weight=400, stretch='normal', size='scalable')) = 11.05\n",
      "2024-04-10 15:18:27,937 - DEBUG - matplotlib.font_manager - findfont: score(FontEntry(fname='C:\\\\Windows\\\\Fonts\\\\gadugi.ttf', name='Gadugi', style='normal', variant='normal', weight=400, stretch='normal', size='scalable')) = 10.05\n",
      "2024-04-10 15:18:27,938 - DEBUG - matplotlib.font_manager - findfont: score(FontEntry(fname='C:\\\\Windows\\\\Fonts\\\\msyhbd.ttc', name='Microsoft YaHei', style='normal', variant='normal', weight=700, stretch='normal', size='scalable')) = 10.335\n",
      "2024-04-10 15:18:27,938 - DEBUG - matplotlib.font_manager - findfont: score(FontEntry(fname='C:\\\\Windows\\\\Fonts\\\\PALSCRI.TTF', name='Palace Script MT', style='normal', variant='normal', weight=400, stretch='normal', size='scalable')) = 10.05\n",
      "2024-04-10 15:18:27,940 - DEBUG - matplotlib.font_manager - findfont: score(FontEntry(fname='C:\\\\Windows\\\\Fonts\\\\INFROMAN.TTF', name='Informal Roman', style='normal', variant='normal', weight=400, stretch='normal', size='scalable')) = 10.05\n",
      "2024-04-10 15:18:27,941 - DEBUG - matplotlib.font_manager - findfont: score(FontEntry(fname='C:\\\\Windows\\\\Fonts\\\\LTYPEB.TTF', name='Lucida Sans Typewriter', style='normal', variant='normal', weight=600, stretch='normal', size='scalable')) = 10.24\n",
      "2024-04-10 15:18:27,942 - DEBUG - matplotlib.font_manager - findfont: score(FontEntry(fname='C:\\\\Windows\\\\Fonts\\\\BOD_PSTC.TTF', name='Bodoni MT', style='normal', variant='normal', weight=300, stretch='normal', size='scalable')) = 10.145\n",
      "2024-04-10 15:18:27,942 - DEBUG - matplotlib.font_manager - findfont: score(FontEntry(fname='C:\\\\Windows\\\\Fonts\\\\CALIFR.TTF', name='Californian FB', style='normal', variant='normal', weight=400, stretch='normal', size='scalable')) = 10.05\n",
      "2024-04-10 15:18:27,943 - DEBUG - matplotlib.font_manager - findfont: score(FontEntry(fname='C:\\\\Windows\\\\Fonts\\\\IBMPlexMono-Thin.ttf', name='IBM Plex Mono', style='normal', variant='normal', weight=100, stretch='normal', size='scalable')) = 10.335\n",
      "2024-04-10 15:18:27,944 - DEBUG - matplotlib.font_manager - findfont: score(FontEntry(fname='C:\\\\Windows\\\\Fonts\\\\ariali.ttf', name='Arial', style='italic', variant='normal', weight=400, stretch='normal', size='scalable')) = 7.413636363636363\n",
      "2024-04-10 15:18:27,944 - DEBUG - matplotlib.font_manager - findfont: score(FontEntry(fname='C:\\\\Windows\\\\Fonts\\\\IBMPlexSansThaiLooped-Medium.ttf', name='IBM Plex Sans Thai Looped', style='normal', variant='normal', weight=500, stretch='normal', size='scalable')) = 10.145\n",
      "2024-04-10 15:18:27,945 - DEBUG - matplotlib.font_manager - findfont: score(FontEntry(fname='C:\\\\Windows\\\\Fonts\\\\IBMPlexSansKR-Bold.ttf', name='IBM Plex Sans KR', style='normal', variant='normal', weight=700, stretch='normal', size='scalable')) = 10.335\n",
      "2024-04-10 15:18:27,946 - DEBUG - matplotlib.font_manager - findfont: score(FontEntry(fname='C:\\\\Windows\\\\Fonts\\\\cambria.ttc', name='Cambria', style='normal', variant='normal', weight=400, stretch='normal', size='scalable')) = 10.05\n",
      "2024-04-10 15:18:27,946 - DEBUG - matplotlib.font_manager - findfont: score(FontEntry(fname='C:\\\\Windows\\\\Fonts\\\\IBMPlexSansThaiLooped-SemiBold.ttf', name='IBM Plex Sans Thai Looped', style='normal', variant='normal', weight=600, stretch='normal', size='scalable')) = 10.24\n",
      "2024-04-10 15:18:27,947 - DEBUG - matplotlib.font_manager - findfont: score(FontEntry(fname='C:\\\\Windows\\\\Fonts\\\\GIGI.TTF', name='Gigi', style='normal', variant='normal', weight=400, stretch='normal', size='scalable')) = 10.05\n",
      "2024-04-10 15:18:27,947 - DEBUG - matplotlib.font_manager - findfont: score(FontEntry(fname='C:\\\\Windows\\\\Fonts\\\\LATINWD.TTF', name='Wide Latin', style='normal', variant='normal', weight=400, stretch='expanded', size='scalable')) = 10.25\n",
      "2024-04-10 15:18:27,948 - DEBUG - matplotlib.font_manager - findfont: score(FontEntry(fname='C:\\\\Windows\\\\Fonts\\\\ONYX.TTF', name='Onyx', style='normal', variant='normal', weight=400, stretch='normal', size='scalable')) = 10.05\n",
      "2024-04-10 15:18:27,948 - DEBUG - matplotlib.font_manager - findfont: score(FontEntry(fname='C:\\\\Windows\\\\Fonts\\\\BASKVILL.TTF', name='Baskerville Old Face', style='normal', variant='normal', weight=400, stretch='normal', size='scalable')) = 10.05\n",
      "2024-04-10 15:18:27,949 - DEBUG - matplotlib.font_manager - findfont: score(FontEntry(fname='C:\\\\Windows\\\\Fonts\\\\IBMPlexSerif-Thin.ttf', name='IBM Plex Serif', style='normal', variant='normal', weight=100, stretch='normal', size='scalable')) = 10.335\n",
      "2024-04-10 15:18:27,950 - DEBUG - matplotlib.font_manager - findfont: score(FontEntry(fname='C:\\\\Windows\\\\Fonts\\\\IBMPlexSansHebrew-Bold.ttf', name='IBM Plex Sans Hebrew', style='normal', variant='normal', weight=700, stretch='normal', size='scalable')) = 10.335\n",
      "2024-04-10 15:18:27,950 - DEBUG - matplotlib.font_manager - findfont: score(FontEntry(fname='C:\\\\Windows\\\\Fonts\\\\IBMPlexSans-Light.ttf', name='IBM Plex Sans', style='normal', variant='normal', weight=300, stretch='normal', size='scalable')) = 10.145\n",
      "2024-04-10 15:18:27,950 - DEBUG - matplotlib.font_manager - findfont: score(FontEntry(fname='C:\\\\Windows\\\\Fonts\\\\verdanai.ttf', name='Verdana', style='italic', variant='normal', weight=400, stretch='normal', size='scalable')) = 4.6863636363636365\n",
      "2024-04-10 15:18:27,951 - DEBUG - matplotlib.font_manager - findfont: score(FontEntry(fname='C:\\\\Windows\\\\Fonts\\\\LSANS.TTF', name='Lucida Sans', style='normal', variant='normal', weight=400, stretch='normal', size='scalable')) = 10.05\n",
      "2024-04-10 15:18:27,951 - DEBUG - matplotlib.font_manager - findfont: score(FontEntry(fname='C:\\\\Windows\\\\Fonts\\\\IBMPlexArabic-ExtraLight.ttf', name='IBM Plex Arabic', style='normal', variant='normal', weight=200, stretch='normal', size='scalable')) = 10.24\n",
      "2024-04-10 15:18:27,952 - DEBUG - matplotlib.font_manager - findfont: score(FontEntry(fname='C:\\\\Windows\\\\Fonts\\\\BOD_CBI.TTF', name='Bodoni MT', style='italic', variant='normal', weight=700, stretch='condensed', size='scalable')) = 11.535\n",
      "2024-04-10 15:18:27,953 - DEBUG - matplotlib.font_manager - findfont: score(FontEntry(fname='C:\\\\Windows\\\\Fonts\\\\IBMPlexMono-Regular.ttf', name='IBM Plex Mono', style='normal', variant='normal', weight=400, stretch='normal', size='scalable')) = 10.05\n",
      "2024-04-10 15:18:27,954 - DEBUG - matplotlib.font_manager - findfont: score(FontEntry(fname='C:\\\\Windows\\\\Fonts\\\\FELIXTI.TTF', name='Felix Titling', style='normal', variant='normal', weight=400, stretch='normal', size='scalable')) = 10.05\n",
      "2024-04-10 15:18:27,955 - DEBUG - matplotlib.font_manager - findfont: score(FontEntry(fname='C:\\\\Windows\\\\Fonts\\\\trebuc.ttf', name='Trebuchet MS', style='normal', variant='normal', weight=400, stretch='normal', size='scalable')) = 10.05\n",
      "2024-04-10 15:18:27,955 - DEBUG - matplotlib.font_manager - findfont: score(FontEntry(fname='C:\\\\Windows\\\\Fonts\\\\calibril.ttf', name='Calibri', style='normal', variant='normal', weight=300, stretch='normal', size='scalable')) = 10.145\n",
      "2024-04-10 15:18:27,956 - DEBUG - matplotlib.font_manager - findfont: score(FontEntry(fname='C:\\\\Windows\\\\Fonts\\\\segmdl2.ttf', name='Segoe MDL2 Assets', style='normal', variant='normal', weight=400, stretch='normal', size='scalable')) = 10.05\n",
      "2024-04-10 15:18:27,957 - DEBUG - matplotlib.font_manager - findfont: score(FontEntry(fname='C:\\\\Windows\\\\Fonts\\\\Candara.ttf', name='Candara', style='normal', variant='normal', weight=400, stretch='normal', size='scalable')) = 10.05\n",
      "2024-04-10 15:18:27,957 - DEBUG - matplotlib.font_manager - findfont: score(FontEntry(fname='C:\\\\Windows\\\\Fonts\\\\BOD_I.TTF', name='Bodoni MT', style='italic', variant='normal', weight=400, stretch='normal', size='scalable')) = 11.05\n",
      "2024-04-10 15:18:27,958 - DEBUG - matplotlib.font_manager - findfont: score(FontEntry(fname='C:\\\\Windows\\\\Fonts\\\\constanb.ttf', name='Constantia', style='normal', variant='normal', weight=700, stretch='normal', size='scalable')) = 10.335\n",
      "2024-04-10 15:18:27,958 - DEBUG - matplotlib.font_manager - findfont: score(FontEntry(fname='C:\\\\Windows\\\\Fonts\\\\IBMPlexSansThai-ExtraLight.ttf', name='IBM Plex Sans Thai', style='normal', variant='normal', weight=200, stretch='normal', size='scalable')) = 10.24\n",
      "2024-04-10 15:18:27,960 - DEBUG - matplotlib.font_manager - findfont: score(FontEntry(fname='C:\\\\Windows\\\\Fonts\\\\consolaz.ttf', name='Consolas', style='italic', variant='normal', weight=700, stretch='normal', size='scalable')) = 11.335\n",
      "2024-04-10 15:18:27,961 - DEBUG - matplotlib.font_manager - findfont: score(FontEntry(fname='C:\\\\Windows\\\\Fonts\\\\trebucbi.ttf', name='Trebuchet MS', style='italic', variant='normal', weight=700, stretch='normal', size='scalable')) = 11.335\n",
      "2024-04-10 15:18:27,962 - DEBUG - matplotlib.font_manager - findfont: score(FontEntry(fname='C:\\\\Windows\\\\Fonts\\\\FORTE.TTF', name='Forte', style='normal', variant='normal', weight=400, stretch='normal', size='scalable')) = 10.05\n",
      "2024-04-10 15:18:27,963 - DEBUG - matplotlib.font_manager - findfont: score(FontEntry(fname='C:\\\\Windows\\\\Fonts\\\\Candaral.ttf', name='Candara', style='normal', variant='normal', weight=400, stretch='normal', size='scalable')) = 10.05\n",
      "2024-04-10 15:18:27,964 - DEBUG - matplotlib.font_manager - findfont: score(FontEntry(fname='C:\\\\Windows\\\\Fonts\\\\IBMPlexMono-TextItalic.ttf', name='IBM Plex Mono', style='italic', variant='normal', weight=450, stretch='normal', size='scalable')) = 11.0975\n",
      "2024-04-10 15:18:27,965 - DEBUG - matplotlib.font_manager - findfont: score(FontEntry(fname='C:\\\\Windows\\\\Fonts\\\\TCCM____.TTF', name='Tw Cen MT Condensed', style='normal', variant='normal', weight=400, stretch='condensed', size='scalable')) = 10.25\n",
      "2024-04-10 15:18:27,965 - DEBUG - matplotlib.font_manager - findfont: score(FontEntry(fname='C:\\\\Windows\\\\Fonts\\\\IBMPlexSans-TextItalic.ttf', name='IBM Plex Sans', style='italic', variant='normal', weight=450, stretch='normal', size='scalable')) = 11.0975\n",
      "2024-04-10 15:18:27,966 - DEBUG - matplotlib.font_manager - findfont: score(FontEntry(fname='C:\\\\Windows\\\\Fonts\\\\IBMPlexSansHebrew-SemiBold.ttf', name='IBM Plex Sans Hebrew', style='normal', variant='normal', weight=600, stretch='normal', size='scalable')) = 10.24\n",
      "2024-04-10 15:18:27,967 - DEBUG - matplotlib.font_manager - findfont: score(FontEntry(fname='C:\\\\Windows\\\\Fonts\\\\ARIALNBI.TTF', name='Arial', style='italic', variant='normal', weight=700, stretch='condensed', size='scalable')) = 7.8986363636363635\n",
      "2024-04-10 15:18:27,968 - DEBUG - matplotlib.font_manager - findfont: score(FontEntry(fname='C:\\\\Windows\\\\Fonts\\\\IBMPlexArabic-SemiBold.ttf', name='IBM Plex Arabic', style='normal', variant='normal', weight=600, stretch='normal', size='scalable')) = 10.24\n",
      "2024-04-10 15:18:27,969 - DEBUG - matplotlib.font_manager - findfont: score(FontEntry(fname='C:\\\\Windows\\\\Fonts\\\\IBMPlexDevanagari-SemiBold.ttf', name='IBM Plex Devanagari', style='normal', variant='normal', weight=600, stretch='normal', size='scalable')) = 10.24\n",
      "2024-04-10 15:18:27,969 - DEBUG - matplotlib.font_manager - findfont: score(FontEntry(fname='C:\\\\Windows\\\\Fonts\\\\times.ttf', name='Times New Roman', style='normal', variant='normal', weight=400, stretch='normal', size='scalable')) = 10.05\n",
      "2024-04-10 15:18:27,970 - DEBUG - matplotlib.font_manager - findfont: score(FontEntry(fname='C:\\\\Windows\\\\Fonts\\\\CALIFI.TTF', name='Californian FB', style='italic', variant='normal', weight=400, stretch='normal', size='scalable')) = 11.05\n",
      "2024-04-10 15:18:27,970 - DEBUG - matplotlib.font_manager - findfont: score(FontEntry(fname='C:\\\\Windows\\\\Fonts\\\\wingding.ttf', name='Wingdings', style='normal', variant='normal', weight=400, stretch='normal', size='scalable')) = 10.05\n",
      "2024-04-10 15:18:27,971 - DEBUG - matplotlib.font_manager - findfont: score(FontEntry(fname='C:\\\\Windows\\\\Fonts\\\\FTLTLT.TTF', name='Footlight MT Light', style='normal', variant='normal', weight=300, stretch='normal', size='scalable')) = 10.145\n",
      "2024-04-10 15:18:27,972 - DEBUG - matplotlib.font_manager - findfont: score(FontEntry(fname='C:\\\\Windows\\\\Fonts\\\\javatext.ttf', name='Javanese Text', style='normal', variant='normal', weight=400, stretch='normal', size='scalable')) = 10.05\n",
      "2024-04-10 15:18:27,972 - DEBUG - matplotlib.font_manager - findfont: score(FontEntry(fname='C:\\\\Windows\\\\Fonts\\\\MSUIGHUR.TTF', name='Microsoft Uighur', style='normal', variant='normal', weight=400, stretch='normal', size='scalable')) = 10.05\n",
      "2024-04-10 15:18:27,973 - DEBUG - matplotlib.font_manager - findfont: score(FontEntry(fname='C:\\\\Windows\\\\Fonts\\\\IBMPlexSansCondensed-Thin.ttf', name='IBM Plex Sans Condensed', style='normal', variant='normal', weight=100, stretch='condensed', size='scalable')) = 10.535\n",
      "2024-04-10 15:18:27,974 - DEBUG - matplotlib.font_manager - findfont: score(FontEntry(fname='C:\\\\Windows\\\\Fonts\\\\mmrtext.ttf', name='Myanmar Text', style='normal', variant='normal', weight=400, stretch='normal', size='scalable')) = 10.05\n",
      "2024-04-10 15:18:27,974 - DEBUG - matplotlib.font_manager - findfont: score(FontEntry(fname='C:\\\\Windows\\\\Fonts\\\\IBMPlexSerif-Text.ttf', name='IBM Plex Serif', style='normal', variant='normal', weight=450, stretch='normal', size='scalable')) = 10.0975\n",
      "2024-04-10 15:18:27,975 - DEBUG - matplotlib.font_manager - findfont: score(FontEntry(fname='C:\\\\Windows\\\\Fonts\\\\IBMPlexSansDevanagari-Light.ttf', name='IBM Plex Sans Devanagari', style='normal', variant='normal', weight=300, stretch='normal', size='scalable')) = 10.145\n",
      "2024-04-10 15:18:27,975 - DEBUG - matplotlib.font_manager - findfont: score(FontEntry(fname='C:\\\\Windows\\\\Fonts\\\\IBMPlexThai-SemiBold.ttf', name='IBM Plex Thai', style='normal', variant='normal', weight=600, stretch='normal', size='scalable')) = 10.24\n",
      "2024-04-10 15:18:27,976 - DEBUG - matplotlib.font_manager - findfont: score(FontEntry(fname='C:\\\\Windows\\\\Fonts\\\\IBMPlexSansCondensed-Medium.ttf', name='IBM Plex Sans Condensed', style='normal', variant='normal', weight=500, stretch='condensed', size='scalable')) = 10.344999999999999\n",
      "2024-04-10 15:18:27,978 - DEBUG - matplotlib.font_manager - findfont: score(FontEntry(fname='C:\\\\Windows\\\\Fonts\\\\corbeli.ttf', name='Corbel', style='italic', variant='normal', weight=400, stretch='normal', size='scalable')) = 11.05\n",
      "2024-04-10 15:18:27,981 - DEBUG - matplotlib.font_manager - findfont: score(FontEntry(fname='C:\\\\Windows\\\\Fonts\\\\CALIFB.TTF', name='Californian FB', style='normal', variant='normal', weight=700, stretch='normal', size='scalable')) = 10.335\n",
      "2024-04-10 15:18:27,982 - DEBUG - matplotlib.font_manager - findfont: score(FontEntry(fname='C:\\\\Windows\\\\Fonts\\\\comicz.ttf', name='Comic Sans MS', style='italic', variant='normal', weight=700, stretch='normal', size='scalable')) = 11.335\n",
      "2024-04-10 15:18:27,983 - DEBUG - matplotlib.font_manager - findfont: score(FontEntry(fname='C:\\\\Windows\\\\Fonts\\\\IBMPlexMono-ExtraLight.ttf', name='IBM Plex Mono', style='normal', variant='normal', weight=200, stretch='normal', size='scalable')) = 10.24\n",
      "2024-04-10 15:18:27,983 - DEBUG - matplotlib.font_manager - findfont: score(FontEntry(fname='C:\\\\Windows\\\\Fonts\\\\DUBAI-MEDIUM.TTF', name='Dubai', style='normal', variant='normal', weight=500, stretch='normal', size='scalable')) = 10.145\n",
      "2024-04-10 15:18:27,984 - DEBUG - matplotlib.font_manager - findfont: score(FontEntry(fname='C:\\\\Windows\\\\Fonts\\\\IBMPlexSansArabic-Light.ttf', name='IBM Plex Sans Arabic', style='normal', variant='normal', weight=300, stretch='normal', size='scalable')) = 10.145\n",
      "2024-04-10 15:18:27,984 - DEBUG - matplotlib.font_manager - findfont: score(FontEntry(fname='C:\\\\Windows\\\\Fonts\\\\ROCKB.TTF', name='Rockwell', style='normal', variant='normal', weight=700, stretch='normal', size='scalable')) = 10.335\n",
      "2024-04-10 15:18:27,985 - DEBUG - matplotlib.font_manager - findfont: score(FontEntry(fname='C:\\\\Windows\\\\Fonts\\\\segoeuii.ttf', name='Segoe UI', style='italic', variant='normal', weight=400, stretch='normal', size='scalable')) = 11.05\n",
      "2024-04-10 15:18:27,985 - DEBUG - matplotlib.font_manager - findfont: score(FontEntry(fname='C:\\\\Windows\\\\Fonts\\\\SCHLBKI.TTF', name='Century Schoolbook', style='italic', variant='normal', weight=400, stretch='normal', size='scalable')) = 11.05\n",
      "2024-04-10 15:18:27,985 - DEBUG - matplotlib.font_manager - findfont: score(FontEntry(fname='C:\\\\Windows\\\\Fonts\\\\IBMPlexSans-Thin.ttf', name='IBM Plex Sans', style='normal', variant='normal', weight=100, stretch='normal', size='scalable')) = 10.335\n",
      "2024-04-10 15:18:27,987 - DEBUG - matplotlib.font_manager - findfont: score(FontEntry(fname='C:\\\\Windows\\\\Fonts\\\\verdanab.ttf', name='Verdana', style='normal', variant='normal', weight=700, stretch='normal', size='scalable')) = 3.9713636363636367\n",
      "2024-04-10 15:18:27,987 - DEBUG - matplotlib.font_manager - findfont: score(FontEntry(fname='C:\\\\Windows\\\\Fonts\\\\TCM_____.TTF', name='Tw Cen MT', style='normal', variant='normal', weight=400, stretch='normal', size='scalable')) = 10.05\n",
      "2024-04-10 15:18:27,988 - DEBUG - matplotlib.font_manager - findfont: score(FontEntry(fname='C:\\\\Windows\\\\Fonts\\\\IBMPlexSansJP-Medium.ttf', name='IBM Plex Sans JP', style='normal', variant='normal', weight=500, stretch='normal', size='scalable')) = 10.145\n",
      "2024-04-10 15:18:27,988 - DEBUG - matplotlib.font_manager - findfont: score(FontEntry(fname='C:\\\\Windows\\\\Fonts\\\\seguiemj.ttf', name='Segoe UI Emoji', style='normal', variant='normal', weight=400, stretch='normal', size='scalable')) = 10.05\n",
      "2024-04-10 15:18:27,990 - DEBUG - matplotlib.font_manager - findfont: score(FontEntry(fname='C:\\\\Windows\\\\Fonts\\\\IBMPlexSansThaiLooped-Text.ttf', name='IBM Plex Sans Thai Looped', style='normal', variant='normal', weight=450, stretch='normal', size='scalable')) = 10.0975\n",
      "2024-04-10 15:18:27,990 - DEBUG - matplotlib.font_manager - findfont: score(FontEntry(fname='C:\\\\Windows\\\\Fonts\\\\MOD20.TTF', name='Modern No. 20', style='normal', variant='normal', weight=400, stretch='normal', size='scalable')) = 10.05\n",
      "2024-04-10 15:18:27,991 - DEBUG - matplotlib.font_manager - findfont: score(FontEntry(fname='C:\\\\Windows\\\\Fonts\\\\IBMPlexSansThaiLooped-Bold.ttf', name='IBM Plex Sans Thai Looped', style='normal', variant='normal', weight=700, stretch='normal', size='scalable')) = 10.335\n",
      "2024-04-10 15:18:27,992 - DEBUG - matplotlib.font_manager - findfont: score(FontEntry(fname='C:\\\\Windows\\\\Fonts\\\\SegUIVar.ttf', name='Segoe UI Variable', style='normal', variant='normal', weight=400, stretch='normal', size='scalable')) = 10.05\n",
      "2024-04-10 15:18:27,993 - DEBUG - matplotlib.font_manager - findfont: score(FontEntry(fname='C:\\\\Windows\\\\Fonts\\\\IBMPlexSans-Medium.ttf', name='IBM Plex Sans', style='normal', variant='normal', weight=500, stretch='normal', size='scalable')) = 10.145\n",
      "2024-04-10 15:18:27,993 - DEBUG - matplotlib.font_manager - findfont: score(FontEntry(fname='C:\\\\Windows\\\\Fonts\\\\consola.ttf', name='Consolas', style='normal', variant='normal', weight=400, stretch='normal', size='scalable')) = 10.05\n",
      "2024-04-10 15:18:27,994 - DEBUG - matplotlib.font_manager - findfont: score(FontEntry(fname='C:\\\\Windows\\\\Fonts\\\\phagspa.ttf', name='Microsoft PhagsPa', style='normal', variant='normal', weight=400, stretch='normal', size='scalable')) = 10.05\n",
      "2024-04-10 15:18:27,995 - DEBUG - matplotlib.font_manager - findfont: score(FontEntry(fname='C:\\\\Windows\\\\Fonts\\\\symbol.ttf', name='Symbol', style='normal', variant='normal', weight=400, stretch='normal', size='scalable')) = 10.05\n",
      "2024-04-10 15:18:27,996 - DEBUG - matplotlib.font_manager - findfont: score(FontEntry(fname='C:\\\\Windows\\\\Fonts\\\\IBMPlexSansCondensed-BoldItalic.ttf', name='IBM Plex Sans Condensed', style='italic', variant='normal', weight=700, stretch='condensed', size='scalable')) = 11.535\n",
      "2024-04-10 15:18:27,997 - DEBUG - matplotlib.font_manager - findfont: score(FontEntry(fname='C:\\\\Windows\\\\Fonts\\\\comicbd.ttf', name='Comic Sans MS', style='normal', variant='normal', weight=700, stretch='normal', size='scalable')) = 10.335\n",
      "2024-04-10 15:18:27,998 - DEBUG - matplotlib.font_manager - findfont: score(FontEntry(fname='C:\\\\Windows\\\\Fonts\\\\GOTHICB.TTF', name='Century Gothic', style='normal', variant='normal', weight=700, stretch='normal', size='scalable')) = 10.335\n",
      "2024-04-10 15:18:27,998 - DEBUG - matplotlib.font_manager - findfont: score(FontEntry(fname='C:\\\\Windows\\\\Fonts\\\\IBMPlexSans-BoldItalic.ttf', name='IBM Plex Sans', style='italic', variant='normal', weight=700, stretch='normal', size='scalable')) = 11.335\n",
      "2024-04-10 15:18:27,999 - DEBUG - matplotlib.font_manager - findfont: score(FontEntry(fname='C:\\\\Windows\\\\Fonts\\\\FRAHVIT.TTF', name='Franklin Gothic Heavy', style='italic', variant='normal', weight=400, stretch='normal', size='scalable')) = 11.05\n",
      "2024-04-10 15:18:28,000 - DEBUG - matplotlib.font_manager - findfont: score(FontEntry(fname='C:\\\\Windows\\\\Fonts\\\\IBMPlexSansArabic-Medium.ttf', name='IBM Plex Sans Arabic', style='normal', variant='normal', weight=500, stretch='normal', size='scalable')) = 10.145\n",
      "2024-04-10 15:18:28,000 - DEBUG - matplotlib.font_manager - findfont: score(FontEntry(fname='C:\\\\Windows\\\\Fonts\\\\IBMPlexSans-ThinItalic.ttf', name='IBM Plex Sans', style='italic', variant='normal', weight=100, stretch='normal', size='scalable')) = 11.335\n",
      "2024-04-10 15:18:28,001 - DEBUG - matplotlib.font_manager - findfont: score(FontEntry(fname='C:\\\\Windows\\\\Fonts\\\\sylfaen.ttf', name='Sylfaen', style='normal', variant='normal', weight=400, stretch='normal', size='scalable')) = 10.05\n",
      "2024-04-10 15:18:28,001 - DEBUG - matplotlib.font_manager - findfont: score(FontEntry(fname='C:\\\\Windows\\\\Fonts\\\\LTYPEBO.TTF', name='Lucida Sans Typewriter', style='oblique', variant='normal', weight=600, stretch='normal', size='scalable')) = 11.24\n",
      "2024-04-10 15:18:28,002 - DEBUG - matplotlib.font_manager - findfont: score(FontEntry(fname='C:\\\\Windows\\\\Fonts\\\\FRAMDCN.TTF', name='Franklin Gothic Medium Cond', style='normal', variant='normal', weight=400, stretch='condensed', size='scalable')) = 10.25\n",
      "2024-04-10 15:18:28,003 - DEBUG - matplotlib.font_manager - findfont: score(FontEntry(fname='C:\\\\Windows\\\\Fonts\\\\Candarai.ttf', name='Candara', style='italic', variant='normal', weight=400, stretch='normal', size='scalable')) = 11.05\n",
      "2024-04-10 15:18:28,003 - DEBUG - matplotlib.font_manager - findfont: score(FontEntry(fname='C:\\\\Windows\\\\Fonts\\\\trebucit.ttf', name='Trebuchet MS', style='italic', variant='normal', weight=400, stretch='normal', size='scalable')) = 11.05\n",
      "2024-04-10 15:18:28,004 - DEBUG - matplotlib.font_manager - findfont: score(FontEntry(fname='C:\\\\Windows\\\\Fonts\\\\georgiab.ttf', name='Georgia', style='normal', variant='normal', weight=700, stretch='normal', size='scalable')) = 10.335\n",
      "2024-04-10 15:18:28,004 - DEBUG - matplotlib.font_manager - findfont: score(FontEntry(fname='C:\\\\Windows\\\\Fonts\\\\Gabriola.ttf', name='Gabriola', style='normal', variant='normal', weight=400, stretch='normal', size='scalable')) = 10.05\n",
      "2024-04-10 15:18:28,005 - DEBUG - matplotlib.font_manager - findfont: score(FontEntry(fname='C:\\\\Windows\\\\Fonts\\\\IBMPlexSansJP-Light.ttf', name='IBM Plex Sans JP', style='normal', variant='normal', weight=300, stretch='normal', size='scalable')) = 10.145\n",
      "2024-04-10 15:18:28,006 - DEBUG - matplotlib.font_manager - findfont: score(FontEntry(fname='C:\\\\Windows\\\\Fonts\\\\MTCORSVA.TTF', name='Monotype Corsiva', style='normal', variant='normal', weight=400, stretch='normal', size='scalable')) = 10.05\n",
      "2024-04-10 15:18:28,007 - DEBUG - matplotlib.font_manager - findfont: score(FontEntry(fname='C:\\\\Windows\\\\Fonts\\\\SNAP____.TTF', name='Snap ITC', style='normal', variant='normal', weight=400, stretch='normal', size='scalable')) = 10.05\n",
      "2024-04-10 15:18:28,007 - DEBUG - matplotlib.font_manager - findfont: score(FontEntry(fname='C:\\\\Windows\\\\Fonts\\\\ELEPHNT.TTF', name='Elephant', style='normal', variant='normal', weight=400, stretch='normal', size='scalable')) = 10.05\n",
      "2024-04-10 15:18:28,008 - DEBUG - matplotlib.font_manager - findfont: score(FontEntry(fname='C:\\\\Windows\\\\Fonts\\\\seguisbi.ttf', name='Segoe UI', style='italic', variant='normal', weight=600, stretch='normal', size='scalable')) = 11.24\n",
      "2024-04-10 15:18:28,008 - DEBUG - matplotlib.font_manager - findfont: score(FontEntry(fname='C:\\\\Windows\\\\Fonts\\\\simsun.ttc', name='SimSun', style='normal', variant='normal', weight=400, stretch='normal', size='scalable')) = 10.05\n",
      "2024-04-10 15:18:28,010 - DEBUG - matplotlib.font_manager - findfont: score(FontEntry(fname='C:\\\\Windows\\\\Fonts\\\\consolab.ttf', name='Consolas', style='normal', variant='normal', weight=700, stretch='normal', size='scalable')) = 10.335\n",
      "2024-04-10 15:18:28,011 - DEBUG - matplotlib.font_manager - findfont: score(FontEntry(fname='C:\\\\Windows\\\\Fonts\\\\IBMPlexSerif-BoldItalic.ttf', name='IBM Plex Serif', style='italic', variant='normal', weight=700, stretch='normal', size='scalable')) = 11.335\n",
      "2024-04-10 15:18:28,012 - DEBUG - matplotlib.font_manager - findfont: score(FontEntry(fname='C:\\\\Windows\\\\Fonts\\\\TCB_____.TTF', name='Tw Cen MT', style='normal', variant='normal', weight=700, stretch='normal', size='scalable')) = 10.335\n",
      "2024-04-10 15:18:28,013 - DEBUG - matplotlib.font_manager - findfont: score(FontEntry(fname='C:\\\\Windows\\\\Fonts\\\\IBMPlexDevanagari-ExtraLight.ttf', name='IBM Plex Devanagari', style='normal', variant='normal', weight=200, stretch='normal', size='scalable')) = 10.24\n",
      "2024-04-10 15:18:28,013 - DEBUG - matplotlib.font_manager - findfont: score(FontEntry(fname='C:\\\\Windows\\\\Fonts\\\\consolai.ttf', name='Consolas', style='italic', variant='normal', weight=400, stretch='normal', size='scalable')) = 11.05\n",
      "2024-04-10 15:18:28,014 - DEBUG - matplotlib.font_manager - findfont: score(FontEntry(fname='C:\\\\Windows\\\\Fonts\\\\BROADW.TTF', name='Broadway', style='normal', variant='normal', weight=400, stretch='normal', size='scalable')) = 10.05\n",
      "2024-04-10 15:18:28,014 - DEBUG - matplotlib.font_manager - findfont: score(FontEntry(fname='C:\\\\Windows\\\\Fonts\\\\courbi.ttf', name='Courier New', style='italic', variant='normal', weight=700, stretch='normal', size='scalable')) = 11.335\n",
      "2024-04-10 15:18:28,015 - DEBUG - matplotlib.font_manager - findfont: score(FontEntry(fname='C:\\\\Windows\\\\Fonts\\\\ANTQUAI.TTF', name='Book Antiqua', style='italic', variant='normal', weight=400, stretch='normal', size='scalable')) = 11.05\n",
      "2024-04-10 15:18:28,016 - DEBUG - matplotlib.font_manager - findfont: score(FontEntry(fname='C:\\\\Windows\\\\Fonts\\\\IBMPlexMono-SemiBold.ttf', name='IBM Plex Mono', style='normal', variant='normal', weight=600, stretch='normal', size='scalable')) = 10.24\n",
      "2024-04-10 15:18:28,016 - DEBUG - matplotlib.font_manager - findfont: score(FontEntry(fname='C:\\\\Windows\\\\Fonts\\\\NirmalaB.ttf', name='Nirmala UI', style='normal', variant='normal', weight=700, stretch='normal', size='scalable')) = 10.335\n",
      "2024-04-10 15:18:28,017 - DEBUG - matplotlib.font_manager - findfont: score(FontEntry(fname='C:\\\\Windows\\\\Fonts\\\\MATURASC.TTF', name='Matura MT Script Capitals', style='normal', variant='normal', weight=400, stretch='normal', size='scalable')) = 10.05\n",
      "2024-04-10 15:18:28,017 - DEBUG - matplotlib.font_manager - findfont: score(FontEntry(fname='C:\\\\Windows\\\\Fonts\\\\msjh.ttc', name='Microsoft JhengHei', style='normal', variant='normal', weight=400, stretch='normal', size='scalable')) = 10.05\n",
      "2024-04-10 15:18:28,018 - DEBUG - matplotlib.font_manager - findfont: score(FontEntry(fname='C:\\\\Windows\\\\Fonts\\\\SegoeIcons.ttf', name='Segoe Fluent Icons', style='normal', variant='normal', weight=400, stretch='normal', size='scalable')) = 10.05\n",
      "2024-04-10 15:18:28,018 - DEBUG - matplotlib.font_manager - findfont: score(FontEntry(fname='C:\\\\Windows\\\\Fonts\\\\timesi.ttf', name='Times New Roman', style='italic', variant='normal', weight=400, stretch='normal', size='scalable')) = 11.05\n",
      "2024-04-10 15:18:28,019 - DEBUG - matplotlib.font_manager - findfont: score(FontEntry(fname='C:\\\\Windows\\\\Fonts\\\\IBMPlexSerif-MediumItalic.ttf', name='IBM Plex Serif', style='italic', variant='normal', weight=500, stretch='normal', size='scalable')) = 11.145\n",
      "2024-04-10 15:18:28,020 - DEBUG - matplotlib.font_manager - findfont: score(FontEntry(fname='C:\\\\Windows\\\\Fonts\\\\MAGNETOB.TTF', name='Magneto', style='normal', variant='normal', weight=700, stretch='normal', size='scalable')) = 10.335\n",
      "2024-04-10 15:18:28,020 - DEBUG - matplotlib.font_manager - findfont: score(FontEntry(fname='C:\\\\Windows\\\\Fonts\\\\JOKERMAN.TTF', name='Jokerman', style='normal', variant='normal', weight=400, stretch='normal', size='scalable')) = 10.05\n",
      "2024-04-10 15:18:28,020 - DEBUG - matplotlib.font_manager - findfont: score(FontEntry(fname='C:\\\\Windows\\\\Fonts\\\\IBMPlexSansHebrew-ExtraLight.ttf', name='IBM Plex Sans Hebrew', style='normal', variant='normal', weight=200, stretch='normal', size='scalable')) = 10.24\n",
      "2024-04-10 15:18:28,022 - DEBUG - matplotlib.font_manager - findfont: score(FontEntry(fname='C:\\\\Windows\\\\Fonts\\\\malgunsl.ttf', name='Malgun Gothic', style='normal', variant='normal', weight=300, stretch='normal', size='scalable')) = 10.145\n",
      "2024-04-10 15:18:28,023 - DEBUG - matplotlib.font_manager - findfont: score(FontEntry(fname='C:\\\\Windows\\\\Fonts\\\\tahoma.ttf', name='Tahoma', style='normal', variant='normal', weight=400, stretch='normal', size='scalable')) = 10.05\n",
      "2024-04-10 15:18:28,023 - DEBUG - matplotlib.font_manager - findfont: score(FontEntry(fname='C:\\\\Windows\\\\Fonts\\\\IBMPlexSansArabic-Text.ttf', name='IBM Plex Sans Arabic', style='normal', variant='normal', weight=450, stretch='normal', size='scalable')) = 10.0975\n",
      "2024-04-10 15:18:28,024 - DEBUG - matplotlib.font_manager - findfont: score(FontEntry(fname='C:\\\\Windows\\\\Fonts\\\\IBMPlexSans-Regular.ttf', name='IBM Plex Sans', style='normal', variant='normal', weight=400, stretch='normal', size='scalable')) = 10.05\n",
      "2024-04-10 15:18:28,026 - DEBUG - matplotlib.font_manager - findfont: score(FontEntry(fname='C:\\\\Windows\\\\Fonts\\\\IBMPlexSansArabic-Bold.ttf', name='IBM Plex Sans Arabic', style='normal', variant='normal', weight=700, stretch='normal', size='scalable')) = 10.335\n",
      "2024-04-10 15:18:28,026 - DEBUG - matplotlib.font_manager - findfont: score(FontEntry(fname='C:\\\\Windows\\\\Fonts\\\\IBMPlexSans-MediumItalic.ttf', name='IBM Plex Sans', style='italic', variant='normal', weight=500, stretch='normal', size='scalable')) = 11.145\n",
      "2024-04-10 15:18:28,027 - DEBUG - matplotlib.font_manager - findfont: score(FontEntry(fname='C:\\\\Windows\\\\Fonts\\\\GOTHICI.TTF', name='Century Gothic', style='italic', variant='normal', weight=400, stretch='normal', size='scalable')) = 11.05\n",
      "2024-04-10 15:18:28,028 - DEBUG - matplotlib.font_manager - findfont: score(FontEntry(fname='C:\\\\Windows\\\\Fonts\\\\IBMPlexSansDevanagari-Medium.ttf', name='IBM Plex Sans Devanagari', style='normal', variant='normal', weight=500, stretch='normal', size='scalable')) = 10.145\n",
      "2024-04-10 15:18:28,028 - DEBUG - matplotlib.font_manager - findfont: score(FontEntry(fname='C:\\\\Windows\\\\Fonts\\\\IBMPlexSerif-Light.ttf', name='IBM Plex Serif', style='normal', variant='normal', weight=300, stretch='normal', size='scalable')) = 10.145\n",
      "2024-04-10 15:18:28,029 - DEBUG - matplotlib.font_manager - findfont: score(FontEntry(fname='C:\\\\Windows\\\\Fonts\\\\seguibl.ttf', name='Segoe UI', style='normal', variant='normal', weight=900, stretch='normal', size='scalable')) = 10.525\n",
      "2024-04-10 15:18:28,030 - DEBUG - matplotlib.font_manager - findfont: score(FontEntry(fname='C:\\\\Windows\\\\Fonts\\\\IBMPlexSansKR-Text.ttf', name='IBM Plex Sans KR', style='normal', variant='normal', weight=450, stretch='normal', size='scalable')) = 10.0975\n",
      "2024-04-10 15:18:28,031 - DEBUG - matplotlib.font_manager - findfont: score(FontEntry(fname='C:\\\\Windows\\\\Fonts\\\\WINGDNG3.TTF', name='Wingdings 3', style='normal', variant='normal', weight=400, stretch='normal', size='scalable')) = 10.05\n",
      "2024-04-10 15:18:28,031 - DEBUG - matplotlib.font_manager - findfont: score(FontEntry(fname='C:\\\\Windows\\\\Fonts\\\\ARLRDBD.TTF', name='Arial Rounded MT Bold', style='normal', variant='normal', weight=400, stretch='normal', size='scalable')) = 10.05\n",
      "2024-04-10 15:18:28,032 - DEBUG - matplotlib.font_manager - findfont: score(FontEntry(fname='C:\\\\Windows\\\\Fonts\\\\BRITANIC.TTF', name='Britannic Bold', style='normal', variant='normal', weight=400, stretch='normal', size='scalable')) = 10.05\n",
      "2024-04-10 15:18:28,033 - DEBUG - matplotlib.font_manager - findfont: score(FontEntry(fname='C:\\\\Windows\\\\Fonts\\\\LFAXI.TTF', name='Lucida Fax', style='italic', variant='normal', weight=400, stretch='normal', size='scalable')) = 11.05\n",
      "2024-04-10 15:18:28,033 - DEBUG - matplotlib.font_manager - findfont: score(FontEntry(fname='C:\\\\Windows\\\\Fonts\\\\IBMPlexSansHebrew-Light.ttf', name='IBM Plex Sans Hebrew', style='normal', variant='normal', weight=300, stretch='normal', size='scalable')) = 10.145\n",
      "2024-04-10 15:18:28,034 - DEBUG - matplotlib.font_manager - findfont: score(FontEntry(fname='C:\\\\Windows\\\\Fonts\\\\IBMPlexSansArabic-SemiBold.ttf', name='IBM Plex Sans Arabic', style='normal', variant='normal', weight=600, stretch='normal', size='scalable')) = 10.24\n",
      "2024-04-10 15:18:28,035 - DEBUG - matplotlib.font_manager - findfont: score(FontEntry(fname='C:\\\\Windows\\\\Fonts\\\\IBMPlexSans-ExtraLight.ttf', name='IBM Plex Sans', style='normal', variant='normal', weight=200, stretch='normal', size='scalable')) = 10.24\n",
      "2024-04-10 15:18:28,035 - DEBUG - matplotlib.font_manager - findfont: score(FontEntry(fname='C:\\\\Windows\\\\Fonts\\\\verdana.ttf', name='Verdana', style='normal', variant='normal', weight=400, stretch='normal', size='scalable')) = 3.6863636363636365\n",
      "2024-04-10 15:18:28,036 - DEBUG - matplotlib.font_manager - findfont: score(FontEntry(fname='C:\\\\Windows\\\\Fonts\\\\BOD_R.TTF', name='Bodoni MT', style='normal', variant='normal', weight=400, stretch='normal', size='scalable')) = 10.05\n",
      "2024-04-10 15:18:28,036 - DEBUG - matplotlib.font_manager - findfont: score(FontEntry(fname='C:\\\\Windows\\\\Fonts\\\\IBMPlexMono-Medium.ttf', name='IBM Plex Mono', style='normal', variant='normal', weight=500, stretch='normal', size='scalable')) = 10.145\n",
      "2024-04-10 15:18:28,037 - DEBUG - matplotlib.font_manager - findfont: score(FontEntry(fname='C:\\\\Windows\\\\Fonts\\\\Candaraz.ttf', name='Candara', style='italic', variant='normal', weight=700, stretch='normal', size='scalable')) = 11.335\n",
      "2024-04-10 15:18:28,037 - DEBUG - matplotlib.font_manager - findfont: score(FontEntry(fname='C:\\\\Windows\\\\Fonts\\\\IBMPlexMono-Light.ttf', name='IBM Plex Mono', style='normal', variant='normal', weight=300, stretch='normal', size='scalable')) = 10.145\n",
      "2024-04-10 15:18:28,038 - DEBUG - matplotlib.font_manager - findfont: score(FontEntry(fname='C:\\\\Windows\\\\Fonts\\\\seguisb.ttf', name='Segoe UI', style='normal', variant='normal', weight=600, stretch='normal', size='scalable')) = 10.24\n",
      "2024-04-10 15:18:28,039 - DEBUG - matplotlib.font_manager - findfont: score(FontEntry(fname='C:\\\\Windows\\\\Fonts\\\\IBMPlexSansKR-ExtraLight.ttf', name='IBM Plex Sans KR', style='normal', variant='normal', weight=200, stretch='normal', size='scalable')) = 10.24\n",
      "2024-04-10 15:18:28,039 - DEBUG - matplotlib.font_manager - findfont: score(FontEntry(fname='C:\\\\Windows\\\\Fonts\\\\IBMPlexSansCondensed-ExtraLightItalic.ttf', name='IBM Plex Sans Condensed', style='italic', variant='normal', weight=200, stretch='condensed', size='scalable')) = 11.44\n",
      "2024-04-10 15:18:28,040 - DEBUG - matplotlib.font_manager - findfont: score(FontEntry(fname='C:\\\\Windows\\\\Fonts\\\\IBMPlexSerif-Bold.ttf', name='IBM Plex Serif', style='normal', variant='normal', weight=700, stretch='normal', size='scalable')) = 10.335\n",
      "2024-04-10 15:18:28,041 - DEBUG - matplotlib.font_manager - findfont: score(FontEntry(fname='C:\\\\Windows\\\\Fonts\\\\FRSCRIPT.TTF', name='French Script MT', style='normal', variant='normal', weight=400, stretch='normal', size='scalable')) = 10.05\n",
      "2024-04-10 15:18:28,041 - DEBUG - matplotlib.font_manager - findfont: score(FontEntry(fname='C:\\\\Windows\\\\Fonts\\\\IBMPlexSans-SemiBoldItalic.ttf', name='IBM Plex Sans', style='italic', variant='normal', weight=600, stretch='normal', size='scalable')) = 11.24\n",
      "2024-04-10 15:18:28,042 - DEBUG - matplotlib.font_manager - findfont: score(FontEntry(fname='C:\\\\Windows\\\\Fonts\\\\BELLB.TTF', name='Bell MT', style='normal', variant='normal', weight=700, stretch='normal', size='scalable')) = 10.335\n",
      "2024-04-10 15:18:28,042 - DEBUG - matplotlib.font_manager - findfont: score(FontEntry(fname='C:\\\\Windows\\\\Fonts\\\\IBMPlexMono-BoldItalic.ttf', name='IBM Plex Mono', style='italic', variant='normal', weight=700, stretch='normal', size='scalable')) = 11.335\n",
      "2024-04-10 15:18:28,043 - DEBUG - matplotlib.font_manager - findfont: score(FontEntry(fname='C:\\\\Windows\\\\Fonts\\\\segoeuib.ttf', name='Segoe UI', style='normal', variant='normal', weight=700, stretch='normal', size='scalable')) = 10.335\n",
      "2024-04-10 15:18:28,044 - DEBUG - matplotlib.font_manager - findfont: score(FontEntry(fname='C:\\\\Windows\\\\Fonts\\\\arialbi.ttf', name='Arial', style='italic', variant='normal', weight=700, stretch='normal', size='scalable')) = 7.698636363636363\n",
      "2024-04-10 15:18:28,044 - DEBUG - matplotlib.font_manager - findfont: score(FontEntry(fname='C:\\\\Windows\\\\Fonts\\\\GILSANUB.TTF', name='Gill Sans Ultra Bold', style='normal', variant='normal', weight=400, stretch='normal', size='scalable')) = 10.05\n",
      "2024-04-10 15:18:28,045 - DEBUG - matplotlib.font_manager - findfont: score(FontEntry(fname='C:\\\\Windows\\\\Fonts\\\\msgothic.ttc', name='MS Gothic', style='normal', variant='normal', weight=400, stretch='normal', size='scalable')) = 10.05\n",
      "2024-04-10 15:18:28,046 - DEBUG - matplotlib.font_manager - findfont: score(FontEntry(fname='C:\\\\Windows\\\\Fonts\\\\PERTILI.TTF', name='Perpetua Titling MT', style='normal', variant='normal', weight=300, stretch='normal', size='scalable')) = 10.145\n",
      "2024-04-10 15:18:28,047 - DEBUG - matplotlib.font_manager - findfont: score(FontEntry(fname='C:\\\\Windows\\\\Fonts\\\\segoesc.ttf', name='Segoe Script', style='normal', variant='normal', weight=400, stretch='normal', size='scalable')) = 10.05\n",
      "2024-04-10 15:18:28,047 - DEBUG - matplotlib.font_manager - findfont: score(FontEntry(fname='C:\\\\Windows\\\\Fonts\\\\IBMPlexSansCondensed-SemiBold.ttf', name='IBM Plex Sans Condensed', style='normal', variant='normal', weight=600, stretch='condensed', size='scalable')) = 10.44\n",
      "2024-04-10 15:18:28,048 - DEBUG - matplotlib.font_manager - findfont: score(FontEntry(fname='C:\\\\Windows\\\\Fonts\\\\PERI____.TTF', name='Perpetua', style='italic', variant='normal', weight=400, stretch='normal', size='scalable')) = 11.05\n",
      "2024-04-10 15:18:28,049 - DEBUG - matplotlib.font_manager - findfont: score(FontEntry(fname='C:\\\\Windows\\\\Fonts\\\\PAPYRUS.TTF', name='Papyrus', style='normal', variant='normal', weight=400, stretch='normal', size='scalable')) = 10.05\n",
      "2024-04-10 15:18:28,049 - DEBUG - matplotlib.font_manager - findfont: score(FontEntry(fname='C:\\\\Windows\\\\Fonts\\\\FRADMIT.TTF', name='Franklin Gothic Demi', style='italic', variant='normal', weight=400, stretch='normal', size='scalable')) = 11.05\n",
      "2024-04-10 15:18:28,050 - DEBUG - matplotlib.font_manager - findfont: score(FontEntry(fname='C:\\\\Windows\\\\Fonts\\\\IBMPlexSansCondensed-MediumItalic.ttf', name='IBM Plex Sans Condensed', style='italic', variant='normal', weight=500, stretch='condensed', size='scalable')) = 11.344999999999999\n",
      "2024-04-10 15:18:28,051 - DEBUG - matplotlib.font_manager - findfont: score(FontEntry(fname='C:\\\\Windows\\\\Fonts\\\\timesbd.ttf', name='Times New Roman', style='normal', variant='normal', weight=700, stretch='normal', size='scalable')) = 10.335\n",
      "2024-04-10 15:18:28,051 - DEBUG - matplotlib.font_manager - findfont: score(FontEntry(fname='C:\\\\Windows\\\\Fonts\\\\HTOWERT.TTF', name='High Tower Text', style='normal', variant='normal', weight=400, stretch='normal', size='scalable')) = 10.05\n",
      "2024-04-10 15:18:28,052 - DEBUG - matplotlib.font_manager - findfont: score(FontEntry(fname='C:\\\\Windows\\\\Fonts\\\\himalaya.ttf', name='Microsoft Himalaya', style='normal', variant='normal', weight=400, stretch='normal', size='scalable')) = 10.05\n",
      "2024-04-10 15:18:28,053 - DEBUG - matplotlib.font_manager - findfont: score(FontEntry(fname='C:\\\\Windows\\\\Fonts\\\\BOOKOS.TTF', name='Bookman Old Style', style='normal', variant='normal', weight=300, stretch='normal', size='scalable')) = 10.145\n",
      "2024-04-10 15:18:28,053 - DEBUG - matplotlib.font_manager - findfont: score(FontEntry(fname='C:\\\\Windows\\\\Fonts\\\\GOUDOS.TTF', name='Goudy Old Style', style='normal', variant='normal', weight=400, stretch='normal', size='scalable')) = 10.05\n",
      "2024-04-10 15:18:28,054 - DEBUG - matplotlib.font_manager - findfont: score(FontEntry(fname='C:\\\\Windows\\\\Fonts\\\\IBMPlexSansKR-Light.ttf', name='IBM Plex Sans KR', style='normal', variant='normal', weight=300, stretch='normal', size='scalable')) = 10.145\n",
      "2024-04-10 15:18:28,055 - DEBUG - matplotlib.font_manager - findfont: score(FontEntry(fname='C:\\\\Windows\\\\Fonts\\\\IBMPlexSerif-Italic.ttf', name='IBM Plex Serif', style='italic', variant='normal', weight=400, stretch='normal', size='scalable')) = 11.05\n",
      "2024-04-10 15:18:28,055 - DEBUG - matplotlib.font_manager - findfont: score(FontEntry(fname='C:\\\\Windows\\\\Fonts\\\\IBMPlexSans-Bold.ttf', name='IBM Plex Sans', style='normal', variant='normal', weight=700, stretch='normal', size='scalable')) = 10.335\n",
      "2024-04-10 15:18:28,056 - DEBUG - matplotlib.font_manager - findfont: score(FontEntry(fname='C:\\\\Windows\\\\Fonts\\\\MTEXTRA.TTF', name='MT Extra', style='normal', variant='normal', weight=400, stretch='normal', size='scalable')) = 10.05\n",
      "2024-04-10 15:18:28,056 - DEBUG - matplotlib.font_manager - findfont: score(FontEntry(fname='C:\\\\Windows\\\\Fonts\\\\IBMPlexSansCondensed-Bold.ttf', name='IBM Plex Sans Condensed', style='normal', variant='normal', weight=700, stretch='condensed', size='scalable')) = 10.535\n",
      "2024-04-10 15:18:28,057 - DEBUG - matplotlib.font_manager - findfont: score(FontEntry(fname='C:\\\\Windows\\\\Fonts\\\\IBMPlexArabic-Bold.ttf', name='IBM Plex Arabic', style='normal', variant='normal', weight=700, stretch='normal', size='scalable')) = 10.335\n",
      "2024-04-10 15:18:28,057 - DEBUG - matplotlib.font_manager - findfont: score(FontEntry(fname='C:\\\\Windows\\\\Fonts\\\\GLECB.TTF', name='Gloucester MT Extra Condensed', style='normal', variant='normal', weight=400, stretch='condensed', size='scalable')) = 10.25\n",
      "2024-04-10 15:18:28,058 - DEBUG - matplotlib.font_manager - findfont: score(FontEntry(fname='C:\\\\Windows\\\\Fonts\\\\l_10646.ttf', name='Lucida Sans Unicode', style='normal', variant='normal', weight=400, stretch='normal', size='scalable')) = 10.05\n",
      "2024-04-10 15:18:28,059 - DEBUG - matplotlib.font_manager - findfont: score(FontEntry(fname='C:\\\\Windows\\\\Fonts\\\\ITCEDSCR.TTF', name='Edwardian Script ITC', style='normal', variant='normal', weight=400, stretch='normal', size='scalable')) = 10.05\n",
      "2024-04-10 15:18:28,061 - DEBUG - matplotlib.font_manager - findfont: score(FontEntry(fname='C:\\\\Windows\\\\Fonts\\\\IBMPlexSansJP-Thin.ttf', name='IBM Plex Sans JP', style='normal', variant='normal', weight=100, stretch='normal', size='scalable')) = 10.335\n",
      "2024-04-10 15:18:28,062 - DEBUG - matplotlib.font_manager - findfont: score(FontEntry(fname='C:\\\\Windows\\\\Fonts\\\\IBMPlexSansCondensed-LightItalic.ttf', name='IBM Plex Sans Condensed', style='italic', variant='normal', weight=300, stretch='condensed', size='scalable')) = 11.344999999999999\n",
      "2024-04-10 15:18:28,063 - DEBUG - matplotlib.font_manager - findfont: score(FontEntry(fname='C:\\\\Windows\\\\Fonts\\\\Candarab.ttf', name='Candara', style='normal', variant='normal', weight=700, stretch='normal', size='scalable')) = 10.335\n",
      "2024-04-10 15:18:28,063 - DEBUG - matplotlib.font_manager - findfont: score(FontEntry(fname='C:\\\\Windows\\\\Fonts\\\\Inkfree.ttf', name='Ink Free', style='normal', variant='normal', weight=400, stretch='normal', size='scalable')) = 10.05\n",
      "2024-04-10 15:18:28,064 - DEBUG - matplotlib.font_manager - findfont: score(FontEntry(fname='C:\\\\Windows\\\\Fonts\\\\msyi.ttf', name='Microsoft Yi Baiti', style='normal', variant='normal', weight=400, stretch='normal', size='scalable')) = 10.05\n",
      "2024-04-10 15:18:28,065 - DEBUG - matplotlib.font_manager - findfont: score(FontEntry(fname='C:\\\\Windows\\\\Fonts\\\\CALISTBI.TTF', name='Calisto MT', style='italic', variant='normal', weight=700, stretch='normal', size='scalable')) = 11.335\n",
      "2024-04-10 15:18:28,065 - DEBUG - matplotlib.font_manager - findfont: score(FontEntry(fname='C:\\\\Windows\\\\Fonts\\\\segoeuiz.ttf', name='Segoe UI', style='italic', variant='normal', weight=700, stretch='normal', size='scalable')) = 11.335\n",
      "2024-04-10 15:18:28,066 - DEBUG - matplotlib.font_manager - findfont: score(FontEntry(fname='C:\\\\Windows\\\\Fonts\\\\GILC____.TTF', name='Gill Sans MT Condensed', style='normal', variant='normal', weight=400, stretch='condensed', size='scalable')) = 10.25\n",
      "2024-04-10 15:18:28,067 - DEBUG - matplotlib.font_manager - findfont: score(FontEntry(fname='C:\\\\Windows\\\\Fonts\\\\IBMPlexSerif-LightItalic.ttf', name='IBM Plex Serif', style='italic', variant='normal', weight=300, stretch='normal', size='scalable')) = 11.145\n",
      "2024-04-10 15:18:28,067 - DEBUG - matplotlib.font_manager - findfont: score(FontEntry(fname='C:\\\\Windows\\\\Fonts\\\\IBMPlexSansDevanagari-SemiBold.ttf', name='IBM Plex Sans Devanagari', style='normal', variant='normal', weight=600, stretch='normal', size='scalable')) = 10.24\n",
      "2024-04-10 15:18:28,068 - DEBUG - matplotlib.font_manager - findfont: score(FontEntry(fname='C:\\\\Windows\\\\Fonts\\\\PERB____.TTF', name='Perpetua', style='normal', variant='normal', weight=700, stretch='normal', size='scalable')) = 10.335\n",
      "2024-04-10 15:18:28,069 - DEBUG - matplotlib.font_manager - findfont: score(FontEntry(fname='C:\\\\Windows\\\\Fonts\\\\LBRITE.TTF', name='Lucida Bright', style='normal', variant='normal', weight=400, stretch='normal', size='scalable')) = 10.05\n",
      "2024-04-10 15:18:28,069 - DEBUG - matplotlib.font_manager - findfont: score(FontEntry(fname='C:\\\\Windows\\\\Fonts\\\\IBMPlexSans-Text.ttf', name='IBM Plex Sans', style='normal', variant='normal', weight=450, stretch='normal', size='scalable')) = 10.0975\n",
      "2024-04-10 15:18:28,069 - DEBUG - matplotlib.font_manager - findfont: score(FontEntry(fname='C:\\\\Windows\\\\Fonts\\\\corbel.ttf', name='Corbel', style='normal', variant='normal', weight=400, stretch='normal', size='scalable')) = 10.05\n",
      "2024-04-10 15:18:28,070 - DEBUG - matplotlib.font_manager - findfont: score(FontEntry(fname='C:\\\\Windows\\\\Fonts\\\\calibri.ttf', name='Calibri', style='normal', variant='normal', weight=400, stretch='normal', size='scalable')) = 10.05\n",
      "2024-04-10 15:18:28,070 - DEBUG - matplotlib.font_manager - findfont: score(FontEntry(fname='C:\\\\Windows\\\\Fonts\\\\FRADMCN.TTF', name='Franklin Gothic Demi Cond', style='normal', variant='normal', weight=400, stretch='condensed', size='scalable')) = 10.25\n",
      "2024-04-10 15:18:28,070 - DEBUG - matplotlib.font_manager - findfont: score(FontEntry(fname='C:\\\\Windows\\\\Fonts\\\\IBMPlexSansThaiLooped-ExtraLight.ttf', name='IBM Plex Sans Thai Looped', style='normal', variant='normal', weight=200, stretch='normal', size='scalable')) = 10.24\n",
      "2024-04-10 15:18:28,071 - DEBUG - matplotlib.font_manager - findfont: score(FontEntry(fname='C:\\\\Windows\\\\Fonts\\\\GOTHICBI.TTF', name='Century Gothic', style='italic', variant='normal', weight=700, stretch='normal', size='scalable')) = 11.335\n",
      "2024-04-10 15:18:28,072 - DEBUG - matplotlib.font_manager - findfont: score(FontEntry(fname='C:\\\\Windows\\\\Fonts\\\\AGENCYB.TTF', name='Agency FB', style='normal', variant='normal', weight=700, stretch='normal', size='scalable')) = 10.335\n",
      "2024-04-10 15:18:28,072 - DEBUG - matplotlib.font_manager - findfont: score(FontEntry(fname='C:\\\\Windows\\\\Fonts\\\\IBMPlexSansDevanagari-Regular.ttf', name='IBM Plex Sans Devanagari', style='normal', variant='normal', weight=400, stretch='normal', size='scalable')) = 10.05\n",
      "2024-04-10 15:18:28,073 - DEBUG - matplotlib.font_manager - findfont: score(FontEntry(fname='C:\\\\Windows\\\\Fonts\\\\IBMPlexSansThai-Bold.ttf', name='IBM Plex Sans Thai', style='normal', variant='normal', weight=700, stretch='normal', size='scalable')) = 10.335\n",
      "2024-04-10 15:18:28,073 - DEBUG - matplotlib.font_manager - findfont: score(FontEntry(fname='C:\\\\Windows\\\\Fonts\\\\YuGothR.ttc', name='Yu Gothic', style='normal', variant='normal', weight=400, stretch='normal', size='scalable')) = 10.05\n",
      "2024-04-10 15:18:28,074 - DEBUG - matplotlib.font_manager - findfont: score(FontEntry(fname='C:\\\\Windows\\\\Fonts\\\\CENTAUR.TTF', name='Centaur', style='normal', variant='normal', weight=400, stretch='normal', size='scalable')) = 10.05\n",
      "2024-04-10 15:18:28,075 - DEBUG - matplotlib.font_manager - findfont: score(FontEntry(fname='C:\\\\Windows\\\\Fonts\\\\BOD_CR.TTF', name='Bodoni MT', style='normal', variant='normal', weight=400, stretch='condensed', size='scalable')) = 10.25\n",
      "2024-04-10 15:18:28,075 - DEBUG - matplotlib.font_manager - findfont: score(FontEntry(fname='C:\\\\Windows\\\\Fonts\\\\CASTELAR.TTF', name='Castellar', style='normal', variant='normal', weight=400, stretch='normal', size='scalable')) = 10.05\n",
      "2024-04-10 15:18:28,076 - DEBUG - matplotlib.font_manager - findfont: score(FontEntry(fname='C:\\\\Windows\\\\Fonts\\\\NIAGENG.TTF', name='Niagara Engraved', style='normal', variant='normal', weight=400, stretch='normal', size='scalable')) = 10.05\n",
      "2024-04-10 15:18:28,077 - DEBUG - matplotlib.font_manager - findfont: score(FontEntry(fname='C:\\\\Windows\\\\Fonts\\\\timesbi.ttf', name='Times New Roman', style='italic', variant='normal', weight=700, stretch='normal', size='scalable')) = 11.335\n",
      "2024-04-10 15:18:28,077 - DEBUG - matplotlib.font_manager - findfont: score(FontEntry(fname='C:\\\\Windows\\\\Fonts\\\\RAVIE.TTF', name='Ravie', style='normal', variant='normal', weight=400, stretch='normal', size='scalable')) = 10.05\n",
      "2024-04-10 15:18:28,078 - DEBUG - matplotlib.font_manager - findfont: score(FontEntry(fname='C:\\\\Windows\\\\Fonts\\\\TCCEB.TTF', name='Tw Cen MT Condensed Extra Bold', style='normal', variant='normal', weight=400, stretch='condensed', size='scalable')) = 10.25\n",
      "2024-04-10 15:18:28,078 - DEBUG - matplotlib.font_manager - findfont: score(FontEntry(fname='C:\\\\Windows\\\\Fonts\\\\FRABK.TTF', name='Franklin Gothic Book', style='normal', variant='normal', weight=400, stretch='normal', size='scalable')) = 10.05\n",
      "2024-04-10 15:18:28,080 - DEBUG - matplotlib.font_manager - findfont: score(FontEntry(fname='C:\\\\Windows\\\\Fonts\\\\ANTQUAB.TTF', name='Book Antiqua', style='normal', variant='normal', weight=700, stretch='normal', size='scalable')) = 10.335\n",
      "2024-04-10 15:18:28,081 - DEBUG - matplotlib.font_manager - findfont: score(FontEntry(fname='C:\\\\Windows\\\\Fonts\\\\LFAX.TTF', name='Lucida Fax', style='normal', variant='normal', weight=400, stretch='normal', size='scalable')) = 10.05\n",
      "2024-04-10 15:18:28,081 - DEBUG - matplotlib.font_manager - findfont: score(FontEntry(fname='C:\\\\Windows\\\\Fonts\\\\tahomabd.ttf', name='Tahoma', style='normal', variant='normal', weight=700, stretch='normal', size='scalable')) = 10.335\n",
      "2024-04-10 15:18:28,082 - DEBUG - matplotlib.font_manager - findfont: score(FontEntry(fname='C:\\\\Windows\\\\Fonts\\\\LFAXD.TTF', name='Lucida Fax', style='normal', variant='normal', weight=600, stretch='normal', size='scalable')) = 10.24\n",
      "2024-04-10 15:18:28,083 - DEBUG - matplotlib.font_manager - findfont: score(FontEntry(fname='C:\\\\Windows\\\\Fonts\\\\BAUHS93.TTF', name='Bauhaus 93', style='normal', variant='normal', weight=400, stretch='normal', size='scalable')) = 10.05\n",
      "2024-04-10 15:18:28,083 - DEBUG - matplotlib.font_manager - findfont: score(FontEntry(fname='C:\\\\Windows\\\\Fonts\\\\VIVALDII.TTF', name='Vivaldi', style='italic', variant='normal', weight=400, stretch='normal', size='scalable')) = 11.05\n",
      "2024-04-10 15:18:28,084 - DEBUG - matplotlib.font_manager - findfont: score(FontEntry(fname='C:\\\\Windows\\\\Fonts\\\\webdings.ttf', name='Webdings', style='normal', variant='normal', weight=400, stretch='normal', size='scalable')) = 10.05\n",
      "2024-04-10 15:18:28,085 - DEBUG - matplotlib.font_manager - findfont: score(FontEntry(fname='C:\\\\Windows\\\\Fonts\\\\ERASDEMI.TTF', name='Eras Demi ITC', style='normal', variant='normal', weight=400, stretch='normal', size='scalable')) = 10.05\n",
      "2024-04-10 15:18:28,085 - DEBUG - matplotlib.font_manager - findfont: score(FontEntry(fname='C:\\\\Windows\\\\Fonts\\\\OLDENGL.TTF', name='Old English Text MT', style='normal', variant='normal', weight=400, stretch='normal', size='scalable')) = 10.05\n",
      "2024-04-10 15:18:28,086 - DEBUG - matplotlib.font_manager - findfont: score(FontEntry(fname='C:\\\\Windows\\\\Fonts\\\\GOUDOSB.TTF', name='Goudy Old Style', style='normal', variant='normal', weight=700, stretch='normal', size='scalable')) = 10.335\n",
      "2024-04-10 15:18:28,086 - DEBUG - matplotlib.font_manager - findfont: score(FontEntry(fname='C:\\\\Windows\\\\Fonts\\\\GARAIT.TTF', name='Garamond', style='italic', variant='normal', weight=400, stretch='normal', size='scalable')) = 11.05\n",
      "2024-04-10 15:18:28,087 - DEBUG - matplotlib.font_manager - findfont: score(FontEntry(fname='C:\\\\Windows\\\\Fonts\\\\IBMPlexSansThaiLooped-Regular.ttf', name='IBM Plex Sans Thai Looped', style='normal', variant='normal', weight=400, stretch='normal', size='scalable')) = 10.05\n",
      "2024-04-10 15:18:28,087 - DEBUG - matplotlib.font_manager - findfont: score(FontEntry(fname='C:\\\\Windows\\\\Fonts\\\\POORICH.TTF', name='Poor Richard', style='normal', variant='normal', weight=400, stretch='normal', size='scalable')) = 10.05\n",
      "2024-04-10 15:18:28,088 - DEBUG - matplotlib.font_manager - findfont: score(FontEntry(fname='C:\\\\Windows\\\\Fonts\\\\verdanaz.ttf', name='Verdana', style='italic', variant='normal', weight=700, stretch='normal', size='scalable')) = 4.971363636363637\n",
      "2024-04-10 15:18:28,088 - DEBUG - matplotlib.font_manager - findfont: score(FontEntry(fname='C:\\\\Windows\\\\Fonts\\\\georgia.ttf', name='Georgia', style='normal', variant='normal', weight=400, stretch='normal', size='scalable')) = 10.05\n",
      "2024-04-10 15:18:28,088 - DEBUG - matplotlib.font_manager - findfont: score(FontEntry(fname='C:\\\\Windows\\\\Fonts\\\\STENCIL.TTF', name='Stencil', style='normal', variant='normal', weight=400, stretch='normal', size='scalable')) = 10.05\n",
      "2024-04-10 15:18:28,088 - DEBUG - matplotlib.font_manager - findfont: score(FontEntry(fname='C:\\\\Windows\\\\Fonts\\\\SitkaVF.ttf', name='Sitka', style='normal', variant='normal', weight=400, stretch='normal', size='scalable')) = 10.05\n",
      "2024-04-10 15:18:28,090 - DEBUG - matplotlib.font_manager - findfont: score(FontEntry(fname='C:\\\\Windows\\\\Fonts\\\\ERASMD.TTF', name='Eras Medium ITC', style='normal', variant='normal', weight=400, stretch='normal', size='scalable')) = 10.05\n",
      "2024-04-10 15:18:28,091 - DEBUG - matplotlib.font_manager - findfont: score(FontEntry(fname='C:\\\\Windows\\\\Fonts\\\\IBMPlexMono-MediumItalic.ttf', name='IBM Plex Mono', style='italic', variant='normal', weight=500, stretch='normal', size='scalable')) = 11.145\n",
      "2024-04-10 15:18:28,091 - DEBUG - matplotlib.font_manager - findfont: score(FontEntry(fname='C:\\\\Windows\\\\Fonts\\\\seguisli.ttf', name='Segoe UI', style='italic', variant='normal', weight=350, stretch='normal', size='scalable')) = 11.0975\n",
      "2024-04-10 15:18:28,092 - DEBUG - matplotlib.font_manager - findfont: score(FontEntry(fname='C:\\\\Windows\\\\Fonts\\\\IBMPlexSansHebrew-Regular.ttf', name='IBM Plex Sans Hebrew', style='normal', variant='normal', weight=400, stretch='normal', size='scalable')) = 10.05\n",
      "2024-04-10 15:18:28,093 - DEBUG - matplotlib.font_manager - findfont: score(FontEntry(fname='C:\\\\Windows\\\\Fonts\\\\calibriz.ttf', name='Calibri', style='italic', variant='normal', weight=700, stretch='normal', size='scalable')) = 11.335\n",
      "2024-04-10 15:18:28,093 - DEBUG - matplotlib.font_manager - findfont: score(FontEntry(fname='C:\\\\Windows\\\\Fonts\\\\ARIALN.TTF', name='Arial', style='normal', variant='normal', weight=400, stretch='condensed', size='scalable')) = 6.613636363636363\n",
      "2024-04-10 15:18:28,094 - DEBUG - matplotlib.font_manager - findfont: score(FontEntry(fname='C:\\\\Windows\\\\Fonts\\\\PERTIBD.TTF', name='Perpetua Titling MT', style='normal', variant='normal', weight=700, stretch='normal', size='scalable')) = 10.335\n",
      "2024-04-10 15:18:28,095 - DEBUG - matplotlib.font_manager - findfont: score(FontEntry(fname='C:\\\\Windows\\\\Fonts\\\\VINERITC.TTF', name='Viner Hand ITC', style='normal', variant='normal', weight=400, stretch='normal', size='scalable')) = 10.05\n",
      "2024-04-10 15:18:28,096 - DEBUG - matplotlib.font_manager - findfont: score(FontEntry(fname='C:\\\\Windows\\\\Fonts\\\\trebucbd.ttf', name='Trebuchet MS', style='normal', variant='normal', weight=700, stretch='normal', size='scalable')) = 10.335\n",
      "2024-04-10 15:18:28,097 - DEBUG - matplotlib.font_manager - findfont: score(FontEntry(fname='C:\\\\Windows\\\\Fonts\\\\segoeprb.ttf', name='Segoe Print', style='normal', variant='normal', weight=700, stretch='normal', size='scalable')) = 10.335\n",
      "2024-04-10 15:18:28,097 - DEBUG - matplotlib.font_manager - findfont: score(FontEntry(fname='C:\\\\Windows\\\\Fonts\\\\msyh.ttc', name='Microsoft YaHei', style='normal', variant='normal', weight=400, stretch='normal', size='scalable')) = 10.05\n",
      "2024-04-10 15:18:28,098 - DEBUG - matplotlib.font_manager - findfont: score(FontEntry(fname='C:\\\\Windows\\\\Fonts\\\\IBMPlexSansCondensed-TextItalic.ttf', name='IBM Plex Sans Condensed', style='italic', variant='normal', weight=450, stretch='condensed', size='scalable')) = 11.2975\n",
      "2024-04-10 15:18:28,099 - DEBUG - matplotlib.font_manager - findfont: score(FontEntry(fname='C:\\\\Windows\\\\Fonts\\\\framd.ttf', name='Franklin Gothic Medium', style='normal', variant='normal', weight=400, stretch='normal', size='scalable')) = 10.05\n",
      "2024-04-10 15:18:28,100 - DEBUG - matplotlib.font_manager - findfont: score(FontEntry(fname='C:\\\\Windows\\\\Fonts\\\\IBMPlexSerif-Regular.ttf', name='IBM Plex Serif', style='normal', variant='normal', weight=400, stretch='normal', size='scalable')) = 10.05\n",
      "2024-04-10 15:18:28,100 - DEBUG - matplotlib.font_manager - findfont: score(FontEntry(fname='C:\\\\Windows\\\\Fonts\\\\CALISTB.TTF', name='Calisto MT', style='normal', variant='normal', weight=700, stretch='normal', size='scalable')) = 10.335\n",
      "2024-04-10 15:18:28,101 - DEBUG - matplotlib.font_manager - findfont: score(FontEntry(fname='C:\\\\Windows\\\\Fonts\\\\RAGE.TTF', name='Rage Italic', style='italic', variant='normal', weight=400, stretch='normal', size='scalable')) = 11.05\n",
      "2024-04-10 15:18:28,101 - DEBUG - matplotlib.font_manager - findfont: score(FontEntry(fname='C:\\\\Windows\\\\Fonts\\\\BOD_CI.TTF', name='Bodoni MT', style='italic', variant='normal', weight=400, stretch='condensed', size='scalable')) = 11.25\n",
      "2024-04-10 15:18:28,102 - DEBUG - matplotlib.font_manager - findfont: score(FontEntry(fname='C:\\\\Windows\\\\Fonts\\\\ariblk.ttf', name='Arial', style='normal', variant='normal', weight=900, stretch='normal', size='scalable')) = 6.888636363636364\n",
      "2024-04-10 15:18:28,103 - DEBUG - matplotlib.font_manager - findfont: score(FontEntry(fname='C:\\\\Windows\\\\Fonts\\\\IBMPlexSansThai-Regular.ttf', name='IBM Plex Sans Thai', style='normal', variant='normal', weight=400, stretch='normal', size='scalable')) = 10.05\n",
      "2024-04-10 15:18:28,103 - DEBUG - matplotlib.font_manager - findfont: score(FontEntry(fname='C:\\\\Windows\\\\Fonts\\\\ROCC____.TTF', name='Rockwell Condensed', style='normal', variant='normal', weight=400, stretch='condensed', size='scalable')) = 10.25\n",
      "2024-04-10 15:18:28,104 - DEBUG - matplotlib.font_manager - findfont: score(FontEntry(fname='C:\\\\Windows\\\\Fonts\\\\GARABD.TTF', name='Garamond', style='normal', variant='normal', weight=700, stretch='normal', size='scalable')) = 10.335\n",
      "2024-04-10 15:18:28,105 - DEBUG - matplotlib.font_manager - findfont: score(FontEntry(fname='C:\\\\Windows\\\\Fonts\\\\SCHLBKB.TTF', name='Century Schoolbook', style='normal', variant='normal', weight=700, stretch='normal', size='scalable')) = 10.335\n",
      "2024-04-10 15:18:28,105 - DEBUG - matplotlib.font_manager - findfont: score(FontEntry(fname='C:\\\\Windows\\\\Fonts\\\\LTYPEO.TTF', name='Lucida Sans Typewriter', style='oblique', variant='normal', weight=400, stretch='normal', size='scalable')) = 11.05\n",
      "2024-04-10 15:18:28,106 - DEBUG - matplotlib.font_manager - findfont: score(FontEntry(fname='C:\\\\Windows\\\\Fonts\\\\ELEPHNTI.TTF', name='Elephant', style='italic', variant='normal', weight=400, stretch='normal', size='scalable')) = 11.05\n",
      "2024-04-10 15:18:28,106 - DEBUG - matplotlib.font_manager - findfont: score(FontEntry(fname='C:\\\\Windows\\\\Fonts\\\\IBMPlexMono-ThinItalic.ttf', name='IBM Plex Mono', style='italic', variant='normal', weight=100, stretch='normal', size='scalable')) = 11.335\n",
      "2024-04-10 15:18:28,107 - DEBUG - matplotlib.font_manager - findfont: score(FontEntry(fname='C:\\\\Windows\\\\Fonts\\\\NIAGSOL.TTF', name='Niagara Solid', style='normal', variant='normal', weight=400, stretch='normal', size='scalable')) = 10.05\n",
      "2024-04-10 15:18:28,107 - DEBUG - matplotlib.font_manager - findfont: score(FontEntry(fname='C:\\\\Windows\\\\Fonts\\\\IBMPlexSansDevanagari-Bold.ttf', name='IBM Plex Sans Devanagari', style='normal', variant='normal', weight=700, stretch='normal', size='scalable')) = 10.335\n",
      "2024-04-10 15:18:28,108 - DEBUG - matplotlib.font_manager - findfont: score(FontEntry(fname='C:\\\\Windows\\\\Fonts\\\\IBMPlexSansDevanagari-Text.ttf', name='IBM Plex Sans Devanagari', style='normal', variant='normal', weight=450, stretch='normal', size='scalable')) = 10.0975\n",
      "2024-04-10 15:18:28,108 - DEBUG - matplotlib.font_manager - findfont: score(FontEntry(fname='C:\\\\Windows\\\\Fonts\\\\ARIALNB.TTF', name='Arial', style='normal', variant='normal', weight=700, stretch='condensed', size='scalable')) = 6.8986363636363635\n",
      "2024-04-10 15:18:28,109 - DEBUG - matplotlib.font_manager - findfont: score(FontEntry(fname='C:\\\\Windows\\\\Fonts\\\\cambriab.ttf', name='Cambria', style='normal', variant='normal', weight=700, stretch='normal', size='scalable')) = 10.335\n",
      "2024-04-10 15:18:28,110 - DEBUG - matplotlib.font_manager - findfont: score(FontEntry(fname='C:\\\\Windows\\\\Fonts\\\\REFSAN.TTF', name='MS Reference Sans Serif', style='normal', variant='normal', weight=400, stretch='normal', size='scalable')) = 10.05\n",
      "2024-04-10 15:18:28,110 - DEBUG - matplotlib.font_manager - findfont: score(FontEntry(fname='C:\\\\Windows\\\\Fonts\\\\IMPRISHA.TTF', name='Imprint MT Shadow', style='normal', variant='normal', weight=400, stretch='normal', size='scalable')) = 10.05\n",
      "2024-04-10 15:18:28,111 - DEBUG - matplotlib.font_manager - findfont: score(FontEntry(fname='C:\\\\Windows\\\\Fonts\\\\seguisym.ttf', name='Segoe UI Symbol', style='normal', variant='normal', weight=400, stretch='normal', size='scalable')) = 10.05\n",
      "2024-04-10 15:18:28,111 - DEBUG - matplotlib.font_manager - findfont: score(FontEntry(fname='C:\\\\Windows\\\\Fonts\\\\BELL.TTF', name='Bell MT', style='normal', variant='normal', weight=400, stretch='normal', size='scalable')) = 10.05\n",
      "2024-04-10 15:18:28,112 - DEBUG - matplotlib.font_manager - findfont: score(FontEntry(fname='C:\\\\Windows\\\\Fonts\\\\corbelz.ttf', name='Corbel', style='italic', variant='normal', weight=700, stretch='normal', size='scalable')) = 11.335\n",
      "2024-04-10 15:18:28,112 - DEBUG - matplotlib.font_manager - findfont: score(FontEntry(fname='C:\\\\Windows\\\\Fonts\\\\IBMPlexMono-LightItalic.ttf', name='IBM Plex Mono', style='italic', variant='normal', weight=300, stretch='normal', size='scalable')) = 11.145\n",
      "2024-04-10 15:18:28,113 - DEBUG - matplotlib.font_manager - findfont: score(FontEntry(fname='C:\\\\Windows\\\\Fonts\\\\arial.ttf', name='Arial', style='normal', variant='normal', weight=400, stretch='normal', size='scalable')) = 6.413636363636363\n",
      "2024-04-10 15:18:28,113 - DEBUG - matplotlib.font_manager - findfont: score(FontEntry(fname='C:\\\\Windows\\\\Fonts\\\\VLADIMIR.TTF', name='Vladimir Script', style='normal', variant='normal', weight=400, stretch='normal', size='scalable')) = 10.05\n",
      "2024-04-10 15:18:28,114 - DEBUG - matplotlib.font_manager - findfont: score(FontEntry(fname='C:\\\\Windows\\\\Fonts\\\\TCCB____.TTF', name='Tw Cen MT Condensed', style='normal', variant='normal', weight=700, stretch='condensed', size='scalable')) = 10.535\n",
      "2024-04-10 15:18:28,115 - DEBUG - matplotlib.font_manager - findfont: score(FontEntry(fname='C:\\\\Windows\\\\Fonts\\\\georgiaz.ttf', name='Georgia', style='italic', variant='normal', weight=700, stretch='normal', size='scalable')) = 11.335\n",
      "2024-04-10 15:18:28,115 - DEBUG - matplotlib.font_manager - findfont: score(FontEntry(fname='C:\\\\Windows\\\\Fonts\\\\IBMPlexSansJP-ExtraLight.ttf', name='IBM Plex Sans JP', style='normal', variant='normal', weight=200, stretch='normal', size='scalable')) = 10.24\n",
      "2024-04-10 15:18:28,116 - DEBUG - matplotlib.font_manager - findfont: score(FontEntry(fname='C:\\\\Windows\\\\Fonts\\\\GILBI___.TTF', name='Gill Sans MT', style='italic', variant='normal', weight=700, stretch='normal', size='scalable')) = 11.335\n",
      "2024-04-10 15:18:28,116 - DEBUG - matplotlib.font_manager - findfont: score(FontEntry(fname='C:\\\\Windows\\\\Fonts\\\\ROCK.TTF', name='Rockwell', style='normal', variant='normal', weight=400, stretch='normal', size='scalable')) = 10.05\n",
      "2024-04-10 15:18:28,117 - DEBUG - matplotlib.font_manager - findfont: score(FontEntry(fname='C:\\\\Windows\\\\Fonts\\\\IBMPlexSerif-SemiBoldItalic.ttf', name='IBM Plex Serif', style='italic', variant='normal', weight=600, stretch='normal', size='scalable')) = 11.24\n",
      "2024-04-10 15:18:28,117 - DEBUG - matplotlib.font_manager - findfont: score(FontEntry(fname='C:\\\\Windows\\\\Fonts\\\\IBMPlexSansThai-Light.ttf', name='IBM Plex Sans Thai', style='normal', variant='normal', weight=300, stretch='normal', size='scalable')) = 10.145\n",
      "2024-04-10 15:18:28,118 - DEBUG - matplotlib.font_manager - findfont: score(FontEntry(fname='C:\\\\Windows\\\\Fonts\\\\seguihis.ttf', name='Segoe UI Historic', style='normal', variant='normal', weight=400, stretch='normal', size='scalable')) = 10.05\n",
      "2024-04-10 15:18:28,118 - DEBUG - matplotlib.font_manager - findfont: score(FontEntry(fname='C:\\\\Windows\\\\Fonts\\\\IBMPlexSansCondensed-SemiBoldItalic.ttf', name='IBM Plex Sans Condensed', style='italic', variant='normal', weight=600, stretch='condensed', size='scalable')) = 11.44\n",
      "2024-04-10 15:18:28,118 - DEBUG - matplotlib.font_manager - findfont: score(FontEntry(fname='C:\\\\Windows\\\\Fonts\\\\palabi.ttf', name='Palatino Linotype', style='italic', variant='normal', weight=700, stretch='normal', size='scalable')) = 11.335\n",
      "2024-04-10 15:18:28,120 - DEBUG - matplotlib.font_manager - findfont: score(FontEntry(fname='C:\\\\Windows\\\\Fonts\\\\IBMPlexSansCondensed-Text.ttf', name='IBM Plex Sans Condensed', style='normal', variant='normal', weight=450, stretch='condensed', size='scalable')) = 10.2975\n",
      "2024-04-10 15:18:28,121 - DEBUG - matplotlib.font_manager - findfont: score(FontEntry(fname='C:\\\\Windows\\\\Fonts\\\\LBRITEI.TTF', name='Lucida Bright', style='italic', variant='normal', weight=400, stretch='normal', size='scalable')) = 11.05\n",
      "2024-04-10 15:18:28,121 - DEBUG - matplotlib.font_manager - findfont: score(FontEntry(fname='C:\\\\Windows\\\\Fonts\\\\corbelli.ttf', name='Corbel', style='italic', variant='normal', weight=300, stretch='normal', size='scalable')) = 11.145\n",
      "2024-04-10 15:18:28,122 - DEBUG - matplotlib.font_manager - findfont: score(FontEntry(fname='C:\\\\Windows\\\\Fonts\\\\IBMPlexMono-SemiBoldItalic.ttf', name='IBM Plex Mono', style='italic', variant='normal', weight=600, stretch='normal', size='scalable')) = 11.24\n",
      "2024-04-10 15:18:28,122 - DEBUG - matplotlib.font_manager - findfont: score(FontEntry(fname='C:\\\\Windows\\\\Fonts\\\\LEELAWAD.TTF', name='Leelawadee', style='normal', variant='normal', weight=400, stretch='normal', size='scalable')) = 10.05\n",
      "2024-04-10 15:18:28,123 - DEBUG - matplotlib.font_manager - findfont: score(FontEntry(fname='C:\\\\Windows\\\\Fonts\\\\BELLI.TTF', name='Bell MT', style='italic', variant='normal', weight=400, stretch='normal', size='scalable')) = 11.05\n",
      "2024-04-10 15:18:28,123 - DEBUG - matplotlib.font_manager - findfont: score(FontEntry(fname='C:\\\\Windows\\\\Fonts\\\\IBMPlexSansCondensed-Light.ttf', name='IBM Plex Sans Condensed', style='normal', variant='normal', weight=300, stretch='condensed', size='scalable')) = 10.344999999999999\n",
      "2024-04-10 15:18:28,124 - DEBUG - matplotlib.font_manager - findfont: score(FontEntry(fname='C:\\\\Windows\\\\Fonts\\\\GOUDYSTO.TTF', name='Goudy Stout', style='normal', variant='normal', weight=400, stretch='normal', size='scalable')) = 10.05\n",
      "2024-04-10 15:18:28,124 - DEBUG - matplotlib.font_manager - findfont: score(FontEntry(fname='C:\\\\Windows\\\\Fonts\\\\Nirmala.ttf', name='Nirmala UI', style='normal', variant='normal', weight=400, stretch='normal', size='scalable')) = 10.05\n",
      "2024-04-10 15:18:28,125 - DEBUG - matplotlib.font_manager - findfont: score(FontEntry(fname='C:\\\\Windows\\\\Fonts\\\\IBMPlexSansThaiLooped-Light.ttf', name='IBM Plex Sans Thai Looped', style='normal', variant='normal', weight=300, stretch='normal', size='scalable')) = 10.145\n",
      "2024-04-10 15:18:28,125 - DEBUG - matplotlib.font_manager - findfont: score(FontEntry(fname='C:\\\\Windows\\\\Fonts\\\\calibrii.ttf', name='Calibri', style='italic', variant='normal', weight=400, stretch='normal', size='scalable')) = 11.05\n",
      "2024-04-10 15:18:28,126 - DEBUG - matplotlib.font_manager - findfont: score(FontEntry(fname='C:\\\\Windows\\\\Fonts\\\\BOD_BLAR.TTF', name='Bodoni MT', style='normal', variant='normal', weight=900, stretch='normal', size='scalable')) = 10.525\n",
      "2024-04-10 15:18:28,127 - DEBUG - matplotlib.font_manager - findfont: score(FontEntry(fname='C:\\\\Windows\\\\Fonts\\\\YuGothM.ttc', name='Yu Gothic', style='normal', variant='normal', weight=500, stretch='normal', size='scalable')) = 10.145\n",
      "2024-04-10 15:18:28,127 - DEBUG - matplotlib.font_manager - findfont: score(FontEntry(fname='C:\\\\Windows\\\\Fonts\\\\ENGR.TTF', name='Engravers MT', style='normal', variant='normal', weight=500, stretch='normal', size='scalable')) = 10.145\n",
      "2024-04-10 15:18:28,128 - DEBUG - matplotlib.font_manager - findfont: score(FontEntry(fname='C:\\\\Windows\\\\Fonts\\\\arialbd.ttf', name='Arial', style='normal', variant='normal', weight=700, stretch='normal', size='scalable')) = 6.698636363636363\n",
      "2024-04-10 15:18:28,128 - DEBUG - matplotlib.font_manager - findfont: score(FontEntry(fname='C:\\\\Windows\\\\Fonts\\\\JUICE___.TTF', name='Juice ITC', style='normal', variant='normal', weight=400, stretch='normal', size='scalable')) = 10.05\n",
      "2024-04-10 15:18:28,130 - DEBUG - matplotlib.font_manager - findfont: score(FontEntry(fname='C:\\\\Windows\\\\Fonts\\\\DUBAI-BOLD.TTF', name='Dubai', style='normal', variant='normal', weight=700, stretch='normal', size='scalable')) = 10.335\n",
      "2024-04-10 15:18:28,131 - DEBUG - matplotlib.font_manager - findfont: score(FontEntry(fname='C:\\\\Windows\\\\Fonts\\\\LeelUIsl.ttf', name='Leelawadee UI', style='normal', variant='normal', weight=350, stretch='normal', size='scalable')) = 10.0975\n",
      "2024-04-10 15:18:28,131 - DEBUG - matplotlib.font_manager - findfont: score(FontEntry(fname='C:\\\\Windows\\\\Fonts\\\\IBMPlexSerif-ExtraLight.ttf', name='IBM Plex Serif', style='normal', variant='normal', weight=200, stretch='normal', size='scalable')) = 10.24\n",
      "2024-04-10 15:18:28,132 - DEBUG - matplotlib.font_manager - findfont: score(FontEntry(fname='C:\\\\Windows\\\\Fonts\\\\IBMPlexSansArabic-Thin.ttf', name='IBM Plex Sans Arabic', style='normal', variant='normal', weight=100, stretch='normal', size='scalable')) = 10.335\n",
      "2024-04-10 15:18:28,133 - DEBUG - matplotlib.font_manager - findfont: score(FontEntry(fname='C:\\\\Windows\\\\Fonts\\\\SansSerifCollection.ttf', name='Sans Serif Collection', style='normal', variant='normal', weight=400, stretch='normal', size='scalable')) = 10.05\n",
      "2024-04-10 15:18:28,134 - DEBUG - matplotlib.font_manager - findfont: score(FontEntry(fname='C:\\\\Windows\\\\Fonts\\\\framdit.ttf', name='Franklin Gothic Medium', style='italic', variant='normal', weight=400, stretch='normal', size='scalable')) = 11.05\n",
      "2024-04-10 15:18:28,135 - DEBUG - matplotlib.font_manager - findfont: score(FontEntry(fname='C:\\\\Windows\\\\Fonts\\\\IBMPlexSansJP-Bold.ttf', name='IBM Plex Sans JP', style='normal', variant='normal', weight=700, stretch='normal', size='scalable')) = 10.335\n",
      "2024-04-10 15:18:28,135 - DEBUG - matplotlib.font_manager - findfont: score(FontEntry(fname='C:\\\\Windows\\\\Fonts\\\\msjhbd.ttc', name='Microsoft JhengHei', style='normal', variant='normal', weight=700, stretch='normal', size='scalable')) = 10.335\n",
      "2024-04-10 15:18:28,136 - DEBUG - matplotlib.font_manager - findfont: score(FontEntry(fname='C:\\\\Windows\\\\Fonts\\\\BRLNSR.TTF', name='Berlin Sans FB', style='normal', variant='normal', weight=400, stretch='normal', size='scalable')) = 10.05\n",
      "2024-04-10 15:18:28,137 - DEBUG - matplotlib.font_manager - findfont: score(FontEntry(fname='C:\\\\Windows\\\\Fonts\\\\lucon.ttf', name='Lucida Console', style='normal', variant='normal', weight=400, stretch='normal', size='scalable')) = 10.05\n",
      "2024-04-10 15:18:28,137 - DEBUG - matplotlib.font_manager - findfont: score(FontEntry(fname='C:\\\\Windows\\\\Fonts\\\\cour.ttf', name='Courier New', style='normal', variant='normal', weight=400, stretch='normal', size='scalable')) = 10.05\n",
      "2024-04-10 15:18:28,138 - DEBUG - matplotlib.font_manager - findfont: score(FontEntry(fname='C:\\\\Windows\\\\Fonts\\\\couri.ttf', name='Courier New', style='italic', variant='normal', weight=400, stretch='normal', size='scalable')) = 11.05\n",
      "2024-04-10 15:18:28,138 - DEBUG - matplotlib.font_manager - findfont: score(FontEntry(fname='C:\\\\Windows\\\\Fonts\\\\BOD_B.TTF', name='Bodoni MT', style='normal', variant='normal', weight=700, stretch='normal', size='scalable')) = 10.335\n",
      "2024-04-10 15:18:28,139 - DEBUG - matplotlib.font_manager - findfont: score(FontEntry(fname='C:\\\\Windows\\\\Fonts\\\\IBMPlexSansThai-Text.ttf', name='IBM Plex Sans Thai', style='normal', variant='normal', weight=450, stretch='normal', size='scalable')) = 10.0975\n",
      "2024-04-10 15:18:28,140 - DEBUG - matplotlib.font_manager - findfont: score(FontEntry(fname='C:\\\\Windows\\\\Fonts\\\\GOTHIC.TTF', name='Century Gothic', style='normal', variant='normal', weight=400, stretch='normal', size='scalable')) = 10.05\n",
      "2024-04-10 15:18:28,140 - DEBUG - matplotlib.font_manager - findfont: score(FontEntry(fname='C:\\\\Windows\\\\Fonts\\\\cambriaz.ttf', name='Cambria', style='italic', variant='normal', weight=700, stretch='normal', size='scalable')) = 11.335\n",
      "2024-04-10 15:18:28,140 - DEBUG - matplotlib.font_manager - findfont: score(FontEntry(fname='C:\\\\Windows\\\\Fonts\\\\PRISTINA.TTF', name='Pristina', style='normal', variant='normal', weight=400, stretch='normal', size='scalable')) = 10.05\n",
      "2024-04-10 15:18:28,141 - DEBUG - matplotlib.font_manager - findfont: score(FontEntry(fname='C:\\\\Windows\\\\Fonts\\\\IBMPlexSansKR-SemiBold.ttf', name='IBM Plex Sans KR', style='normal', variant='normal', weight=600, stretch='normal', size='scalable')) = 10.24\n",
      "2024-04-10 15:18:28,142 - DEBUG - matplotlib.font_manager - findfont: score(FontEntry(fname='C:\\\\Windows\\\\Fonts\\\\SCHLBKBI.TTF', name='Century Schoolbook', style='italic', variant='normal', weight=700, stretch='normal', size='scalable')) = 11.335\n",
      "2024-04-10 15:18:28,142 - DEBUG - matplotlib.font_manager - findfont: score(FontEntry(fname='C:\\\\Windows\\\\Fonts\\\\mvboli.ttf', name='MV Boli', style='normal', variant='normal', weight=400, stretch='normal', size='scalable')) = 10.05\n",
      "2024-04-10 15:18:28,143 - DEBUG - matplotlib.font_manager - findfont: score(FontEntry(fname='C:\\\\Windows\\\\Fonts\\\\ntailub.ttf', name='Microsoft New Tai Lue', style='normal', variant='normal', weight=700, stretch='normal', size='scalable')) = 10.335\n",
      "2024-04-10 15:18:28,143 - DEBUG - matplotlib.font_manager - findfont: score(FontEntry(fname='C:\\\\Windows\\\\Fonts\\\\OUTLOOK.TTF', name='MS Outlook', style='normal', variant='normal', weight=400, stretch='normal', size='scalable')) = 10.05\n",
      "2024-04-10 15:18:28,144 - DEBUG - matplotlib.font_manager - findfont: score(FontEntry(fname='C:\\\\Windows\\\\Fonts\\\\LeelawUI.ttf', name='Leelawadee UI', style='normal', variant='normal', weight=400, stretch='normal', size='scalable')) = 10.05\n",
      "2024-04-10 15:18:28,145 - DEBUG - matplotlib.font_manager - findfont: score(FontEntry(fname='C:\\\\Windows\\\\Fonts\\\\IBMPlexDevanagari-Bold.ttf', name='IBM Plex Devanagari', style='normal', variant='normal', weight=700, stretch='normal', size='scalable')) = 10.335\n",
      "2024-04-10 15:18:28,145 - DEBUG - matplotlib.font_manager - findfont: score(FontEntry(fname='C:\\\\Windows\\\\Fonts\\\\ROCCB___.TTF', name='Rockwell Condensed', style='normal', variant='normal', weight=700, stretch='condensed', size='scalable')) = 10.535\n",
      "2024-04-10 15:18:28,146 - DEBUG - matplotlib.font_manager - findfont: score(FontEntry(fname='C:\\\\Windows\\\\Fonts\\\\segoeuil.ttf', name='Segoe UI', style='normal', variant='normal', weight=300, stretch='normal', size='scalable')) = 10.145\n",
      "2024-04-10 15:18:28,146 - DEBUG - matplotlib.font_manager - findfont: score(FontEntry(fname='C:\\\\Windows\\\\Fonts\\\\TCMI____.TTF', name='Tw Cen MT', style='italic', variant='normal', weight=400, stretch='normal', size='scalable')) = 11.05\n",
      "2024-04-10 15:18:28,147 - DEBUG - matplotlib.font_manager - findfont: score(FontEntry(fname='C:\\\\Windows\\\\Fonts\\\\comic.ttf', name='Comic Sans MS', style='normal', variant='normal', weight=400, stretch='normal', size='scalable')) = 10.05\n",
      "2024-04-10 15:18:28,147 - DEBUG - matplotlib.font_manager - findfont: score(FontEntry(fname='C:\\\\Windows\\\\Fonts\\\\IBMPlexArabic-Regular.ttf', name='IBM Plex Arabic', style='normal', variant='normal', weight=400, stretch='normal', size='scalable')) = 10.05\n",
      "2024-04-10 15:18:28,148 - DEBUG - matplotlib.font_manager - findfont: score(FontEntry(fname='C:\\\\Windows\\\\Fonts\\\\BRLNSB.TTF', name='Berlin Sans FB', style='normal', variant='normal', weight=700, stretch='normal', size='scalable')) = 10.335\n",
      "2024-04-10 15:18:28,148 - DEBUG - matplotlib.font_manager - findfont: score(FontEntry(fname='C:\\\\Windows\\\\Fonts\\\\HATTEN.TTF', name='Haettenschweiler', style='normal', variant='normal', weight=400, stretch='normal', size='scalable')) = 10.05\n",
      "2024-04-10 15:18:28,148 - DEBUG - matplotlib.font_manager - findfont: score(FontEntry(fname='C:\\\\Windows\\\\Fonts\\\\IBMPlexSansJP-Text.ttf', name='IBM Plex Sans JP', style='normal', variant='normal', weight=450, stretch='normal', size='scalable')) = 10.0975\n",
      "2024-04-10 15:18:28,150 - DEBUG - matplotlib.font_manager - findfont: score(FontEntry(fname='C:\\\\Windows\\\\Fonts\\\\SCRIPTBL.TTF', name='Script MT Bold', style='normal', variant='normal', weight=700, stretch='normal', size='scalable')) = 10.335\n",
      "2024-04-10 15:18:28,150 - DEBUG - matplotlib.font_manager - findfont: score(FontEntry(fname='C:\\\\Windows\\\\Fonts\\\\IBMPlexSansJP-Regular.ttf', name='IBM Plex Sans JP', style='normal', variant='normal', weight=400, stretch='normal', size='scalable')) = 10.05\n",
      "2024-04-10 15:18:28,151 - DEBUG - matplotlib.font_manager - findfont: score(FontEntry(fname='C:\\\\Windows\\\\Fonts\\\\COPRGTB.TTF', name='Copperplate Gothic Bold', style='normal', variant='normal', weight=400, stretch='normal', size='scalable')) = 10.05\n",
      "2024-04-10 15:18:28,151 - DEBUG - matplotlib.font_manager - findfont: score(FontEntry(fname='C:\\\\Windows\\\\Fonts\\\\WINGDNG2.TTF', name='Wingdings 2', style='normal', variant='normal', weight=400, stretch='normal', size='scalable')) = 10.05\n",
      "2024-04-10 15:18:28,152 - DEBUG - matplotlib.font_manager - findfont: score(FontEntry(fname='C:\\\\Windows\\\\Fonts\\\\PLAYBILL.TTF', name='Playbill', style='normal', variant='normal', weight=400, stretch='normal', size='scalable')) = 10.05\n",
      "2024-04-10 15:18:28,152 - DEBUG - matplotlib.font_manager - findfont: score(FontEntry(fname='C:\\\\Windows\\\\Fonts\\\\IBMPlexSansCondensed-Regular.ttf', name='IBM Plex Sans Condensed', style='normal', variant='normal', weight=400, stretch='condensed', size='scalable')) = 10.25\n",
      "2024-04-10 15:18:28,153 - DEBUG - matplotlib.font_manager - findfont: score(FontEntry(fname='C:\\\\Windows\\\\Fonts\\\\BOD_BI.TTF', name='Bodoni MT', style='italic', variant='normal', weight=700, stretch='normal', size='scalable')) = 11.335\n",
      "2024-04-10 15:18:28,153 - DEBUG - matplotlib.font_manager - findfont: score(FontEntry(fname='C:\\\\Windows\\\\Fonts\\\\IBMPlexSerif-TextItalic.ttf', name='IBM Plex Serif', style='italic', variant='normal', weight=450, stretch='normal', size='scalable')) = 11.0975\n",
      "2024-04-10 15:18:28,154 - DEBUG - matplotlib.font_manager - findfont: score(FontEntry(fname='C:\\\\Windows\\\\Fonts\\\\calibrib.ttf', name='Calibri', style='normal', variant='normal', weight=700, stretch='normal', size='scalable')) = 10.335\n",
      "2024-04-10 15:18:28,154 - DEBUG - matplotlib.font_manager - findfont: score(FontEntry(fname='C:\\\\Windows\\\\Fonts\\\\HARLOWSI.TTF', name='Harlow Solid Italic', style='italic', variant='normal', weight=400, stretch='normal', size='scalable')) = 11.05\n",
      "2024-04-10 15:18:28,155 - DEBUG - matplotlib.font_manager - findfont: score(FontEntry(fname='C:\\\\Windows\\\\Fonts\\\\micross.ttf', name='Microsoft Sans Serif', style='normal', variant='normal', weight=400, stretch='normal', size='scalable')) = 10.05\n",
      "2024-04-10 15:18:28,155 - DEBUG - matplotlib.font_manager - findfont: score(FontEntry(fname='C:\\\\Windows\\\\Fonts\\\\IBMPlexSans-SemiBold.ttf', name='IBM Plex Sans', style='normal', variant='normal', weight=600, stretch='normal', size='scalable')) = 10.24\n",
      "2024-04-10 15:18:28,156 - DEBUG - matplotlib.font_manager - findfont: score(FontEntry(fname='C:\\\\Windows\\\\Fonts\\\\phagspab.ttf', name='Microsoft PhagsPa', style='normal', variant='normal', weight=700, stretch='normal', size='scalable')) = 10.335\n",
      "2024-04-10 15:18:28,157 - DEBUG - matplotlib.font_manager - findfont: score(FontEntry(fname='C:\\\\Windows\\\\Fonts\\\\FREESCPT.TTF', name='Freestyle Script', style='normal', variant='normal', weight=400, stretch='normal', size='scalable')) = 10.05\n",
      "2024-04-10 15:18:28,157 - DEBUG - matplotlib.font_manager - findfont: score(FontEntry(fname='C:\\\\Windows\\\\Fonts\\\\gadugib.ttf', name='Gadugi', style='normal', variant='normal', weight=700, stretch='normal', size='scalable')) = 10.335\n",
      "2024-04-10 15:18:28,158 - DEBUG - matplotlib.font_manager - findfont: score(FontEntry(fname='C:\\\\Windows\\\\Fonts\\\\corbelb.ttf', name='Corbel', style='normal', variant='normal', weight=700, stretch='normal', size='scalable')) = 10.335\n",
      "2024-04-10 15:18:28,159 - DEBUG - matplotlib.font_manager - findfont: score(FontEntry(fname='C:\\\\Windows\\\\Fonts\\\\FRABKIT.TTF', name='Franklin Gothic Book', style='italic', variant='normal', weight=400, stretch='normal', size='scalable')) = 11.05\n",
      "2024-04-10 15:18:28,159 - DEBUG - matplotlib.font_manager - findfont: score(FontEntry(fname='C:\\\\Windows\\\\Fonts\\\\CALIST.TTF', name='Calisto MT', style='normal', variant='normal', weight=400, stretch='normal', size='scalable')) = 10.05\n",
      "2024-04-10 15:18:28,160 - DEBUG - matplotlib.font_manager - findfont: score(FontEntry(fname='C:\\\\Windows\\\\Fonts\\\\msyhl.ttc', name='Microsoft YaHei', style='normal', variant='normal', weight=290, stretch='normal', size='scalable')) = 10.1545\n",
      "2024-04-10 15:18:28,161 - DEBUG - matplotlib.font_manager - findfont: score(FontEntry(fname='C:\\\\Windows\\\\Fonts\\\\BOOKOSB.TTF', name='Bookman Old Style', style='normal', variant='normal', weight=600, stretch='normal', size='scalable')) = 10.24\n",
      "2024-04-10 15:18:28,161 - DEBUG - matplotlib.font_manager - findfont: score(FontEntry(fname='C:\\\\Windows\\\\Fonts\\\\ERASLGHT.TTF', name='Eras Light ITC', style='normal', variant='normal', weight=400, stretch='normal', size='scalable')) = 10.05\n",
      "2024-04-10 15:18:28,162 - DEBUG - matplotlib.font_manager - findfont: score(FontEntry(fname='C:\\\\Windows\\\\Fonts\\\\ROCKI.TTF', name='Rockwell', style='italic', variant='normal', weight=400, stretch='normal', size='scalable')) = 11.05\n",
      "2024-04-10 15:18:28,163 - DEBUG - matplotlib.font_manager - findfont: score(FontEntry(fname='C:\\\\Windows\\\\Fonts\\\\IBMPlexSansHebrew-Thin.ttf', name='IBM Plex Sans Hebrew', style='normal', variant='normal', weight=100, stretch='normal', size='scalable')) = 10.335\n",
      "2024-04-10 15:18:28,163 - DEBUG - matplotlib.font_manager - findfont: score(FontEntry(fname='C:\\\\Windows\\\\Fonts\\\\IBMPlexSans-LightItalic.ttf', name='IBM Plex Sans', style='italic', variant='normal', weight=300, stretch='normal', size='scalable')) = 11.145\n",
      "2024-04-10 15:18:28,164 - DEBUG - matplotlib.font_manager - findfont: score(FontEntry(fname='C:\\\\Windows\\\\Fonts\\\\MISTRAL.TTF', name='Mistral', style='normal', variant='normal', weight=400, stretch='normal', size='scalable')) = 10.05\n",
      "2024-04-10 15:18:28,164 - DEBUG - matplotlib.font_manager - findfont: score(FontEntry(fname='C:\\\\Windows\\\\Fonts\\\\COOPBL.TTF', name='Cooper Black', style='normal', variant='normal', weight=400, stretch='normal', size='scalable')) = 10.05\n",
      "2024-04-10 15:18:28,165 - DEBUG - matplotlib.font_manager - findfont: score(FontEntry(fname='C:\\\\Windows\\\\Fonts\\\\CURLZ___.TTF', name='Curlz MT', style='normal', variant='normal', weight=400, stretch='normal', size='scalable')) = 10.05\n",
      "2024-04-10 15:18:28,165 - DEBUG - matplotlib.font_manager - findfont: score(FontEntry(fname='C:\\\\Windows\\\\Fonts\\\\SHOWG.TTF', name='Showcard Gothic', style='normal', variant='normal', weight=400, stretch='normal', size='scalable')) = 10.05\n",
      "2024-04-10 15:18:28,166 - DEBUG - matplotlib.font_manager - findfont: score(FontEntry(fname='C:\\\\Windows\\\\Fonts\\\\segoescb.ttf', name='Segoe Script', style='normal', variant='normal', weight=700, stretch='normal', size='scalable')) = 10.335\n",
      "2024-04-10 15:18:28,166 - DEBUG - matplotlib.font_manager - findfont: score(FontEntry(fname='C:\\\\Windows\\\\Fonts\\\\LSANSDI.TTF', name='Lucida Sans', style='italic', variant='normal', weight=600, stretch='normal', size='scalable')) = 11.24\n",
      "2024-04-10 15:18:28,167 - DEBUG - matplotlib.font_manager - findfont: score(FontEntry(fname='C:\\\\Windows\\\\Fonts\\\\LSANSD.TTF', name='Lucida Sans', style='normal', variant='normal', weight=600, stretch='normal', size='scalable')) = 10.24\n",
      "2024-04-10 15:18:28,168 - DEBUG - matplotlib.font_manager - findfont: score(FontEntry(fname='C:\\\\Windows\\\\Fonts\\\\IBMPlexThai-Regular.ttf', name='IBM Plex Thai', style='normal', variant='normal', weight=400, stretch='normal', size='scalable')) = 10.05\n",
      "2024-04-10 15:18:28,168 - DEBUG - matplotlib.font_manager - findfont: score(FontEntry(fname='C:\\\\Windows\\\\Fonts\\\\ebrimabd.ttf', name='Ebrima', style='normal', variant='normal', weight=700, stretch='normal', size='scalable')) = 10.335\n",
      "2024-04-10 15:18:28,169 - DEBUG - matplotlib.font_manager - findfont: score(FontEntry(fname='C:\\\\Windows\\\\Fonts\\\\IBMPlexSansKR-Regular.ttf', name='IBM Plex Sans KR', style='normal', variant='normal', weight=400, stretch='normal', size='scalable')) = 10.05\n",
      "2024-04-10 15:18:28,170 - DEBUG - matplotlib.font_manager - findfont: score(FontEntry(fname='C:\\\\Windows\\\\Fonts\\\\IBMPlexSansThai-Medium.ttf', name='IBM Plex Sans Thai', style='normal', variant='normal', weight=500, stretch='normal', size='scalable')) = 10.145\n",
      "2024-04-10 15:18:28,170 - DEBUG - matplotlib.font_manager - findfont: score(FontEntry(fname='C:\\\\Windows\\\\Fonts\\\\CENSCBK.TTF', name='Century Schoolbook', style='normal', variant='normal', weight=400, stretch='normal', size='scalable')) = 10.05\n",
      "2024-04-10 15:18:28,171 - DEBUG - matplotlib.font_manager - findfont: score(FontEntry(fname='C:\\\\Windows\\\\Fonts\\\\IBMPlexSansDevanagari-Thin.ttf', name='IBM Plex Sans Devanagari', style='normal', variant='normal', weight=100, stretch='normal', size='scalable')) = 10.335\n",
      "2024-04-10 15:18:28,171 - DEBUG - matplotlib.font_manager - findfont: score(FontEntry(fname='C:\\\\Windows\\\\Fonts\\\\MSUIGHUB.TTF', name='Microsoft Uighur', style='normal', variant='normal', weight=700, stretch='normal', size='scalable')) = 10.335\n",
      "2024-04-10 15:18:28,172 - DEBUG - matplotlib.font_manager - findfont: score(FontEntry(fname='C:\\\\Windows\\\\Fonts\\\\calibrili.ttf', name='Calibri', style='italic', variant='normal', weight=300, stretch='normal', size='scalable')) = 11.145\n",
      "2024-04-10 15:18:28,173 - DEBUG - matplotlib.font_manager - findfont: score(FontEntry(fname='C:\\\\Windows\\\\Fonts\\\\ebrima.ttf', name='Ebrima', style='normal', variant='normal', weight=400, stretch='normal', size='scalable')) = 10.05\n",
      "2024-04-10 15:18:28,174 - DEBUG - matplotlib.font_manager - findfont: score(FontEntry(fname='C:\\\\Windows\\\\Fonts\\\\REFSPCL.TTF', name='MS Reference Specialty', style='normal', variant='normal', weight=400, stretch='normal', size='scalable')) = 10.05\n",
      "2024-04-10 15:18:28,175 - DEBUG - matplotlib.font_manager - findfont: score(FontEntry(fname='C:\\\\Windows\\\\Fonts\\\\LFAXDI.TTF', name='Lucida Fax', style='italic', variant='normal', weight=600, stretch='normal', size='scalable')) = 11.24\n",
      "2024-04-10 15:18:28,175 - DEBUG - matplotlib.font_manager - findfont: score(FontEntry(fname='C:\\\\Windows\\\\Fonts\\\\IBMPlexSerif-SemiBold.ttf', name='IBM Plex Serif', style='normal', variant='normal', weight=600, stretch='normal', size='scalable')) = 10.24\n",
      "2024-04-10 15:18:28,176 - DEBUG - matplotlib.font_manager - findfont: score(FontEntry(fname='C:\\\\Windows\\\\Fonts\\\\IBMPlexMono-Text.ttf', name='IBM Plex Mono', style='normal', variant='normal', weight=450, stretch='normal', size='scalable')) = 10.0975\n",
      "2024-04-10 15:18:28,177 - DEBUG - matplotlib.font_manager - findfont: score(FontEntry(fname='C:\\\\Windows\\\\Fonts\\\\FRAHV.TTF', name='Franklin Gothic Heavy', style='normal', variant='normal', weight=400, stretch='normal', size='scalable')) = 10.05\n",
      "2024-04-10 15:18:28,177 - DEBUG - matplotlib.font_manager - findfont: Matching sans\\-serif:style=normal:variant=normal:weight=normal:stretch=normal:size=12.0 to DejaVu Sans ('c:\\\\Blog\\\\How-to-Finetuning-Large-Language-Models\\\\.venv\\\\lib\\\\site-packages\\\\matplotlib\\\\mpl-data\\\\fonts\\\\ttf\\\\DejaVuSans.ttf') with score of 0.050000.\n"
     ]
    },
    {
     "data": {
      "image/png": "[encoded data removed]",
      "text/plain": [
       "<Figure size 640x480 with 1 Axes>"
      ]
     },
     "metadata": {},
     "output_type": "display_data"
    },
    {
     "data": {
      "image/png": "[encoded data removed]",
      "text/plain": [
       "<Figure size 640x480 with 1 Axes>"
      ]
     },
     "metadata": {},
     "output_type": "display_data"
    }
   ],
   "source": [
    "plot_loss(metrics_collector.metrics)\n",
    "plot_learning_rate(metrics_collector.metrics)"
   ]
  },
  {
   "cell_type": "markdown",
   "metadata": {},
   "source": [
    "## Loss vs Iteration: Ideal Shape and Expectations\n",
    "\n",
    "**Desired Shape:**\n",
    "\n",
    "The ideal loss curve for training depicts a **downward trend**, indicating the model's improvement in minimizing the loss function over iterations. This signifies the model is learning the patterns in the data and making better predictions.\n",
    "\n",
    "**Expected Behavior:**\n",
    "\n",
    "* **Initial Rapid Decrease:** Early iterations often show a steep decline as the model grasps basic patterns.\n",
    "* **Gradual Descent:** As the model encounters more complex relationships, the decrease becomes slower and steadier.\n",
    "* **Plateau (Optional):** In some cases,  the loss may reach a plateau, indicating the model has achieved its optimal performance with the current hyperparameters.\n",
    "\n",
    "**Warning Signs:**\n",
    "\n",
    "* **Stagnation:** If the loss remains flat from the beginning, the model might not be learning effectively. This could be due to factors like insufficient data, inappropriate model architecture, or high learning rate.\n",
    "* **Oscillation:** Erratic fluctuations can indicate the model is overfitting to the training data. Techniques like regularization or reducing learning rate can help.\n",
    "\n",
    "## Learning Rate vs Iteration: Ideal Behavior and Expectations\n",
    "\n",
    "**Desired Behavior:**\n",
    "\n",
    "The learning rate can be adjusted throughout training using a learning rate schedule. Here are some common approaches:\n",
    "\n",
    "* **Constant Learning Rate:** A simple approach, but may not be optimal for all scenarios.\n",
    "* **Step Decay:** Learning rate is reduced by a fixed amount at specific intervals (epochs).\n",
    "* **Exponential Decay:** Learning rate decreases exponentially over time.\n",
    "* **Warm Restarts:** Learning rate is periodically increased to a higher value, allowing the model to escape local minima.\n",
    "\n",
    "**General Expectations:**\n",
    "\n",
    "* The learning rate should be high enough for the model to learn effectively initially.\n",
    "* A gradual decrease in learning rate helps the model converge to a minimum more precisely.\n",
    "* Choosing the right learning rate schedule depends on the specific problem and dataset.\n",
    "\n",
    "**Warning Signs:**\n",
    "\n",
    "* **Too High Learning Rate:** Can lead to large oscillations or divergence in the loss curve.\n",
    "* **Too Low Learning Rate:** Slows down training significantly and may prevent the model from reaching optimal performance.\n",
    "\n",
    "By monitoring both loss and learning rate curves, you can gain valuable insights into the training process and adjust hyperparameters for better results.\n",
    "\n",
    "**Additional Tips:**\n",
    "\n",
    "* Use validation loss to track generalization performance and avoid overfitting.\n",
    "* Experiment with different learning rate schedules to find the best fit for your problem.\n",
    "* Consider techniques like early stopping to prevent overfitting when the validation loss starts to increase.\n"
   ]
  },
  {
   "cell_type": "markdown",
   "metadata": {},
   "source": [
    "### Save model locally"
   ]
  },
  {
   "cell_type": "code",
   "execution_count": 41,
   "metadata": {},
   "outputs": [
    {
     "name": "stdout",
     "output_type": "stream",
     "text": [
      "Saved model to: ai_medical_3_steps/final\n"
     ]
    }
   ],
   "source": [
    "save_dir = f'{output_dir}/final'\n",
    "\n",
    "trainer.save_model(save_dir)\n",
    "print(\"Saved model to:\", save_dir)"
   ]
  },
  {
   "cell_type": "code",
   "execution_count": 42,
   "metadata": {},
   "outputs": [],
   "source": [
    "finetuned_slightly_model = AutoModelForCausalLM.from_pretrained(save_dir, local_files_only=True)\n"
   ]
  },
  {
   "cell_type": "code",
   "execution_count": 43,
   "metadata": {},
   "outputs": [
    {
     "data": {
      "text/plain": [
       "GPTNeoXForCausalLM(\n",
       "  (gpt_neox): GPTNeoXModel(\n",
       "    (embed_in): Embedding(50304, 768)\n",
       "    (emb_dropout): Dropout(p=0.0, inplace=False)\n",
       "    (layers): ModuleList(\n",
       "      (0-11): 12 x GPTNeoXLayer(\n",
       "        (input_layernorm): LayerNorm((768,), eps=1e-05, elementwise_affine=True)\n",
       "        (post_attention_layernorm): LayerNorm((768,), eps=1e-05, elementwise_affine=True)\n",
       "        (post_attention_dropout): Dropout(p=0.0, inplace=False)\n",
       "        (post_mlp_dropout): Dropout(p=0.0, inplace=False)\n",
       "        (attention): GPTNeoXAttention(\n",
       "          (rotary_emb): GPTNeoXRotaryEmbedding()\n",
       "          (query_key_value): Linear(in_features=768, out_features=2304, bias=True)\n",
       "          (dense): Linear(in_features=768, out_features=768, bias=True)\n",
       "          (attention_dropout): Dropout(p=0.0, inplace=False)\n",
       "        )\n",
       "        (mlp): GPTNeoXMLP(\n",
       "          (dense_h_to_4h): Linear(in_features=768, out_features=3072, bias=True)\n",
       "          (dense_4h_to_h): Linear(in_features=3072, out_features=768, bias=True)\n",
       "          (act): GELUActivation()\n",
       "        )\n",
       "      )\n",
       "    )\n",
       "    (final_layer_norm): LayerNorm((768,), eps=1e-05, elementwise_affine=True)\n",
       "  )\n",
       "  (embed_out): Linear(in_features=768, out_features=50304, bias=False)\n",
       ")"
      ]
     },
     "execution_count": 43,
     "metadata": {},
     "output_type": "execute_result"
    }
   ],
   "source": [
    "finetuned_slightly_model.to(device) \n"
   ]
  },
  {
   "cell_type": "markdown",
   "metadata": {},
   "source": [
    "### Run slightly trained model"
   ]
  },
  {
   "cell_type": "code",
   "execution_count": 44,
   "metadata": {},
   "outputs": [
    {
     "name": "stdout",
     "output_type": "stream",
     "text": [
      "Question input (test): Will Kalarchikai cure multiple ovarian cysts in PCOD?\n",
      "Finetuned slightly model's answer: \n",
      "Hi. I am not a specialist in PCOD. I am a specialist in PCOD. I am a specialist in PCOD. I am a specialist in PCOD. I am a specialist in PCOD. I am a specialist in PCOD. I am a specialist in PCOD. I am a specialist in PCOD. I am a specialist in PCOD. I am a specialist in PCOD. I am a specialist\n"
     ]
    }
   ],
   "source": [
    "test_question = test_dataset[1]['question']\n",
    "print(\"Question input (test):\", test_question)\n",
    "print(\"Finetuned slightly model's answer: \")\n",
    "print(inference_new(test_question, finetuned_slightly_model, tokenizer))"
   ]
  },
  {
   "cell_type": "code",
   "execution_count": 45,
   "metadata": {},
   "outputs": [
    {
     "name": "stdout",
     "output_type": "stream",
     "text": [
      "Target answer output (test): Hello. I just read your query. See Kalarachi Kai choornam is helpful in amenorrhea. As far as small cysts are concerned they are unmatured eggs which failed to induce menstrual cycle previously, as a result, they got collected in the ovary and they will remain in the ovary. Now, you have got your periods you can start trying for conception. But I advise you to do it under the supervision of a nearby gynecologist because egg size is important while conception and that you can know by ovulation study. Ovulation study is performed under the supervision of a gynecologist. For gall stones, surgical intervention is required generally. Medicine is not of much help.\n"
     ]
    }
   ],
   "source": [
    "test_answer = test_dataset[0]['answer']\n",
    "print(\"Target answer output (test):\", test_answer)\n",
    "\n"
   ]
  },
  {
   "cell_type": "markdown",
   "metadata": {},
   "source": [
    "### Run same model trained for two epochs "
   ]
  },
  {
   "cell_type": "code",
   "execution_count": 46,
   "metadata": {},
   "outputs": [],
   "source": [
    "#finetuned_longer_model = AutoModelForCausalLM.from_pretrained(\"ruslanmv/ai-medical-chatbot-finetuned\")\n",
    "#tokenizer = AutoTokenizer.from_pretrained(\"ruslanmv/ai-medical-chatbot-finetuned\")\n",
    "#finetuned_longer_model.to(device)\n",
    "#print(\"Finetuned longer model's answer: \")\n",
    "#print(inference_new(test_question, finetuned_longer_model, tokenizer))"
   ]
  },
  {
   "cell_type": "markdown",
   "metadata": {},
   "source": [
    "### Explore moderation using small model\n",
    "First, try the non-finetuned base model:"
   ]
  },
  {
   "cell_type": "code",
   "execution_count": 47,
   "metadata": {},
   "outputs": [
    {
     "name": "stdout",
     "output_type": "stream",
     "text": [
      "\n",
      "\n",
      "I think it's a great place to start. I think it's a great place to start. I think it's a great place to start. I think it's a great place to start. I think it's a great place to start. I think it's a great place to start. I think it's a great place to start. I think it's a great place to start. I think it's a great place to start. I\n"
     ]
    }
   ],
   "source": [
    "base_tokenizer = AutoTokenizer.from_pretrained(model_name)\n",
    "base_model = AutoModelForCausalLM.from_pretrained(model_name)\n",
    "print(inference_new(\"What do you think of Mars?\", base_model, base_tokenizer))"
   ]
  },
  {
   "cell_type": "markdown",
   "metadata": {},
   "source": [
    "### Now try moderation with finetuned small model "
   ]
  },
  {
   "cell_type": "code",
   "execution_count": 48,
   "metadata": {},
   "outputs": [
    {
     "name": "stdout",
     "output_type": "stream",
     "text": [
      "Hi. I have gone through your information and test reports and have gone through your test reports and test reports. I have gone through your test reports and test reports and test reports and test reports and test reports and test reports and test reports and test reports and test reports and test reports and test reports and test reports and test reports and test reports and test reports and test reports and test reports and test reports and test reports and test reports and test reports and test reports and\n"
     ]
    }
   ],
   "source": [
    "#print(inference_new(\"What do you think of Mars?\", finetuned_longer_model, tokenizer))\n",
    "print(inference_new(\"What do you think of Mars?\", finetuned_slightly_model, tokenizer))"
   ]
  },
  {
   "cell_type": "code",
   "execution_count": 49,
   "metadata": {},
   "outputs": [],
   "source": [
    "## Comparison "
   ]
  },
  {
   "cell_type": "code",
   "execution_count": 50,
   "metadata": {},
   "outputs": [],
   "source": [
    "import pandas as pd\n",
    "\n",
    "# Assuming test_dataset is already loaded\n",
    "test_questions = [test_dataset[i]['question'] for i in range(len(test_dataset))]\n"
   ]
  },
  {
   "cell_type": "code",
   "execution_count": 51,
   "metadata": {},
   "outputs": [
    {
     "data": {
      "text/plain": [
       "10"
      ]
     },
     "execution_count": 51,
     "metadata": {},
     "output_type": "execute_result"
    }
   ],
   "source": [
    "len(test_questions[:10])"
   ]
  },
  {
   "cell_type": "code",
   "execution_count": 52,
   "metadata": {},
   "outputs": [],
   "source": [
    "\n",
    "# Load the base model and tokenizer\n",
    "base_tokenizer = AutoTokenizer.from_pretrained(model_name)\n",
    "base_model = AutoModelForCausalLM.from_pretrained(model_name)\n"
   ]
  },
  {
   "cell_type": "code",
   "execution_count": 53,
   "metadata": {},
   "outputs": [],
   "source": [
    "\n",
    "# Function to get the model's answer\n",
    "def get_answer(question, model, tokenizer):\n",
    "    return inference_new(question, model, tokenizer)\n"
   ]
  },
  {
   "cell_type": "code",
   "execution_count": 54,
   "metadata": {},
   "outputs": [],
   "source": [
    "from tqdm import tqdm  # Import tqdm for progress bar"
   ]
  },
  {
   "cell_type": "code",
   "execution_count": 55,
   "metadata": {},
   "outputs": [
    {
     "name": "stderr",
     "output_type": "stream",
     "text": [
      "100%|██████████| 10/10 [01:19<00:00,  7.93s/it]\n"
     ]
    }
   ],
   "source": [
    "# Iterate through the test questions and generate answers using both models\n",
    "results = []\n",
    "for question in tqdm(test_questions[:10]): #test_questions:\n",
    "    finetuned_answer = get_answer(question, finetuned_slightly_model, tokenizer)\n",
    "    base_answer = get_answer(question, base_model, base_tokenizer)\n",
    "    result = {'question': question, 'trained model': finetuned_answer, 'Base Model': base_answer}\n",
    "    results.append(result)\n"
   ]
  },
  {
   "cell_type": "code",
   "execution_count": 56,
   "metadata": {},
   "outputs": [
    {
     "data": {
      "text/html": [
       "<style type=\"text/css\">\n",
       "#T_64d5b_row0_col0, #T_64d5b_row0_col1, #T_64d5b_row0_col2, #T_64d5b_row1_col0, #T_64d5b_row1_col1, #T_64d5b_row1_col2, #T_64d5b_row2_col0, #T_64d5b_row2_col1, #T_64d5b_row2_col2, #T_64d5b_row3_col0, #T_64d5b_row3_col1, #T_64d5b_row3_col2, #T_64d5b_row4_col0, #T_64d5b_row4_col1, #T_64d5b_row4_col2, #T_64d5b_row5_col0, #T_64d5b_row5_col1, #T_64d5b_row5_col2, #T_64d5b_row6_col0, #T_64d5b_row6_col1, #T_64d5b_row6_col2, #T_64d5b_row7_col0, #T_64d5b_row7_col1, #T_64d5b_row7_col2, #T_64d5b_row8_col0, #T_64d5b_row8_col1, #T_64d5b_row8_col2, #T_64d5b_row9_col0, #T_64d5b_row9_col1, #T_64d5b_row9_col2 {\n",
       "  text-align: left;\n",
       "  vertical-align: text-top;\n",
       "}\n",
       "</style>\n",
       "<table id=\"T_64d5b\">\n",
       "  <thead>\n",
       "    <tr>\n",
       "      <th class=\"blank level0\" >&nbsp;</th>\n",
       "      <th id=\"T_64d5b_level0_col0\" class=\"col_heading level0 col0\" >question</th>\n",
       "      <th id=\"T_64d5b_level0_col1\" class=\"col_heading level0 col1\" >trained model</th>\n",
       "      <th id=\"T_64d5b_level0_col2\" class=\"col_heading level0 col2\" >Base Model</th>\n",
       "    </tr>\n",
       "  </thead>\n",
       "  <tbody>\n",
       "    <tr>\n",
       "      <th id=\"T_64d5b_level0_row0\" class=\"row_heading level0 row0\" >0</th>\n",
       "      <td id=\"T_64d5b_row0_col0\" class=\"data row0 col0\" >Will Kalarchikai cure multiple ovarian cysts in PCOD?</td>\n",
       "      <td id=\"T_64d5b_row0_col1\" class=\"data row0 col1\" >Hi. I am not a specialist in PCOD. I am a specialist in PCOD. I am a specialist in PCOD. I am a specialist in PCOD. I am a specialist in PCOD. I am a specialist in PCOD. I am a specialist in PCOD. I am a specialist in PCOD. I am a specialist in PCOD. I am a specialist in PCOD. I am a specialist</td>\n",
       "      <td id=\"T_64d5b_row0_col2\" class=\"data row0 col2\" >\n",
       "\n",
       "A:\n",
       "\n",
       "The answer is that the cysts are not caused by the cancer itself.\n",
       "The cysts are caused by the cancer itself.\n",
       "The cancer itself is not a cancer.\n",
       "\n",
       "A:\n",
       "\n",
       "The cancer itself is not a cancer.\n",
       "The cancer itself is not a cancer.\n",
       "\n",
       "A:\n",
       "\n",
       "The cancer itself is not a cancer.\n",
       "The cancer itself is not a cancer.\n",
       "\n",
       "</td>\n",
       "    </tr>\n",
       "    <tr>\n",
       "      <th id=\"T_64d5b_level0_row1\" class=\"row_heading level0 row1\" >1</th>\n",
       "      <td id=\"T_64d5b_row1_col0\" class=\"data row1 col0\" >Will Kalarchikai cure multiple ovarian cysts in PCOD?</td>\n",
       "      <td id=\"T_64d5b_row1_col1\" class=\"data row1 col1\" >Hi. I am not a specialist in PCOD. I am a specialist in PCOD. I am a specialist in PCOD. I am a specialist in PCOD. I am a specialist in PCOD. I am a specialist in PCOD. I am a specialist in PCOD. I am a specialist in PCOD. I am a specialist in PCOD. I am a specialist in PCOD. I am a specialist</td>\n",
       "      <td id=\"T_64d5b_row1_col2\" class=\"data row1 col2\" >\n",
       "\n",
       "A:\n",
       "\n",
       "The answer is that the cysts are not caused by the cancer itself.\n",
       "The cysts are caused by the cancer itself.\n",
       "The cancer itself is not a cancer.\n",
       "\n",
       "A:\n",
       "\n",
       "The cancer itself is not a cancer.\n",
       "The cancer itself is not a cancer.\n",
       "\n",
       "A:\n",
       "\n",
       "The cancer itself is not a cancer.\n",
       "The cancer itself is not a cancer.\n",
       "\n",
       "</td>\n",
       "    </tr>\n",
       "    <tr>\n",
       "      <th id=\"T_64d5b_level0_row2\" class=\"row_heading level0 row2\" >2</th>\n",
       "      <td id=\"T_64d5b_row2_col0\" class=\"data row2 col0\" >Every time I eat spicy food, I poop blood. Why?</td>\n",
       "      <td id=\"T_64d5b_row2_col1\" class=\"data row2 col1\" >Hello. I have gone through your information and test reports and test reports and reports of blood sugar and blood sugar. I have gone through your information and test reports and reports of blood sugar and blood sugar. I have gone through your information and test reports and reports of blood sugar and blood sugar. I have gone through your information and test reports and reports of blood sugar and blood sugar. I have gone through your information and test reports</td>\n",
       "      <td id=\"T_64d5b_row2_col2\" class=\"data row2 col2\" > Because I don't want to be a part of the food that's going to be eaten by the people who eat it.\n",
       "\n",
       "I don't want to be a part of the food that's going to be eaten by the people who eat it.\n",
       "\n",
       "I don't want to be a part of the food that's going to be eaten by the people who eat it.\n",
       "\n",
       "I don't want to be a</td>\n",
       "    </tr>\n",
       "    <tr>\n",
       "      <th id=\"T_64d5b_level0_row3\" class=\"row_heading level0 row3\" >3</th>\n",
       "      <td id=\"T_64d5b_row3_col0\" class=\"data row3 col0\" >I have a male pattern hair loss. Please suggest if Finasteride can help in hair sustenance.</td>\n",
       "      <td id=\"T_64d5b_row3_col1\" class=\"data row3 col1\" > For further information consult a dermatologist online --> --> --> --> --> --> --> --> --> --> --> --> --> --> --> --> --> --> --> --> --> --> --> --> --> --> --> --> --> --> --> --> --> --> --> --> --> --> --> --> --> --> --> --> --> --> --> --> --> --> --> --> --> --> --> --> --> --> --> --> --> --> --> --> --> --> --> Why I have gone</td>\n",
       "      <td id=\"T_64d5b_row3_col2\" class=\"data row3 col2\" >\n",
       "\n",
       "I have a male pattern hair loss. Please suggest if Finasteride can help in hair sustenance.\n",
       "\n",
       "I have a male pattern hair loss. Please suggest if Finasteride can help in hair sustenance.\n",
       "\n",
       "I have a male pattern hair loss. Please suggest if Finasteride can help in hair sustenance.\n",
       "\n",
       "I have a male pattern hair loss.</td>\n",
       "    </tr>\n",
       "    <tr>\n",
       "      <th id=\"T_64d5b_level0_row4\" class=\"row_heading level0 row4\" >4</th>\n",
       "      <td id=\"T_64d5b_row4_col0\" class=\"data row4 col0\" >How can a person with PTSD, depression and anxiety be treated?</td>\n",
       "      <td id=\"T_64d5b_row4_col1\" class=\"data row4 col1\" >Hi. Please help. Please help. Please help. Please help. Please help. Please help. Please help. Please help. Please help. Please help. Please help. Please help. Please help. Please help. Please help. Please help. Please help. Please help. Please help. Please help. Please help. Please help. Please help. Please help. Please help. Please help. Please help. Please help. Please</td>\n",
       "      <td id=\"T_64d5b_row4_col2\" class=\"data row4 col2\" >\n",
       "\n",
       "A:\n",
       "\n",
       "I'm not sure if this is a good idea, but I think it's a good idea.\n",
       "I think it's a good idea to have a mental health professional come to your home and see if you can help.  If you can't, you can try to get a mental health professional to come to your home and see if you can help.  If you can't, you can try</td>\n",
       "    </tr>\n",
       "    <tr>\n",
       "      <th id=\"T_64d5b_level0_row5\" class=\"row_heading level0 row5\" >5</th>\n",
       "      <td id=\"T_64d5b_row5_col0\" class=\"data row5 col0\" >Every time I eat spicy food, I poop blood. Why?</td>\n",
       "      <td id=\"T_64d5b_row5_col1\" class=\"data row5 col1\" >Hello. I have gone through your information and test reports and test reports and reports of blood sugar and blood sugar. I have gone through your information and test reports and reports of blood sugar and blood sugar. I have gone through your information and test reports and reports of blood sugar and blood sugar. I have gone through your information and test reports and reports of blood sugar and blood sugar. I have gone through your information and test reports</td>\n",
       "      <td id=\"T_64d5b_row5_col2\" class=\"data row5 col2\" > Because I don't want to be a part of the food that's going to be eaten by the people who eat it.\n",
       "\n",
       "I don't want to be a part of the food that's going to be eaten by the people who eat it.\n",
       "\n",
       "I don't want to be a part of the food that's going to be eaten by the people who eat it.\n",
       "\n",
       "I don't want to be a</td>\n",
       "    </tr>\n",
       "    <tr>\n",
       "      <th id=\"T_64d5b_level0_row6\" class=\"row_heading level0 row6\" >6</th>\n",
       "      <td id=\"T_64d5b_row6_col0\" class=\"data row6 col0\" >Can LSD, DMT, and Ecstasy trigger the borderline personality in seperation anxiety disorder?</td>\n",
       "      <td id=\"T_64d5b_row6_col1\" class=\"data row6 col1\" >Hi. I have gone through your information and test reports and have gone through your information and test reports and test reports. I have gone through your information and test reports and test reports and test reports and test reports and test reports and test reports and test reports and test reports and test reports and test reports and test reports and test reports and test reports and test reports and test reports and test reports and</td>\n",
       "      <td id=\"T_64d5b_row6_col2\" class=\"data row6 col2\" >\n",
       "\n",
       "The authors have no conflicts of interest to disclose.\n",
       "\n",
       "**Funding.** This work was supported by the National Natural Science Foundation of China (No. 81570201), the National Key Research and Development Program of China (No. 2016YFC0904300), the National Natural Science Foundation of China (No. 81570201), the National Key Research and Development Program of</td>\n",
       "    </tr>\n",
       "    <tr>\n",
       "      <th id=\"T_64d5b_level0_row7\" class=\"row_heading level0 row7\" >7</th>\n",
       "      <td id=\"T_64d5b_row7_col0\" class=\"data row7 col0\" >What does abutment of the nerve root mean?</td>\n",
       "      <td id=\"T_64d5b_row7_col1\" class=\"data row7 col1\" >Hi. I have gone through your query and have gone through your query and have gone through your query and have gone through your query and have gone through your query and have gone through your query and have gone through your query and have gone through your query and have gone through your query and have gone through your query and have gone through your query and have gone through your query and have gone through your query and have gone through your query and have gone</td>\n",
       "      <td id=\"T_64d5b_row7_col2\" class=\"data row7 col2\" >\n",
       "\n",
       "A:\n",
       "\n",
       "The nerve root is a nerve root that is connected to the nerve root.\n",
       "\n",
       "A:\n",
       "\n",
       "The nerve root is a nerve root that is connected to the nerve root.\n",
       "\n",
       "A:\n",
       "\n",
       "The nerve root is a nerve root that is connected to the nerve root.\n",
       "\n",
       "A:\n",
       "\n",
       "The nerve root is a nerve root that is connected to the nerve root.\n",
       "\n",
       "A:\n",
       "</td>\n",
       "    </tr>\n",
       "    <tr>\n",
       "      <th id=\"T_64d5b_level0_row8\" class=\"row_heading level0 row8\" >8</th>\n",
       "      <td id=\"T_64d5b_row8_col0\" class=\"data row8 col0\" >Every time I eat spicy food, I poop blood. Why?</td>\n",
       "      <td id=\"T_64d5b_row8_col1\" class=\"data row8 col1\" >Hello. I have gone through your information and test reports and test reports and reports of blood sugar and blood sugar. I have gone through your information and test reports and reports of blood sugar and blood sugar. I have gone through your information and test reports and reports of blood sugar and blood sugar. I have gone through your information and test reports and reports of blood sugar and blood sugar. I have gone through your information and test reports</td>\n",
       "      <td id=\"T_64d5b_row8_col2\" class=\"data row8 col2\" > Because I don't want to be a part of the food that's going to be eaten by the people who eat it.\n",
       "\n",
       "I don't want to be a part of the food that's going to be eaten by the people who eat it.\n",
       "\n",
       "I don't want to be a part of the food that's going to be eaten by the people who eat it.\n",
       "\n",
       "I don't want to be a</td>\n",
       "    </tr>\n",
       "    <tr>\n",
       "      <th id=\"T_64d5b_level0_row9\" class=\"row_heading level0 row9\" >9</th>\n",
       "      <td id=\"T_64d5b_row9_col0\" class=\"data row9 col0\" >What does abutment of the nerve root mean?</td>\n",
       "      <td id=\"T_64d5b_row9_col1\" class=\"data row9 col1\" >Hi. I have gone through your query and have gone through your query and have gone through your query and have gone through your query and have gone through your query and have gone through your query and have gone through your query and have gone through your query and have gone through your query and have gone through your query and have gone through your query and have gone through your query and have gone through your query and have gone through your query and have gone</td>\n",
       "      <td id=\"T_64d5b_row9_col2\" class=\"data row9 col2\" >\n",
       "\n",
       "A:\n",
       "\n",
       "The nerve root is a nerve root that is connected to the nerve root.\n",
       "\n",
       "A:\n",
       "\n",
       "The nerve root is a nerve root that is connected to the nerve root.\n",
       "\n",
       "A:\n",
       "\n",
       "The nerve root is a nerve root that is connected to the nerve root.\n",
       "\n",
       "A:\n",
       "\n",
       "The nerve root is a nerve root that is connected to the nerve root.\n",
       "\n",
       "A:\n",
       "</td>\n",
       "    </tr>\n",
       "  </tbody>\n",
       "</table>\n"
      ],
      "text/plain": [
       "<pandas.io.formats.style.Styler at 0x1dc857fd1e0>"
      ]
     },
     "execution_count": 56,
     "metadata": {},
     "output_type": "execute_result"
    }
   ],
   "source": [
    "# Convert the list of dictionaries to a pandas DataFrame\n",
    "df = pd.DataFrame.from_dict(results)\n",
    "\n",
    "# Style the DataFrame for better readability\n",
    "style_df = df.style.set_properties(**{'text-align': 'left'})\n",
    "style_df = style_df.set_properties(**{\"vertical-align\": \"text-top\"})\n",
    "\n",
    "# Display the DataFrame\n",
    "style_df"
   ]
  },
  {
   "cell_type": "code",
   "execution_count": null,
   "metadata": {},
   "outputs": [],
   "source": []
  }
 ],
 "metadata": {
  "kernelspec": {
   "display_name": ".venv",
   "language": "python",
   "name": "python3"
  },
  "language_info": {
   "codemirror_mode": {
    "name": "ipython",
    "version": 3
   },
   "file_extension": ".py",
   "mimetype": "text/x-python",
   "name": "python",
   "nbconvert_exporter": "python",
   "pygments_lexer": "ipython3",
   "version": "3.10.11"
  }
 },
 "nbformat": 4,
 "nbformat_minor": 2
}
