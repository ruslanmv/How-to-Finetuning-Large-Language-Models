{
 "cells": [
  {
   "cell_type": "code",
   "execution_count": 8,
   "metadata": {},
   "outputs": [],
   "source": [
    "import datasets\n",
    "import tempfile\n",
    "import logging\n",
    "import random\n",
    "import config\n",
    "import os\n",
    "import yaml\n",
    "import time\n",
    "import torch\n",
    "import transformers\n",
    "import pandas as pd\n",
    "import jsonlines\n",
    "from utilities import *\n",
    "from transformers import AutoTokenizer\n",
    "from transformers import AutoModelForCausalLM\n",
    "from transformers import TrainingArguments\n",
    "from transformers import AutoModelForCausalLM\n",
    "from llama import BasicModelRunner\n",
    "from transformers.trainer_callback import TrainerCallback\n",
    "import itertools"
   ]
  },
  {
   "cell_type": "code",
   "execution_count": 9,
   "metadata": {},
   "outputs": [
    {
     "name": "stderr",
     "output_type": "stream",
     "text": [
      "2024-04-09 23:29:45,708 - DEBUG - utilities - Config: datasets.path: c:\\Blog\\How-to-Finetuning-Large-Language-Models\\content\\ai-medical-chatbot_processed.jsonl\n",
      "datasets.use_hf: false\n",
      "model.max_length: 2048\n",
      "model.pretrained_name: EleutherAI/pythia-70m\n",
      "verbose: true\n",
      "\n"
     ]
    },
    {
     "name": "stdout",
     "output_type": "stream",
     "text": [
      "tokenize False c:\\Blog\\How-to-Finetuning-Large-Language-Models\\content\\ai-medical-chatbot_processed.jsonl\n"
     ]
    },
    {
     "name": "stderr",
     "output_type": "stream",
     "text": [
      "2024-04-09 23:29:46,097 - DEBUG - fsspec.local - open file: C:/Users/066226758/.cache/huggingface/datasets/json/default-f1c6af33428df321/0.0.0/8bb11242116d547c741b2e8a1f18598ffdd40a1d4f2a2872c7a28b697434bc96/dataset_info.json\n",
      "2024-04-09 23:29:46,128 - DEBUG - fsspec.local - open file: C:/Users/066226758/.cache/huggingface/datasets/json/default-f1c6af33428df321/0.0.0/8bb11242116d547c741b2e8a1f18598ffdd40a1d4f2a2872c7a28b697434bc96/dataset_info.json\n",
      "2024-04-09 23:29:47,276 - DEBUG - utilities - Select CPU device\n"
     ]
    }
   ],
   "source": [
    "model_name = \"EleutherAI/pythia-70m\"\n",
    "# Get the current directory\n",
    "current_directory = os.getcwd()\n",
    "# Join the folder path\n",
    "folder_path = os.path.join(current_directory, \"content\")\n",
    "dataset_name = \"ai-medical-chatbot_processed.jsonl\"\n",
    "dataset_path = os.path.join(folder_path, dataset_name)\n",
    "#dataset_path = f\"/content/{dataset_name}\"\n",
    "use_hf = False\n",
    "training_config = {\n",
    "    \"model\": {\n",
    "        \"pretrained_name\": model_name,\n",
    "        \"max_length\" : 2048\n",
    "    },\n",
    "    \"datasets\": {\n",
    "        \"use_hf\": use_hf,\n",
    "        \"path\": dataset_path\n",
    "    },\n",
    "    \"verbose\": True\n",
    "}\n",
    "tokenizer = AutoTokenizer.from_pretrained(model_name)\n",
    "tokenizer.pad_token = tokenizer.eos_token\n",
    "train_dataset, test_dataset = tokenize_and_split_data(training_config, tokenizer)\n",
    "base_model = AutoModelForCausalLM.from_pretrained(model_name)\n",
    "device_count = torch.cuda.device_count()\n",
    "if device_count > 0:\n",
    "    logger.debug(\"Select GPU device\")\n",
    "    device = torch.device(\"cuda\")\n",
    "else:\n",
    "    logger.debug(\"Select CPU device\")\n",
    "    device = torch.device(\"cpu\")"
   ]
  },
  {
   "cell_type": "code",
   "execution_count": 10,
   "metadata": {},
   "outputs": [],
   "source": [
    "from collections import Counter\n",
    "import math\n",
    "\n",
    "def cosine_similarity(str1, str2):\n",
    "    \"\"\"\n",
    "    Computes the cosine similarity between two strings using the Bag-of-Words model.\n",
    "\n",
    "    Args:\n",
    "        str1: The first string.\n",
    "        str2: The second string.\n",
    "\n",
    "    Returns:\n",
    "        A float representing the cosine similarity between the two strings.\n",
    "    \"\"\"\n",
    "    # Tokenize the strings\n",
    "    tokens1 = str1.split()\n",
    "    tokens2 = str2.split()\n",
    "\n",
    "    # Create bag of words for each string\n",
    "    bow1 = Counter(tokens1)\n",
    "    bow2 = Counter(tokens2)\n",
    "\n",
    "    # Get the set of all unique words\n",
    "    all_words = set(bow1.keys()).union(set(bow2.keys()))\n",
    "\n",
    "    # Compute dot product\n",
    "    dot_product = sum(bow1[word] * bow2[word] for word in all_words)\n",
    "\n",
    "    # Compute magnitudes\n",
    "    magnitude1 = math.sqrt(sum(bow1[word] ** 2 for word in all_words))\n",
    "    magnitude2 = math.sqrt(sum(bow2[word] ** 2 for word in all_words))\n",
    "\n",
    "    # Compute cosine similarity\n",
    "    if magnitude1 == 0 or magnitude2 == 0:\n",
    "        return 0\n",
    "    else:\n",
    "        return dot_product / (magnitude1 * magnitude2)\n"
   ]
  },
  {
   "cell_type": "code",
   "execution_count": 20,
   "metadata": {},
   "outputs": [],
   "source": [
    "def inference_new(text, model, tokenizer, max_input_tokens=1000, max_output_tokens=1000):\n",
    "  # Tokenize\n",
    "  input_ids = tokenizer.encode(\n",
    "      text,\n",
    "      return_tensors=\"pt\",\n",
    "      truncation=True,\n",
    "      max_length=max_input_tokens\n",
    "  )\n",
    "\n",
    "  # Generate\n",
    "  device = model.device\n",
    "  attention_mask = torch.ones_like(input_ids)  # Create mask with all 1s\n",
    "\n",
    "  # Fix: Mask all padding tokens, including the first element\n",
    "  attention_mask[input_ids == tokenizer.pad_token_id] = 0\n",
    "\n",
    "  generated_tokens_with_prompt = model.generate(\n",
    "      input_ids.to(device),\n",
    "      max_length=max_output_tokens,\n",
    "      attention_mask=attention_mask,\n",
    "      pad_token_id=tokenizer.eos_token_id  # Set pad token\n",
    "  )\n",
    "\n",
    "  # Decode\n",
    "  generated_text_with_prompt = tokenizer.batch_decode(generated_tokens_with_prompt, skip_special_tokens=True)\n",
    "\n",
    "  # Strip the prompt\n",
    "  generated_text_answer = generated_text_with_prompt[0][len(text):]\n",
    "  return generated_text_answer\n",
    "\n"
   ]
  },
  {
   "cell_type": "code",
   "execution_count": 63,
   "metadata": {},
   "outputs": [],
   "source": [
    "from transformers import AutoModelForCausalLM\n",
    "import shutil\n",
    "def train_model(hyperparameters, delete=False, testing=False):\n",
    "  max_steps = hyperparameters[\"max_steps\"]\n",
    "\n",
    "\n",
    "  # Convert hyperparameter values to integers and add them to the string\n",
    "  hyperparameter_str = '_'.join(str(int(value)) if isinstance(value, (int, float)) else value for value in hyperparameters.values())\n",
    "  # Create the trained_model_name variable\n",
    "  trained_model_name = f\"ai_medical_{hyperparameter_str}\"\n",
    "\n",
    "  #trained_model_name = f\"ai_medical_{max_steps}_steps\"\n",
    "  output_dir = trained_model_name\n",
    "  training_args = TrainingArguments(\n",
    "    # Learning rate\n",
    "    learning_rate=hyperparameters[\"learning_rate\"],\n",
    "\n",
    "    # Number of training epochs\n",
    "    num_train_epochs=hyperparameters[\"num_train_epochs\"],\n",
    "\n",
    "    # Max steps to train for (each step is a batch of data)\n",
    "    # Overrides num_train_epochs, if not -1\n",
    "    max_steps=max_steps,\n",
    "\n",
    "    # Batch size for training\n",
    "    per_device_train_batch_size=hyperparameters[\"per_device_train_batch_size\"],\n",
    "\n",
    "    # Directory to save model checkpoints\n",
    "    output_dir=output_dir,\n",
    "\n",
    "    # Other arguments\n",
    "    overwrite_output_dir=False, # Overwrite the content of the output directory\n",
    "    disable_tqdm=False, # Disable progress bars\n",
    "    eval_steps=120, # Number of update steps between two evaluations\n",
    "    save_steps=120, # After # steps model is saved\n",
    "    warmup_steps=1, # Number of warmup steps for learning rate scheduler\n",
    "    per_device_eval_batch_size=1, # Batch size for evaluation\n",
    "    evaluation_strategy=\"steps\",\n",
    "    logging_strategy=\"steps\",\n",
    "    logging_steps=1,\n",
    "    optim=hyperparameters[\"optim\"],\n",
    "    gradient_accumulation_steps = hyperparameters['gradient_accumulation_steps'],\n",
    "    gradient_checkpointing=False,\n",
    "    # Parameters for early stopping\n",
    "    load_best_model_at_end=True,\n",
    "    save_total_limit=1,\n",
    "    metric_for_best_model=\"eval_loss\",\n",
    "    greater_is_better=False\n",
    "  )\n",
    "  base_model.to(device)\n",
    "  model_flops = (\n",
    "    base_model.floating_point_ops(\n",
    "      {\n",
    "        \"input_ids\": torch.zeros(\n",
    "            (1, training_config[\"model\"][\"max_length\"])\n",
    "        )\n",
    "      }\n",
    "    )\n",
    "    * training_args.gradient_accumulation_steps\n",
    "  )\n",
    "\n",
    "  #print(base_model)\n",
    "  print(\"Memory footprint\", base_model.get_memory_footprint() / 1e9, \"GB\")\n",
    "  print(\"Flops\", model_flops / 1e9, \"GFLOPs\")\n",
    "\n",
    "  trainer = Trainer(\n",
    "    model=base_model,\n",
    "    model_flops=model_flops,\n",
    "    total_steps=max_steps,\n",
    "    args=training_args,\n",
    "    train_dataset=train_dataset,\n",
    "    eval_dataset=test_dataset,\n",
    ")\n",
    "  training_output = trainer.train()\n",
    "  # Evaluate the model\n",
    "  eval_results = trainer.evaluate()\n",
    "\n",
    "  # Adding Evaluation \n",
    "  save_dir = f'{output_dir}'\n",
    "  trainer.save_model(save_dir)\n",
    "  print(\"Saved model to:\", save_dir)\n",
    "  finetuned_slightly_model = AutoModelForCausalLM.from_pretrained(save_dir, local_files_only=True)\n",
    "  finetuned_slightly_model.to(device)\n",
    "  test_question = test_dataset[0]['question']\n",
    "  print(\"Question input (test):\", test_question)\n",
    "  predicted_answer=inference_new(test_question, finetuned_slightly_model, tokenizer)\n",
    "  print(\"Finetuned slightly model's answer: \")\n",
    "  print(predicted_answer) \n",
    "  test_answer = test_dataset[0]['answer']\n",
    "  print(\"Target answer output (test):\", test_answer)\n",
    "  metric_cosine_similarity=cosine_similarity(test_answer, predicted_answer)\n",
    "  print(\"Cosine Similarity:\", metric_cosine_similarity)\n",
    "  # Deleting the folder to save space\n",
    "  if delete:\n",
    "    shutil.rmtree(save_dir)\n",
    "    print(\"Deleted model folder:\", save_dir)\n",
    "  if testing:\n",
    "    return eval_results, training_output, metric_cosine_similarity,test_question,test_answer,predicted_answer\n",
    "\n",
    "  else:\n",
    "    return eval_results, training_output, metric_cosine_similarity\n"
   ]
  },
  {
   "cell_type": "code",
   "execution_count": 61,
   "metadata": {},
   "outputs": [],
   "source": [
    "hyperparameters={'learning_rate': 1e-06,\n",
    "'num_train_epochs': 1,\n",
    "'per_device_train_batch_size': 1,\n",
    "'optim': 'adafactor',\n",
    "'num_iterations': 1,\n",
    "'max_steps':3,\n",
    "'gradient_accumulation_steps':2}"
   ]
  },
  {
   "cell_type": "code",
   "execution_count": 64,
   "metadata": {},
   "outputs": [
    {
     "name": "stdout",
     "output_type": "stream",
     "text": [
      "Memory footprint 0.30687256 GB\n",
      "Flops 1097.833906176 GFLOPs\n"
     ]
    },
    {
     "data": {
      "application/vnd.jupyter.widget-view+json": {
       "model_id": "007ca38763e34b72acab74b0aab85142",
       "version_major": 2,
       "version_minor": 0
      },
      "text/plain": [
       "  0%|          | 0/3 [00:00<?, ?it/s]"
      ]
     },
     "metadata": {},
     "output_type": "display_data"
    },
    {
     "name": "stderr",
     "output_type": "stream",
     "text": [
      "2024-04-10 00:39:19,144 - DEBUG - utilities - Step (1) Logs: {'loss': 0.3757, 'learning_rate': 1e-06, 'epoch': 0.0, 'iter_time': 0.0, 'flops': 0.0, 'remaining_time': 0.0}\n"
     ]
    },
    {
     "name": "stdout",
     "output_type": "stream",
     "text": [
      "{'loss': 0.3757, 'learning_rate': 1e-06, 'epoch': 0.0, 'iter_time': 0.0, 'flops': 0.0, 'remaining_time': 0.0}\n"
     ]
    },
    {
     "name": "stderr",
     "output_type": "stream",
     "text": [
      "2024-04-10 00:39:20,316 - DEBUG - utilities - Step (2) Logs: {'loss': 2.863, 'learning_rate': 5e-07, 'epoch': 0.0, 'iter_time': 1.1721312999725342, 'flops': 936613420528.677, 'remaining_time': 1.1721312999725342}\n"
     ]
    },
    {
     "name": "stdout",
     "output_type": "stream",
     "text": [
      "{'loss': 2.863, 'learning_rate': 5e-07, 'epoch': 0.0, 'iter_time': 1.1721312999725342, 'flops': 936613420528.677, 'remaining_time': 1.1721312999725342}\n"
     ]
    },
    {
     "name": "stderr",
     "output_type": "stream",
     "text": [
      "2024-04-10 00:39:21,146 - DEBUG - utilities - Step (3) Logs: {'loss': 0.1415, 'learning_rate': 0.0, 'epoch': 0.01, 'iter_time': 0.9989346265792847, 'flops': 1099004756632.9564, 'remaining_time': 0.0}\n",
      "2024-04-10 00:39:21,146 - DEBUG - utilities - Step (3) Logs: {'train_runtime': 3.0032, 'train_samples_per_second': 1.998, 'train_steps_per_second': 0.999, 'total_flos': 91932868608.0, 'train_loss': 1.1267573932806652, 'epoch': 0.01, 'iter_time': 1.00093674659729, 'flops': 1096806476441.308, 'remaining_time': 0.0}\n"
     ]
    },
    {
     "name": "stdout",
     "output_type": "stream",
     "text": [
      "{'loss': 0.1415, 'learning_rate': 0.0, 'epoch': 0.01, 'iter_time': 0.9989346265792847, 'flops': 1099004756632.9564, 'remaining_time': 0.0}\n",
      "{'train_runtime': 3.0032, 'train_samples_per_second': 1.998, 'train_steps_per_second': 0.999, 'train_loss': 1.1267573932806652, 'epoch': 0.01, 'iter_time': 1.00093674659729, 'flops': 1096806476441.308, 'remaining_time': 0.0}\n"
     ]
    },
    {
     "data": {
      "application/vnd.jupyter.widget-view+json": {
       "model_id": "aff57c95b9734d1e844d063c17138f31",
       "version_major": 2,
       "version_minor": 0
      },
      "text/plain": [
       "  0%|          | 0/100 [00:00<?, ?it/s]"
      ]
     },
     "metadata": {},
     "output_type": "display_data"
    },
    {
     "name": "stderr",
     "output_type": "stream",
     "text": [
      "2024-04-10 00:39:28,061 - DEBUG - utilities - Step (3) Logs: {'eval_loss': 5.050598621368408, 'eval_runtime': 6.9087, 'eval_samples_per_second': 14.475, 'eval_steps_per_second': 14.475, 'epoch': 0.01, 'iter_time': 4.458450078964233, 'flops': 246236671204.59128, 'remaining_time': 0.0}\n"
     ]
    },
    {
     "name": "stdout",
     "output_type": "stream",
     "text": [
      "Saved model to: ai_medical_0_1_1_adafactor_1_3_2\n",
      "Question input (test): Will Kalarchikai cure multiple ovarian cysts in PCOD?\n",
      "Finetuned slightly model's answer: \n",
      "Hi. I hope this helps. I hope. For more information consult a urologist online --> urologist online --> urologist online --> urologist online --> urologist online --> urologist online --> urologist online --> urologist online --> urologist online --> urologist online --> urologist online --> urologist online --> urologist online --> urologist online --> urologist online --> urologist online --> urologist online --> urologist online --> urologist online --> urologist online --> urologist online --> urologist online --> urologist online --> urologist online --> urologist online --> urologist online --> urologist online --> urologist online --> urologist online --> urologist online --> urologist online --> urologist online --> urologist online --> urologist online --> urologist online --> urologist online --> urologist online --> urologist online --> urologist online --> urologist online --> urologist online --> urologist online --> urologist online --> urologist online --> urologist online --> urologist online --> urologist online --> urologist online --> urologist online --> urologist online --> urologist online --> urologist online --> urologist online --> urologist online --> urologist online --> urologist online --> urologist online --> urologist online --> urologist online --> urologist online --> urologist online --> urologist online --> urologist online --> urologist online --> urologist online --> urologist online --> urologist online --> urologist online --> urologist online --> urologist online --> urologist online --> urologist online --> urologist online --> urologist online --> urologist online --> urologist online --> urologist online --> urologist online --> urologist online --> urologist online --> urologist online --> urologist online --> urologist online --> urologist online --> urologist online --> urologist online --> urologist online --> urologist online --> urologist online --> urologist online --> urologist online --> urologist online --> urologist online --> urologist online --> urologist online --> urologist online --> urologist online --> urologist online --> urologist online --> urologist online --> urologist online --> urologist online --> urologist online --> urologist online --> urologist online --> urologist online --> urologist online --> urologist online --> urologist online --> urologist online --> urologist online --> urologist online --> urologist online --> urologist online --> urologist online --> urologist online --> urologist online --> urologist online --> urologist online --> urologist online --> urologist online --> urologist online --> urologist online --> urologist online --> urologist online --> urologist online --> urologist online --> urologist online --> urologist online --> urologist online --> urologist online --> urologist online --> urologist online --> urologist online --> urologist online --> urologist online --> urologist online --> urologist online --> urologist online --> urologist online --> urologist online --> urologist online --> urologist online --> urologist online --> urologist online --> urologist online --> urologist online --> urologist online --> urologist online --> urologist online --> urologist online --> urologist online --> urologist online --> urologist online --> urologist online --> urologist online --> urologist online --> urologist online --> urologist online --> urologist online --> urologist online --> urologist online --> urologist online --> urologist online --> urologist online --> urologist online --> urologist online --> urologist online --> urologist online --> urologist online --> urologist online --> urologist online --> urologist online --> urologist online --> urologist online --> urologist online --> urologist online --> urologist online --> urologist online --> urologist online --> urologist online --> urologist online --> urologist online --> urologist online --> urologist online --> urologist online --> urologist online --> urologist online --> urologist online --> urologist online --> urologist online --> urologist online --> urologist online --> urologist online --> urolog\n",
      "Target answer output (test): Hello. I just read your query. See Kalarachi Kai choornam is helpful in amenorrhea. As far as small cysts are concerned they are unmatured eggs which failed to induce menstrual cycle previously, as a result, they got collected in the ovary and they will remain in the ovary. Now, you have got your periods you can start trying for conception. But I advise you to do it under the supervision of a nearby gynecologist because egg size is important while conception and that you can know by ovulation study. Ovulation study is performed under the supervision of a gynecologist. For gall stones, surgical intervention is required generally. Medicine is not of much help.\n",
      "Cosine Similarity: 0.00167919353905566\n",
      "Deleted model folder: ai_medical_0_1_1_adafactor_1_3_2\n"
     ]
    }
   ],
   "source": [
    "eval_results, training_output, metric_cosine_similarity,test_question,test_answer,predicted_answer =train_model(hyperparameters, delete=True, testing=True)"
   ]
  },
  {
   "cell_type": "code",
   "execution_count": 65,
   "metadata": {},
   "outputs": [
    {
     "name": "stdout",
     "output_type": "stream",
     "text": [
      "Question input (test): Will Kalarchikai cure multiple ovarian cysts in PCOD?\n",
      "Correct answer from ai-medical-chatbot: Hello. I just read your query. See Kalarachi Kai choornam is helpful in amenorrhea. As far as small cysts are concerned they are unmatured eggs which failed to induce menstrual cycle previously, as a result, they got collected in the ovary and they will remain in the ovary. Now, you have got your periods you can start trying for conception. But I advise you to do it under the supervision of a nearby gynecologist because egg size is important while conception and that you can know by ovulation study. Ovulation study is performed under the supervision of a gynecologist. For gall stones, surgical intervention is required generally. Medicine is not of much help.\n",
      "Model's answer: \n"
     ]
    }
   ],
   "source": [
    "test_text = test_dataset[0]['question']\n",
    "print(\"Question input (test):\", test_text)\n",
    "print(f\"Correct answer from ai-medical-chatbot: {test_dataset[0]['answer']}\")\n",
    "print(\"Model's answer: \")\n",
    "#print(inference_new(test_text, base_model, tokenizer))"
   ]
  },
  {
   "cell_type": "code",
   "execution_count": 66,
   "metadata": {},
   "outputs": [],
   "source": [
    "from tqdm import tqdm\n",
    "import pandas as pd"
   ]
  },
  {
   "cell_type": "code",
   "execution_count": 67,
   "metadata": {},
   "outputs": [],
   "source": [
    "def find_best_hyperparameters():\n",
    "    best_hyperparameters = None\n",
    "    best_loss = float('inf')\n",
    "    # Lists to store data\n",
    "    hyperparameters_list = []\n",
    "    eval_results_list = []\n",
    "    training_output_list = []\n",
    "    cosine_similarity_list = []\n",
    "\n",
    "    test_question_list = []\n",
    "    test_answer_list = []\n",
    "    predicted_answer_list = []\n",
    "\n",
    "\n",
    "\n",
    "    \n",
    "    # Define hyperparameter search space\n",
    "    hyperparameter_space = {\n",
    "        \"learning_rate\": [1e-6, 1e-5, 1e-4],\n",
    "        \"num_train_epochs\": [1,5,10,20],\n",
    "        \"per_device_train_batch_size\": [1],\n",
    "        \"optim\": [\"adafactor\"],\n",
    "        \"num_iterations\": [1],\n",
    "        \"max_steps\": [3],\n",
    "        \"gradient_accumulation_steps\": [3],\n",
    "    }\n",
    "    # Generate all combinations of hyperparameters\n",
    "    all_hyperparameters = list(itertools.product(*hyperparameter_space.values()))\n",
    "\n",
    "    # Assuming all_hyperparameters is a list of hyperparameter combinations\n",
    "    for hyperparameter_values in tqdm(all_hyperparameters):\n",
    "        hyperparameters = dict(zip(hyperparameter_space.keys(), hyperparameter_values))\n",
    "        \n",
    "        # Evaluate the model\n",
    "        # Print the current hyperparameters\n",
    "        print(\"Using hyperparameters:\")\n",
    "        for key, value in hyperparameters.items():\n",
    "            print(f\"{key}: {value}\")\n",
    "        eval_results, training_output, metric_cosine_similarity, test_question, test_answer, predicted_answer = train_model(hyperparameters,delete=True,testing=True)\n",
    "        \n",
    "        # Append data to lists\n",
    "        hyperparameters_list.append(hyperparameters)\n",
    "        eval_results_list.append(eval_results)\n",
    "        training_output_list.append(training_output)\n",
    "        cosine_similarity_list.append(metric_cosine_similarity)\n",
    "\n",
    "        test_question_list.append(test_question)\n",
    "        test_answer_list.append(test_answer)\n",
    "        predicted_answer_list.append(predicted_answer)\n",
    "\n",
    "        # Check if this set of hyperparameters gives better results\n",
    "        if eval_results[\"eval_loss\"] < best_loss:\n",
    "                best_loss = eval_results[\"eval_loss\"]\n",
    "                best_hyperparameters = hyperparameters\n",
    "\n",
    "    # Create DataFrame\n",
    "    data = {\n",
    "        'Question':test_question_list,\n",
    "        'Answer':test_answer_list,\n",
    "        'Prediction':predicted_answer_list,\n",
    "        'Hyperparameters': hyperparameters_list,\n",
    "        'Evaluation Results': eval_results_list,\n",
    "        'Training Output': training_output_list,\n",
    "        'Cosine Similarity': cosine_similarity_list\n",
    "    }\n",
    "    df = pd.DataFrame(data)\n",
    "    \n",
    "    return best_hyperparameters, best_loss, df"
   ]
  },
  {
   "cell_type": "code",
   "execution_count": 68,
   "metadata": {},
   "outputs": [
    {
     "name": "stderr",
     "output_type": "stream",
     "text": [
      "  0%|          | 0/12 [00:00<?, ?it/s]"
     ]
    },
    {
     "name": "stdout",
     "output_type": "stream",
     "text": [
      "Using hyperparameters:\n",
      "learning_rate: 1e-06\n",
      "num_train_epochs: 1\n",
      "per_device_train_batch_size: 1\n",
      "optim: adafactor\n",
      "num_iterations: 1\n",
      "max_steps: 3\n",
      "gradient_accumulation_steps: 3\n",
      "Memory footprint 0.30687256 GB\n",
      "Flops 1646.750859264 GFLOPs\n"
     ]
    },
    {
     "data": {
      "application/vnd.jupyter.widget-view+json": {
       "model_id": "a22e592f68284fd184c3c9bd64f29bd7",
       "version_major": 2,
       "version_minor": 0
      },
      "text/plain": [
       "  0%|          | 0/3 [00:00<?, ?it/s]"
      ]
     },
     "metadata": {},
     "output_type": "display_data"
    },
    {
     "name": "stderr",
     "output_type": "stream",
     "text": [
      "2024-04-10 00:45:48,089 - DEBUG - utilities - Step (1) Logs: {'loss': 2.029, 'learning_rate': 1e-06, 'epoch': 0.0, 'iter_time': 0.0, 'flops': 0.0, 'remaining_time': 0.0}\n",
      "  0%|          | 0/12 [00:01<?, ?it/s]"
     ]
    },
    {
     "name": "stdout",
     "output_type": "stream",
     "text": [
      "{'loss': 2.029, 'learning_rate': 1e-06, 'epoch': 0.0, 'iter_time': 0.0, 'flops': 0.0, 'remaining_time': 0.0}\n"
     ]
    },
    {
     "name": "stderr",
     "output_type": "stream",
     "text": [
      "2024-04-10 00:45:49,409 - DEBUG - utilities - Step (2) Logs: {'loss': 0.1019, 'learning_rate': 5e-07, 'epoch': 0.01, 'iter_time': 1.320169448852539, 'flops': 1247378403352.1743, 'remaining_time': 1.320169448852539}\n",
      "  0%|          | 0/12 [00:02<?, ?it/s]"
     ]
    },
    {
     "name": "stdout",
     "output_type": "stream",
     "text": [
      "{'loss': 0.1019, 'learning_rate': 5e-07, 'epoch': 0.01, 'iter_time': 1.320169448852539, 'flops': 1247378403352.1743, 'remaining_time': 1.320169448852539}\n"
     ]
    },
    {
     "name": "stderr",
     "output_type": "stream",
     "text": [
      "2024-04-10 00:45:50,294 - DEBUG - utilities - Step (3) Logs: {'loss': 0.5867, 'learning_rate': 0.0, 'epoch': 0.01, 'iter_time': 1.1025503873825073, 'flops': 1493583312027.5286, 'remaining_time': 0.0}\n",
      "  0%|          | 0/12 [00:03<?, ?it/s]2024-04-10 00:45:50,298 - DEBUG - utilities - Step (3) Logs: {'train_runtime': 3.3869, 'train_samples_per_second': 2.657, 'train_steps_per_second': 0.886, 'total_flos': 138837393408.0, 'train_loss': 0.90590550750494, 'epoch': 0.01, 'iter_time': 1.1041289567947388, 'flops': 1491447941048.9153, 'remaining_time': 0.0}\n",
      "  0%|          | 0/12 [00:03<?, ?it/s]"
     ]
    },
    {
     "name": "stdout",
     "output_type": "stream",
     "text": [
      "{'loss': 0.5867, 'learning_rate': 0.0, 'epoch': 0.01, 'iter_time': 1.1025503873825073, 'flops': 1493583312027.5286, 'remaining_time': 0.0}\n",
      "{'train_runtime': 3.3869, 'train_samples_per_second': 2.657, 'train_steps_per_second': 0.886, 'train_loss': 0.90590550750494, 'epoch': 0.01, 'iter_time': 1.1041289567947388, 'flops': 1491447941048.9153, 'remaining_time': 0.0}\n"
     ]
    },
    {
     "data": {
      "application/vnd.jupyter.widget-view+json": {
       "model_id": "6eb1e90ec4734b6b9086e7c9423f0f8c",
       "version_major": 2,
       "version_minor": 0
      },
      "text/plain": [
       "  0%|          | 0/100 [00:00<?, ?it/s]"
      ]
     },
     "metadata": {},
     "output_type": "display_data"
    },
    {
     "name": "stderr",
     "output_type": "stream",
     "text": [
      "2024-04-10 00:45:56,749 - DEBUG - utilities - Step (3) Logs: {'eval_loss': 5.048230171203613, 'eval_runtime': 6.4433, 'eval_samples_per_second': 15.52, 'eval_steps_per_second': 15.52, 'epoch': 0.01, 'iter_time': 4.32998788356781, 'flops': 380313040947.1528, 'remaining_time': 0.0}\n"
     ]
    },
    {
     "name": "stdout",
     "output_type": "stream",
     "text": [
      "Saved model to: ai_medical_0_1_1_adafactor_1_3_3\n",
      "Question input (test): Will Kalarchikai cure multiple ovarian cysts in PCOD?\n"
     ]
    },
    {
     "name": "stderr",
     "output_type": "stream",
     "text": [
      "  8%|▊         | 1/12 [00:27<04:59, 27.26s/it]"
     ]
    },
    {
     "name": "stdout",
     "output_type": "stream",
     "text": [
      "Finetuned slightly model's answer: \n",
      "Hi. I hope this helps. I hope. For more information consult a urologist online --> urologist online --> urologist online --> urologist online --> urologist online --> urologist online --> urologist online --> urologist online --> urologist online --> urologist online --> urologist online --> urologist online --> urologist online --> urologist online --> urologist online --> urologist online --> urologist online --> urologist online --> urologist online --> urologist online --> urologist online --> urologist online --> urologist online --> urologist online --> urologist online --> urologist online --> urologist online --> urologist online --> urologist online --> urologist online --> urologist online --> urologist online --> urologist online --> urologist online --> urologist online --> urologist online --> urologist online --> urologist online --> urologist online --> urologist online --> urologist online --> urologist online --> urologist online --> urologist online --> urologist online --> urologist online --> urologist online --> urologist online --> urologist online --> urologist online --> urologist online --> urologist online --> urologist online --> urologist online --> urologist online --> urologist online --> urologist online --> urologist online --> urologist online --> urologist online --> urologist online --> urologist online --> urologist online --> urologist online --> urologist online --> urologist online --> urologist online --> urologist online --> urologist online --> urologist online --> urologist online --> urologist online --> urologist online --> urologist online --> urologist online --> urologist online --> urologist online --> urologist online --> urologist online --> urologist online --> urologist online --> urologist online --> urologist online --> urologist online --> urologist online --> urologist online --> urologist online --> urologist online --> urologist online --> urologist online --> urologist online --> urologist online --> urologist online --> urologist online --> urologist online --> urologist online --> urologist online --> urologist online --> urologist online --> urologist online --> urologist online --> urologist online --> urologist online --> urologist online --> urologist online --> urologist online --> urologist online --> urologist online --> urologist online --> urologist online --> urologist online --> urologist online --> urologist online --> urologist online --> urologist online --> urologist online --> urologist online --> urologist online --> urologist online --> urologist online --> urologist online --> urologist online --> urologist online --> urologist online --> urologist online --> urologist online --> urologist online --> urologist online --> urologist online --> urologist online --> urologist online --> urologist online --> urologist online --> urologist online --> urologist online --> urologist online --> urologist online --> urologist online --> urologist online --> urologist online --> urologist online --> urologist online --> urologist online --> urologist online --> urologist online --> urologist online --> urologist online --> urologist online --> urologist online --> urologist online --> urologist online --> urologist online --> urologist online --> urologist online --> urologist online --> urologist online --> urologist online --> urologist online --> urologist online --> urologist online --> urologist online --> urologist online --> urologist online --> urologist online --> urologist online --> urologist online --> urologist online --> urologist online --> urologist online --> urologist online --> urologist online --> urologist online --> urologist online --> urologist online --> urologist online --> urologist online --> urologist online --> urologist online --> urologist online --> urologist online --> urologist online --> urologist online --> urologist online --> urologist online --> urologist online --> urologist online --> urologist online --> urologist online --> urologist online --> urologist online --> urologist online --> urologist online --> urologist online --> urologist online --> urolog\n",
      "Target answer output (test): Hello. I just read your query. See Kalarachi Kai choornam is helpful in amenorrhea. As far as small cysts are concerned they are unmatured eggs which failed to induce menstrual cycle previously, as a result, they got collected in the ovary and they will remain in the ovary. Now, you have got your periods you can start trying for conception. But I advise you to do it under the supervision of a nearby gynecologist because egg size is important while conception and that you can know by ovulation study. Ovulation study is performed under the supervision of a gynecologist. For gall stones, surgical intervention is required generally. Medicine is not of much help.\n",
      "Cosine Similarity: 0.00167919353905566\n",
      "Deleted model folder: ai_medical_0_1_1_adafactor_1_3_3\n",
      "Using hyperparameters:\n",
      "learning_rate: 1e-06\n",
      "num_train_epochs: 5\n",
      "per_device_train_batch_size: 1\n",
      "optim: adafactor\n",
      "num_iterations: 1\n",
      "max_steps: 3\n",
      "gradient_accumulation_steps: 3\n",
      "Memory footprint 0.30687256 GB\n",
      "Flops 1646.750859264 GFLOPs\n"
     ]
    },
    {
     "data": {
      "application/vnd.jupyter.widget-view+json": {
       "model_id": "c372779f82f24e56a48a2184d67bd207",
       "version_major": 2,
       "version_minor": 0
      },
      "text/plain": [
       "  0%|          | 0/3 [00:00<?, ?it/s]"
      ]
     },
     "metadata": {},
     "output_type": "display_data"
    },
    {
     "name": "stderr",
     "output_type": "stream",
     "text": [
      "2024-04-10 00:46:15,255 - DEBUG - utilities - Step (1) Logs: {'loss': 2.012, 'learning_rate': 1e-06, 'epoch': 0.0, 'iter_time': 0.0, 'flops': 0.0, 'remaining_time': 0.0}\n",
      "  8%|▊         | 1/12 [00:28<04:59, 27.26s/it]"
     ]
    },
    {
     "name": "stdout",
     "output_type": "stream",
     "text": [
      "{'loss': 2.012, 'learning_rate': 1e-06, 'epoch': 0.0, 'iter_time': 0.0, 'flops': 0.0, 'remaining_time': 0.0}\n"
     ]
    },
    {
     "name": "stderr",
     "output_type": "stream",
     "text": [
      "2024-04-10 00:46:16,270 - DEBUG - utilities - Step (2) Logs: {'loss': 0.0857, 'learning_rate': 5e-07, 'epoch': 0.01, 'iter_time': 1.015291452407837, 'flops': 1621948904778.6343, 'remaining_time': 1.015291452407837}\n",
      "  8%|▊         | 1/12 [00:29<04:59, 27.26s/it]"
     ]
    },
    {
     "name": "stdout",
     "output_type": "stream",
     "text": [
      "{'loss': 0.0857, 'learning_rate': 5e-07, 'epoch': 0.01, 'iter_time': 1.015291452407837, 'flops': 1621948904778.6343, 'remaining_time': 1.015291452407837}\n"
     ]
    },
    {
     "name": "stderr",
     "output_type": "stream",
     "text": [
      "2024-04-10 00:46:17,147 - DEBUG - utilities - Step (3) Logs: {'loss': 0.5581, 'learning_rate': 0.0, 'epoch': 0.01, 'iter_time': 0.9462306499481201, 'flops': 1740327117235.4097, 'remaining_time': 0.0}\n",
      "  8%|▊         | 1/12 [00:30<04:59, 27.26s/it]2024-04-10 00:46:17,150 - DEBUG - utilities - Step (3) Logs: {'train_runtime': 2.961, 'train_samples_per_second': 3.04, 'train_steps_per_second': 1.013, 'total_flos': 138837393408.0, 'train_loss': 0.8852642253041267, 'epoch': 0.01, 'iter_time': 0.947723388671875, 'flops': 1737585965427.878, 'remaining_time': 0.0}\n",
      "  8%|▊         | 1/12 [00:30<04:59, 27.26s/it]"
     ]
    },
    {
     "name": "stdout",
     "output_type": "stream",
     "text": [
      "{'loss': 0.5581, 'learning_rate': 0.0, 'epoch': 0.01, 'iter_time': 0.9462306499481201, 'flops': 1740327117235.4097, 'remaining_time': 0.0}\n",
      "{'train_runtime': 2.961, 'train_samples_per_second': 3.04, 'train_steps_per_second': 1.013, 'train_loss': 0.8852642253041267, 'epoch': 0.01, 'iter_time': 0.947723388671875, 'flops': 1737585965427.878, 'remaining_time': 0.0}\n"
     ]
    },
    {
     "data": {
      "application/vnd.jupyter.widget-view+json": {
       "model_id": "51b6af32b63e42e1b1038e9e8ca05a30",
       "version_major": 2,
       "version_minor": 0
      },
      "text/plain": [
       "  0%|          | 0/100 [00:00<?, ?it/s]"
      ]
     },
     "metadata": {},
     "output_type": "display_data"
    },
    {
     "name": "stderr",
     "output_type": "stream",
     "text": [
      "2024-04-10 00:46:23,757 - DEBUG - utilities - Step (3) Logs: {'eval_loss': 5.044698238372803, 'eval_runtime': 6.5999, 'eval_samples_per_second': 15.152, 'eval_steps_per_second': 15.152, 'epoch': 0.01, 'iter_time': 4.25106143951416, 'flops': 387374043564.09436, 'remaining_time': 0.0}\n"
     ]
    },
    {
     "name": "stdout",
     "output_type": "stream",
     "text": [
      "Saved model to: ai_medical_0_5_1_adafactor_1_3_3\n",
      "Question input (test): Will Kalarchikai cure multiple ovarian cysts in PCOD?\n"
     ]
    },
    {
     "name": "stderr",
     "output_type": "stream",
     "text": [
      " 17%|█▋        | 2/12 [00:54<04:32, 27.25s/it]"
     ]
    },
    {
     "name": "stdout",
     "output_type": "stream",
     "text": [
      "Finetuned slightly model's answer: \n",
      "Hi. I hope this helps. I hope. For more information consult a urologist online --> urologist online --> urologist online --> urologist online --> urologist online --> urologist online --> urologist online --> urologist online --> urologist online --> urologist online --> urologist online --> urologist online --> urologist online --> urologist online --> urologist online --> urologist online --> urologist online --> urologist online --> urologist online --> urologist online --> urologist online --> urologist online --> urologist online --> urologist online --> urologist online --> urologist online --> urologist online --> urologist online --> urologist online --> urologist online --> urologist online --> urologist online --> urologist online --> urologist online --> urologist online --> urologist online --> urologist online --> urologist online --> urologist online --> urologist online --> urologist online --> urologist online --> urologist online --> urologist online --> urologist online --> urologist online --> urologist online --> urologist online --> urologist online --> urologist online --> urologist online --> urologist online --> urologist online --> urologist online --> urologist online --> urologist online --> urologist online --> urologist online --> urologist online --> urologist online --> urologist online --> urologist online --> urologist online --> urologist online --> urologist online --> urologist online --> urologist online --> urologist online --> urologist online --> urologist online --> urologist online --> urologist online --> urologist online --> urologist online --> urologist online --> urologist online --> urologist online --> urologist online --> urologist online --> urologist online --> urologist online --> urologist online --> urologist online --> urologist online --> urologist online --> urologist online --> urologist online --> urologist online --> urologist online --> urologist online --> urologist online --> urologist online --> urologist online --> urologist online --> urologist online --> urologist online --> urologist online --> urologist online --> urologist online --> urologist online --> urologist online --> urologist online --> urologist online --> urologist online --> urologist online --> urologist online --> urologist online --> urologist online --> urologist online --> urologist online --> urologist online --> urologist online --> urologist online --> urologist online --> urologist online --> urologist online --> urologist online --> urologist online --> urologist online --> urologist online --> urologist online --> urologist online --> urologist online --> urologist online --> urologist online --> urologist online --> urologist online --> urologist online --> urologist online --> urologist online --> urologist online --> urologist online --> urologist online --> urologist online --> urologist online --> urologist online --> urologist online --> urologist online --> urologist online --> urologist online --> urologist online --> urologist online --> urologist online --> urologist online --> urologist online --> urologist online --> urologist online --> urologist online --> urologist online --> urologist online --> urologist online --> urologist online --> urologist online --> urologist online --> urologist online --> urologist online --> urologist online --> urologist online --> urologist online --> urologist online --> urologist online --> urologist online --> urologist online --> urologist online --> urologist online --> urologist online --> urologist online --> urologist online --> urologist online --> urologist online --> urologist online --> urologist online --> urologist online --> urologist online --> urologist online --> urologist online --> urologist online --> urologist online --> urologist online --> urologist online --> urologist online --> urologist online --> urologist online --> urologist online --> urologist online --> urologist online --> urologist online --> urologist online --> urologist online --> urologist online --> urologist online --> urologist online --> urologist online --> urologist online --> urolog\n",
      "Target answer output (test): Hello. I just read your query. See Kalarachi Kai choornam is helpful in amenorrhea. As far as small cysts are concerned they are unmatured eggs which failed to induce menstrual cycle previously, as a result, they got collected in the ovary and they will remain in the ovary. Now, you have got your periods you can start trying for conception. But I advise you to do it under the supervision of a nearby gynecologist because egg size is important while conception and that you can know by ovulation study. Ovulation study is performed under the supervision of a gynecologist. For gall stones, surgical intervention is required generally. Medicine is not of much help.\n",
      "Cosine Similarity: 0.00167919353905566\n",
      "Deleted model folder: ai_medical_0_5_1_adafactor_1_3_3\n",
      "Using hyperparameters:\n",
      "learning_rate: 1e-06\n",
      "num_train_epochs: 10\n",
      "per_device_train_batch_size: 1\n",
      "optim: adafactor\n",
      "num_iterations: 1\n",
      "max_steps: 3\n",
      "gradient_accumulation_steps: 3\n",
      "Memory footprint 0.30687256 GB\n",
      "Flops 1646.750859264 GFLOPs\n"
     ]
    },
    {
     "data": {
      "application/vnd.jupyter.widget-view+json": {
       "model_id": "1e2714e4d83647819e0c16eaba7fd6bc",
       "version_major": 2,
       "version_minor": 0
      },
      "text/plain": [
       "  0%|          | 0/3 [00:00<?, ?it/s]"
      ]
     },
     "metadata": {},
     "output_type": "display_data"
    },
    {
     "name": "stderr",
     "output_type": "stream",
     "text": [
      "2024-04-10 00:46:42,369 - DEBUG - utilities - Step (1) Logs: {'loss': 1.9952, 'learning_rate': 1e-06, 'epoch': 0.0, 'iter_time': 0.0, 'flops': 0.0, 'remaining_time': 0.0}\n",
      " 17%|█▋        | 2/12 [00:55<04:32, 27.25s/it]"
     ]
    },
    {
     "name": "stdout",
     "output_type": "stream",
     "text": [
      "{'loss': 1.9952, 'learning_rate': 1e-06, 'epoch': 0.0, 'iter_time': 0.0, 'flops': 0.0, 'remaining_time': 0.0}\n"
     ]
    },
    {
     "name": "stderr",
     "output_type": "stream",
     "text": [
      "2024-04-10 00:46:43,333 - DEBUG - utilities - Step (2) Logs: {'loss': 0.075, 'learning_rate': 5e-07, 'epoch': 0.01, 'iter_time': 0.9641687870025635, 'flops': 1707948734145.8833, 'remaining_time': 0.9641687870025635}\n",
      " 17%|█▋        | 2/12 [00:56<04:32, 27.25s/it]"
     ]
    },
    {
     "name": "stdout",
     "output_type": "stream",
     "text": [
      "{'loss': 0.075, 'learning_rate': 5e-07, 'epoch': 0.01, 'iter_time': 0.9641687870025635, 'flops': 1707948734145.8833, 'remaining_time': 0.9641687870025635}\n"
     ]
    },
    {
     "name": "stderr",
     "output_type": "stream",
     "text": [
      "2024-04-10 00:46:44,217 - DEBUG - utilities - Step (3) Logs: {'loss': 0.5293, 'learning_rate': 0.0, 'epoch': 0.01, 'iter_time': 0.9242080450057983, 'flops': 1781796715753.1814, 'remaining_time': 0.0}\n",
      " 17%|█▋        | 2/12 [00:57<04:32, 27.25s/it]2024-04-10 00:46:44,220 - DEBUG - utilities - Step (3) Logs: {'train_runtime': 2.8228, 'train_samples_per_second': 3.188, 'train_steps_per_second': 1.063, 'total_flos': 138837393408.0, 'train_loss': 0.8664817040165266, 'epoch': 0.01, 'iter_time': 0.9256430864334106, 'flops': 1779034363675.8364, 'remaining_time': 0.0}\n",
      " 17%|█▋        | 2/12 [00:57<04:32, 27.25s/it]"
     ]
    },
    {
     "name": "stdout",
     "output_type": "stream",
     "text": [
      "{'loss': 0.5293, 'learning_rate': 0.0, 'epoch': 0.01, 'iter_time': 0.9242080450057983, 'flops': 1781796715753.1814, 'remaining_time': 0.0}\n",
      "{'train_runtime': 2.8228, 'train_samples_per_second': 3.188, 'train_steps_per_second': 1.063, 'train_loss': 0.8664817040165266, 'epoch': 0.01, 'iter_time': 0.9256430864334106, 'flops': 1779034363675.8364, 'remaining_time': 0.0}\n"
     ]
    },
    {
     "data": {
      "application/vnd.jupyter.widget-view+json": {
       "model_id": "fa46191f18114dd58999700f56c00f5f",
       "version_major": 2,
       "version_minor": 0
      },
      "text/plain": [
       "  0%|          | 0/100 [00:00<?, ?it/s]"
      ]
     },
     "metadata": {},
     "output_type": "display_data"
    },
    {
     "name": "stderr",
     "output_type": "stream",
     "text": [
      "2024-04-10 00:46:51,128 - DEBUG - utilities - Step (3) Logs: {'eval_loss': 5.0444135665893555, 'eval_runtime': 6.9007, 'eval_samples_per_second': 14.491, 'eval_steps_per_second': 14.491, 'epoch': 0.01, 'iter_time': 4.379427433013916, 'flops': 376019670254.1794, 'remaining_time': 0.0}\n"
     ]
    },
    {
     "name": "stdout",
     "output_type": "stream",
     "text": [
      "Saved model to: ai_medical_0_10_1_adafactor_1_3_3\n",
      "Question input (test): Will Kalarchikai cure multiple ovarian cysts in PCOD?\n"
     ]
    },
    {
     "name": "stderr",
     "output_type": "stream",
     "text": [
      " 25%|██▌       | 3/12 [01:22<04:10, 27.80s/it]"
     ]
    },
    {
     "name": "stdout",
     "output_type": "stream",
     "text": [
      "Finetuned slightly model's answer: \n",
      "Hi. I hope this helps. I hope. For more information consult a urologist online --> urologist online --> urologist online --> urologist online --> urologist online --> urologist online --> urologist online --> urologist online --> urologist online --> urologist online --> urologist online --> urologist online --> urologist online --> urologist online --> urologist online --> urologist online --> urologist online --> urologist online --> urologist online --> urologist online --> urologist online --> urologist online --> urologist online --> urologist online --> urologist online --> urologist online --> urologist online --> urologist online --> urologist online --> urologist online --> urologist online --> urologist online --> urologist online --> urologist online --> urologist online --> urologist online --> urologist online --> urologist online --> urologist online --> urologist online --> urologist online --> urologist online --> urologist online --> urologist online --> urologist online --> urologist online --> urologist online --> urologist online --> urologist online --> urologist online --> urologist online --> urologist online --> urologist online --> urologist online --> urologist online --> urologist online --> urologist online --> urologist online --> urologist online --> urologist online --> urologist online --> urologist online --> urologist online --> urologist online --> urologist online --> urologist online --> urologist online --> urologist online --> urologist online --> urologist online --> urologist online --> urologist online --> urologist online --> urologist online --> urologist online --> urologist online --> urologist online --> urologist online --> urologist online --> urologist online --> urologist online --> urologist online --> urologist online --> urologist online --> urologist online --> urologist online --> urologist online --> urologist online --> urologist online --> urologist online --> urologist online --> urologist online --> urologist online --> urologist online --> urologist online --> urologist online --> urologist online --> urologist online --> urologist online --> urologist online --> urologist online --> urologist online --> urologist online --> urologist online --> urologist online --> urologist online --> urologist online --> urologist online --> urologist online --> urologist online --> urologist online --> urologist online --> urologist online --> urologist online --> urologist online --> urologist online --> urologist online --> urologist online --> urologist online --> urologist online --> urologist online --> urologist online --> urologist online --> urologist online --> urologist online --> urologist online --> urologist online --> urologist online --> urologist online --> urologist online --> urologist online --> urologist online --> urologist online --> urologist online --> urologist online --> urologist online --> urologist online --> urologist online --> urologist online --> urologist online --> urologist online --> urologist online --> urologist online --> urologist online --> urologist online --> urologist online --> urologist online --> urologist online --> urologist online --> urologist online --> urologist online --> urologist online --> urologist online --> urologist online --> urologist online --> urologist online --> urologist online --> urologist online --> urologist online --> urologist online --> urologist online --> urologist online --> urologist online --> urologist online --> urologist online --> urologist online --> urologist online --> urologist online --> urologist online --> urologist online --> urologist online --> urologist online --> urologist online --> urologist online --> urologist online --> urologist online --> urologist online --> urologist online --> urologist online --> urologist online --> urologist online --> urologist online --> urologist online --> urologist online --> urologist online --> urologist online --> urologist online --> urologist online --> urologist online --> urologist online --> urologist online --> urologist online --> urologist online --> urologist online --> urolog\n",
      "Target answer output (test): Hello. I just read your query. See Kalarachi Kai choornam is helpful in amenorrhea. As far as small cysts are concerned they are unmatured eggs which failed to induce menstrual cycle previously, as a result, they got collected in the ovary and they will remain in the ovary. Now, you have got your periods you can start trying for conception. But I advise you to do it under the supervision of a nearby gynecologist because egg size is important while conception and that you can know by ovulation study. Ovulation study is performed under the supervision of a gynecologist. For gall stones, surgical intervention is required generally. Medicine is not of much help.\n",
      "Cosine Similarity: 0.00167919353905566\n",
      "Deleted model folder: ai_medical_0_10_1_adafactor_1_3_3\n",
      "Using hyperparameters:\n",
      "learning_rate: 1e-06\n",
      "num_train_epochs: 20\n",
      "per_device_train_batch_size: 1\n",
      "optim: adafactor\n",
      "num_iterations: 1\n",
      "max_steps: 3\n",
      "gradient_accumulation_steps: 3\n",
      "Memory footprint 0.30687256 GB\n",
      "Flops 1646.750859264 GFLOPs\n"
     ]
    },
    {
     "data": {
      "application/vnd.jupyter.widget-view+json": {
       "model_id": "716c5727db9e439888314bfbbb3e4d2b",
       "version_major": 2,
       "version_minor": 0
      },
      "text/plain": [
       "  0%|          | 0/3 [00:00<?, ?it/s]"
      ]
     },
     "metadata": {},
     "output_type": "display_data"
    },
    {
     "name": "stderr",
     "output_type": "stream",
     "text": [
      "2024-04-10 00:47:10,887 - DEBUG - utilities - Step (1) Logs: {'loss': 1.9807, 'learning_rate': 1e-06, 'epoch': 0.0, 'iter_time': 0.0, 'flops': 0.0, 'remaining_time': 0.0}\n",
      " 25%|██▌       | 3/12 [01:24<04:10, 27.80s/it]"
     ]
    },
    {
     "name": "stdout",
     "output_type": "stream",
     "text": [
      "{'loss': 1.9807, 'learning_rate': 1e-06, 'epoch': 0.0, 'iter_time': 0.0, 'flops': 0.0, 'remaining_time': 0.0}\n"
     ]
    },
    {
     "name": "stderr",
     "output_type": "stream",
     "text": [
      "2024-04-10 00:47:12,063 - DEBUG - utilities - Step (2) Logs: {'loss': 0.0635, 'learning_rate': 5e-07, 'epoch': 0.01, 'iter_time': 1.176743745803833, 'flops': 1399413309088.0422, 'remaining_time': 1.176743745803833}\n",
      " 25%|██▌       | 3/12 [01:25<04:10, 27.80s/it]"
     ]
    },
    {
     "name": "stdout",
     "output_type": "stream",
     "text": [
      "{'loss': 0.0635, 'learning_rate': 5e-07, 'epoch': 0.01, 'iter_time': 1.176743745803833, 'flops': 1399413309088.0422, 'remaining_time': 1.176743745803833}\n"
     ]
    },
    {
     "name": "stderr",
     "output_type": "stream",
     "text": [
      "2024-04-10 00:47:13,227 - DEBUG - utilities - Step (3) Logs: {'loss': 0.5009, 'learning_rate': 0.0, 'epoch': 0.01, 'iter_time': 1.1701643466949463, 'flops': 1407281689888.3833, 'remaining_time': 0.0}\n",
      " 25%|██▌       | 3/12 [01:26<04:10, 27.80s/it]2024-04-10 00:47:13,231 - DEBUG - utilities - Step (3) Logs: {'train_runtime': 3.3247, 'train_samples_per_second': 2.707, 'train_steps_per_second': 0.902, 'total_flos': 138837393408.0, 'train_loss': 0.8483527849117914, 'epoch': 0.01, 'iter_time': 1.172349214553833, 'flops': 1404658986265.208, 'remaining_time': 0.0}\n",
      " 25%|██▌       | 3/12 [01:26<04:10, 27.80s/it]"
     ]
    },
    {
     "name": "stdout",
     "output_type": "stream",
     "text": [
      "{'loss': 0.5009, 'learning_rate': 0.0, 'epoch': 0.01, 'iter_time': 1.1701643466949463, 'flops': 1407281689888.3833, 'remaining_time': 0.0}\n",
      "{'train_runtime': 3.3247, 'train_samples_per_second': 2.707, 'train_steps_per_second': 0.902, 'train_loss': 0.8483527849117914, 'epoch': 0.01, 'iter_time': 1.172349214553833, 'flops': 1404658986265.208, 'remaining_time': 0.0}\n"
     ]
    },
    {
     "data": {
      "application/vnd.jupyter.widget-view+json": {
       "model_id": "312c72ee7c8142378105387fe6d4bf91",
       "version_major": 2,
       "version_minor": 0
      },
      "text/plain": [
       "  0%|          | 0/100 [00:00<?, ?it/s]"
      ]
     },
     "metadata": {},
     "output_type": "display_data"
    },
    {
     "name": "stderr",
     "output_type": "stream",
     "text": [
      "2024-04-10 00:47:20,463 - DEBUG - utilities - Step (3) Logs: {'eval_loss': 5.045230388641357, 'eval_runtime': 7.2205, 'eval_samples_per_second': 13.849, 'eval_steps_per_second': 13.849, 'epoch': 0.01, 'iter_time': 4.787925362586975, 'flops': 343938289458.68115, 'remaining_time': 0.0}\n"
     ]
    },
    {
     "name": "stdout",
     "output_type": "stream",
     "text": [
      "Saved model to: ai_medical_0_20_1_adafactor_1_3_3\n",
      "Question input (test): Will Kalarchikai cure multiple ovarian cysts in PCOD?\n"
     ]
    },
    {
     "name": "stderr",
     "output_type": "stream",
     "text": [
      " 33%|███▎      | 4/12 [01:52<03:47, 28.48s/it]"
     ]
    },
    {
     "name": "stdout",
     "output_type": "stream",
     "text": [
      "Finetuned slightly model's answer: \n",
      "Hi. I hope this helps. I hope. For more information consult a urologist online --> urologist online --> urologist online --> urologist online --> urologist online --> urologist online --> urologist online --> urologist online --> urologist online --> urologist online --> urologist online --> urologist online --> urologist online --> urologist online --> urologist online --> urologist online --> urologist online --> urologist online --> urologist online --> urologist online --> urologist online --> urologist online --> urologist online --> urologist online --> urologist online --> urologist online --> urologist online --> urologist online --> urologist online --> urologist online --> urologist online --> urologist online --> urologist online --> urologist online --> urologist online --> urologist online --> urologist online --> urologist online --> urologist online --> urologist online --> urologist online --> urologist online --> urologist online --> urologist online --> urologist online --> urologist online --> urologist online --> urologist online --> urologist online --> urologist online --> urologist online --> urologist online --> urologist online --> urologist online --> urologist online --> urologist online --> urologist online --> urologist online --> urologist online --> urologist online --> urologist online --> urologist online --> urologist online --> urologist online --> urologist online --> urologist online --> urologist online --> urologist online --> urologist online --> urologist online --> urologist online --> urologist online --> urologist online --> urologist online --> urologist online --> urologist online --> urologist online --> urologist online --> urologist online --> urologist online --> urologist online --> urologist online --> urologist online --> urologist online --> urologist online --> urologist online --> urologist online --> urologist online --> urologist online --> urologist online --> urologist online --> urologist online --> urologist online --> urologist online --> urologist online --> urologist online --> urologist online --> urologist online --> urologist online --> urologist online --> urologist online --> urologist online --> urologist online --> urologist online --> urologist online --> urologist online --> urologist online --> urologist online --> urologist online --> urologist online --> urologist online --> urologist online --> urologist online --> urologist online --> urologist online --> urologist online --> urologist online --> urologist online --> urologist online --> urologist online --> urologist online --> urologist online --> urologist online --> urologist online --> urologist online --> urologist online --> urologist online --> urologist online --> urologist online --> urologist online --> urologist online --> urologist online --> urologist online --> urologist online --> urologist online --> urologist online --> urologist online --> urologist online --> urologist online --> urologist online --> urologist online --> urologist online --> urologist online --> urologist online --> urologist online --> urologist online --> urologist online --> urologist online --> urologist online --> urologist online --> urologist online --> urologist online --> urologist online --> urologist online --> urologist online --> urologist online --> urologist online --> urologist online --> urologist online --> urologist online --> urologist online --> urologist online --> urologist online --> urologist online --> urologist online --> urologist online --> urologist online --> urologist online --> urologist online --> urologist online --> urologist online --> urologist online --> urologist online --> urologist online --> urologist online --> urologist online --> urologist online --> urologist online --> urologist online --> urologist online --> urologist online --> urologist online --> urologist online --> urologist online --> urologist online --> urologist online --> urologist online --> urologist online --> urologist online --> urologist online --> urologist online --> urologist online --> urologist online --> urologist online --> urolog\n",
      "Target answer output (test): Hello. I just read your query. See Kalarachi Kai choornam is helpful in amenorrhea. As far as small cysts are concerned they are unmatured eggs which failed to induce menstrual cycle previously, as a result, they got collected in the ovary and they will remain in the ovary. Now, you have got your periods you can start trying for conception. But I advise you to do it under the supervision of a nearby gynecologist because egg size is important while conception and that you can know by ovulation study. Ovulation study is performed under the supervision of a gynecologist. For gall stones, surgical intervention is required generally. Medicine is not of much help.\n",
      "Cosine Similarity: 0.00167919353905566\n",
      "Deleted model folder: ai_medical_0_20_1_adafactor_1_3_3\n",
      "Using hyperparameters:\n",
      "learning_rate: 1e-05\n",
      "num_train_epochs: 1\n",
      "per_device_train_batch_size: 1\n",
      "optim: adafactor\n",
      "num_iterations: 1\n",
      "max_steps: 3\n",
      "gradient_accumulation_steps: 3\n",
      "Memory footprint 0.30687256 GB\n",
      "Flops 1646.750859264 GFLOPs\n"
     ]
    },
    {
     "data": {
      "application/vnd.jupyter.widget-view+json": {
       "model_id": "e741b44610034cf6ba1d827e99c973d1",
       "version_major": 2,
       "version_minor": 0
      },
      "text/plain": [
       "  0%|          | 0/3 [00:00<?, ?it/s]"
      ]
     },
     "metadata": {},
     "output_type": "display_data"
    },
    {
     "name": "stderr",
     "output_type": "stream",
     "text": [
      "2024-04-10 00:47:40,495 - DEBUG - utilities - Step (1) Logs: {'loss': 1.9657, 'learning_rate': 1e-05, 'epoch': 0.0, 'iter_time': 0.0, 'flops': 0.0, 'remaining_time': 0.0}\n",
      " 33%|███▎      | 4/12 [01:53<03:47, 28.48s/it]"
     ]
    },
    {
     "name": "stdout",
     "output_type": "stream",
     "text": [
      "{'loss': 1.9657, 'learning_rate': 1e-05, 'epoch': 0.0, 'iter_time': 0.0, 'flops': 0.0, 'remaining_time': 0.0}\n"
     ]
    },
    {
     "name": "stderr",
     "output_type": "stream",
     "text": [
      "2024-04-10 00:47:41,937 - DEBUG - utilities - Step (2) Logs: {'loss': 0.0543, 'learning_rate': 5e-06, 'epoch': 0.01, 'iter_time': 1.441634178161621, 'flops': 1142280673009.532, 'remaining_time': 1.441634178161621}\n",
      " 33%|███▎      | 4/12 [01:55<03:47, 28.48s/it]"
     ]
    },
    {
     "name": "stdout",
     "output_type": "stream",
     "text": [
      "{'loss': 0.0543, 'learning_rate': 5e-06, 'epoch': 0.01, 'iter_time': 1.441634178161621, 'flops': 1142280673009.532, 'remaining_time': 1.441634178161621}\n"
     ]
    },
    {
     "name": "stderr",
     "output_type": "stream",
     "text": [
      "2024-04-10 00:47:42,890 - DEBUG - utilities - Step (3) Logs: {'loss': 0.4575, 'learning_rate': 0.0, 'epoch': 0.01, 'iter_time': 1.1973742246627808, 'flops': 1375301743886.944, 'remaining_time': 0.0}\n",
      " 33%|███▎      | 4/12 [01:56<03:47, 28.48s/it]2024-04-10 00:47:42,896 - DEBUG - utilities - Step (3) Logs: {'train_runtime': 3.5092, 'train_samples_per_second': 2.565, 'train_steps_per_second': 0.855, 'total_flos': 138837393408.0, 'train_loss': 0.8258359382549921, 'epoch': 0.01, 'iter_time': 1.2001574039459229, 'flops': 1372112402797.9583, 'remaining_time': 0.0}\n",
      " 33%|███▎      | 4/12 [01:56<03:47, 28.48s/it]"
     ]
    },
    {
     "name": "stdout",
     "output_type": "stream",
     "text": [
      "{'loss': 0.4575, 'learning_rate': 0.0, 'epoch': 0.01, 'iter_time': 1.1973742246627808, 'flops': 1375301743886.944, 'remaining_time': 0.0}\n",
      "{'train_runtime': 3.5092, 'train_samples_per_second': 2.565, 'train_steps_per_second': 0.855, 'train_loss': 0.8258359382549921, 'epoch': 0.01, 'iter_time': 1.2001574039459229, 'flops': 1372112402797.9583, 'remaining_time': 0.0}\n"
     ]
    },
    {
     "data": {
      "application/vnd.jupyter.widget-view+json": {
       "model_id": "e659dda0cb41417882030d2c5c635c8f",
       "version_major": 2,
       "version_minor": 0
      },
      "text/plain": [
       "  0%|          | 0/100 [00:00<?, ?it/s]"
      ]
     },
     "metadata": {},
     "output_type": "display_data"
    },
    {
     "name": "stderr",
     "output_type": "stream",
     "text": [
      "2024-04-10 00:47:50,133 - DEBUG - utilities - Step (3) Logs: {'eval_loss': 5.114405632019043, 'eval_runtime': 7.2338, 'eval_samples_per_second': 13.824, 'eval_steps_per_second': 13.824, 'epoch': 0.01, 'iter_time': 4.818583726882935, 'flops': 341749973146.0009, 'remaining_time': 0.0}\n"
     ]
    },
    {
     "name": "stdout",
     "output_type": "stream",
     "text": [
      "Saved model to: ai_medical_0_1_1_adafactor_1_3_3\n",
      "Question input (test): Will Kalarchikai cure multiple ovarian cysts in PCOD?\n"
     ]
    },
    {
     "name": "stderr",
     "output_type": "stream",
     "text": [
      " 42%|████▏     | 5/12 [02:21<03:21, 28.75s/it]"
     ]
    },
    {
     "name": "stdout",
     "output_type": "stream",
     "text": [
      "Finetuned slightly model's answer: \n",
      "Hi. For further information consult a urologist online --> urologist online --> urologist online --> urologist online --> urologist online --> urologist online --> urologist online --> urologist online --> urologist online --> urologist online --> urologist online --> urologist online --> urologist online --> urologist online --> urologist online --> urologist online --> urologist online --> urologist online --> urologist online --> urologist online --> urologist online --> urologist online --> urologist online --> urologist online --> urologist online --> urologist online --> urologist online --> urologist online --> urologist online --> urologist online --> urologist online --> urologist online --> urologist online --> urologist online --> urologist online --> urologist online --> urologist online --> urologist online --> urologist online --> urologist online --> urologist online --> urologist online --> urologist online --> urologist online --> urologist online --> urologist online --> urologist online --> urologist online --> urologist online --> urologist online --> urologist online --> urologist online --> urologist online --> urologist online --> urologist online --> urologist online --> urologist online --> urologist online --> urologist online --> urologist online --> urologist online --> urologist online --> urologist online --> urologist online --> urologist online --> urologist online --> urologist online --> urologist online --> urologist online --> urologist online --> urologist online --> urologist online --> urologist online --> urologist online --> urologist online --> urologist online --> urologist online --> urologist online --> urologist online --> urologist online --> urologist online --> urologist online --> urologist online --> urologist online --> urologist online --> urologist online --> urologist online --> urologist online --> urologist online --> urologist online --> urologist online --> urologist online --> urologist online --> urologist online --> urologist online --> urologist online --> urologist online --> urologist online --> urologist online --> urologist online --> urologist online --> urologist online --> urologist online --> urologist online --> urologist online --> urologist online --> urologist online --> urologist online --> urologist online --> urologist online --> urologist online --> urologist online --> urologist online --> urologist online --> urologist online --> urologist online --> urologist online --> urologist online --> urologist online --> urologist online --> urologist online --> urologist online --> urologist online --> urologist online --> urologist online --> urologist online --> urologist online --> urologist online --> urologist online --> urologist online --> urologist online --> urologist online --> urologist online --> urologist online --> urologist online --> urologist online --> urologist online --> urologist online --> urologist online --> urologist online --> urologist online --> urologist online --> urologist online --> urologist online --> urologist online --> urologist online --> urologist online --> urologist online --> urologist online --> urologist online --> urologist online --> urologist online --> urologist online --> urologist online --> urologist online --> urologist online --> urologist online --> urologist online --> urologist online --> urologist online --> urologist online --> urologist online --> urologist online --> urologist online --> urologist online --> urologist online --> urologist online --> urologist online --> urologist online --> urologist online --> urologist online --> urologist online --> urologist online --> urologist online --> urologist online --> urologist online --> urologist online --> urologist online --> urologist online --> urologist online --> urologist online --> urologist online --> urologist online --> urologist online --> urologist online --> urologist online --> urologist online --> urologist online --> urologist online --> urologist online --> urologist online --> urologist online --> urologist online --> urologist online --> urologist online --> urologist online -->\n",
      "Target answer output (test): Hello. I just read your query. See Kalarachi Kai choornam is helpful in amenorrhea. As far as small cysts are concerned they are unmatured eggs which failed to induce menstrual cycle previously, as a result, they got collected in the ovary and they will remain in the ovary. Now, you have got your periods you can start trying for conception. But I advise you to do it under the supervision of a nearby gynecologist because egg size is important while conception and that you can know by ovulation study. Ovulation study is performed under the supervision of a gynecologist. For gall stones, surgical intervention is required generally. Medicine is not of much help.\n",
      "Cosine Similarity: 0.0008310630225142716\n",
      "Deleted model folder: ai_medical_0_1_1_adafactor_1_3_3\n",
      "Using hyperparameters:\n",
      "learning_rate: 1e-05\n",
      "num_train_epochs: 5\n",
      "per_device_train_batch_size: 1\n",
      "optim: adafactor\n",
      "num_iterations: 1\n",
      "max_steps: 3\n",
      "gradient_accumulation_steps: 3\n",
      "Memory footprint 0.30687256 GB\n",
      "Flops 1646.750859264 GFLOPs\n"
     ]
    },
    {
     "data": {
      "application/vnd.jupyter.widget-view+json": {
       "model_id": "ea35821a8b2a4630b0122116962da574",
       "version_major": 2,
       "version_minor": 0
      },
      "text/plain": [
       "  0%|          | 0/3 [00:00<?, ?it/s]"
      ]
     },
     "metadata": {},
     "output_type": "display_data"
    },
    {
     "name": "stderr",
     "output_type": "stream",
     "text": [
      "2024-04-10 00:48:09,593 - DEBUG - utilities - Step (1) Logs: {'loss': 1.9532, 'learning_rate': 1e-05, 'epoch': 0.0, 'iter_time': 0.0, 'flops': 0.0, 'remaining_time': 0.0}\n",
      " 42%|████▏     | 5/12 [02:22<03:21, 28.75s/it]"
     ]
    },
    {
     "name": "stdout",
     "output_type": "stream",
     "text": [
      "{'loss': 1.9532, 'learning_rate': 1e-05, 'epoch': 0.0, 'iter_time': 0.0, 'flops': 0.0, 'remaining_time': 0.0}\n"
     ]
    },
    {
     "name": "stderr",
     "output_type": "stream",
     "text": [
      "2024-04-10 00:48:10,613 - DEBUG - utilities - Step (2) Logs: {'loss': 0.018, 'learning_rate': 5e-06, 'epoch': 0.01, 'iter_time': 1.0195214748382568, 'flops': 1615219394496.0803, 'remaining_time': 1.0195214748382568}\n",
      " 42%|████▏     | 5/12 [02:23<03:21, 28.75s/it]"
     ]
    },
    {
     "name": "stdout",
     "output_type": "stream",
     "text": [
      "{'loss': 0.018, 'learning_rate': 5e-06, 'epoch': 0.01, 'iter_time': 1.0195214748382568, 'flops': 1615219394496.0803, 'remaining_time': 1.0195214748382568}\n"
     ]
    },
    {
     "name": "stderr",
     "output_type": "stream",
     "text": [
      "2024-04-10 00:48:11,561 - DEBUG - utilities - Step (3) Logs: {'loss': 0.3155, 'learning_rate': 0.0, 'epoch': 0.01, 'iter_time': 0.9838923215866089, 'flops': 1673710448932.5378, 'remaining_time': 0.0}\n",
      " 42%|████▏     | 5/12 [02:24<03:21, 28.75s/it]2024-04-10 00:48:11,565 - DEBUG - utilities - Step (3) Logs: {'train_runtime': 2.9214, 'train_samples_per_second': 3.081, 'train_steps_per_second': 1.027, 'total_flos': 138837393408.0, 'train_loss': 0.7622621109088262, 'epoch': 0.01, 'iter_time': 0.985892653465271, 'flops': 1670314565663.825, 'remaining_time': 0.0}\n",
      " 42%|████▏     | 5/12 [02:24<03:21, 28.75s/it]"
     ]
    },
    {
     "name": "stdout",
     "output_type": "stream",
     "text": [
      "{'loss': 0.3155, 'learning_rate': 0.0, 'epoch': 0.01, 'iter_time': 0.9838923215866089, 'flops': 1673710448932.5378, 'remaining_time': 0.0}\n",
      "{'train_runtime': 2.9214, 'train_samples_per_second': 3.081, 'train_steps_per_second': 1.027, 'train_loss': 0.7622621109088262, 'epoch': 0.01, 'iter_time': 0.985892653465271, 'flops': 1670314565663.825, 'remaining_time': 0.0}\n"
     ]
    },
    {
     "data": {
      "application/vnd.jupyter.widget-view+json": {
       "model_id": "0fa470db79c84f2d933640764df697d4",
       "version_major": 2,
       "version_minor": 0
      },
      "text/plain": [
       "  0%|          | 0/100 [00:00<?, ?it/s]"
      ]
     },
     "metadata": {},
     "output_type": "display_data"
    },
    {
     "name": "stderr",
     "output_type": "stream",
     "text": [
      "2024-04-10 00:48:19,277 - DEBUG - utilities - Step (3) Logs: {'eval_loss': 5.286815166473389, 'eval_runtime': 7.699, 'eval_samples_per_second': 12.989, 'eval_steps_per_second': 12.989, 'epoch': 0.01, 'iter_time': 4.841697335243225, 'flops': 340118504987.3165, 'remaining_time': 0.0}\n"
     ]
    },
    {
     "name": "stdout",
     "output_type": "stream",
     "text": [
      "Saved model to: ai_medical_0_5_1_adafactor_1_3_3\n",
      "Question input (test): Will Kalarchikai cure multiple ovarian cysts in PCOD?\n"
     ]
    },
    {
     "name": "stderr",
     "output_type": "stream",
     "text": [
      " 50%|█████     | 6/12 [02:50<02:52, 28.75s/it]"
     ]
    },
    {
     "name": "stdout",
     "output_type": "stream",
     "text": [
      "Finetuned slightly model's answer: \n",
      "Hi. For further information consult a urologist online --> urologist online --> urologist online --> urologist online --> urologist online --> urologist online --> urologist online --> urologist online --> urologist online --> urologist online --> urologist online --> urologist online --> urologist online --> urologist online --> urologist online --> urologist online --> urologist online --> urologist online --> urologist online --> urologist online --> urologist online --> urologist online --> urologist online --> urologist online --> urologist online --> urologist online --> urologist online --> urologist online --> urologist online --> urologist online --> urologist online --> urologist online --> urologist online --> urologist online --> urologist online --> urologist online --> urologist online --> urologist online --> urologist online --> urologist online --> urologist online --> urologist online --> urologist online --> urologist online --> urologist online --> urologist online --> urologist online --> urologist online --> urologist online --> urologist online --> urologist online --> urologist online --> urologist online --> urologist online --> urologist online --> urologist online --> urologist online --> urologist online --> urologist online --> urologist online --> urologist online --> urologist online --> urologist online --> urologist online --> urologist online --> urologist online --> urologist online --> urologist online --> urologist online --> urologist online --> urologist online --> urologist online --> urologist online --> urologist online --> urologist online --> urologist online --> urologist online --> urologist online --> urologist online --> urologist online --> urologist online --> urologist online --> urologist online --> urologist online --> urologist online --> urologist online --> urologist online --> urologist online --> urologist online --> urologist online --> urologist online --> urologist online --> urologist online --> urologist online --> urologist online --> urologist online --> urologist online --> urologist online --> urologist online --> urologist online --> urologist online --> urologist online --> urologist online --> urologist online --> urologist online --> urologist online --> urologist online --> urologist online --> urologist online --> urologist online --> urologist online --> urologist online --> urologist online --> urologist online --> urologist online --> urologist online --> urologist online --> urologist online --> urologist online --> urologist online --> urologist online --> urologist online --> urologist online --> urologist online --> urologist online --> urologist online --> urologist online --> urologist online --> urologist online --> urologist online --> urologist online --> urologist online --> urologist online --> urologist online --> urologist online --> urologist online --> urologist online --> urologist online --> urologist online --> urologist online --> urologist online --> urologist online --> urologist online --> urologist online --> urologist online --> urologist online --> urologist online --> urologist online --> urologist online --> urologist online --> urologist online --> urologist online --> urologist online --> urologist online --> urologist online --> urologist online --> urologist online --> urologist online --> urologist online --> urologist online --> urologist online --> urologist online --> urologist online --> urologist online --> urologist online --> urologist online --> urologist online --> urologist online --> urologist online --> urologist online --> urologist online --> urologist online --> urologist online --> urologist online --> urologist online --> urologist online --> urologist online --> urologist online --> urologist online --> urologist online --> urologist online --> urologist online --> urologist online --> urologist online --> urologist online --> urologist online --> urologist online --> urologist online --> urologist online --> urologist online --> urologist online --> urologist online --> urologist online --> urologist online --> urologist online --> urologist online -->\n",
      "Target answer output (test): Hello. I just read your query. See Kalarachi Kai choornam is helpful in amenorrhea. As far as small cysts are concerned they are unmatured eggs which failed to induce menstrual cycle previously, as a result, they got collected in the ovary and they will remain in the ovary. Now, you have got your periods you can start trying for conception. But I advise you to do it under the supervision of a nearby gynecologist because egg size is important while conception and that you can know by ovulation study. Ovulation study is performed under the supervision of a gynecologist. For gall stones, surgical intervention is required generally. Medicine is not of much help.\n",
      "Cosine Similarity: 0.0008310630225142716\n",
      "Deleted model folder: ai_medical_0_5_1_adafactor_1_3_3\n",
      "Using hyperparameters:\n",
      "learning_rate: 1e-05\n",
      "num_train_epochs: 10\n",
      "per_device_train_batch_size: 1\n",
      "optim: adafactor\n",
      "num_iterations: 1\n",
      "max_steps: 3\n",
      "gradient_accumulation_steps: 3\n",
      "Memory footprint 0.30687256 GB\n",
      "Flops 1646.750859264 GFLOPs\n"
     ]
    },
    {
     "data": {
      "application/vnd.jupyter.widget-view+json": {
       "model_id": "775d324e9e8148cfaae3e81cdac40deb",
       "version_major": 2,
       "version_minor": 0
      },
      "text/plain": [
       "  0%|          | 0/3 [00:00<?, ?it/s]"
      ]
     },
     "metadata": {},
     "output_type": "display_data"
    },
    {
     "name": "stderr",
     "output_type": "stream",
     "text": [
      "2024-04-10 00:48:38,326 - DEBUG - utilities - Step (1) Logs: {'loss': 2.0627, 'learning_rate': 1e-05, 'epoch': 0.0, 'iter_time': 0.0, 'flops': 0.0, 'remaining_time': 0.0}\n",
      " 50%|█████     | 6/12 [02:51<02:52, 28.75s/it]"
     ]
    },
    {
     "name": "stdout",
     "output_type": "stream",
     "text": [
      "{'loss': 2.0627, 'learning_rate': 1e-05, 'epoch': 0.0, 'iter_time': 0.0, 'flops': 0.0, 'remaining_time': 0.0}\n"
     ]
    },
    {
     "name": "stderr",
     "output_type": "stream",
     "text": [
      "2024-04-10 00:48:39,323 - DEBUG - utilities - Step (2) Logs: {'loss': 0.006, 'learning_rate': 5e-06, 'epoch': 0.01, 'iter_time': 0.9977412223815918, 'flops': 1650478924117.451, 'remaining_time': 0.9977412223815918}\n",
      " 50%|█████     | 6/12 [02:52<02:52, 28.75s/it]"
     ]
    },
    {
     "name": "stdout",
     "output_type": "stream",
     "text": [
      "{'loss': 0.006, 'learning_rate': 5e-06, 'epoch': 0.01, 'iter_time': 0.9977412223815918, 'flops': 1650478924117.451, 'remaining_time': 0.9977412223815918}\n"
     ]
    },
    {
     "name": "stderr",
     "output_type": "stream",
     "text": [
      "2024-04-10 00:48:40,361 - DEBUG - utilities - Step (3) Logs: {'loss': 0.2166, 'learning_rate': 0.0, 'epoch': 0.01, 'iter_time': 1.017417550086975, 'flops': 1618559517794.0715, 'remaining_time': 0.0}\n",
      " 50%|█████     | 6/12 [02:53<02:52, 28.75s/it]2024-04-10 00:48:40,365 - DEBUG - utilities - Step (3) Logs: {'train_runtime': 2.9775, 'train_samples_per_second': 3.023, 'train_steps_per_second': 1.008, 'total_flos': 138837393408.0, 'train_loss': 0.761745855367432, 'epoch': 0.01, 'iter_time': 1.0197519063949585, 'flops': 1614854406191.4207, 'remaining_time': 0.0}\n",
      " 50%|█████     | 6/12 [02:53<02:52, 28.75s/it]"
     ]
    },
    {
     "name": "stdout",
     "output_type": "stream",
     "text": [
      "{'loss': 0.2166, 'learning_rate': 0.0, 'epoch': 0.01, 'iter_time': 1.017417550086975, 'flops': 1618559517794.0715, 'remaining_time': 0.0}\n",
      "{'train_runtime': 2.9775, 'train_samples_per_second': 3.023, 'train_steps_per_second': 1.008, 'train_loss': 0.761745855367432, 'epoch': 0.01, 'iter_time': 1.0197519063949585, 'flops': 1614854406191.4207, 'remaining_time': 0.0}\n"
     ]
    },
    {
     "data": {
      "application/vnd.jupyter.widget-view+json": {
       "model_id": "2c46ffbbf72e423fbaafe0e0162e9c79",
       "version_major": 2,
       "version_minor": 0
      },
      "text/plain": [
       "  0%|          | 0/100 [00:00<?, ?it/s]"
      ]
     },
     "metadata": {},
     "output_type": "display_data"
    },
    {
     "name": "stderr",
     "output_type": "stream",
     "text": [
      "2024-04-10 00:48:47,677 - DEBUG - utilities - Step (3) Logs: {'eval_loss': 5.487520694732666, 'eval_runtime': 7.3058, 'eval_samples_per_second': 13.688, 'eval_steps_per_second': 13.688, 'epoch': 0.01, 'iter_time': 4.6754971742630005, 'flops': 352208716610.6731, 'remaining_time': 0.0}\n"
     ]
    },
    {
     "name": "stdout",
     "output_type": "stream",
     "text": [
      "Saved model to: ai_medical_0_10_1_adafactor_1_3_3\n",
      "Question input (test): Will Kalarchikai cure multiple ovarian cysts in PCOD?\n"
     ]
    },
    {
     "name": "stderr",
     "output_type": "stream",
     "text": [
      " 58%|█████▊    | 7/12 [03:18<02:23, 28.68s/it]"
     ]
    },
    {
     "name": "stdout",
     "output_type": "stream",
     "text": [
      "Finetuned slightly model's answer: \n",
      "Hi. For further information consult a urologist online --> urologist online --> urologist online --> urologist online --> urologist online --> urologist online --> urologist online --> urologist online --> urologist online --> urologist online --> urologist online --> urologist online --> urologist online --> urologist online --> urologist online --> urologist online --> urologist online --> urologist online --> urologist online --> urologist online --> urologist online --> urologist online --> urologist online --> urologist online --> urologist online --> urologist online --> urologist online --> urologist online --> urologist online --> urologist online --> urologist online --> urologist online --> urologist online --> urologist online --> urologist online --> urologist online --> urologist online --> urologist online --> urologist online --> urologist online --> urologist online --> urologist online --> urologist online --> urologist online --> urologist online --> urologist online --> urologist online --> urologist online --> urologist online --> urologist online --> urologist online --> urologist online --> urologist online --> urologist online --> urologist online --> urologist online --> urologist online --> urologist online --> urologist online --> urologist online --> urologist online --> urologist online --> urologist online --> urologist online --> urologist online --> urologist online --> urologist online --> urologist online --> urologist online --> urologist online --> urologist online --> urologist online --> urologist online --> urologist online --> urologist online --> urologist online --> urologist online --> urologist online --> urologist online --> urologist online --> urologist online --> urologist online --> urologist online --> urologist online --> urologist online --> urologist online --> urologist online --> urologist online --> urologist online --> urologist online --> urologist online --> urologist online --> urologist online --> urologist online --> urologist online --> urologist online --> urologist online --> urologist online --> urologist online --> urologist online --> urologist online --> urologist online --> urologist online --> urologist online --> urologist online --> urologist online --> urologist online --> urologist online --> urologist online --> urologist online --> urologist online --> urologist online --> urologist online --> urologist online --> urologist online --> urologist online --> urologist online --> urologist online --> urologist online --> urologist online --> urologist online --> urologist online --> urologist online --> urologist online --> urologist online --> urologist online --> urologist online --> urologist online --> urologist online --> urologist online --> urologist online --> urologist online --> urologist online --> urologist online --> urologist online --> urologist online --> urologist online --> urologist online --> urologist online --> urologist online --> urologist online --> urologist online --> urologist online --> urologist online --> urologist online --> urologist online --> urologist online --> urologist online --> urologist online --> urologist online --> urologist online --> urologist online --> urologist online --> urologist online --> urologist online --> urologist online --> urologist online --> urologist online --> urologist online --> urologist online --> urologist online --> urologist online --> urologist online --> urologist online --> urologist online --> urologist online --> urologist online --> urologist online --> urologist online --> urologist online --> urologist online --> urologist online --> urologist online --> urologist online --> urologist online --> urologist online --> urologist online --> urologist online --> urologist online --> urologist online --> urologist online --> urologist online --> urologist online --> urologist online --> urologist online --> urologist online --> urologist online --> urologist online --> urologist online --> urologist online --> urologist online --> urologist online --> urologist online --> urologist online --> urologist online --> urologist online -->\n",
      "Target answer output (test): Hello. I just read your query. See Kalarachi Kai choornam is helpful in amenorrhea. As far as small cysts are concerned they are unmatured eggs which failed to induce menstrual cycle previously, as a result, they got collected in the ovary and they will remain in the ovary. Now, you have got your periods you can start trying for conception. But I advise you to do it under the supervision of a nearby gynecologist because egg size is important while conception and that you can know by ovulation study. Ovulation study is performed under the supervision of a gynecologist. For gall stones, surgical intervention is required generally. Medicine is not of much help.\n",
      "Cosine Similarity: 0.0008310630225142716\n",
      "Deleted model folder: ai_medical_0_10_1_adafactor_1_3_3\n",
      "Using hyperparameters:\n",
      "learning_rate: 1e-05\n",
      "num_train_epochs: 20\n",
      "per_device_train_batch_size: 1\n",
      "optim: adafactor\n",
      "num_iterations: 1\n",
      "max_steps: 3\n",
      "gradient_accumulation_steps: 3\n",
      "Memory footprint 0.30687256 GB\n",
      "Flops 1646.750859264 GFLOPs\n"
     ]
    },
    {
     "data": {
      "application/vnd.jupyter.widget-view+json": {
       "model_id": "60027f8c835742038a43f71f0a113c52",
       "version_major": 2,
       "version_minor": 0
      },
      "text/plain": [
       "  0%|          | 0/3 [00:00<?, ?it/s]"
      ]
     },
     "metadata": {},
     "output_type": "display_data"
    },
    {
     "name": "stderr",
     "output_type": "stream",
     "text": [
      "2024-04-10 00:49:06,937 - DEBUG - utilities - Step (1) Logs: {'loss': 2.2454, 'learning_rate': 1e-05, 'epoch': 0.0, 'iter_time': 0.0, 'flops': 0.0, 'remaining_time': 0.0}\n",
      " 58%|█████▊    | 7/12 [03:20<02:23, 28.68s/it]"
     ]
    },
    {
     "name": "stdout",
     "output_type": "stream",
     "text": [
      "{'loss': 2.2454, 'learning_rate': 1e-05, 'epoch': 0.0, 'iter_time': 0.0, 'flops': 0.0, 'remaining_time': 0.0}\n"
     ]
    },
    {
     "name": "stderr",
     "output_type": "stream",
     "text": [
      "2024-04-10 00:49:07,932 - DEBUG - utilities - Step (2) Logs: {'loss': 0.0023, 'learning_rate': 5e-06, 'epoch': 0.01, 'iter_time': 0.9950664043426514, 'flops': 1654915543402.2078, 'remaining_time': 0.9950664043426514}\n",
      " 58%|█████▊    | 7/12 [03:21<02:23, 28.68s/it]"
     ]
    },
    {
     "name": "stdout",
     "output_type": "stream",
     "text": [
      "{'loss': 0.0023, 'learning_rate': 5e-06, 'epoch': 0.01, 'iter_time': 0.9950664043426514, 'flops': 1654915543402.2078, 'remaining_time': 0.9950664043426514}\n"
     ]
    },
    {
     "name": "stderr",
     "output_type": "stream",
     "text": [
      "2024-04-10 00:49:08,836 - DEBUG - utilities - Step (3) Logs: {'loss': 0.1482, 'learning_rate': 0.0, 'epoch': 0.01, 'iter_time': 0.9497909545898438, 'flops': 1733803476760.9788, 'remaining_time': 0.0}\n",
      " 58%|█████▊    | 7/12 [03:22<02:23, 28.68s/it]2024-04-10 00:49:08,844 - DEBUG - utilities - Step (3) Logs: {'train_runtime': 2.937, 'train_samples_per_second': 3.064, 'train_steps_per_second': 1.021, 'total_flos': 138837393408.0, 'train_loss': 0.7986486177736273, 'epoch': 0.01, 'iter_time': 0.953488826751709, 'flops': 1727079345936.3926, 'remaining_time': 0.0}\n",
      " 58%|█████▊    | 7/12 [03:22<02:23, 28.68s/it]"
     ]
    },
    {
     "name": "stdout",
     "output_type": "stream",
     "text": [
      "{'loss': 0.1482, 'learning_rate': 0.0, 'epoch': 0.01, 'iter_time': 0.9497909545898438, 'flops': 1733803476760.9788, 'remaining_time': 0.0}\n",
      "{'train_runtime': 2.937, 'train_samples_per_second': 3.064, 'train_steps_per_second': 1.021, 'train_loss': 0.7986486177736273, 'epoch': 0.01, 'iter_time': 0.953488826751709, 'flops': 1727079345936.3926, 'remaining_time': 0.0}\n"
     ]
    },
    {
     "data": {
      "application/vnd.jupyter.widget-view+json": {
       "model_id": "2fa4151ce161471e9c68d9d31ce237c4",
       "version_major": 2,
       "version_minor": 0
      },
      "text/plain": [
       "  0%|          | 0/100 [00:00<?, ?it/s]"
      ]
     },
     "metadata": {},
     "output_type": "display_data"
    },
    {
     "name": "stderr",
     "output_type": "stream",
     "text": [
      "2024-04-10 00:49:16,001 - DEBUG - utilities - Step (3) Logs: {'eval_loss': 5.758787631988525, 'eval_runtime': 7.1479, 'eval_samples_per_second': 13.99, 'eval_steps_per_second': 13.99, 'epoch': 0.01, 'iter_time': 4.532010436058044, 'flops': 363359900092.45184, 'remaining_time': 0.0}\n"
     ]
    },
    {
     "name": "stdout",
     "output_type": "stream",
     "text": [
      "Saved model to: ai_medical_0_20_1_adafactor_1_3_3\n",
      "Question input (test): Will Kalarchikai cure multiple ovarian cysts in PCOD?\n"
     ]
    },
    {
     "name": "stderr",
     "output_type": "stream",
     "text": [
      " 67%|██████▋   | 8/12 [03:47<01:54, 28.58s/it]"
     ]
    },
    {
     "name": "stdout",
     "output_type": "stream",
     "text": [
      "Finetuned slightly model's answer: \n",
      "Hi. For further information consult a urologist online --> urologist online --> urologist online --> urologist online --> urologist online --> urologist online --> urologist online --> urologist online --> urologist online --> urologist online --> urologist online --> urologist online --> urologist online --> urologist online --> urologist online --> urologist online --> urologist online --> urologist online --> urologist online --> urologist online --> urologist online --> urologist online --> urologist online --> urologist online --> urologist online --> urologist online --> urologist online --> urologist online --> urologist online --> urologist online --> urologist online --> urologist online --> urologist online --> urologist online --> urologist online --> urologist online --> urologist online --> urologist online --> urologist online --> urologist online --> urologist online --> urologist online --> urologist online --> urologist online --> urologist online --> urologist online --> urologist online --> urologist online --> urologist online --> urologist online --> urologist online --> urologist online --> urologist online --> urologist online --> urologist online --> urologist online --> urologist online --> urologist online --> urologist online --> urologist online --> urologist online --> urologist online --> urologist online --> urologist online --> urologist online --> urologist online --> urologist online --> urologist online --> urologist online --> urologist online --> urologist online --> urologist online --> urologist online --> urologist online --> urologist online --> urologist online --> urologist online --> urologist online --> urologist online --> urologist online --> urologist online --> urologist online --> urologist online --> urologist online --> urologist online --> urologist online --> urologist online --> urologist online --> urologist online --> urologist online --> urologist online --> urologist online --> urologist online --> urologist online --> urologist online --> urologist online --> urologist online --> urologist online --> urologist online --> urologist online --> urologist online --> urologist online --> urologist online --> urologist online --> urologist online --> urologist online --> urologist online --> urologist online --> urologist online --> urologist online --> urologist online --> urologist online --> urologist online --> urologist online --> urologist online --> urologist online --> urologist online --> urologist online --> urologist online --> urologist online --> urologist online --> urologist online --> urologist online --> urologist online --> urologist online --> urologist online --> urologist online --> urologist online --> urologist online --> urologist online --> urologist online --> urologist online --> urologist online --> urologist online --> urologist online --> urologist online --> urologist online --> urologist online --> urologist online --> urologist online --> urologist online --> urologist online --> urologist online --> urologist online --> urologist online --> urologist online --> urologist online --> urologist online --> urologist online --> urologist online --> urologist online --> urologist online --> urologist online --> urologist online --> urologist online --> urologist online --> urologist online --> urologist online --> urologist online --> urologist online --> urologist online --> urologist online --> urologist online --> urologist online --> urologist online --> urologist online --> urologist online --> urologist online --> urologist online --> urologist online --> urologist online --> urologist online --> urologist online --> urologist online --> urologist online --> urologist online --> urologist online --> urologist online --> urologist online --> urologist online --> urologist online --> urologist online --> urologist online --> urologist online --> urologist online --> urologist online --> urologist online --> urologist online --> urologist online --> urologist online --> urologist online --> urologist online --> urologist online --> urologist online --> urologist online --> urologist online -->\n",
      "Target answer output (test): Hello. I just read your query. See Kalarachi Kai choornam is helpful in amenorrhea. As far as small cysts are concerned they are unmatured eggs which failed to induce menstrual cycle previously, as a result, they got collected in the ovary and they will remain in the ovary. Now, you have got your periods you can start trying for conception. But I advise you to do it under the supervision of a nearby gynecologist because egg size is important while conception and that you can know by ovulation study. Ovulation study is performed under the supervision of a gynecologist. For gall stones, surgical intervention is required generally. Medicine is not of much help.\n",
      "Cosine Similarity: 0.0008310630225142716\n",
      "Deleted model folder: ai_medical_0_20_1_adafactor_1_3_3\n",
      "Using hyperparameters:\n",
      "learning_rate: 0.0001\n",
      "num_train_epochs: 1\n",
      "per_device_train_batch_size: 1\n",
      "optim: adafactor\n",
      "num_iterations: 1\n",
      "max_steps: 3\n",
      "gradient_accumulation_steps: 3\n",
      "Memory footprint 0.30687256 GB\n",
      "Flops 1646.750859264 GFLOPs\n"
     ]
    },
    {
     "data": {
      "application/vnd.jupyter.widget-view+json": {
       "model_id": "527cda8b5fea40d29faa594d1a389eb8",
       "version_major": 2,
       "version_minor": 0
      },
      "text/plain": [
       "  0%|          | 0/3 [00:00<?, ?it/s]"
      ]
     },
     "metadata": {},
     "output_type": "display_data"
    },
    {
     "name": "stderr",
     "output_type": "stream",
     "text": [
      "2024-04-10 00:49:35,256 - DEBUG - utilities - Step (1) Logs: {'loss': 2.4995, 'learning_rate': 0.0001, 'epoch': 0.0, 'iter_time': 0.0, 'flops': 0.0, 'remaining_time': 0.0}\n",
      " 67%|██████▋   | 8/12 [03:48<01:54, 28.58s/it]"
     ]
    },
    {
     "name": "stdout",
     "output_type": "stream",
     "text": [
      "{'loss': 2.4995, 'learning_rate': 0.0001, 'epoch': 0.0, 'iter_time': 0.0, 'flops': 0.0, 'remaining_time': 0.0}\n"
     ]
    },
    {
     "name": "stderr",
     "output_type": "stream",
     "text": [
      "2024-04-10 00:49:36,246 - DEBUG - utilities - Step (2) Logs: {'loss': 0.0007, 'learning_rate': 5e-05, 'epoch': 0.01, 'iter_time': 0.9897608757019043, 'flops': 1663786576829.662, 'remaining_time': 0.9897608757019043}\n",
      " 67%|██████▋   | 8/12 [03:49<01:54, 28.58s/it]"
     ]
    },
    {
     "name": "stdout",
     "output_type": "stream",
     "text": [
      "{'loss': 0.0007, 'learning_rate': 5e-05, 'epoch': 0.01, 'iter_time': 0.9897608757019043, 'flops': 1663786576829.662, 'remaining_time': 0.9897608757019043}\n"
     ]
    },
    {
     "name": "stderr",
     "output_type": "stream",
     "text": [
      "2024-04-10 00:49:37,300 - DEBUG - utilities - Step (3) Logs: {'loss': 0.2846, 'learning_rate': 0.0, 'epoch': 0.01, 'iter_time': 1.0217208862304688, 'flops': 1611742386259.2388, 'remaining_time': 0.0}\n",
      " 67%|██████▋   | 8/12 [03:50<01:54, 28.58s/it]2024-04-10 00:49:37,304 - DEBUG - utilities - Step (3) Logs: {'train_runtime': 2.9638, 'train_samples_per_second': 3.037, 'train_steps_per_second': 1.012, 'total_flos': 138837393408.0, 'train_loss': 0.9282836966061344, 'epoch': 0.01, 'iter_time': 1.0236912965774536, 'flops': 1608640089809.9314, 'remaining_time': 0.0}\n",
      " 67%|██████▋   | 8/12 [03:50<01:54, 28.58s/it]"
     ]
    },
    {
     "name": "stdout",
     "output_type": "stream",
     "text": [
      "{'loss': 0.2846, 'learning_rate': 0.0, 'epoch': 0.01, 'iter_time': 1.0217208862304688, 'flops': 1611742386259.2388, 'remaining_time': 0.0}\n",
      "{'train_runtime': 2.9638, 'train_samples_per_second': 3.037, 'train_steps_per_second': 1.012, 'train_loss': 0.9282836966061344, 'epoch': 0.01, 'iter_time': 1.0236912965774536, 'flops': 1608640089809.9314, 'remaining_time': 0.0}\n"
     ]
    },
    {
     "data": {
      "application/vnd.jupyter.widget-view+json": {
       "model_id": "1223ea1ac24d46b3af6bff7743e92ffa",
       "version_major": 2,
       "version_minor": 0
      },
      "text/plain": [
       "  0%|          | 0/100 [00:00<?, ?it/s]"
      ]
     },
     "metadata": {},
     "output_type": "display_data"
    },
    {
     "name": "stderr",
     "output_type": "stream",
     "text": [
      "2024-04-10 00:49:44,684 - DEBUG - utilities - Step (3) Logs: {'eval_loss': 6.872220993041992, 'eval_runtime': 7.3712, 'eval_samples_per_second': 13.566, 'eval_steps_per_second': 13.566, 'epoch': 0.01, 'iter_time': 4.713533282279968, 'flops': 349366549601.92737, 'remaining_time': 0.0}\n"
     ]
    },
    {
     "name": "stdout",
     "output_type": "stream",
     "text": [
      "Saved model to: ai_medical_0_1_1_adafactor_1_3_3\n",
      "Question input (test): Will Kalarchikai cure multiple ovarian cysts in PCOD?\n"
     ]
    },
    {
     "name": "stderr",
     "output_type": "stream",
     "text": [
      " 75%|███████▌  | 9/12 [04:16<01:26, 28.72s/it]"
     ]
    },
    {
     "name": "stdout",
     "output_type": "stream",
     "text": [
      "Finetuned slightly model's answer: \n",
      "Hi. I went through all the information and reports. I hope I answered your questions. Please feel free to ask me if there is any doubt in this regard. Please feel free to ask me if there is any doubt in this regard. Please feel free to ask me if there is any doubt in this regard. Please feel free to ask me if there is any doubt in this regard. Please feel free to ask me if there is any doubt in this regard. Please feel free to ask me if there is any doubt in this regard. Please feel free to ask me if there is any doubt in this regard. Please feel free to ask me if there is any doubt in this regard. Please feel free to ask me if there is any doubt in this regard. Please feel free to ask me if there is any doubt in this regard. Please feel free to ask me if there is any doubt in this regard. Please feel free to ask me if there is any doubt in this regard. Please feel free to ask me if there is any doubt in this regard. Please feel free to ask me if there is any doubt in this regard. Please feel free to ask me if there is any doubt in this regard. Please feel free to ask me if there is any doubt in this regard. Please feel free to ask me if there is any doubt in this regard. Please feel free to ask me if there is any doubt in this regard. Please feel free to ask me if there is any doubt in this regard. Please feel free to ask me if there is any doubt in this regard. Please feel free to ask me if there is any doubt in this regard. Please feel free to ask me if there is any doubt in this regard. Please feel free to ask me if there is any doubt in this regard. Please feel free to ask me if there is any doubt in this regard. Please feel free to ask me if there is any doubts in this regard. Please feel free to ask me if there is any doubt in this regard. Please feel free to ask me if there is any doubt in this regard. Please feel free to ask me if there is any doubt in this regard. Please feel free to ask me if there is any doubts in this regard. Please feel free to ask me if there is any doubts in this regard. Please feel free to ask me if there is any doubts in this regard. Please feel free to ask me if there is any doubts in this regard. Please feel free to ask me if there is any doubts in this regard. Please feel free to ask me if there is any doubts in this regard. Please feel free to ask me if there is any doubts. Please feel free to ask me if there is any doubts. Please feel free to ask me if there is any doubts. Please feel free to ask me if there is any doubts. I feel isolated doubts. I feel isolated doubts. I feel isolated doubts. I feel isolated doubts. I feel isolated doubts. I feel isolated doubts. I feel isolated doubts. I feel isolated doubts. I feel isolated doubts. I feel isolated doubts. I feel isolated doubts. I feel isolated. I feel isolated. I feel isolated. I feel isolated. I feel isolated. I feel isolated. I feel isolated. I feel isolated. I feel isolated. I feel isolated. I feel isolated. I feel isolated. I feel isolated. I feel isolated. I feel isolated. I feel isolated. I feel isolated. I feel isolated. I feel isolated. I feel isolated. I feel isolated. I feel isolated. I feel isolated. I feel isolated. I feel isolated. I feel isolated. I feel isolated. I feel isolated. I feel isolated. I feel isolated. I feel isolated. I feel isolated. I feel isolated. I feel isolated. I feel isolated. I feel isolated. I feel isolated. I feel isolated. I feel isolated. I feel isolated. I feel isolated. I feel isolated. I feel isolated. I feel isolated. I feel isolated. I feel isolated. I feel isolated. I feel isolated. I feel isolated. I feel isolated. I feel isolated. I feel isolated. I feel isolated. I feel isolated. I feel isolated. I feel isolated. I feel isolated. I feel isolated. I feel isolated. I feel isolated. I feel isolated. I feel isolated. I feel isolated. I feel isolated. I feel isolated. I feel isolated. I feel isolated. I feel isolated. I feel isolated. I feel isolated. I feel isolated. I feel isolated. I feel isolated. I feel isolated. I feel isolated. I feel isolated. I feel isolated. I feel isolated. I feel isolated. I feel isolated. I feel isolated. I feel isolated. I feel isolated. I feel isolated. I feel isolated. I feel isolated. I feel isolated. I feel isolated. I feel isolated.\n",
      "Target answer output (test): Hello. I just read your query. See Kalarachi Kai choornam is helpful in amenorrhea. As far as small cysts are concerned they are unmatured eggs which failed to induce menstrual cycle previously, as a result, they got collected in the ovary and they will remain in the ovary. Now, you have got your periods you can start trying for conception. But I advise you to do it under the supervision of a nearby gynecologist because egg size is important while conception and that you can know by ovulation study. Ovulation study is performed under the supervision of a gynecologist. For gall stones, surgical intervention is required generally. Medicine is not of much help.\n",
      "Cosine Similarity: 0.17476631160556716\n",
      "Deleted model folder: ai_medical_0_1_1_adafactor_1_3_3\n",
      "Using hyperparameters:\n",
      "learning_rate: 0.0001\n",
      "num_train_epochs: 5\n",
      "per_device_train_batch_size: 1\n",
      "optim: adafactor\n",
      "num_iterations: 1\n",
      "max_steps: 3\n",
      "gradient_accumulation_steps: 3\n",
      "Memory footprint 0.30687256 GB\n",
      "Flops 1646.750859264 GFLOPs\n"
     ]
    },
    {
     "data": {
      "application/vnd.jupyter.widget-view+json": {
       "model_id": "e553c5d4e66b433a84400e1213a28809",
       "version_major": 2,
       "version_minor": 0
      },
      "text/plain": [
       "  0%|          | 0/3 [00:00<?, ?it/s]"
      ]
     },
     "metadata": {},
     "output_type": "display_data"
    },
    {
     "name": "stderr",
     "output_type": "stream",
     "text": [
      "2024-04-10 00:50:04,267 - DEBUG - utilities - Step (1) Logs: {'loss': 3.2258, 'learning_rate': 0.0001, 'epoch': 0.0, 'iter_time': 0.0, 'flops': 0.0, 'remaining_time': 0.0}\n",
      " 75%|███████▌  | 9/12 [04:17<01:26, 28.72s/it]"
     ]
    },
    {
     "name": "stdout",
     "output_type": "stream",
     "text": [
      "{'loss': 3.2258, 'learning_rate': 0.0001, 'epoch': 0.0, 'iter_time': 0.0, 'flops': 0.0, 'remaining_time': 0.0}\n"
     ]
    },
    {
     "name": "stderr",
     "output_type": "stream",
     "text": [
      "2024-04-10 00:50:05,266 - DEBUG - utilities - Step (2) Logs: {'loss': 0.581, 'learning_rate': 5e-05, 'epoch': 0.01, 'iter_time': 0.9989573955535889, 'flops': 1648469560958.0283, 'remaining_time': 0.9989573955535889}\n",
      " 75%|███████▌  | 9/12 [04:18<01:26, 28.72s/it]"
     ]
    },
    {
     "name": "stdout",
     "output_type": "stream",
     "text": [
      "{'loss': 0.581, 'learning_rate': 5e-05, 'epoch': 0.01, 'iter_time': 0.9989573955535889, 'flops': 1648469560958.0283, 'remaining_time': 0.9989573955535889}\n"
     ]
    },
    {
     "name": "stderr",
     "output_type": "stream",
     "text": [
      "2024-04-10 00:50:06,421 - DEBUG - utilities - Step (3) Logs: {'loss': 1.7818, 'learning_rate': 0.0, 'epoch': 0.01, 'iter_time': 1.0762925148010254, 'flops': 1530021659184.7576, 'remaining_time': 0.0}\n",
      " 75%|███████▌  | 9/12 [04:19<01:26, 28.72s/it]2024-04-10 00:50:06,423 - DEBUG - utilities - Step (3) Logs: {'train_runtime': 3.0947, 'train_samples_per_second': 2.908, 'train_steps_per_second': 0.969, 'total_flos': 138837393408.0, 'train_loss': 1.8628915150960286, 'epoch': 0.01, 'iter_time': 1.0778642892837524, 'flops': 1527790535075.8733, 'remaining_time': 0.0}\n",
      " 75%|███████▌  | 9/12 [04:19<01:26, 28.72s/it]"
     ]
    },
    {
     "name": "stdout",
     "output_type": "stream",
     "text": [
      "{'loss': 1.7818, 'learning_rate': 0.0, 'epoch': 0.01, 'iter_time': 1.0762925148010254, 'flops': 1530021659184.7576, 'remaining_time': 0.0}\n",
      "{'train_runtime': 3.0947, 'train_samples_per_second': 2.908, 'train_steps_per_second': 0.969, 'train_loss': 1.8628915150960286, 'epoch': 0.01, 'iter_time': 1.0778642892837524, 'flops': 1527790535075.8733, 'remaining_time': 0.0}\n"
     ]
    },
    {
     "data": {
      "application/vnd.jupyter.widget-view+json": {
       "model_id": "b35ca1519222443b94c7066efed2da39",
       "version_major": 2,
       "version_minor": 0
      },
      "text/plain": [
       "  0%|          | 0/100 [00:00<?, ?it/s]"
      ]
     },
     "metadata": {},
     "output_type": "display_data"
    },
    {
     "name": "stderr",
     "output_type": "stream",
     "text": [
      "2024-04-10 00:50:13,895 - DEBUG - utilities - Step (3) Logs: {'eval_loss': 6.2813639640808105, 'eval_runtime': 7.4569, 'eval_samples_per_second': 13.41, 'eval_steps_per_second': 13.41, 'epoch': 0.01, 'iter_time': 4.813565731048584, 'flops': 342106237096.148, 'remaining_time': 0.0}\n"
     ]
    },
    {
     "name": "stdout",
     "output_type": "stream",
     "text": [
      "Saved model to: ai_medical_0_5_1_adafactor_1_3_3\n",
      "Question input (test): Will Kalarchikai cure multiple ovarian cysts in PCOD?\n"
     ]
    },
    {
     "name": "stderr",
     "output_type": "stream",
     "text": [
      " 83%|████████▎ | 10/12 [04:46<00:58, 29.24s/it]"
     ]
    },
    {
     "name": "stdout",
     "output_type": "stream",
     "text": [
      "Finetuned slightly model's answer: \n",
      "Hi. For further information consult a urologist online --> urologist online --> urologist online --> urologist online --> urologist online --> urologist online --> urologist online --> urologist online --> urologist online --> urologist online --> urologist online --> urologist online --> urologist online --> urologist online --> urologist online --> urologist online --> urologist online --> urologist online --> urologist online --> urologist online --> urologist online --> urologist online --> urologist online --> urologist online --> urologist online --> urologist online --> urologist online --> urologist online --> urologist online --> urologist online --> urologist online --> urologist online --> urologist online --> urologist online --> urologist online --> urologist online --> urologist online --> urologist online --> urologist online --> urologist online --> urologist online --> urologist online --> urologist online --> urologist online --> urologist online --> urologist online --> urologist online --> urologist online --> urologist online --> urologist online --> urologist online --> urologist online --> urologist online --> urologist online --> urologist online --> urologist online --> urologist online --> urologist online --> urologist online --> urologist online --> urologist online --> urologist online --> urologist online --> urologist online --> urologist online --> urologist online --> urologist online --> urologist online --> urologist online --> urologist online --> urologist online --> urologist online --> urologist online --> urologist online --> urologist online --> urologist online --> urologist online --> urologist online --> urologist online --> urologist online --> urologist online --> urologist online --> urologist online --> urologist online --> urologist online --> urologist online --> urologist online --> urologist online --> urologist online --> urologist online --> urologist online --> urologist online --> urologist online --> urologist online --> urologist online --> urologist online --> urologist online --> urologist online --> urologist online --> urologist online --> urologist online --> urologist online --> urologist online --> urologist online --> urologist online --> urologist online --> urologist online --> urologist online --> urologist online --> urologist online --> urologist online --> urologist online --> urologist online --> urologist online --> urologist online --> urologist online --> urologist online --> urologist online --> urologist online --> urologist online --> urologist online --> urologist online --> urologist online --> urologist online --> urologist online --> urologist online --> urologist online --> urologist online --> urologist online --> urologist online --> urologist online --> urologist online --> urologist online --> urologist online --> urologist online --> urologist online --> urologist online --> urologist online --> urologist online --> urologist online --> urologist online --> urologist online --> urologist online --> urologist online --> urologist online --> urologist online --> urologist online --> urologist online --> urologist online --> urologist online --> urologist online --> urologist online --> urologist online --> urologist online --> urologist online --> urologist online --> urologist online --> urologist online --> urologist online --> urologist online --> urologist online --> urologist online --> urologist online --> urologist online --> urologist online --> urologist online --> urologist online --> urologist online --> urologist online --> urologist online --> urologist online --> urologist online --> urologist online --> urologist online --> urologist online --> urologist online --> urologist online --> urologist online --> urologist online --> urologist online --> urologist online --> urologist online --> urologist online --> urologist online --> urologist online --> urologist online --> urologist online --> urologist online --> urologist online --> urologist online --> urologist online --> urologist online --> urologist online --> urologist online --> urologist online --> urologist online -->\n",
      "Target answer output (test): Hello. I just read your query. See Kalarachi Kai choornam is helpful in amenorrhea. As far as small cysts are concerned they are unmatured eggs which failed to induce menstrual cycle previously, as a result, they got collected in the ovary and they will remain in the ovary. Now, you have got your periods you can start trying for conception. But I advise you to do it under the supervision of a nearby gynecologist because egg size is important while conception and that you can know by ovulation study. Ovulation study is performed under the supervision of a gynecologist. For gall stones, surgical intervention is required generally. Medicine is not of much help.\n",
      "Cosine Similarity: 0.0008310630225142716\n",
      "Deleted model folder: ai_medical_0_5_1_adafactor_1_3_3\n",
      "Using hyperparameters:\n",
      "learning_rate: 0.0001\n",
      "num_train_epochs: 10\n",
      "per_device_train_batch_size: 1\n",
      "optim: adafactor\n",
      "num_iterations: 1\n",
      "max_steps: 3\n",
      "gradient_accumulation_steps: 3\n",
      "Memory footprint 0.30687256 GB\n",
      "Flops 1646.750859264 GFLOPs\n"
     ]
    },
    {
     "data": {
      "application/vnd.jupyter.widget-view+json": {
       "model_id": "688dd8d3a7b248c9a0ccfbc9ec1fd337",
       "version_major": 2,
       "version_minor": 0
      },
      "text/plain": [
       "  0%|          | 0/3 [00:00<?, ?it/s]"
      ]
     },
     "metadata": {},
     "output_type": "display_data"
    },
    {
     "name": "stderr",
     "output_type": "stream",
     "text": [
      "2024-04-10 00:50:34,746 - DEBUG - utilities - Step (1) Logs: {'loss': 2.102, 'learning_rate': 0.0001, 'epoch': 0.0, 'iter_time': 0.0, 'flops': 0.0, 'remaining_time': 0.0}\n",
      " 83%|████████▎ | 10/12 [04:48<00:58, 29.24s/it]"
     ]
    },
    {
     "name": "stdout",
     "output_type": "stream",
     "text": [
      "{'loss': 2.102, 'learning_rate': 0.0001, 'epoch': 0.0, 'iter_time': 0.0, 'flops': 0.0, 'remaining_time': 0.0}\n"
     ]
    },
    {
     "name": "stderr",
     "output_type": "stream",
     "text": [
      "2024-04-10 00:50:35,875 - DEBUG - utilities - Step (2) Logs: {'loss': 0.0647, 'learning_rate': 5e-05, 'epoch': 0.01, 'iter_time': 1.1284992694854736, 'flops': 1459239632485.378, 'remaining_time': 1.1284992694854736}\n",
      " 83%|████████▎ | 10/12 [04:49<00:58, 29.24s/it]"
     ]
    },
    {
     "name": "stdout",
     "output_type": "stream",
     "text": [
      "{'loss': 0.0647, 'learning_rate': 5e-05, 'epoch': 0.01, 'iter_time': 1.1284992694854736, 'flops': 1459239632485.378, 'remaining_time': 1.1284992694854736}\n"
     ]
    },
    {
     "name": "stderr",
     "output_type": "stream",
     "text": [
      "2024-04-10 00:50:36,918 - DEBUG - utilities - Step (3) Logs: {'loss': 1.096, 'learning_rate': 0.0, 'epoch': 0.01, 'iter_time': 1.0857419967651367, 'flops': 1516705501095.412, 'remaining_time': 0.0}\n",
      " 83%|████████▎ | 10/12 [04:50<00:58, 29.24s/it]2024-04-10 00:50:36,923 - DEBUG - utilities - Step (3) Logs: {'train_runtime': 3.2049, 'train_samples_per_second': 2.808, 'train_steps_per_second': 0.936, 'total_flos': 138837393408.0, 'train_loss': 1.0875497460365295, 'epoch': 0.01, 'iter_time': 1.0886057615280151, 'flops': 1512715546308.103, 'remaining_time': 0.0}\n",
      " 83%|████████▎ | 10/12 [04:50<00:58, 29.24s/it]"
     ]
    },
    {
     "name": "stdout",
     "output_type": "stream",
     "text": [
      "{'loss': 1.096, 'learning_rate': 0.0, 'epoch': 0.01, 'iter_time': 1.0857419967651367, 'flops': 1516705501095.412, 'remaining_time': 0.0}\n",
      "{'train_runtime': 3.2049, 'train_samples_per_second': 2.808, 'train_steps_per_second': 0.936, 'train_loss': 1.0875497460365295, 'epoch': 0.01, 'iter_time': 1.0886057615280151, 'flops': 1512715546308.103, 'remaining_time': 0.0}\n"
     ]
    },
    {
     "data": {
      "application/vnd.jupyter.widget-view+json": {
       "model_id": "69bd6480a7e740c585e6ab0950effbd9",
       "version_major": 2,
       "version_minor": 0
      },
      "text/plain": [
       "  0%|          | 0/100 [00:00<?, ?it/s]"
      ]
     },
     "metadata": {},
     "output_type": "display_data"
    },
    {
     "name": "stderr",
     "output_type": "stream",
     "text": [
      "2024-04-10 00:50:44,436 - DEBUG - utilities - Step (3) Logs: {'eval_loss': 7.23972225189209, 'eval_runtime': 7.5054, 'eval_samples_per_second': 13.324, 'eval_steps_per_second': 13.324, 'epoch': 0.01, 'iter_time': 4.845166087150574, 'flops': 339875007304.95056, 'remaining_time': 0.0}\n"
     ]
    },
    {
     "name": "stdout",
     "output_type": "stream",
     "text": [
      "Saved model to: ai_medical_0_10_1_adafactor_1_3_3\n",
      "Question input (test): Will Kalarchikai cure multiple ovarian cysts in PCOD?\n"
     ]
    },
    {
     "name": "stderr",
     "output_type": "stream",
     "text": [
      " 92%|█████████▏| 11/12 [05:15<00:29, 29.23s/it]"
     ]
    },
    {
     "name": "stdout",
     "output_type": "stream",
     "text": [
      "Finetuned slightly model's answer: \n",
      "Hi.Hello.Hello.Hello.Hello.Hello.Hello.Hello.Hello.Hello.Hello.Hello.Hello.Hello.Hello.Hello.Hello.Hello.Hello.Hello.Hello.Hello.Hello.Hello.Hello.Hello.Hello.Hello.Hello.Hello.Hello.Hello.Hello.Hello.Hello.Hello.Hello.Hello.Hello.Hello.Hello.Hello.Hello.Hello.Hello.Hello.Hello.Hello.Hello.Hello.Hello.Hello.Hello.Hello.Hello.Hello.Hello.Hello.Hello.Hello.Hello.Hello.Hello.Hello.Hello.Hello.Hello.Hello.Hello.Hello.Hello.Hello.Hello.Hello.Hello.Hello.Hello.Hello.Hello.Hello.Hello.Hello.Hello.Hello.Hello.Hello.Hello.Hello.Hello.Hello.Hello.Hello.Hello.Hello.Hello.Hello.Hello.Hello.Hello.Hello.Hello.Hello.Hello.Hello.Hello.Hello.Hello.Hello.Hello.Hello.Hello.Hello.Hello.Hello.Hello.Hello.Hello.Hello.Hello.Hello.Hello.Hello.Hello.Hello.Hello.Hello.Hello.Hello.Hello.Hello.Hello.Hello.Hello.Hello.Hello.Hello.Hello.Hello.Hello.Hello.Hello.Hello.Hello.Hello.Hello.Hello.Hello.Hello.Hello.Hello.Hello.Hello.Hello.Hello.Hello.Hello.Hello.Hello.Hello.Hello.Hello.Hello.Hello.Hello.Hello.Hello.Hello.Hello.Hello.Hello.Hello.Hello.Hello.Hello.Hello.Hello.Hello.Hello.Hello.Hello.Hello.Hello.Hello.Hello.Hello.Hello.Hello.Hello.Hello.Hello.Hello.Hello.Hello.Hello.Hello.Hello.Hello.Hello.Hello.Hello.Hello.Hello.Hello.Hello.Hello.Hello.Hello.Hello.Hello.Hello.Hello.Hello.Hello.Hello.Hello.Hello.Hello.Hello.Hello.Hello.Hello.Hello.Hello.Hello.Hello.Hello.Hello.Hello.Hello.Hello.Hello.Hello.Hello.Hello.Hello.Hello.Hello.Hello.Hello.Hello.Hello.Hello.Hello.Hello.Hello.Hello.Hello.Hello.Hello.Hello.Hello.Hello.Hello.Hello.Hello.Hello.Hello.Hello.Hello.Hello.Hello.Hello.Hello.Hello.Hello.Hello.Hello.Hello.Hello.Hello.Hello.Hello.Hello.Hello.Hello.Hello.Hello.Hello.Hello.Hello.Hello.Hello.Hello.Hello.Hello.Hello.Hello.Hello.Hello.Hello.Hello.Hello.Hello.Hello.Hello.Hello.Hello.Hello.Hello.Hello.Hello.Hello.Hello.Hello.Hello.Hello.Hello.Hello.Hello.Hello.Hello.Hello.Hello.Hello.Hello.Hello.Hello.Hello.Hello.Hello.Hello.Hello.Hello.Hello.Hello.Hello.Hello.Hello.Hello.Hello.Hello.Hello.Hello.Hello.Hello.Hello.Hello.Hello.Hello.Hello.Hello.Hello.Hello.Hello.Hello.Hello.Hello.Hello.Hello.Hello.Hello.Hello.Hello.Hello.Hello.Hello.Hello.Hello.Hello.Hello.Hello.Hello.Hello.Hello.Hello.Hello.Hello.Hello.Hello.Hello.Hello.Hello.Hello.Hello.Hello.Hello.Hello.Hello.Hello.Hello.Hello.Hello.Hello.Hello.Hello.Hello.Hello.Hello.Hello.Hello.Hello.Hello.Hello.Hello.Hello.Hello.Hello.Hello.Hello.Hello.Hello.Hello.Hello.Hello.Hello.Hello.Hello.Hello.Hello.Hello.Hello.Hello.Hello.Hello.Hello.Hello.Hello.Hello.Hello.Hello.Hello.Hello.Hello.Hello.Hello.Hello.Hello.Hello.Hello.Hello.Hello.Hello.Hello.Hello.Hello.Hello.Hello.Hello.Hello.Hello.Hello.Hello.Hello.Hello.Hello.Hello.Hello.Hello.Hello.Hello.Hello.Hello.Hello.Hello.Hello.Hello.Hello.Hello.Hello.Hello.Hello.Hello.Hello.Hello.Hello.Hello.Hello.Hello.Hello.Hello.Hello.Hello.Hello.Hello.Hello.Hello.Hello.Hello.Hello.Hello.Hello.Hello.Hello.Hello.Hello.Hello.Hello.Hello.Hello.Hello.Hello.Hello.Hello.Hello\n",
      "Target answer output (test): Hello. I just read your query. See Kalarachi Kai choornam is helpful in amenorrhea. As far as small cysts are concerned they are unmatured eggs which failed to induce menstrual cycle previously, as a result, they got collected in the ovary and they will remain in the ovary. Now, you have got your periods you can start trying for conception. But I advise you to do it under the supervision of a nearby gynecologist because egg size is important while conception and that you can know by ovulation study. Ovulation study is performed under the supervision of a gynecologist. For gall stones, surgical intervention is required generally. Medicine is not of much help.\n",
      "Cosine Similarity: 0.0\n",
      "Deleted model folder: ai_medical_0_10_1_adafactor_1_3_3\n",
      "Using hyperparameters:\n",
      "learning_rate: 0.0001\n",
      "num_train_epochs: 20\n",
      "per_device_train_batch_size: 1\n",
      "optim: adafactor\n",
      "num_iterations: 1\n",
      "max_steps: 3\n",
      "gradient_accumulation_steps: 3\n",
      "Memory footprint 0.30687256 GB\n",
      "Flops 1646.750859264 GFLOPs\n"
     ]
    },
    {
     "data": {
      "application/vnd.jupyter.widget-view+json": {
       "model_id": "7479193ae75e4b36bf1e4b72b9242fa5",
       "version_major": 2,
       "version_minor": 0
      },
      "text/plain": [
       "  0%|          | 0/3 [00:00<?, ?it/s]"
      ]
     },
     "metadata": {},
     "output_type": "display_data"
    },
    {
     "name": "stderr",
     "output_type": "stream",
     "text": [
      "2024-04-10 00:51:03,896 - DEBUG - utilities - Step (1) Logs: {'loss': 2.7647, 'learning_rate': 0.0001, 'epoch': 0.0, 'iter_time': 0.0, 'flops': 0.0, 'remaining_time': 0.0}\n",
      " 92%|█████████▏| 11/12 [05:17<00:29, 29.23s/it]"
     ]
    },
    {
     "name": "stdout",
     "output_type": "stream",
     "text": [
      "{'loss': 2.7647, 'learning_rate': 0.0001, 'epoch': 0.0, 'iter_time': 0.0, 'flops': 0.0, 'remaining_time': 0.0}\n"
     ]
    },
    {
     "name": "stderr",
     "output_type": "stream",
     "text": [
      "2024-04-10 00:51:05,004 - DEBUG - utilities - Step (2) Logs: {'loss': 0.308, 'learning_rate': 5e-05, 'epoch': 0.01, 'iter_time': 1.1077072620391846, 'flops': 1486630011102.8315, 'remaining_time': 1.1077072620391846}\n",
      " 92%|█████████▏| 11/12 [05:18<00:29, 29.23s/it]"
     ]
    },
    {
     "name": "stdout",
     "output_type": "stream",
     "text": [
      "{'loss': 0.308, 'learning_rate': 5e-05, 'epoch': 0.01, 'iter_time': 1.1077072620391846, 'flops': 1486630011102.8315, 'remaining_time': 1.1077072620391846}\n"
     ]
    },
    {
     "name": "stderr",
     "output_type": "stream",
     "text": [
      "2024-04-10 00:51:06,026 - DEBUG - utilities - Step (3) Logs: {'loss': 0.5829, 'learning_rate': 0.0, 'epoch': 0.01, 'iter_time': 1.0649358034133911, 'flops': 1546338149197.1094, 'remaining_time': 0.0}\n",
      " 92%|█████████▏| 11/12 [05:19<00:29, 29.23s/it]2024-04-10 00:51:06,031 - DEBUG - utilities - Step (3) Logs: {'train_runtime': 3.1039, 'train_samples_per_second': 2.9, 'train_steps_per_second': 0.967, 'total_flos': 138837393408.0, 'train_loss': 1.2185046871503193, 'epoch': 0.01, 'iter_time': 1.067228078842163, 'flops': 1543016803915.5808, 'remaining_time': 0.0}\n",
      " 92%|█████████▏| 11/12 [05:19<00:29, 29.23s/it]"
     ]
    },
    {
     "name": "stdout",
     "output_type": "stream",
     "text": [
      "{'loss': 0.5829, 'learning_rate': 0.0, 'epoch': 0.01, 'iter_time': 1.0649358034133911, 'flops': 1546338149197.1094, 'remaining_time': 0.0}\n",
      "{'train_runtime': 3.1039, 'train_samples_per_second': 2.9, 'train_steps_per_second': 0.967, 'train_loss': 1.2185046871503193, 'epoch': 0.01, 'iter_time': 1.067228078842163, 'flops': 1543016803915.5808, 'remaining_time': 0.0}\n"
     ]
    },
    {
     "data": {
      "application/vnd.jupyter.widget-view+json": {
       "model_id": "c660caa2cc10466085b9d77ea1576bc3",
       "version_major": 2,
       "version_minor": 0
      },
      "text/plain": [
       "  0%|          | 0/100 [00:00<?, ?it/s]"
      ]
     },
     "metadata": {},
     "output_type": "display_data"
    },
    {
     "name": "stderr",
     "output_type": "stream",
     "text": [
      "2024-04-10 00:51:13,566 - DEBUG - utilities - Step (3) Logs: {'eval_loss': 7.272352695465088, 'eval_runtime': 7.5246, 'eval_samples_per_second': 13.29, 'eval_steps_per_second': 13.29, 'epoch': 0.01, 'iter_time': 4.834809303283691, 'flops': 340603063319.49115, 'remaining_time': 0.0}\n"
     ]
    },
    {
     "name": "stdout",
     "output_type": "stream",
     "text": [
      "Saved model to: ai_medical_0_20_1_adafactor_1_3_3\n",
      "Question input (test): Will Kalarchikai cure multiple ovarian cysts in PCOD?\n"
     ]
    },
    {
     "name": "stderr",
     "output_type": "stream",
     "text": [
      "100%|██████████| 12/12 [05:44<00:00, 28.74s/it]"
     ]
    },
    {
     "name": "stdout",
     "output_type": "stream",
     "text": [
      "Finetuned slightly model's answer: \n",
      "Hi. For further information consult a urologist online --> urologist online --> urologist online --> urologist online --> urologist online --> urologist online --> urologist online --> urologist online --> urologist online --> urologist online --> urologist online --> urologist online --> urologist online --> urologist online --> urologist online --> urologist online --> urologist online --> urologist online --> urologist online --> urologist online --> urologist online --> urologist online --> urologist online --> urologist online --> urologist online --> urologist online --> urologist online --> urologist online --> urologist online --> urologist online --> urologist online --> urologist online --> urologist online --> urologist online --> urologist online --> urologist online --> urologist online --> urologist online --> urologist online --> urologist online --> urologist online --> urologist online --> urologist online --> urologist online --> urologist online --> urologist online --> urologist online --> urologist online --> urologist online --> urologist online --> urologist online --> urologist online --> urologist online --> urologist online --> urologist online --> urologist online --> urologist online --> urologist online --> urologist online --> urologist online --> urologist online --> urologist online --> urologist online --> urologist online --> urologist online --> urologist online --> urologist online --> urologist online --> urologist online --> urologist online --> urologist online --> urologist online --> urologist online --> urologist online --> urologist online --> urologist online --> urologist online --> urologist online --> urologist online --> urologist online --> urologist online --> urologist online --> urologist online --> urologist online --> urologist online --> urologist online --> urologist online --> urologist online --> urologist online --> urologist online --> urologist online --> urologist online --> urologist online --> urologist online --> urologist online --> urologist online --> urologist online --> urologist online --> urologist online --> urologist online --> urologist online --> urologist online --> urologist online --> urologist online --> urologist online --> urologist online --> urologist online --> urologist online --> urologist online --> urologist online --> urologist online --> urologist online --> urologist online --> urologist online --> urologist online --> urologist online --> urologist online --> urologist online --> urologist online --> urologist online --> urologist online --> urologist online --> urologist online --> urologist online --> urologist online --> urologist online --> urologist online --> urologist online --> urologist online --> urologist online --> urologist online --> urologist online --> urologist online --> urologist online --> urologist online --> urologist online --> urologist online --> urologist online --> urologist online --> urologist online --> urologist online --> urologist online --> urologist online --> urologist online --> urologist online --> urologist online --> urologist online --> urologist online --> urologist online --> urologist online --> urologist online --> urologist online --> urologist online --> urologist online --> urologist online --> urologist online --> urologist online --> urologist online --> urologist online --> urologist online --> urologist online --> urologist online --> urologist online --> urologist online --> urologist online --> urologist online --> urologist online --> urologist online --> urologist online --> urologist online --> urologist online --> urologist online --> urologist online --> urologist online --> urologist online --> urologist online --> urologist online --> urologist online --> urologist online --> urologist online --> urologist online --> urologist online --> urologist online --> urologist online --> urologist online --> urologist online --> urologist online --> urologist online --> urologist online --> urologist online --> urologist online --> urologist online --> urologist online --> urologist online --> urologist online --> urologist online -->\n",
      "Target answer output (test): Hello. I just read your query. See Kalarachi Kai choornam is helpful in amenorrhea. As far as small cysts are concerned they are unmatured eggs which failed to induce menstrual cycle previously, as a result, they got collected in the ovary and they will remain in the ovary. Now, you have got your periods you can start trying for conception. But I advise you to do it under the supervision of a nearby gynecologist because egg size is important while conception and that you can know by ovulation study. Ovulation study is performed under the supervision of a gynecologist. For gall stones, surgical intervention is required generally. Medicine is not of much help.\n",
      "Cosine Similarity: 0.0008310630225142716\n",
      "Deleted model folder: ai_medical_0_20_1_adafactor_1_3_3\n"
     ]
    },
    {
     "name": "stderr",
     "output_type": "stream",
     "text": [
      "\n"
     ]
    }
   ],
   "source": [
    "# Call the function to find the best hyperparameters\n",
    "best_hyperparameters, best_loss ,df = find_best_hyperparameters()"
   ]
  },
  {
   "cell_type": "code",
   "execution_count": 69,
   "metadata": {},
   "outputs": [
    {
     "name": "stdout",
     "output_type": "stream",
     "text": [
      "Best hyperparameters: {'learning_rate': 1e-06, 'num_train_epochs': 10, 'per_device_train_batch_size': 1, 'optim': 'adafactor', 'num_iterations': 1, 'max_steps': 3, 'gradient_accumulation_steps': 3}\n",
      "Best loss: 5.0444135665893555\n"
     ]
    }
   ],
   "source": [
    "print(\"Best hyperparameters:\", best_hyperparameters)\n",
    "print(\"Best loss:\", best_loss)"
   ]
  },
  {
   "cell_type": "code",
   "execution_count": 70,
   "metadata": {},
   "outputs": [],
   "source": [
    "# Sort the DataFrame by 'eval_loss' inside the 'Evaluation Results' column\n",
    "df_sorted = df.sort_values(by='Evaluation Results', \n",
    "                           key=lambda x: x.apply(lambda d: d['eval_loss']))\n",
    "\n"
   ]
  },
  {
   "cell_type": "code",
   "execution_count": 71,
   "metadata": {},
   "outputs": [
    {
     "data": {
      "text/html": [
       "<div>\n",
       "<style scoped>\n",
       "    .dataframe tbody tr th:only-of-type {\n",
       "        vertical-align: middle;\n",
       "    }\n",
       "\n",
       "    .dataframe tbody tr th {\n",
       "        vertical-align: top;\n",
       "    }\n",
       "\n",
       "    .dataframe thead th {\n",
       "        text-align: right;\n",
       "    }\n",
       "</style>\n",
       "<table border=\"1\" class=\"dataframe\">\n",
       "  <thead>\n",
       "    <tr style=\"text-align: right;\">\n",
       "      <th></th>\n",
       "      <th>Question</th>\n",
       "      <th>Answer</th>\n",
       "      <th>Prediction</th>\n",
       "      <th>Hyperparameters</th>\n",
       "      <th>Evaluation Results</th>\n",
       "      <th>Training Output</th>\n",
       "      <th>Cosine Similarity</th>\n",
       "    </tr>\n",
       "  </thead>\n",
       "  <tbody>\n",
       "    <tr>\n",
       "      <th>2</th>\n",
       "      <td>Will Kalarchikai cure multiple ovarian cysts i...</td>\n",
       "      <td>Hello. I just read your query. See Kalarachi K...</td>\n",
       "      <td>Hi. I hope this helps. I hope. For more inform...</td>\n",
       "      <td>{'learning_rate': 1e-06, 'num_train_epochs': 1...</td>\n",
       "      <td>{'eval_loss': 5.0444135665893555, 'eval_runtim...</td>\n",
       "      <td>(3, 0.8664817040165266, {'train_runtime': 2.82...</td>\n",
       "      <td>0.001679</td>\n",
       "    </tr>\n",
       "    <tr>\n",
       "      <th>1</th>\n",
       "      <td>Will Kalarchikai cure multiple ovarian cysts i...</td>\n",
       "      <td>Hello. I just read your query. See Kalarachi K...</td>\n",
       "      <td>Hi. I hope this helps. I hope. For more inform...</td>\n",
       "      <td>{'learning_rate': 1e-06, 'num_train_epochs': 5...</td>\n",
       "      <td>{'eval_loss': 5.044698238372803, 'eval_runtime...</td>\n",
       "      <td>(3, 0.8852642253041267, {'train_runtime': 2.96...</td>\n",
       "      <td>0.001679</td>\n",
       "    </tr>\n",
       "    <tr>\n",
       "      <th>3</th>\n",
       "      <td>Will Kalarchikai cure multiple ovarian cysts i...</td>\n",
       "      <td>Hello. I just read your query. See Kalarachi K...</td>\n",
       "      <td>Hi. I hope this helps. I hope. For more inform...</td>\n",
       "      <td>{'learning_rate': 1e-06, 'num_train_epochs': 2...</td>\n",
       "      <td>{'eval_loss': 5.045230388641357, 'eval_runtime...</td>\n",
       "      <td>(3, 0.8483527849117914, {'train_runtime': 3.32...</td>\n",
       "      <td>0.001679</td>\n",
       "    </tr>\n",
       "    <tr>\n",
       "      <th>0</th>\n",
       "      <td>Will Kalarchikai cure multiple ovarian cysts i...</td>\n",
       "      <td>Hello. I just read your query. See Kalarachi K...</td>\n",
       "      <td>Hi. I hope this helps. I hope. For more inform...</td>\n",
       "      <td>{'learning_rate': 1e-06, 'num_train_epochs': 1...</td>\n",
       "      <td>{'eval_loss': 5.048230171203613, 'eval_runtime...</td>\n",
       "      <td>(3, 0.90590550750494, {'train_runtime': 3.3869...</td>\n",
       "      <td>0.001679</td>\n",
       "    </tr>\n",
       "    <tr>\n",
       "      <th>4</th>\n",
       "      <td>Will Kalarchikai cure multiple ovarian cysts i...</td>\n",
       "      <td>Hello. I just read your query. See Kalarachi K...</td>\n",
       "      <td>Hi. For further information consult a urologis...</td>\n",
       "      <td>{'learning_rate': 1e-05, 'num_train_epochs': 1...</td>\n",
       "      <td>{'eval_loss': 5.114405632019043, 'eval_runtime...</td>\n",
       "      <td>(3, 0.8258359382549921, {'train_runtime': 3.50...</td>\n",
       "      <td>0.000831</td>\n",
       "    </tr>\n",
       "  </tbody>\n",
       "</table>\n",
       "</div>"
      ],
      "text/plain": [
       "                                            Question  \\\n",
       "2  Will Kalarchikai cure multiple ovarian cysts i...   \n",
       "1  Will Kalarchikai cure multiple ovarian cysts i...   \n",
       "3  Will Kalarchikai cure multiple ovarian cysts i...   \n",
       "0  Will Kalarchikai cure multiple ovarian cysts i...   \n",
       "4  Will Kalarchikai cure multiple ovarian cysts i...   \n",
       "\n",
       "                                              Answer  \\\n",
       "2  Hello. I just read your query. See Kalarachi K...   \n",
       "1  Hello. I just read your query. See Kalarachi K...   \n",
       "3  Hello. I just read your query. See Kalarachi K...   \n",
       "0  Hello. I just read your query. See Kalarachi K...   \n",
       "4  Hello. I just read your query. See Kalarachi K...   \n",
       "\n",
       "                                          Prediction  \\\n",
       "2  Hi. I hope this helps. I hope. For more inform...   \n",
       "1  Hi. I hope this helps. I hope. For more inform...   \n",
       "3  Hi. I hope this helps. I hope. For more inform...   \n",
       "0  Hi. I hope this helps. I hope. For more inform...   \n",
       "4  Hi. For further information consult a urologis...   \n",
       "\n",
       "                                     Hyperparameters  \\\n",
       "2  {'learning_rate': 1e-06, 'num_train_epochs': 1...   \n",
       "1  {'learning_rate': 1e-06, 'num_train_epochs': 5...   \n",
       "3  {'learning_rate': 1e-06, 'num_train_epochs': 2...   \n",
       "0  {'learning_rate': 1e-06, 'num_train_epochs': 1...   \n",
       "4  {'learning_rate': 1e-05, 'num_train_epochs': 1...   \n",
       "\n",
       "                                  Evaluation Results  \\\n",
       "2  {'eval_loss': 5.0444135665893555, 'eval_runtim...   \n",
       "1  {'eval_loss': 5.044698238372803, 'eval_runtime...   \n",
       "3  {'eval_loss': 5.045230388641357, 'eval_runtime...   \n",
       "0  {'eval_loss': 5.048230171203613, 'eval_runtime...   \n",
       "4  {'eval_loss': 5.114405632019043, 'eval_runtime...   \n",
       "\n",
       "                                     Training Output  Cosine Similarity  \n",
       "2  (3, 0.8664817040165266, {'train_runtime': 2.82...           0.001679  \n",
       "1  (3, 0.8852642253041267, {'train_runtime': 2.96...           0.001679  \n",
       "3  (3, 0.8483527849117914, {'train_runtime': 3.32...           0.001679  \n",
       "0  (3, 0.90590550750494, {'train_runtime': 3.3869...           0.001679  \n",
       "4  (3, 0.8258359382549921, {'train_runtime': 3.50...           0.000831  "
      ]
     },
     "execution_count": 71,
     "metadata": {},
     "output_type": "execute_result"
    }
   ],
   "source": [
    "df_sorted.head()"
   ]
  },
  {
   "cell_type": "code",
   "execution_count": 72,
   "metadata": {},
   "outputs": [],
   "source": [
    "# Sort the DataFrame by 'Cosine Similarity' from largest to smallest\n",
    "df_cos = df.sort_values(by='Cosine Similarity', ascending=False)"
   ]
  },
  {
   "cell_type": "code",
   "execution_count": 77,
   "metadata": {},
   "outputs": [
    {
     "data": {
      "text/html": [
       "<div>\n",
       "<style scoped>\n",
       "    .dataframe tbody tr th:only-of-type {\n",
       "        vertical-align: middle;\n",
       "    }\n",
       "\n",
       "    .dataframe tbody tr th {\n",
       "        vertical-align: top;\n",
       "    }\n",
       "\n",
       "    .dataframe thead th {\n",
       "        text-align: right;\n",
       "    }\n",
       "</style>\n",
       "<table border=\"1\" class=\"dataframe\">\n",
       "  <thead>\n",
       "    <tr style=\"text-align: right;\">\n",
       "      <th></th>\n",
       "      <th>Answer</th>\n",
       "      <th>Prediction</th>\n",
       "      <th>Cosine Similarity</th>\n",
       "    </tr>\n",
       "  </thead>\n",
       "  <tbody>\n",
       "    <tr>\n",
       "      <th>8</th>\n",
       "      <td>Hello. I just read your query. See Kalarachi K...</td>\n",
       "      <td>Hi. I went through all the information and rep...</td>\n",
       "      <td>0.174766</td>\n",
       "    </tr>\n",
       "    <tr>\n",
       "      <th>0</th>\n",
       "      <td>Hello. I just read your query. See Kalarachi K...</td>\n",
       "      <td>Hi. I hope this helps. I hope. For more inform...</td>\n",
       "      <td>0.001679</td>\n",
       "    </tr>\n",
       "    <tr>\n",
       "      <th>1</th>\n",
       "      <td>Hello. I just read your query. See Kalarachi K...</td>\n",
       "      <td>Hi. I hope this helps. I hope. For more inform...</td>\n",
       "      <td>0.001679</td>\n",
       "    </tr>\n",
       "    <tr>\n",
       "      <th>2</th>\n",
       "      <td>Hello. I just read your query. See Kalarachi K...</td>\n",
       "      <td>Hi. I hope this helps. I hope. For more inform...</td>\n",
       "      <td>0.001679</td>\n",
       "    </tr>\n",
       "    <tr>\n",
       "      <th>3</th>\n",
       "      <td>Hello. I just read your query. See Kalarachi K...</td>\n",
       "      <td>Hi. I hope this helps. I hope. For more inform...</td>\n",
       "      <td>0.001679</td>\n",
       "    </tr>\n",
       "    <tr>\n",
       "      <th>4</th>\n",
       "      <td>Hello. I just read your query. See Kalarachi K...</td>\n",
       "      <td>Hi. For further information consult a urologis...</td>\n",
       "      <td>0.000831</td>\n",
       "    </tr>\n",
       "    <tr>\n",
       "      <th>5</th>\n",
       "      <td>Hello. I just read your query. See Kalarachi K...</td>\n",
       "      <td>Hi. For further information consult a urologis...</td>\n",
       "      <td>0.000831</td>\n",
       "    </tr>\n",
       "    <tr>\n",
       "      <th>6</th>\n",
       "      <td>Hello. I just read your query. See Kalarachi K...</td>\n",
       "      <td>Hi. For further information consult a urologis...</td>\n",
       "      <td>0.000831</td>\n",
       "    </tr>\n",
       "    <tr>\n",
       "      <th>7</th>\n",
       "      <td>Hello. I just read your query. See Kalarachi K...</td>\n",
       "      <td>Hi. For further information consult a urologis...</td>\n",
       "      <td>0.000831</td>\n",
       "    </tr>\n",
       "    <tr>\n",
       "      <th>9</th>\n",
       "      <td>Hello. I just read your query. See Kalarachi K...</td>\n",
       "      <td>Hi. For further information consult a urologis...</td>\n",
       "      <td>0.000831</td>\n",
       "    </tr>\n",
       "    <tr>\n",
       "      <th>11</th>\n",
       "      <td>Hello. I just read your query. See Kalarachi K...</td>\n",
       "      <td>Hi. For further information consult a urologis...</td>\n",
       "      <td>0.000831</td>\n",
       "    </tr>\n",
       "    <tr>\n",
       "      <th>10</th>\n",
       "      <td>Hello. I just read your query. See Kalarachi K...</td>\n",
       "      <td>Hi.Hello.Hello.Hello.Hello.Hello.Hello.Hello.H...</td>\n",
       "      <td>0.000000</td>\n",
       "    </tr>\n",
       "  </tbody>\n",
       "</table>\n",
       "</div>"
      ],
      "text/plain": [
       "                                               Answer  \\\n",
       "8   Hello. I just read your query. See Kalarachi K...   \n",
       "0   Hello. I just read your query. See Kalarachi K...   \n",
       "1   Hello. I just read your query. See Kalarachi K...   \n",
       "2   Hello. I just read your query. See Kalarachi K...   \n",
       "3   Hello. I just read your query. See Kalarachi K...   \n",
       "4   Hello. I just read your query. See Kalarachi K...   \n",
       "5   Hello. I just read your query. See Kalarachi K...   \n",
       "6   Hello. I just read your query. See Kalarachi K...   \n",
       "7   Hello. I just read your query. See Kalarachi K...   \n",
       "9   Hello. I just read your query. See Kalarachi K...   \n",
       "11  Hello. I just read your query. See Kalarachi K...   \n",
       "10  Hello. I just read your query. See Kalarachi K...   \n",
       "\n",
       "                                           Prediction  Cosine Similarity  \n",
       "8   Hi. I went through all the information and rep...           0.174766  \n",
       "0   Hi. I hope this helps. I hope. For more inform...           0.001679  \n",
       "1   Hi. I hope this helps. I hope. For more inform...           0.001679  \n",
       "2   Hi. I hope this helps. I hope. For more inform...           0.001679  \n",
       "3   Hi. I hope this helps. I hope. For more inform...           0.001679  \n",
       "4   Hi. For further information consult a urologis...           0.000831  \n",
       "5   Hi. For further information consult a urologis...           0.000831  \n",
       "6   Hi. For further information consult a urologis...           0.000831  \n",
       "7   Hi. For further information consult a urologis...           0.000831  \n",
       "9   Hi. For further information consult a urologis...           0.000831  \n",
       "11  Hi. For further information consult a urologis...           0.000831  \n",
       "10  Hi.Hello.Hello.Hello.Hello.Hello.Hello.Hello.H...           0.000000  "
      ]
     },
     "execution_count": 77,
     "metadata": {},
     "output_type": "execute_result"
    }
   ],
   "source": [
    "df_cos[[\"Answer\",\"Prediction\",\"Cosine Similarity\"]]"
   ]
  },
  {
   "cell_type": "code",
   "execution_count": null,
   "metadata": {},
   "outputs": [],
   "source": []
  }
 ],
 "metadata": {
  "kernelspec": {
   "display_name": ".venv",
   "language": "python",
   "name": "python3"
  },
  "language_info": {
   "codemirror_mode": {
    "name": "ipython",
    "version": 3
   },
   "file_extension": ".py",
   "mimetype": "text/x-python",
   "name": "python",
   "nbconvert_exporter": "python",
   "pygments_lexer": "ipython3",
   "version": "3.10.11"
  }
 },
 "nbformat": 4,
 "nbformat_minor": 2
}
